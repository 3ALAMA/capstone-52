{
 "cells": [
  {
   "cell_type": "code",
   "execution_count": 91,
   "metadata": {},
   "outputs": [],
   "source": [
    "import pymongo"
   ]
  },
  {
   "cell_type": "code",
   "execution_count": 92,
   "metadata": {
    "scrolled": true
   },
   "outputs": [],
   "source": [
    "client = pymongo.MongoClient('35.167.189.162', 27016)"
   ]
  },
  {
   "cell_type": "code",
   "execution_count": 93,
   "metadata": {},
   "outputs": [
    {
     "data": {
      "text/plain": [
       "['admin', 'local', 'project4_database', 'test', 'twitter']"
      ]
     },
     "execution_count": 93,
     "metadata": {},
     "output_type": "execute_result"
    }
   ],
   "source": [
    "client.database_names()"
   ]
  },
  {
   "cell_type": "code",
   "execution_count": 94,
   "metadata": {},
   "outputs": [],
   "source": [
    "db_ref_tw = client.twitter"
   ]
  },
  {
   "cell_type": "code",
   "execution_count": 95,
   "metadata": {},
   "outputs": [
    {
     "data": {
      "text/plain": [
       "Database(MongoClient(host=['35.167.189.162:27016'], document_class=dict, tz_aware=False, connect=True), 'twitter')"
      ]
     },
     "execution_count": 95,
     "metadata": {},
     "output_type": "execute_result"
    }
   ],
   "source": [
    "db_ref_tw"
   ]
  },
  {
   "cell_type": "code",
   "execution_count": 96,
   "metadata": {},
   "outputs": [],
   "source": [
    "coll_ref_tw = db_ref_tw.twitter"
   ]
  },
  {
   "cell_type": "code",
   "execution_count": 97,
   "metadata": {},
   "outputs": [
    {
     "data": {
      "text/plain": [
       "['tweets', 'twitter']"
      ]
     },
     "execution_count": 97,
     "metadata": {},
     "output_type": "execute_result"
    }
   ],
   "source": [
    "db_ref_tw.collection_names()"
   ]
  },
  {
   "cell_type": "code",
   "execution_count": 98,
   "metadata": {},
   "outputs": [],
   "source": [
    "cursor = coll_ref_tw.find()"
   ]
  },
  {
   "cell_type": "code",
   "execution_count": 99,
   "metadata": {},
   "outputs": [
    {
     "data": {
      "text/plain": [
       "[{'_id': ObjectId('5a1b4ee1b97736017454e59e'),\n",
       "  'contributors': None,\n",
       "  'coordinates': {'coordinates': [-118.30433152, 34.11152704],\n",
       "   'type': 'Point'},\n",
       "  'created_at': 'Sun Nov 26 23:25:59 +0000 2017',\n",
       "  'entities': {'hashtags': [],\n",
       "   'symbols': [],\n",
       "   'urls': [{'display_url': 'instagram.com/p/Bb-hFnVlkKW/',\n",
       "     'expanded_url': 'https://www.instagram.com/p/Bb-hFnVlkKW/',\n",
       "     'indices': [45, 68],\n",
       "     'url': 'https://t.co/orq0eZTnuS'}],\n",
       "   'user_mentions': []},\n",
       "  'favorite_count': 0,\n",
       "  'favorited': False,\n",
       "  'filter_level': 'low',\n",
       "  'geo': {'coordinates': [34.11152704, -118.30433152], 'type': 'Point'},\n",
       "  'id': 934926236853460993,\n",
       "  'id_str': '934926236853460993',\n",
       "  'in_reply_to_screen_name': None,\n",
       "  'in_reply_to_status_id': None,\n",
       "  'in_reply_to_status_id_str': None,\n",
       "  'in_reply_to_user_id': None,\n",
       "  'in_reply_to_user_id_str': None,\n",
       "  'is_quote_status': False,\n",
       "  'lang': 'en',\n",
       "  'place': {'attributes': {},\n",
       "   'bounding_box': {'coordinates': [[[-118.668404, 33.704538],\n",
       "      [-118.668404, 34.337041],\n",
       "      [-118.155409, 34.337041],\n",
       "      [-118.155409, 33.704538]]],\n",
       "    'type': 'Polygon'},\n",
       "   'country': 'United States',\n",
       "   'country_code': 'US',\n",
       "   'full_name': 'Los Angeles, CA',\n",
       "   'id': '3b77caf94bfc81fe',\n",
       "   'name': 'Los Angeles',\n",
       "   'place_type': 'city',\n",
       "   'url': 'https://api.twitter.com/1.1/geo/id/3b77caf94bfc81fe.json'},\n",
       "  'possibly_sensitive': False,\n",
       "  'quote_count': 0,\n",
       "  'reply_count': 0,\n",
       "  'retweet_count': 0,\n",
       "  'retweeted': False,\n",
       "  'source': '<a href=\"http://instagram.com\" rel=\"nofollow\">Instagram</a>',\n",
       "  'text': 'Just posted a photo @ Los Feliz, Los Angeles https://t.co/orq0eZTnuS',\n",
       "  'timestamp_ms': '1511738759612',\n",
       "  'truncated': False,\n",
       "  'user': {'contributors_enabled': False,\n",
       "   'created_at': 'Sun Nov 30 08:46:34 +0000 2008',\n",
       "   'default_profile': False,\n",
       "   'default_profile_image': False,\n",
       "   'description': 'Comic in LA,  Comedy Store appearances, 80+ credits motion pictures and video games in audio post and supervisory roles.  Animal rescue worker.',\n",
       "   'favourites_count': 626,\n",
       "   'follow_request_sent': None,\n",
       "   'followers_count': 148,\n",
       "   'following': None,\n",
       "   'friends_count': 56,\n",
       "   'geo_enabled': True,\n",
       "   'id': 17751466,\n",
       "   'id_str': '17751466',\n",
       "   'is_translator': False,\n",
       "   'lang': 'en',\n",
       "   'listed_count': 4,\n",
       "   'location': 'Star Trek, Israel',\n",
       "   'name': 'James Pasque',\n",
       "   'notifications': None,\n",
       "   'profile_background_color': '9AE4E8',\n",
       "   'profile_background_image_url': 'http://pbs.twimg.com/profile_background_images/716850435751956480/9rsKzy9d.jpg',\n",
       "   'profile_background_image_url_https': 'https://pbs.twimg.com/profile_background_images/716850435751956480/9rsKzy9d.jpg',\n",
       "   'profile_background_tile': False,\n",
       "   'profile_banner_url': 'https://pbs.twimg.com/profile_banners/17751466/1496706635',\n",
       "   'profile_image_url': 'http://pbs.twimg.com/profile_images/884219729325379584/CNy0ujqF_normal.jpg',\n",
       "   'profile_image_url_https': 'https://pbs.twimg.com/profile_images/884219729325379584/CNy0ujqF_normal.jpg',\n",
       "   'profile_link_color': 'E81C4F',\n",
       "   'profile_sidebar_border_color': 'B5DCAD',\n",
       "   'profile_sidebar_fill_color': 'DDFFCC',\n",
       "   'profile_text_color': '333333',\n",
       "   'profile_use_background_image': True,\n",
       "   'protected': False,\n",
       "   'screen_name': 'JamesPasque',\n",
       "   'statuses_count': 1963,\n",
       "   'time_zone': 'Pacific Time (US & Canada)',\n",
       "   'translator_type': 'none',\n",
       "   'url': 'http://jamespasque.blogspot.com/',\n",
       "   'utc_offset': -28800,\n",
       "   'verified': False}},\n",
       " {'_id': ObjectId('5a1b556cb97736017454e59f'),\n",
       "  'contributors': None,\n",
       "  'coordinates': None,\n",
       "  'created_at': 'Sun Nov 26 23:25:59 +0000 2017',\n",
       "  'display_text_range': [16, 34],\n",
       "  'entities': {'hashtags': [],\n",
       "   'symbols': [],\n",
       "   'urls': [],\n",
       "   'user_mentions': [{'id': 37499488,\n",
       "     'id_str': '37499488',\n",
       "     'indices': [0, 15],\n",
       "     'name': 'Janessa',\n",
       "     'screen_name': 'Janessa_Mariee'}]},\n",
       "  'favorite_count': 0,\n",
       "  'favorited': False,\n",
       "  'filter_level': 'low',\n",
       "  'geo': None,\n",
       "  'id': 934926236903550976,\n",
       "  'id_str': '934926236903550976',\n",
       "  'in_reply_to_screen_name': 'Janessa_Mariee',\n",
       "  'in_reply_to_status_id': 934915550995628032,\n",
       "  'in_reply_to_status_id_str': '934915550995628032',\n",
       "  'in_reply_to_user_id': 37499488,\n",
       "  'in_reply_to_user_id_str': '37499488',\n",
       "  'is_quote_status': False,\n",
       "  'lang': 'en',\n",
       "  'place': {'attributes': {},\n",
       "   'bounding_box': {'coordinates': [[[-118.668404, 33.704538],\n",
       "      [-118.668404, 34.337041],\n",
       "      [-118.155409, 34.337041],\n",
       "      [-118.155409, 33.704538]]],\n",
       "    'type': 'Polygon'},\n",
       "   'country': 'United States',\n",
       "   'country_code': 'US',\n",
       "   'full_name': 'Los Angeles, CA',\n",
       "   'id': '3b77caf94bfc81fe',\n",
       "   'name': 'Los Angeles',\n",
       "   'place_type': 'city',\n",
       "   'url': 'https://api.twitter.com/1.1/geo/id/3b77caf94bfc81fe.json'},\n",
       "  'quote_count': 0,\n",
       "  'reply_count': 0,\n",
       "  'retweet_count': 0,\n",
       "  'retweeted': False,\n",
       "  'source': '<a href=\"http://twitter.com/download/iphone\" rel=\"nofollow\">Twitter for iPhone</a>',\n",
       "  'text': '@Janessa_Mariee Ohhh god bless!!!!',\n",
       "  'timestamp_ms': '1511738759624',\n",
       "  'truncated': False,\n",
       "  'user': {'contributors_enabled': False,\n",
       "   'created_at': 'Wed Jun 16 03:02:52 +0000 2010',\n",
       "   'default_profile': False,\n",
       "   'default_profile_image': False,\n",
       "   'description': '*~lyfe goal~* -KICK ASS, GO TO SPACE, REPRESENT THE HUMAN RACE....',\n",
       "   'favourites_count': 9192,\n",
       "   'follow_request_sent': None,\n",
       "   'followers_count': 1256,\n",
       "   'following': None,\n",
       "   'friends_count': 809,\n",
       "   'geo_enabled': True,\n",
       "   'id': 156131003,\n",
       "   'id_str': '156131003',\n",
       "   'is_translator': False,\n",
       "   'lang': 'en',\n",
       "   'listed_count': 15,\n",
       "   'location': 'Los Angeles, CA',\n",
       "   'name': '🤘🏽Dehzy🤘🏽',\n",
       "   'notifications': None,\n",
       "   'profile_background_color': 'C5D5DB',\n",
       "   'profile_background_image_url': 'http://pbs.twimg.com/profile_background_images/492639375/tumblr_lqa2w8xybK1qdtgqao1_500.jpg',\n",
       "   'profile_background_image_url_https': 'https://pbs.twimg.com/profile_background_images/492639375/tumblr_lqa2w8xybK1qdtgqao1_500.jpg',\n",
       "   'profile_background_tile': True,\n",
       "   'profile_banner_url': 'https://pbs.twimg.com/profile_banners/156131003/1511162469',\n",
       "   'profile_image_url': 'http://pbs.twimg.com/profile_images/932694459397038080/YrXvPFBd_normal.jpg',\n",
       "   'profile_image_url_https': 'https://pbs.twimg.com/profile_images/932694459397038080/YrXvPFBd_normal.jpg',\n",
       "   'profile_link_color': '0084B4',\n",
       "   'profile_sidebar_border_color': 'A8C7F7',\n",
       "   'profile_sidebar_fill_color': 'C0DFEC',\n",
       "   'profile_text_color': '000000',\n",
       "   'profile_use_background_image': True,\n",
       "   'protected': False,\n",
       "   'screen_name': '_Dramos_',\n",
       "   'statuses_count': 73397,\n",
       "   'time_zone': 'Pacific Time (US & Canada)',\n",
       "   'translator_type': 'none',\n",
       "   'url': None,\n",
       "   'utc_offset': -28800,\n",
       "   'verified': False}},\n",
       " {'_id': ObjectId('5a1b556cb97736017454e5a0'),\n",
       "  'contributors': None,\n",
       "  'coordinates': None,\n",
       "  'created_at': 'Sun Nov 26 23:25:59 +0000 2017',\n",
       "  'entities': {'hashtags': [],\n",
       "   'symbols': [],\n",
       "   'urls': [],\n",
       "   'user_mentions': [{'id': 14293310,\n",
       "     'id_str': '14293310',\n",
       "     'indices': [33, 38],\n",
       "     'name': 'TIME',\n",
       "     'screen_name': 'TIME'}]},\n",
       "  'favorite_count': 0,\n",
       "  'favorited': False,\n",
       "  'filter_level': 'low',\n",
       "  'geo': None,\n",
       "  'id': 934926238124187648,\n",
       "  'id_str': '934926238124187648',\n",
       "  'in_reply_to_screen_name': None,\n",
       "  'in_reply_to_status_id': None,\n",
       "  'in_reply_to_status_id_str': None,\n",
       "  'in_reply_to_user_id': None,\n",
       "  'in_reply_to_user_id_str': None,\n",
       "  'is_quote_status': False,\n",
       "  'lang': 'en',\n",
       "  'place': {'attributes': {},\n",
       "   'bounding_box': {'coordinates': [[[-118.668404, 33.704538],\n",
       "      [-118.668404, 34.337041],\n",
       "      [-118.155409, 34.337041],\n",
       "      [-118.155409, 33.704538]]],\n",
       "    'type': 'Polygon'},\n",
       "   'country': 'United States',\n",
       "   'country_code': 'US',\n",
       "   'full_name': 'Los Angeles, CA',\n",
       "   'id': '3b77caf94bfc81fe',\n",
       "   'name': 'Los Angeles',\n",
       "   'place_type': 'city',\n",
       "   'url': 'https://api.twitter.com/1.1/geo/id/3b77caf94bfc81fe.json'},\n",
       "  'quote_count': 0,\n",
       "  'reply_count': 0,\n",
       "  'retweet_count': 0,\n",
       "  'retweeted': False,\n",
       "  'source': '<a href=\"http://twitter.com/download/iphone\" rel=\"nofollow\">Twitter for iPhone</a>',\n",
       "  'text': '“The President is incorrect.” \\n\\n-@TIME \\n\\nThat quote basically sums up the entirety of 2017, so far.',\n",
       "  'timestamp_ms': '1511738759915',\n",
       "  'truncated': False,\n",
       "  'user': {'contributors_enabled': False,\n",
       "   'created_at': 'Sat Jul 07 00:10:38 +0000 2012',\n",
       "   'default_profile': False,\n",
       "   'default_profile_image': False,\n",
       "   'description': 'writer, actor, and professional selfie taker. Work featured on @huffpost. #blacklivesmatter #lgbt',\n",
       "   'favourites_count': 1011,\n",
       "   'follow_request_sent': None,\n",
       "   'followers_count': 1446,\n",
       "   'following': None,\n",
       "   'friends_count': 102,\n",
       "   'geo_enabled': True,\n",
       "   'id': 628837037,\n",
       "   'id_str': '628837037',\n",
       "   'is_translator': False,\n",
       "   'lang': 'en',\n",
       "   'listed_count': 6,\n",
       "   'location': 'Los Angeles, CA',\n",
       "   'name': 'Christophé\\U0001f9de\\u200d♂️',\n",
       "   'notifications': None,\n",
       "   'profile_background_color': '000000',\n",
       "   'profile_background_image_url': 'http://abs.twimg.com/images/themes/theme1/bg.png',\n",
       "   'profile_background_image_url_https': 'https://abs.twimg.com/images/themes/theme1/bg.png',\n",
       "   'profile_background_tile': False,\n",
       "   'profile_image_url': 'http://pbs.twimg.com/profile_images/929402484430221312/RkjzIwG8_normal.jpg',\n",
       "   'profile_image_url_https': 'https://pbs.twimg.com/profile_images/929402484430221312/RkjzIwG8_normal.jpg',\n",
       "   'profile_link_color': '1B95E0',\n",
       "   'profile_sidebar_border_color': '000000',\n",
       "   'profile_sidebar_fill_color': '000000',\n",
       "   'profile_text_color': '000000',\n",
       "   'profile_use_background_image': False,\n",
       "   'protected': False,\n",
       "   'screen_name': 'lemeauxnez',\n",
       "   'statuses_count': 809,\n",
       "   'time_zone': 'Alaska',\n",
       "   'translator_type': 'none',\n",
       "   'url': 'https://www.huffingtonpost.com/author/c-lemones-244',\n",
       "   'utc_offset': -32400,\n",
       "   'verified': False}},\n",
       " {'_id': ObjectId('5a1b556cb97736017454e5a1'),\n",
       "  'contributors': None,\n",
       "  'coordinates': {'coordinates': [-118.35842445, 34.07218088],\n",
       "   'type': 'Point'},\n",
       "  'created_at': 'Sun Nov 26 23:26:00 +0000 2017',\n",
       "  'entities': {'hashtags': [],\n",
       "   'symbols': [],\n",
       "   'urls': [{'display_url': 'instagram.com/p/Bb-hFpmAAWb/',\n",
       "     'expanded_url': 'https://www.instagram.com/p/Bb-hFpmAAWb/',\n",
       "     'indices': [41, 64],\n",
       "     'url': 'https://t.co/ngRc0AhTjQ'}],\n",
       "   'user_mentions': []},\n",
       "  'favorite_count': 0,\n",
       "  'favorited': False,\n",
       "  'filter_level': 'low',\n",
       "  'geo': {'coordinates': [34.07218088, -118.35842445], 'type': 'Point'},\n",
       "  'id': 934926239999152138,\n",
       "  'id_str': '934926239999152138',\n",
       "  'in_reply_to_screen_name': None,\n",
       "  'in_reply_to_status_id': None,\n",
       "  'in_reply_to_status_id_str': None,\n",
       "  'in_reply_to_user_id': None,\n",
       "  'in_reply_to_user_id_str': None,\n",
       "  'is_quote_status': False,\n",
       "  'lang': 'en',\n",
       "  'place': {'attributes': {},\n",
       "   'bounding_box': {'coordinates': [[[-118.668404, 33.704538],\n",
       "      [-118.668404, 34.337041],\n",
       "      [-118.155409, 34.337041],\n",
       "      [-118.155409, 33.704538]]],\n",
       "    'type': 'Polygon'},\n",
       "   'country': 'United States',\n",
       "   'country_code': 'US',\n",
       "   'full_name': 'Los Angeles, CA',\n",
       "   'id': '3b77caf94bfc81fe',\n",
       "   'name': 'Los Angeles',\n",
       "   'place_type': 'city',\n",
       "   'url': 'https://api.twitter.com/1.1/geo/id/3b77caf94bfc81fe.json'},\n",
       "  'possibly_sensitive': False,\n",
       "  'quote_count': 0,\n",
       "  'reply_count': 0,\n",
       "  'retweet_count': 0,\n",
       "  'retweeted': False,\n",
       "  'source': '<a href=\"http://instagram.com\" rel=\"nofollow\">Instagram</a>',\n",
       "  'text': 'Merry Christmas. Bah Humbug. @ The Grove https://t.co/ngRc0AhTjQ',\n",
       "  'timestamp_ms': '1511738760362',\n",
       "  'truncated': False,\n",
       "  'user': {'contributors_enabled': False,\n",
       "   'created_at': 'Fri Jun 05 04:56:18 +0000 2009',\n",
       "   'default_profile': False,\n",
       "   'default_profile_image': False,\n",
       "   'description': 'Voice actor, crossfitter, creator of video things.',\n",
       "   'favourites_count': 1176,\n",
       "   'follow_request_sent': None,\n",
       "   'followers_count': 861,\n",
       "   'following': None,\n",
       "   'friends_count': 464,\n",
       "   'geo_enabled': True,\n",
       "   'id': 44824940,\n",
       "   'id_str': '44824940',\n",
       "   'is_translator': False,\n",
       "   'lang': 'en',\n",
       "   'listed_count': 44,\n",
       "   'location': 'Los Angeles, CA',\n",
       "   'name': 'Keith Korneluk',\n",
       "   'notifications': None,\n",
       "   'profile_background_color': '1A1B1F',\n",
       "   'profile_background_image_url': 'http://abs.twimg.com/images/themes/theme9/bg.gif',\n",
       "   'profile_background_image_url_https': 'https://abs.twimg.com/images/themes/theme9/bg.gif',\n",
       "   'profile_background_tile': False,\n",
       "   'profile_banner_url': 'https://pbs.twimg.com/profile_banners/44824940/1461109564',\n",
       "   'profile_image_url': 'http://pbs.twimg.com/profile_images/492860412258299904/Yz8KTQYo_normal.jpeg',\n",
       "   'profile_image_url_https': 'https://pbs.twimg.com/profile_images/492860412258299904/Yz8KTQYo_normal.jpeg',\n",
       "   'profile_link_color': '2FC2EF',\n",
       "   'profile_sidebar_border_color': '181A1E',\n",
       "   'profile_sidebar_fill_color': '252429',\n",
       "   'profile_text_color': '666666',\n",
       "   'profile_use_background_image': True,\n",
       "   'protected': False,\n",
       "   'screen_name': 'korneluk',\n",
       "   'statuses_count': 3895,\n",
       "   'time_zone': 'Pacific Time (US & Canada)',\n",
       "   'translator_type': 'none',\n",
       "   'url': 'http://keithkorneluk.com',\n",
       "   'utc_offset': -28800,\n",
       "   'verified': False}},\n",
       " {'_id': ObjectId('5a1b556cb97736017454e5a2'),\n",
       "  'contributors': None,\n",
       "  'coordinates': None,\n",
       "  'created_at': 'Sun Nov 26 23:26:00 +0000 2017',\n",
       "  'entities': {'hashtags': [], 'symbols': [], 'urls': [], 'user_mentions': []},\n",
       "  'favorite_count': 0,\n",
       "  'favorited': False,\n",
       "  'filter_level': 'low',\n",
       "  'geo': None,\n",
       "  'id': 934926240057843713,\n",
       "  'id_str': '934926240057843713',\n",
       "  'in_reply_to_screen_name': None,\n",
       "  'in_reply_to_status_id': None,\n",
       "  'in_reply_to_status_id_str': None,\n",
       "  'in_reply_to_user_id': None,\n",
       "  'in_reply_to_user_id_str': None,\n",
       "  'is_quote_status': False,\n",
       "  'lang': 'en',\n",
       "  'place': {'attributes': {},\n",
       "   'bounding_box': {'coordinates': [[[-118.668404, 33.704538],\n",
       "      [-118.668404, 34.337041],\n",
       "      [-118.155409, 34.337041],\n",
       "      [-118.155409, 33.704538]]],\n",
       "    'type': 'Polygon'},\n",
       "   'country': 'United States',\n",
       "   'country_code': 'US',\n",
       "   'full_name': 'Los Angeles, CA',\n",
       "   'id': '3b77caf94bfc81fe',\n",
       "   'name': 'Los Angeles',\n",
       "   'place_type': 'city',\n",
       "   'url': 'https://api.twitter.com/1.1/geo/id/3b77caf94bfc81fe.json'},\n",
       "  'quote_count': 0,\n",
       "  'reply_count': 0,\n",
       "  'retweet_count': 0,\n",
       "  'retweeted': False,\n",
       "  'source': '<a href=\"http://twitter.com/download/iphone\" rel=\"nofollow\">Twitter for iPhone</a>',\n",
       "  'text': 'Meat is starting to really disgust me. I think I’m going vegetarian again',\n",
       "  'timestamp_ms': '1511738760376',\n",
       "  'truncated': False,\n",
       "  'user': {'contributors_enabled': False,\n",
       "   'created_at': 'Fri Feb 28 23:15:54 +0000 2014',\n",
       "   'default_profile': True,\n",
       "   'default_profile_image': False,\n",
       "   'description': 'Instagram: @Kingofdasouth __ SC:Kingg.qualls #kingin🤘🏽 https://kingofdasouth1.sarahah.com',\n",
       "   'favourites_count': 1530,\n",
       "   'follow_request_sent': None,\n",
       "   'followers_count': 16694,\n",
       "   'following': None,\n",
       "   'friends_count': 15135,\n",
       "   'geo_enabled': True,\n",
       "   'id': 2366210234,\n",
       "   'id_str': '2366210234',\n",
       "   'is_translator': False,\n",
       "   'lang': 'en',\n",
       "   'listed_count': 16,\n",
       "   'location': '😎',\n",
       "   'name': 'jekorey',\n",
       "   'notifications': None,\n",
       "   'profile_background_color': 'C0DEED',\n",
       "   'profile_background_image_url': 'http://abs.twimg.com/images/themes/theme1/bg.png',\n",
       "   'profile_background_image_url_https': 'https://abs.twimg.com/images/themes/theme1/bg.png',\n",
       "   'profile_background_tile': False,\n",
       "   'profile_banner_url': 'https://pbs.twimg.com/profile_banners/2366210234/1510702020',\n",
       "   'profile_image_url': 'http://pbs.twimg.com/profile_images/931375727592853505/KmnX0YlG_normal.jpg',\n",
       "   'profile_image_url_https': 'https://pbs.twimg.com/profile_images/931375727592853505/KmnX0YlG_normal.jpg',\n",
       "   'profile_link_color': '1DA1F2',\n",
       "   'profile_sidebar_border_color': 'C0DEED',\n",
       "   'profile_sidebar_fill_color': 'DDEEF6',\n",
       "   'profile_text_color': '333333',\n",
       "   'profile_use_background_image': True,\n",
       "   'protected': False,\n",
       "   'screen_name': 'Kingofdasouth_',\n",
       "   'statuses_count': 12047,\n",
       "   'time_zone': None,\n",
       "   'translator_type': 'none',\n",
       "   'url': 'http://Instagram.com/kingofdasouth__',\n",
       "   'utc_offset': None,\n",
       "   'verified': False}},\n",
       " {'_id': ObjectId('5a1b556cb97736017454e5a3'),\n",
       "  'contributors': None,\n",
       "  'coordinates': None,\n",
       "  'created_at': 'Sun Nov 26 23:26:02 +0000 2017',\n",
       "  'entities': {'hashtags': [], 'symbols': [], 'urls': [], 'user_mentions': []},\n",
       "  'favorite_count': 0,\n",
       "  'favorited': False,\n",
       "  'filter_level': 'low',\n",
       "  'geo': None,\n",
       "  'id': 934926249775980544,\n",
       "  'id_str': '934926249775980544',\n",
       "  'in_reply_to_screen_name': None,\n",
       "  'in_reply_to_status_id': None,\n",
       "  'in_reply_to_status_id_str': None,\n",
       "  'in_reply_to_user_id': None,\n",
       "  'in_reply_to_user_id_str': None,\n",
       "  'is_quote_status': False,\n",
       "  'lang': 'und',\n",
       "  'place': {'attributes': {},\n",
       "   'bounding_box': {'coordinates': [[[-118.668404, 33.704538],\n",
       "      [-118.668404, 34.337041],\n",
       "      [-118.155409, 34.337041],\n",
       "      [-118.155409, 33.704538]]],\n",
       "    'type': 'Polygon'},\n",
       "   'country': 'United States',\n",
       "   'country_code': 'US',\n",
       "   'full_name': 'Los Angeles, CA',\n",
       "   'id': '3b77caf94bfc81fe',\n",
       "   'name': 'Los Angeles',\n",
       "   'place_type': 'city',\n",
       "   'url': 'https://api.twitter.com/1.1/geo/id/3b77caf94bfc81fe.json'},\n",
       "  'quote_count': 0,\n",
       "  'reply_count': 0,\n",
       "  'retweet_count': 0,\n",
       "  'retweeted': False,\n",
       "  'source': '<a href=\"http://twitter.com/download/iphone\" rel=\"nofollow\">Twitter for iPhone</a>',\n",
       "  'text': '17 who?',\n",
       "  'timestamp_ms': '1511738762693',\n",
       "  'truncated': False,\n",
       "  'user': {'contributors_enabled': False,\n",
       "   'created_at': 'Tue Sep 03 05:51:29 +0000 2013',\n",
       "   'default_profile': False,\n",
       "   'default_profile_image': False,\n",
       "   'description': 'my head hurts',\n",
       "   'favourites_count': 21360,\n",
       "   'follow_request_sent': None,\n",
       "   'followers_count': 552,\n",
       "   'following': None,\n",
       "   'friends_count': 299,\n",
       "   'geo_enabled': True,\n",
       "   'id': 1724547091,\n",
       "   'id_str': '1724547091',\n",
       "   'is_translator': False,\n",
       "   'lang': 'en',\n",
       "   'listed_count': 3,\n",
       "   'location': 'fidm',\n",
       "   'name': 'heathernusz',\n",
       "   'notifications': None,\n",
       "   'profile_background_color': '9AE4E8',\n",
       "   'profile_background_image_url': 'http://abs.twimg.com/images/themes/theme16/bg.gif',\n",
       "   'profile_background_image_url_https': 'https://abs.twimg.com/images/themes/theme16/bg.gif',\n",
       "   'profile_background_tile': False,\n",
       "   'profile_banner_url': 'https://pbs.twimg.com/profile_banners/1724547091/1511182052',\n",
       "   'profile_image_url': 'http://pbs.twimg.com/profile_images/934218989231775744/Ahe44Fqd_normal.jpg',\n",
       "   'profile_image_url_https': 'https://pbs.twimg.com/profile_images/934218989231775744/Ahe44Fqd_normal.jpg',\n",
       "   'profile_link_color': '89C9FA',\n",
       "   'profile_sidebar_border_color': 'FFFFFF',\n",
       "   'profile_sidebar_fill_color': 'DDFFCC',\n",
       "   'profile_text_color': '333333',\n",
       "   'profile_use_background_image': True,\n",
       "   'protected': False,\n",
       "   'screen_name': 'heathrbby',\n",
       "   'statuses_count': 7122,\n",
       "   'time_zone': 'Pacific Time (US & Canada)',\n",
       "   'translator_type': 'none',\n",
       "   'url': 'http://www.heathersphotographs.com',\n",
       "   'utc_offset': -28800,\n",
       "   'verified': False}}]"
      ]
     },
     "execution_count": 99,
     "metadata": {},
     "output_type": "execute_result"
    }
   ],
   "source": [
    "list(cursor)"
   ]
  },
  {
   "cell_type": "markdown",
   "metadata": {},
   "source": [
    "# Access Twitter\n"
   ]
  },
  {
   "cell_type": "markdown",
   "metadata": {},
   "source": [
    "### Configured our security tokens"
   ]
  },
  {
   "cell_type": "code",
   "execution_count": 100,
   "metadata": {},
   "outputs": [],
   "source": [
    "CONSUMER_KEY = '7fR0w1qKESCmYW4U0cuIAV5rp'\n",
    "CONSUMER_SECRET = 'Rj9VtxB9h1ov42XIOEusKZFg4J9eh5jHjsG4wknyGSRnC0Nr2I'\n",
    "ACCESS_TOKEN = '12270642-aXZ5e5DUpAEzba1JpFkyKrqdtWGOxzgTj8kIdppRL'\n",
    "ACCESS_SECRET = 'FWPX2zPP5LR2oRBH0cfppEhX9C4DhxDBY2VYvLWmui3XL'"
   ]
  },
  {
   "cell_type": "markdown",
   "metadata": {},
   "source": [
    "### Install `twitter` library"
   ]
  },
  {
   "cell_type": "code",
   "execution_count": 27,
   "metadata": {},
   "outputs": [
    {
     "name": "stdout",
     "output_type": "stream",
     "text": [
      "Collecting twitter\n",
      "  Downloading twitter-1.18.0-py2.py3-none-any.whl (54kB)\n",
      "\u001b[K    100% |████████████████████████████████| 61kB 2.9MB/s ta 0:00:011\n",
      "\u001b[?25hInstalling collected packages: twitter\n",
      "Successfully installed twitter-1.18.0\n"
     ]
    }
   ],
   "source": [
    "!pip install twitter"
   ]
  },
  {
   "cell_type": "code",
   "execution_count": 101,
   "metadata": {},
   "outputs": [],
   "source": [
    "import twitter"
   ]
  },
  {
   "cell_type": "markdown",
   "metadata": {},
   "source": [
    "### Instantiate our OAuth object"
   ]
  },
  {
   "cell_type": "code",
   "execution_count": 102,
   "metadata": {},
   "outputs": [],
   "source": [
    "from twitter import OAuth\n",
    "oauth = OAuth(ACCESS_TOKEN, ACCESS_SECRET, CONSUMER_KEY, CONSUMER_SECRET)"
   ]
  },
  {
   "cell_type": "markdown",
   "metadata": {},
   "source": [
    "EXPERIMENTING"
   ]
  },
  {
   "cell_type": "markdown",
   "metadata": {},
   "source": [
    "### Make a Bounding Box"
   ]
  },
  {
   "cell_type": "code",
   "execution_count": 36,
   "metadata": {},
   "outputs": [],
   "source": [
    "port_said_bbox = \"32.204361,31.194595,32.364693,31.284713\""
   ]
  },
  {
   "cell_type": "code",
   "execution_count": 40,
   "metadata": {},
   "outputs": [],
   "source": [
    "eg_sa_bbox = \"32.5,21.98,41.57,24.99\""
   ]
  },
  {
   "cell_type": "code",
   "execution_count": 46,
   "metadata": {},
   "outputs": [],
   "source": [
    "los_angeles_bbox = \"-118.551346,33.96666,-118.443428,34.05056\""
   ]
  },
  {
   "cell_type": "markdown",
   "metadata": {},
   "source": [
    "### Create our `twitterator`"
   ]
  },
  {
   "cell_type": "code",
   "execution_count": 47,
   "metadata": {},
   "outputs": [],
   "source": [
    "from twitter import TwitterStream\n",
    "\n",
    "twitter_stream = TwitterStream(auth=oauth)\n",
    "twitterator = twitter_stream.statuses.filter(locations=los_angeles_bbox)"
   ]
  },
  {
   "cell_type": "code",
   "execution_count": 48,
   "metadata": {},
   "outputs": [],
   "source": [
    "this_tweet = next(twitterator)"
   ]
  },
  {
   "cell_type": "code",
   "execution_count": 50,
   "metadata": {},
   "outputs": [
    {
     "data": {
      "text/plain": [
       "<pymongo.results.InsertOneResult at 0x7fe1adf00ee8>"
      ]
     },
     "execution_count": 50,
     "metadata": {},
     "output_type": "execute_result"
    }
   ],
   "source": [
    "coll_ref_tw.insert_one(this_tweet)"
   ]
  },
  {
   "cell_type": "code",
   "execution_count": 51,
   "metadata": {
    "collapsed": true
   },
   "outputs": [
    {
     "data": {
      "text/plain": [
       "{'_id': ObjectId('5a1b4ee1b97736017454e59e'),\n",
       " 'contributors': None,\n",
       " 'coordinates': {'coordinates': [-118.30433152, 34.11152704], 'type': 'Point'},\n",
       " 'created_at': 'Sun Nov 26 23:25:59 +0000 2017',\n",
       " 'entities': {'hashtags': [],\n",
       "  'symbols': [],\n",
       "  'urls': [{'display_url': 'instagram.com/p/Bb-hFnVlkKW/',\n",
       "    'expanded_url': 'https://www.instagram.com/p/Bb-hFnVlkKW/',\n",
       "    'indices': [45, 68],\n",
       "    'url': 'https://t.co/orq0eZTnuS'}],\n",
       "  'user_mentions': []},\n",
       " 'favorite_count': 0,\n",
       " 'favorited': False,\n",
       " 'filter_level': 'low',\n",
       " 'geo': {'coordinates': [34.11152704, -118.30433152], 'type': 'Point'},\n",
       " 'id': 934926236853460993,\n",
       " 'id_str': '934926236853460993',\n",
       " 'in_reply_to_screen_name': None,\n",
       " 'in_reply_to_status_id': None,\n",
       " 'in_reply_to_status_id_str': None,\n",
       " 'in_reply_to_user_id': None,\n",
       " 'in_reply_to_user_id_str': None,\n",
       " 'is_quote_status': False,\n",
       " 'lang': 'en',\n",
       " 'place': {'attributes': {},\n",
       "  'bounding_box': {'coordinates': [[[-118.668404, 33.704538],\n",
       "     [-118.668404, 34.337041],\n",
       "     [-118.155409, 34.337041],\n",
       "     [-118.155409, 33.704538]]],\n",
       "   'type': 'Polygon'},\n",
       "  'country': 'United States',\n",
       "  'country_code': 'US',\n",
       "  'full_name': 'Los Angeles, CA',\n",
       "  'id': '3b77caf94bfc81fe',\n",
       "  'name': 'Los Angeles',\n",
       "  'place_type': 'city',\n",
       "  'url': 'https://api.twitter.com/1.1/geo/id/3b77caf94bfc81fe.json'},\n",
       " 'possibly_sensitive': False,\n",
       " 'quote_count': 0,\n",
       " 'reply_count': 0,\n",
       " 'retweet_count': 0,\n",
       " 'retweeted': False,\n",
       " 'source': '<a href=\"http://instagram.com\" rel=\"nofollow\">Instagram</a>',\n",
       " 'text': 'Just posted a photo @ Los Feliz, Los Angeles https://t.co/orq0eZTnuS',\n",
       " 'timestamp_ms': '1511738759612',\n",
       " 'truncated': False,\n",
       " 'user': {'contributors_enabled': False,\n",
       "  'created_at': 'Sun Nov 30 08:46:34 +0000 2008',\n",
       "  'default_profile': False,\n",
       "  'default_profile_image': False,\n",
       "  'description': 'Comic in LA,  Comedy Store appearances, 80+ credits motion pictures and video games in audio post and supervisory roles.  Animal rescue worker.',\n",
       "  'favourites_count': 626,\n",
       "  'follow_request_sent': None,\n",
       "  'followers_count': 148,\n",
       "  'following': None,\n",
       "  'friends_count': 56,\n",
       "  'geo_enabled': True,\n",
       "  'id': 17751466,\n",
       "  'id_str': '17751466',\n",
       "  'is_translator': False,\n",
       "  'lang': 'en',\n",
       "  'listed_count': 4,\n",
       "  'location': 'Star Trek, Israel',\n",
       "  'name': 'James Pasque',\n",
       "  'notifications': None,\n",
       "  'profile_background_color': '9AE4E8',\n",
       "  'profile_background_image_url': 'http://pbs.twimg.com/profile_background_images/716850435751956480/9rsKzy9d.jpg',\n",
       "  'profile_background_image_url_https': 'https://pbs.twimg.com/profile_background_images/716850435751956480/9rsKzy9d.jpg',\n",
       "  'profile_background_tile': False,\n",
       "  'profile_banner_url': 'https://pbs.twimg.com/profile_banners/17751466/1496706635',\n",
       "  'profile_image_url': 'http://pbs.twimg.com/profile_images/884219729325379584/CNy0ujqF_normal.jpg',\n",
       "  'profile_image_url_https': 'https://pbs.twimg.com/profile_images/884219729325379584/CNy0ujqF_normal.jpg',\n",
       "  'profile_link_color': 'E81C4F',\n",
       "  'profile_sidebar_border_color': 'B5DCAD',\n",
       "  'profile_sidebar_fill_color': 'DDFFCC',\n",
       "  'profile_text_color': '333333',\n",
       "  'profile_use_background_image': True,\n",
       "  'protected': False,\n",
       "  'screen_name': 'JamesPasque',\n",
       "  'statuses_count': 1963,\n",
       "  'time_zone': 'Pacific Time (US & Canada)',\n",
       "  'translator_type': 'none',\n",
       "  'url': 'http://jamespasque.blogspot.com/',\n",
       "  'utc_offset': -28800,\n",
       "  'verified': False}}"
      ]
     },
     "execution_count": 51,
     "metadata": {},
     "output_type": "execute_result"
    }
   ],
   "source": [
    "coll_ref_tw.find_one(this_tweet)"
   ]
  },
  {
   "cell_type": "code",
   "execution_count": 54,
   "metadata": {},
   "outputs": [
    {
     "data": {
      "text/plain": [
       "1"
      ]
     },
     "execution_count": 54,
     "metadata": {},
     "output_type": "execute_result"
    }
   ],
   "source": [
    "coll_ref_tw.count()"
   ]
  },
  {
   "cell_type": "code",
   "execution_count": 55,
   "metadata": {},
   "outputs": [],
   "source": [
    "cursor = coll_ref_tw.find()"
   ]
  },
  {
   "cell_type": "code",
   "execution_count": 56,
   "metadata": {},
   "outputs": [
    {
     "data": {
      "text/plain": [
       "'Just posted a photo @ Los Feliz, Los Angeles https://t.co/orq0eZTnuS'"
      ]
     },
     "execution_count": 56,
     "metadata": {},
     "output_type": "execute_result"
    }
   ],
   "source": []
  },
  {
   "cell_type": "code",
   "execution_count": 58,
   "metadata": {},
   "outputs": [],
   "source": [
    "for _ in range(5):\n",
    "    next_tweet = next(twitterator)\n",
    "    coll_ref_tw.insert_one(next_tweet)"
   ]
  },
  {
   "cell_type": "code",
   "execution_count": 59,
   "metadata": {},
   "outputs": [
    {
     "data": {
      "text/plain": [
       "6"
      ]
     },
     "execution_count": 59,
     "metadata": {},
     "output_type": "execute_result"
    }
   ],
   "source": [
    "coll_ref_tw.count()"
   ]
  },
  {
   "cell_type": "code",
   "execution_count": 63,
   "metadata": {},
   "outputs": [],
   "source": [
    "all_tweets = list(coll_ref_tw.find())"
   ]
  },
  {
   "cell_type": "code",
   "execution_count": 64,
   "metadata": {},
   "outputs": [],
   "source": [
    "import pandas as pd"
   ]
  },
  {
   "cell_type": "code",
   "execution_count": 65,
   "metadata": {},
   "outputs": [],
   "source": [
    "all_tweets_df = pd.DataFrame(all_tweets)"
   ]
  },
  {
   "cell_type": "code",
   "execution_count": 66,
   "metadata": {
    "collapsed": true
   },
   "outputs": [
    {
     "data": {
      "text/html": [
       "<div>\n",
       "<table border=\"1\" class=\"dataframe\">\n",
       "  <thead>\n",
       "    <tr style=\"text-align: right;\">\n",
       "      <th></th>\n",
       "      <th>_id</th>\n",
       "      <th>contributors</th>\n",
       "      <th>coordinates</th>\n",
       "      <th>created_at</th>\n",
       "      <th>display_text_range</th>\n",
       "      <th>entities</th>\n",
       "      <th>favorite_count</th>\n",
       "      <th>favorited</th>\n",
       "      <th>filter_level</th>\n",
       "      <th>geo</th>\n",
       "      <th>...</th>\n",
       "      <th>possibly_sensitive</th>\n",
       "      <th>quote_count</th>\n",
       "      <th>reply_count</th>\n",
       "      <th>retweet_count</th>\n",
       "      <th>retweeted</th>\n",
       "      <th>source</th>\n",
       "      <th>text</th>\n",
       "      <th>timestamp_ms</th>\n",
       "      <th>truncated</th>\n",
       "      <th>user</th>\n",
       "    </tr>\n",
       "  </thead>\n",
       "  <tbody>\n",
       "    <tr>\n",
       "      <th>0</th>\n",
       "      <td>5a1b4ee1b97736017454e59e</td>\n",
       "      <td>None</td>\n",
       "      <td>{'type': 'Point', 'coordinates': [-118.3043315...</td>\n",
       "      <td>Sun Nov 26 23:25:59 +0000 2017</td>\n",
       "      <td>NaN</td>\n",
       "      <td>{'hashtags': [], 'urls': [{'url': 'https://t.c...</td>\n",
       "      <td>0</td>\n",
       "      <td>False</td>\n",
       "      <td>low</td>\n",
       "      <td>{'type': 'Point', 'coordinates': [34.11152704,...</td>\n",
       "      <td>...</td>\n",
       "      <td>False</td>\n",
       "      <td>0</td>\n",
       "      <td>0</td>\n",
       "      <td>0</td>\n",
       "      <td>False</td>\n",
       "      <td>&lt;a href=\"http://instagram.com\" rel=\"nofollow\"&gt;...</td>\n",
       "      <td>Just posted a photo @ Los Feliz, Los Angeles h...</td>\n",
       "      <td>1511738759612</td>\n",
       "      <td>False</td>\n",
       "      <td>{'id': 17751466, 'id_str': '17751466', 'name':...</td>\n",
       "    </tr>\n",
       "    <tr>\n",
       "      <th>1</th>\n",
       "      <td>5a1b556cb97736017454e59f</td>\n",
       "      <td>None</td>\n",
       "      <td>None</td>\n",
       "      <td>Sun Nov 26 23:25:59 +0000 2017</td>\n",
       "      <td>[16, 34]</td>\n",
       "      <td>{'hashtags': [], 'urls': [], 'user_mentions': ...</td>\n",
       "      <td>0</td>\n",
       "      <td>False</td>\n",
       "      <td>low</td>\n",
       "      <td>None</td>\n",
       "      <td>...</td>\n",
       "      <td>NaN</td>\n",
       "      <td>0</td>\n",
       "      <td>0</td>\n",
       "      <td>0</td>\n",
       "      <td>False</td>\n",
       "      <td>&lt;a href=\"http://twitter.com/download/iphone\" r...</td>\n",
       "      <td>@Janessa_Mariee Ohhh god bless!!!!</td>\n",
       "      <td>1511738759624</td>\n",
       "      <td>False</td>\n",
       "      <td>{'id': 156131003, 'id_str': '156131003', 'name...</td>\n",
       "    </tr>\n",
       "    <tr>\n",
       "      <th>2</th>\n",
       "      <td>5a1b556cb97736017454e5a0</td>\n",
       "      <td>None</td>\n",
       "      <td>None</td>\n",
       "      <td>Sun Nov 26 23:25:59 +0000 2017</td>\n",
       "      <td>NaN</td>\n",
       "      <td>{'hashtags': [], 'urls': [], 'user_mentions': ...</td>\n",
       "      <td>0</td>\n",
       "      <td>False</td>\n",
       "      <td>low</td>\n",
       "      <td>None</td>\n",
       "      <td>...</td>\n",
       "      <td>NaN</td>\n",
       "      <td>0</td>\n",
       "      <td>0</td>\n",
       "      <td>0</td>\n",
       "      <td>False</td>\n",
       "      <td>&lt;a href=\"http://twitter.com/download/iphone\" r...</td>\n",
       "      <td>“The President is incorrect.” \\n\\n-@TIME \\n\\nT...</td>\n",
       "      <td>1511738759915</td>\n",
       "      <td>False</td>\n",
       "      <td>{'id': 628837037, 'id_str': '628837037', 'name...</td>\n",
       "    </tr>\n",
       "    <tr>\n",
       "      <th>3</th>\n",
       "      <td>5a1b556cb97736017454e5a1</td>\n",
       "      <td>None</td>\n",
       "      <td>{'type': 'Point', 'coordinates': [-118.3584244...</td>\n",
       "      <td>Sun Nov 26 23:26:00 +0000 2017</td>\n",
       "      <td>NaN</td>\n",
       "      <td>{'hashtags': [], 'urls': [{'url': 'https://t.c...</td>\n",
       "      <td>0</td>\n",
       "      <td>False</td>\n",
       "      <td>low</td>\n",
       "      <td>{'type': 'Point', 'coordinates': [34.07218088,...</td>\n",
       "      <td>...</td>\n",
       "      <td>False</td>\n",
       "      <td>0</td>\n",
       "      <td>0</td>\n",
       "      <td>0</td>\n",
       "      <td>False</td>\n",
       "      <td>&lt;a href=\"http://instagram.com\" rel=\"nofollow\"&gt;...</td>\n",
       "      <td>Merry Christmas. Bah Humbug. @ The Grove https...</td>\n",
       "      <td>1511738760362</td>\n",
       "      <td>False</td>\n",
       "      <td>{'id': 44824940, 'id_str': '44824940', 'name':...</td>\n",
       "    </tr>\n",
       "    <tr>\n",
       "      <th>4</th>\n",
       "      <td>5a1b556cb97736017454e5a2</td>\n",
       "      <td>None</td>\n",
       "      <td>None</td>\n",
       "      <td>Sun Nov 26 23:26:00 +0000 2017</td>\n",
       "      <td>NaN</td>\n",
       "      <td>{'hashtags': [], 'urls': [], 'user_mentions': ...</td>\n",
       "      <td>0</td>\n",
       "      <td>False</td>\n",
       "      <td>low</td>\n",
       "      <td>None</td>\n",
       "      <td>...</td>\n",
       "      <td>NaN</td>\n",
       "      <td>0</td>\n",
       "      <td>0</td>\n",
       "      <td>0</td>\n",
       "      <td>False</td>\n",
       "      <td>&lt;a href=\"http://twitter.com/download/iphone\" r...</td>\n",
       "      <td>Meat is starting to really disgust me. I think...</td>\n",
       "      <td>1511738760376</td>\n",
       "      <td>False</td>\n",
       "      <td>{'id': 2366210234, 'id_str': '2366210234', 'na...</td>\n",
       "    </tr>\n",
       "  </tbody>\n",
       "</table>\n",
       "<p>5 rows × 30 columns</p>\n",
       "</div>"
      ],
      "text/plain": [
       "                        _id contributors  \\\n",
       "0  5a1b4ee1b97736017454e59e         None   \n",
       "1  5a1b556cb97736017454e59f         None   \n",
       "2  5a1b556cb97736017454e5a0         None   \n",
       "3  5a1b556cb97736017454e5a1         None   \n",
       "4  5a1b556cb97736017454e5a2         None   \n",
       "\n",
       "                                         coordinates  \\\n",
       "0  {'type': 'Point', 'coordinates': [-118.3043315...   \n",
       "1                                               None   \n",
       "2                                               None   \n",
       "3  {'type': 'Point', 'coordinates': [-118.3584244...   \n",
       "4                                               None   \n",
       "\n",
       "                       created_at display_text_range  \\\n",
       "0  Sun Nov 26 23:25:59 +0000 2017                NaN   \n",
       "1  Sun Nov 26 23:25:59 +0000 2017           [16, 34]   \n",
       "2  Sun Nov 26 23:25:59 +0000 2017                NaN   \n",
       "3  Sun Nov 26 23:26:00 +0000 2017                NaN   \n",
       "4  Sun Nov 26 23:26:00 +0000 2017                NaN   \n",
       "\n",
       "                                            entities  favorite_count  \\\n",
       "0  {'hashtags': [], 'urls': [{'url': 'https://t.c...               0   \n",
       "1  {'hashtags': [], 'urls': [], 'user_mentions': ...               0   \n",
       "2  {'hashtags': [], 'urls': [], 'user_mentions': ...               0   \n",
       "3  {'hashtags': [], 'urls': [{'url': 'https://t.c...               0   \n",
       "4  {'hashtags': [], 'urls': [], 'user_mentions': ...               0   \n",
       "\n",
       "  favorited filter_level                                                geo  \\\n",
       "0     False          low  {'type': 'Point', 'coordinates': [34.11152704,...   \n",
       "1     False          low                                               None   \n",
       "2     False          low                                               None   \n",
       "3     False          low  {'type': 'Point', 'coordinates': [34.07218088,...   \n",
       "4     False          low                                               None   \n",
       "\n",
       "                         ...                          possibly_sensitive  \\\n",
       "0                        ...                                       False   \n",
       "1                        ...                                         NaN   \n",
       "2                        ...                                         NaN   \n",
       "3                        ...                                       False   \n",
       "4                        ...                                         NaN   \n",
       "\n",
       "  quote_count reply_count  retweet_count retweeted  \\\n",
       "0           0           0              0     False   \n",
       "1           0           0              0     False   \n",
       "2           0           0              0     False   \n",
       "3           0           0              0     False   \n",
       "4           0           0              0     False   \n",
       "\n",
       "                                              source  \\\n",
       "0  <a href=\"http://instagram.com\" rel=\"nofollow\">...   \n",
       "1  <a href=\"http://twitter.com/download/iphone\" r...   \n",
       "2  <a href=\"http://twitter.com/download/iphone\" r...   \n",
       "3  <a href=\"http://instagram.com\" rel=\"nofollow\">...   \n",
       "4  <a href=\"http://twitter.com/download/iphone\" r...   \n",
       "\n",
       "                                                text   timestamp_ms truncated  \\\n",
       "0  Just posted a photo @ Los Feliz, Los Angeles h...  1511738759612     False   \n",
       "1                 @Janessa_Mariee Ohhh god bless!!!!  1511738759624     False   \n",
       "2  “The President is incorrect.” \\n\\n-@TIME \\n\\nT...  1511738759915     False   \n",
       "3  Merry Christmas. Bah Humbug. @ The Grove https...  1511738760362     False   \n",
       "4  Meat is starting to really disgust me. I think...  1511738760376     False   \n",
       "\n",
       "                                                user  \n",
       "0  {'id': 17751466, 'id_str': '17751466', 'name':...  \n",
       "1  {'id': 156131003, 'id_str': '156131003', 'name...  \n",
       "2  {'id': 628837037, 'id_str': '628837037', 'name...  \n",
       "3  {'id': 44824940, 'id_str': '44824940', 'name':...  \n",
       "4  {'id': 2366210234, 'id_str': '2366210234', 'na...  \n",
       "\n",
       "[5 rows x 30 columns]"
      ]
     },
     "execution_count": 66,
     "metadata": {},
     "output_type": "execute_result"
    }
   ],
   "source": [
    "all_tweets_df.head()"
   ]
  },
  {
   "cell_type": "code",
   "execution_count": 68,
   "metadata": {},
   "outputs": [],
   "source": [
    "entities = all_tweets_df['entities']\n"
   ]
  },
  {
   "cell_type": "code",
   "execution_count": 69,
   "metadata": {},
   "outputs": [],
   "source": [
    "entities_df = pd.DataFrame(entities.values)"
   ]
  },
  {
   "cell_type": "code",
   "execution_count": 87,
   "metadata": {},
   "outputs": [
    {
     "data": {
      "text/html": [
       "<div>\n",
       "<table border=\"1\" class=\"dataframe\">\n",
       "  <thead>\n",
       "    <tr style=\"text-align: right;\">\n",
       "      <th></th>\n",
       "      <th>0</th>\n",
       "    </tr>\n",
       "  </thead>\n",
       "  <tbody>\n",
       "    <tr>\n",
       "      <th>0</th>\n",
       "      <td>{'hashtags': [], 'urls': [{'url': 'https://t.c...</td>\n",
       "    </tr>\n",
       "    <tr>\n",
       "      <th>1</th>\n",
       "      <td>{'hashtags': [], 'urls': [], 'user_mentions': ...</td>\n",
       "    </tr>\n",
       "    <tr>\n",
       "      <th>2</th>\n",
       "      <td>{'hashtags': [], 'urls': [], 'user_mentions': ...</td>\n",
       "    </tr>\n",
       "    <tr>\n",
       "      <th>3</th>\n",
       "      <td>{'hashtags': [], 'urls': [{'url': 'https://t.c...</td>\n",
       "    </tr>\n",
       "    <tr>\n",
       "      <th>4</th>\n",
       "      <td>{'hashtags': [], 'urls': [], 'user_mentions': ...</td>\n",
       "    </tr>\n",
       "  </tbody>\n",
       "</table>\n",
       "</div>"
      ],
      "text/plain": [
       "                                                   0\n",
       "0  {'hashtags': [], 'urls': [{'url': 'https://t.c...\n",
       "1  {'hashtags': [], 'urls': [], 'user_mentions': ...\n",
       "2  {'hashtags': [], 'urls': [], 'user_mentions': ...\n",
       "3  {'hashtags': [], 'urls': [{'url': 'https://t.c...\n",
       "4  {'hashtags': [], 'urls': [], 'user_mentions': ..."
      ]
     },
     "execution_count": 87,
     "metadata": {},
     "output_type": "execute_result"
    }
   ],
   "source": [
    "entities_df.head()"
   ]
  },
  {
   "cell_type": "code",
   "execution_count": 103,
   "metadata": {
    "scrolled": true
   },
   "outputs": [
    {
     "ename": "TwitterHTTPError",
     "evalue": "Twitter sent status 420 for URL: 1.1/statuses/filter.json using parameters: (oauth_consumer_key=7fR0w1qKESCmYW4U0cuIAV5rp&oauth_nonce=9502065454736454496&oauth_signature_method=HMAC-SHA1&oauth_timestamp=1511754172&oauth_token=12270642-aXZ5e5DUpAEzba1JpFkyKrqdtWGOxzgTj8kIdppRL&oauth_version=1.0&track=%D9%85%D8%B5%D8%B1&oauth_signature=IN0oUp4smvhJHbUzUGcdh7qpRcc%3D)\ndetails: Exceeded connection limit for user\r\n",
     "output_type": "error",
     "traceback": [
      "\u001b[0;31m---------------------------------------------------------------------------\u001b[0m",
      "\u001b[0;31mHTTPError\u001b[0m                                 Traceback (most recent call last)",
      "\u001b[0;32m/opt/conda/lib/python3.6/site-packages/twitter/stream.py\u001b[0m in \u001b[0;36mhandle_stream_response\u001b[0;34m(req, uri, arg_data, block, timeout, heartbeat_timeout)\u001b[0m\n\u001b[1;32m    210\u001b[0m     \u001b[0;32mtry\u001b[0m\u001b[0;34m:\u001b[0m\u001b[0;34m\u001b[0m\u001b[0m\n\u001b[0;32m--> 211\u001b[0;31m         \u001b[0mhandle\u001b[0m \u001b[0;34m=\u001b[0m \u001b[0murllib_request\u001b[0m\u001b[0;34m.\u001b[0m\u001b[0murlopen\u001b[0m\u001b[0;34m(\u001b[0m\u001b[0mreq\u001b[0m\u001b[0;34m,\u001b[0m\u001b[0;34m)\u001b[0m\u001b[0;34m\u001b[0m\u001b[0m\n\u001b[0m\u001b[1;32m    212\u001b[0m     \u001b[0;32mexcept\u001b[0m \u001b[0murllib_error\u001b[0m\u001b[0;34m.\u001b[0m\u001b[0mHTTPError\u001b[0m \u001b[0;32mas\u001b[0m \u001b[0me\u001b[0m\u001b[0;34m:\u001b[0m\u001b[0;34m\u001b[0m\u001b[0m\n",
      "\u001b[0;32m/opt/conda/lib/python3.6/urllib/request.py\u001b[0m in \u001b[0;36murlopen\u001b[0;34m(url, data, timeout, cafile, capath, cadefault, context)\u001b[0m\n\u001b[1;32m    222\u001b[0m         \u001b[0mopener\u001b[0m \u001b[0;34m=\u001b[0m \u001b[0m_opener\u001b[0m\u001b[0;34m\u001b[0m\u001b[0m\n\u001b[0;32m--> 223\u001b[0;31m     \u001b[0;32mreturn\u001b[0m \u001b[0mopener\u001b[0m\u001b[0;34m.\u001b[0m\u001b[0mopen\u001b[0m\u001b[0;34m(\u001b[0m\u001b[0murl\u001b[0m\u001b[0;34m,\u001b[0m \u001b[0mdata\u001b[0m\u001b[0;34m,\u001b[0m \u001b[0mtimeout\u001b[0m\u001b[0;34m)\u001b[0m\u001b[0;34m\u001b[0m\u001b[0m\n\u001b[0m\u001b[1;32m    224\u001b[0m \u001b[0;34m\u001b[0m\u001b[0m\n",
      "\u001b[0;32m/opt/conda/lib/python3.6/urllib/request.py\u001b[0m in \u001b[0;36mopen\u001b[0;34m(self, fullurl, data, timeout)\u001b[0m\n\u001b[1;32m    531\u001b[0m             \u001b[0mmeth\u001b[0m \u001b[0;34m=\u001b[0m \u001b[0mgetattr\u001b[0m\u001b[0;34m(\u001b[0m\u001b[0mprocessor\u001b[0m\u001b[0;34m,\u001b[0m \u001b[0mmeth_name\u001b[0m\u001b[0;34m)\u001b[0m\u001b[0;34m\u001b[0m\u001b[0m\n\u001b[0;32m--> 532\u001b[0;31m             \u001b[0mresponse\u001b[0m \u001b[0;34m=\u001b[0m \u001b[0mmeth\u001b[0m\u001b[0;34m(\u001b[0m\u001b[0mreq\u001b[0m\u001b[0;34m,\u001b[0m \u001b[0mresponse\u001b[0m\u001b[0;34m)\u001b[0m\u001b[0;34m\u001b[0m\u001b[0m\n\u001b[0m\u001b[1;32m    533\u001b[0m \u001b[0;34m\u001b[0m\u001b[0m\n",
      "\u001b[0;32m/opt/conda/lib/python3.6/urllib/request.py\u001b[0m in \u001b[0;36mhttp_response\u001b[0;34m(self, request, response)\u001b[0m\n\u001b[1;32m    641\u001b[0m             response = self.parent.error(\n\u001b[0;32m--> 642\u001b[0;31m                 'http', request, response, code, msg, hdrs)\n\u001b[0m\u001b[1;32m    643\u001b[0m \u001b[0;34m\u001b[0m\u001b[0m\n",
      "\u001b[0;32m/opt/conda/lib/python3.6/urllib/request.py\u001b[0m in \u001b[0;36merror\u001b[0;34m(self, proto, *args)\u001b[0m\n\u001b[1;32m    569\u001b[0m             \u001b[0margs\u001b[0m \u001b[0;34m=\u001b[0m \u001b[0;34m(\u001b[0m\u001b[0mdict\u001b[0m\u001b[0;34m,\u001b[0m \u001b[0;34m'default'\u001b[0m\u001b[0;34m,\u001b[0m \u001b[0;34m'http_error_default'\u001b[0m\u001b[0;34m)\u001b[0m \u001b[0;34m+\u001b[0m \u001b[0morig_args\u001b[0m\u001b[0;34m\u001b[0m\u001b[0m\n\u001b[0;32m--> 570\u001b[0;31m             \u001b[0;32mreturn\u001b[0m \u001b[0mself\u001b[0m\u001b[0;34m.\u001b[0m\u001b[0m_call_chain\u001b[0m\u001b[0;34m(\u001b[0m\u001b[0;34m*\u001b[0m\u001b[0margs\u001b[0m\u001b[0;34m)\u001b[0m\u001b[0;34m\u001b[0m\u001b[0m\n\u001b[0m\u001b[1;32m    571\u001b[0m \u001b[0;34m\u001b[0m\u001b[0m\n",
      "\u001b[0;32m/opt/conda/lib/python3.6/urllib/request.py\u001b[0m in \u001b[0;36m_call_chain\u001b[0;34m(self, chain, kind, meth_name, *args)\u001b[0m\n\u001b[1;32m    503\u001b[0m             \u001b[0mfunc\u001b[0m \u001b[0;34m=\u001b[0m \u001b[0mgetattr\u001b[0m\u001b[0;34m(\u001b[0m\u001b[0mhandler\u001b[0m\u001b[0;34m,\u001b[0m \u001b[0mmeth_name\u001b[0m\u001b[0;34m)\u001b[0m\u001b[0;34m\u001b[0m\u001b[0m\n\u001b[0;32m--> 504\u001b[0;31m             \u001b[0mresult\u001b[0m \u001b[0;34m=\u001b[0m \u001b[0mfunc\u001b[0m\u001b[0;34m(\u001b[0m\u001b[0;34m*\u001b[0m\u001b[0margs\u001b[0m\u001b[0;34m)\u001b[0m\u001b[0;34m\u001b[0m\u001b[0m\n\u001b[0m\u001b[1;32m    505\u001b[0m             \u001b[0;32mif\u001b[0m \u001b[0mresult\u001b[0m \u001b[0;32mis\u001b[0m \u001b[0;32mnot\u001b[0m \u001b[0;32mNone\u001b[0m\u001b[0;34m:\u001b[0m\u001b[0;34m\u001b[0m\u001b[0m\n",
      "\u001b[0;32m/opt/conda/lib/python3.6/urllib/request.py\u001b[0m in \u001b[0;36mhttp_error_default\u001b[0;34m(self, req, fp, code, msg, hdrs)\u001b[0m\n\u001b[1;32m    649\u001b[0m     \u001b[0;32mdef\u001b[0m \u001b[0mhttp_error_default\u001b[0m\u001b[0;34m(\u001b[0m\u001b[0mself\u001b[0m\u001b[0;34m,\u001b[0m \u001b[0mreq\u001b[0m\u001b[0;34m,\u001b[0m \u001b[0mfp\u001b[0m\u001b[0;34m,\u001b[0m \u001b[0mcode\u001b[0m\u001b[0;34m,\u001b[0m \u001b[0mmsg\u001b[0m\u001b[0;34m,\u001b[0m \u001b[0mhdrs\u001b[0m\u001b[0;34m)\u001b[0m\u001b[0;34m:\u001b[0m\u001b[0;34m\u001b[0m\u001b[0m\n\u001b[0;32m--> 650\u001b[0;31m         \u001b[0;32mraise\u001b[0m \u001b[0mHTTPError\u001b[0m\u001b[0;34m(\u001b[0m\u001b[0mreq\u001b[0m\u001b[0;34m.\u001b[0m\u001b[0mfull_url\u001b[0m\u001b[0;34m,\u001b[0m \u001b[0mcode\u001b[0m\u001b[0;34m,\u001b[0m \u001b[0mmsg\u001b[0m\u001b[0;34m,\u001b[0m \u001b[0mhdrs\u001b[0m\u001b[0;34m,\u001b[0m \u001b[0mfp\u001b[0m\u001b[0;34m)\u001b[0m\u001b[0;34m\u001b[0m\u001b[0m\n\u001b[0m\u001b[1;32m    651\u001b[0m \u001b[0;34m\u001b[0m\u001b[0m\n",
      "\u001b[0;31mHTTPError\u001b[0m: HTTP Error 420: Enhance Your Calm",
      "\nDuring handling of the above exception, another exception occurred:\n",
      "\u001b[0;31mTwitterHTTPError\u001b[0m                          Traceback (most recent call last)",
      "\u001b[0;32m<ipython-input-103-c4efd47c2ded>\u001b[0m in \u001b[0;36m<module>\u001b[0;34m()\u001b[0m\n\u001b[1;32m      1\u001b[0m \u001b[0mtwitter_stream\u001b[0m \u001b[0;34m=\u001b[0m \u001b[0mTwitterStream\u001b[0m\u001b[0;34m(\u001b[0m\u001b[0mauth\u001b[0m\u001b[0;34m=\u001b[0m\u001b[0moauth\u001b[0m\u001b[0;34m)\u001b[0m\u001b[0;34m\u001b[0m\u001b[0m\n\u001b[0;32m----> 2\u001b[0;31m \u001b[0mtwitterator\u001b[0m \u001b[0;34m=\u001b[0m \u001b[0mtwitter_stream\u001b[0m\u001b[0;34m.\u001b[0m\u001b[0mstatuses\u001b[0m\u001b[0;34m.\u001b[0m\u001b[0mfilter\u001b[0m\u001b[0;34m(\u001b[0m\u001b[0mtrack\u001b[0m\u001b[0;34m=\u001b[0m\u001b[0;34mu\"مصر\"\u001b[0m\u001b[0;34m)\u001b[0m\u001b[0;34m\u001b[0m\u001b[0m\n\u001b[0m",
      "\u001b[0;32m/opt/conda/lib/python3.6/site-packages/twitter/api.py\u001b[0m in \u001b[0;36m__call__\u001b[0;34m(self, **kwargs)\u001b[0m\n\u001b[1;32m    332\u001b[0m             \u001b[0;32mreturn\u001b[0m \u001b[0mself\u001b[0m\u001b[0;34m.\u001b[0m\u001b[0m_handle_response_with_retry\u001b[0m\u001b[0;34m(\u001b[0m\u001b[0mreq\u001b[0m\u001b[0;34m,\u001b[0m \u001b[0muri\u001b[0m\u001b[0;34m,\u001b[0m \u001b[0marg_data\u001b[0m\u001b[0;34m,\u001b[0m \u001b[0m_timeout\u001b[0m\u001b[0;34m)\u001b[0m\u001b[0;34m\u001b[0m\u001b[0m\n\u001b[1;32m    333\u001b[0m         \u001b[0;32melse\u001b[0m\u001b[0;34m:\u001b[0m\u001b[0;34m\u001b[0m\u001b[0m\n\u001b[0;32m--> 334\u001b[0;31m             \u001b[0;32mreturn\u001b[0m \u001b[0mself\u001b[0m\u001b[0;34m.\u001b[0m\u001b[0m_handle_response\u001b[0m\u001b[0;34m(\u001b[0m\u001b[0mreq\u001b[0m\u001b[0;34m,\u001b[0m \u001b[0muri\u001b[0m\u001b[0;34m,\u001b[0m \u001b[0marg_data\u001b[0m\u001b[0;34m,\u001b[0m \u001b[0m_timeout\u001b[0m\u001b[0;34m)\u001b[0m\u001b[0;34m\u001b[0m\u001b[0m\n\u001b[0m\u001b[1;32m    335\u001b[0m \u001b[0;34m\u001b[0m\u001b[0m\n\u001b[1;32m    336\u001b[0m     \u001b[0;32mdef\u001b[0m \u001b[0m_handle_response\u001b[0m\u001b[0;34m(\u001b[0m\u001b[0mself\u001b[0m\u001b[0;34m,\u001b[0m \u001b[0mreq\u001b[0m\u001b[0;34m,\u001b[0m \u001b[0muri\u001b[0m\u001b[0;34m,\u001b[0m \u001b[0marg_data\u001b[0m\u001b[0;34m,\u001b[0m \u001b[0m_timeout\u001b[0m\u001b[0;34m=\u001b[0m\u001b[0;32mNone\u001b[0m\u001b[0;34m)\u001b[0m\u001b[0;34m:\u001b[0m\u001b[0;34m\u001b[0m\u001b[0m\n",
      "\u001b[0;32m/opt/conda/lib/python3.6/site-packages/twitter/stream.py\u001b[0m in \u001b[0;36m_handle_response\u001b[0;34m(self, req, uri, arg_data, _timeout)\u001b[0m\n\u001b[1;32m    286\u001b[0m                 return handle_stream_response(\n\u001b[1;32m    287\u001b[0m                     \u001b[0mreq\u001b[0m\u001b[0;34m,\u001b[0m \u001b[0muri\u001b[0m\u001b[0;34m,\u001b[0m \u001b[0marg_data\u001b[0m\u001b[0;34m,\u001b[0m \u001b[0mblock\u001b[0m\u001b[0;34m,\u001b[0m\u001b[0;34m\u001b[0m\u001b[0m\n\u001b[0;32m--> 288\u001b[0;31m                     _timeout or timeout, heartbeat_timeout)\n\u001b[0m\u001b[1;32m    289\u001b[0m \u001b[0;34m\u001b[0m\u001b[0m\n\u001b[1;32m    290\u001b[0m         TwitterCall.__init__(\n",
      "\u001b[0;32m/opt/conda/lib/python3.6/site-packages/twitter/stream.py\u001b[0m in \u001b[0;36mhandle_stream_response\u001b[0;34m(req, uri, arg_data, block, timeout, heartbeat_timeout)\u001b[0m\n\u001b[1;32m    211\u001b[0m         \u001b[0mhandle\u001b[0m \u001b[0;34m=\u001b[0m \u001b[0murllib_request\u001b[0m\u001b[0;34m.\u001b[0m\u001b[0murlopen\u001b[0m\u001b[0;34m(\u001b[0m\u001b[0mreq\u001b[0m\u001b[0;34m,\u001b[0m\u001b[0;34m)\u001b[0m\u001b[0;34m\u001b[0m\u001b[0m\n\u001b[1;32m    212\u001b[0m     \u001b[0;32mexcept\u001b[0m \u001b[0murllib_error\u001b[0m\u001b[0;34m.\u001b[0m\u001b[0mHTTPError\u001b[0m \u001b[0;32mas\u001b[0m \u001b[0me\u001b[0m\u001b[0;34m:\u001b[0m\u001b[0;34m\u001b[0m\u001b[0m\n\u001b[0;32m--> 213\u001b[0;31m         \u001b[0;32mraise\u001b[0m \u001b[0mTwitterHTTPError\u001b[0m\u001b[0;34m(\u001b[0m\u001b[0me\u001b[0m\u001b[0;34m,\u001b[0m \u001b[0muri\u001b[0m\u001b[0;34m,\u001b[0m \u001b[0;34m'json'\u001b[0m\u001b[0;34m,\u001b[0m \u001b[0marg_data\u001b[0m\u001b[0;34m)\u001b[0m\u001b[0;34m\u001b[0m\u001b[0m\n\u001b[0m\u001b[1;32m    214\u001b[0m     \u001b[0;32mreturn\u001b[0m \u001b[0miter\u001b[0m\u001b[0;34m(\u001b[0m\u001b[0mTwitterJSONIter\u001b[0m\u001b[0;34m(\u001b[0m\u001b[0mhandle\u001b[0m\u001b[0;34m,\u001b[0m \u001b[0muri\u001b[0m\u001b[0;34m,\u001b[0m \u001b[0marg_data\u001b[0m\u001b[0;34m,\u001b[0m \u001b[0mblock\u001b[0m\u001b[0;34m,\u001b[0m \u001b[0mtimeout\u001b[0m\u001b[0;34m,\u001b[0m \u001b[0mheartbeat_timeout\u001b[0m\u001b[0;34m)\u001b[0m\u001b[0;34m)\u001b[0m\u001b[0;34m\u001b[0m\u001b[0m\n\u001b[1;32m    215\u001b[0m \u001b[0;34m\u001b[0m\u001b[0m\n",
      "\u001b[0;31mTwitterHTTPError\u001b[0m: Twitter sent status 420 for URL: 1.1/statuses/filter.json using parameters: (oauth_consumer_key=7fR0w1qKESCmYW4U0cuIAV5rp&oauth_nonce=9502065454736454496&oauth_signature_method=HMAC-SHA1&oauth_timestamp=1511754172&oauth_token=12270642-aXZ5e5DUpAEzba1JpFkyKrqdtWGOxzgTj8kIdppRL&oauth_version=1.0&track=%D9%85%D8%B5%D8%B1&oauth_signature=IN0oUp4smvhJHbUzUGcdh7qpRcc%3D)\ndetails: Exceeded connection limit for user\r\n"
     ]
    }
   ],
   "source": [
    "twitter_stream = TwitterStream(auth=oauth)\n",
    "twitterator = twitter_stream.statuses.filter(track=u\"مصر\")\n"
   ]
  },
  {
   "cell_type": "code",
   "execution_count": 89,
   "metadata": {},
   "outputs": [
    {
     "ename": "KeyboardInterrupt",
     "evalue": "",
     "output_type": "error",
     "traceback": [
      "\u001b[0;31m---------------------------------------------------------------------------\u001b[0m",
      "\u001b[0;31mKeyboardInterrupt\u001b[0m                         Traceback (most recent call last)",
      "\u001b[0;32m<ipython-input-89-15b1840859fd>\u001b[0m in \u001b[0;36m<module>\u001b[0;34m()\u001b[0m\n\u001b[0;32m----> 1\u001b[0;31m \u001b[0mnext\u001b[0m\u001b[0;34m(\u001b[0m\u001b[0mtwitterator\u001b[0m\u001b[0;34m)\u001b[0m\u001b[0;34m[\u001b[0m\u001b[0;34m'text'\u001b[0m\u001b[0;34m]\u001b[0m\u001b[0;34m\u001b[0m\u001b[0m\n\u001b[0m",
      "\u001b[0;32m/opt/conda/lib/python3.6/site-packages/twitter/stream.py\u001b[0m in \u001b[0;36m__iter__\u001b[0;34m(self)\u001b[0m\n\u001b[1;32m    175\u001b[0m             \u001b[0;31m# Decode all the things:\u001b[0m\u001b[0;34m\u001b[0m\u001b[0;34m\u001b[0m\u001b[0m\n\u001b[1;32m    176\u001b[0m             \u001b[0;32mtry\u001b[0m\u001b[0;34m:\u001b[0m\u001b[0;34m\u001b[0m\u001b[0m\n\u001b[0;32m--> 177\u001b[0;31m                 \u001b[0mdata\u001b[0m \u001b[0;34m=\u001b[0m \u001b[0msock_reader\u001b[0m\u001b[0;34m.\u001b[0m\u001b[0mread\u001b[0m\u001b[0;34m(\u001b[0m\u001b[0;34m)\u001b[0m\u001b[0;34m\u001b[0m\u001b[0m\n\u001b[0m\u001b[1;32m    178\u001b[0m             \u001b[0;32mexcept\u001b[0m \u001b[0mSSLError\u001b[0m\u001b[0;34m:\u001b[0m\u001b[0;34m\u001b[0m\u001b[0m\n\u001b[1;32m    179\u001b[0m                 \u001b[0;32myield\u001b[0m \u001b[0mHangup\u001b[0m\u001b[0;34m\u001b[0m\u001b[0m\n",
      "\u001b[0;32m/opt/conda/lib/python3.6/site-packages/twitter/stream.py\u001b[0m in \u001b[0;36mread\u001b[0;34m(self)\u001b[0m\n\u001b[1;32m    131\u001b[0m     \u001b[0;32mdef\u001b[0m \u001b[0mread\u001b[0m\u001b[0;34m(\u001b[0m\u001b[0mself\u001b[0m\u001b[0;34m)\u001b[0m\u001b[0;34m:\u001b[0m\u001b[0;34m\u001b[0m\u001b[0m\n\u001b[1;32m    132\u001b[0m         \u001b[0;32mtry\u001b[0m\u001b[0;34m:\u001b[0m\u001b[0;34m\u001b[0m\u001b[0m\n\u001b[0;32m--> 133\u001b[0;31m             \u001b[0mready_to_read\u001b[0m \u001b[0;34m=\u001b[0m \u001b[0mselect\u001b[0m\u001b[0;34m.\u001b[0m\u001b[0mselect\u001b[0m\u001b[0;34m(\u001b[0m\u001b[0;34m[\u001b[0m\u001b[0mself\u001b[0m\u001b[0;34m.\u001b[0m\u001b[0msock\u001b[0m\u001b[0;34m]\u001b[0m\u001b[0;34m,\u001b[0m \u001b[0;34m[\u001b[0m\u001b[0;34m]\u001b[0m\u001b[0;34m,\u001b[0m \u001b[0;34m[\u001b[0m\u001b[0;34m]\u001b[0m\u001b[0;34m,\u001b[0m \u001b[0mself\u001b[0m\u001b[0;34m.\u001b[0m\u001b[0msock_timeout\u001b[0m\u001b[0;34m)\u001b[0m\u001b[0;34m[\u001b[0m\u001b[0;36m0\u001b[0m\u001b[0;34m]\u001b[0m\u001b[0;34m\u001b[0m\u001b[0m\n\u001b[0m\u001b[1;32m    134\u001b[0m             \u001b[0;32mif\u001b[0m \u001b[0mready_to_read\u001b[0m\u001b[0;34m:\u001b[0m\u001b[0;34m\u001b[0m\u001b[0m\n\u001b[1;32m    135\u001b[0m                 \u001b[0;32mreturn\u001b[0m \u001b[0mself\u001b[0m\u001b[0;34m.\u001b[0m\u001b[0msock\u001b[0m\u001b[0;34m.\u001b[0m\u001b[0mread\u001b[0m\u001b[0;34m(\u001b[0m\u001b[0;34m)\u001b[0m\u001b[0;34m\u001b[0m\u001b[0m\n",
      "\u001b[0;31mKeyboardInterrupt\u001b[0m: "
     ]
    }
   ],
   "source": [
    "next(twitterator)['text']"
   ]
  },
  {
   "cell_type": "code",
   "execution_count": null,
   "metadata": {},
   "outputs": [],
   "source": [
    "twitterator = twitter_stream.statuses.filter()"
   ]
  },
  {
   "cell_type": "code",
   "execution_count": null,
   "metadata": {},
   "outputs": [],
   "source": []
  },
  {
   "cell_type": "code",
   "execution_count": null,
   "metadata": {},
   "outputs": [],
   "source": []
  },
  {
   "cell_type": "code",
   "execution_count": null,
   "metadata": {},
   "outputs": [],
   "source": []
  },
  {
   "cell_type": "code",
   "execution_count": null,
   "metadata": {},
   "outputs": [],
   "source": []
  },
  {
   "cell_type": "code",
   "execution_count": null,
   "metadata": {},
   "outputs": [],
   "source": []
  },
  {
   "cell_type": "code",
   "execution_count": null,
   "metadata": {},
   "outputs": [],
   "source": []
  },
  {
   "cell_type": "code",
   "execution_count": null,
   "metadata": {},
   "outputs": [],
   "source": []
  },
  {
   "cell_type": "code",
   "execution_count": 86,
   "metadata": {},
   "outputs": [
    {
     "name": "stdout",
     "output_type": "stream",
     "text": [
      "Error in streaming\n",
      "420\n"
     ]
    },
    {
     "ename": "KeyboardInterrupt",
     "evalue": "",
     "output_type": "error",
     "traceback": [
      "\u001b[0;31m---------------------------------------------------------------------------\u001b[0m",
      "\u001b[0;31mKeyboardInterrupt\u001b[0m                         Traceback (most recent call last)",
      "\u001b[0;32m<ipython-input-86-ce3b0d35b3ac>\u001b[0m in \u001b[0;36m<module>\u001b[0;34m()\u001b[0m\n\u001b[1;32m     33\u001b[0m \u001b[0mtwitterStream\u001b[0m \u001b[0;34m=\u001b[0m\u001b[0mtweepy\u001b[0m\u001b[0;34m.\u001b[0m\u001b[0mStream\u001b[0m\u001b[0;34m(\u001b[0m\u001b[0mauth\u001b[0m\u001b[0;34m=\u001b[0m\u001b[0mauth\u001b[0m\u001b[0;34m,\u001b[0m \u001b[0mlistener\u001b[0m\u001b[0;34m=\u001b[0m\u001b[0mListener\u001b[0m\u001b[0;34m(\u001b[0m\u001b[0;34m)\u001b[0m\u001b[0;34m)\u001b[0m\u001b[0;34m\u001b[0m\u001b[0m\n\u001b[1;32m     34\u001b[0m \u001b[0mt\u001b[0m \u001b[0;34m=\u001b[0m \u001b[0;34mu\"مصر\"\u001b[0m\u001b[0;34m\u001b[0m\u001b[0m\n\u001b[0;32m---> 35\u001b[0;31m \u001b[0mtwitterStream\u001b[0m\u001b[0;34m.\u001b[0m\u001b[0mfilter\u001b[0m\u001b[0;34m(\u001b[0m\u001b[0mtrack\u001b[0m\u001b[0;34m=\u001b[0m\u001b[0;34m[\u001b[0m\u001b[0mt\u001b[0m\u001b[0;34m]\u001b[0m\u001b[0;34m)\u001b[0m\u001b[0;34m\u001b[0m\u001b[0m\n\u001b[0m",
      "\u001b[0;32m/opt/conda/lib/python3.6/site-packages/tweepy/streaming.py\u001b[0m in \u001b[0;36mfilter\u001b[0;34m(self, follow, track, async, locations, stall_warnings, languages, encoding, filter_level)\u001b[0m\n\u001b[1;32m    443\u001b[0m         \u001b[0mself\u001b[0m\u001b[0;34m.\u001b[0m\u001b[0msession\u001b[0m\u001b[0;34m.\u001b[0m\u001b[0mparams\u001b[0m \u001b[0;34m=\u001b[0m \u001b[0;34m{\u001b[0m\u001b[0;34m'delimited'\u001b[0m\u001b[0;34m:\u001b[0m \u001b[0;34m'length'\u001b[0m\u001b[0;34m}\u001b[0m\u001b[0;34m\u001b[0m\u001b[0m\n\u001b[1;32m    444\u001b[0m         \u001b[0mself\u001b[0m\u001b[0;34m.\u001b[0m\u001b[0mhost\u001b[0m \u001b[0;34m=\u001b[0m \u001b[0;34m'stream.twitter.com'\u001b[0m\u001b[0;34m\u001b[0m\u001b[0m\n\u001b[0;32m--> 445\u001b[0;31m         \u001b[0mself\u001b[0m\u001b[0;34m.\u001b[0m\u001b[0m_start\u001b[0m\u001b[0;34m(\u001b[0m\u001b[0masync\u001b[0m\u001b[0;34m)\u001b[0m\u001b[0;34m\u001b[0m\u001b[0m\n\u001b[0m\u001b[1;32m    446\u001b[0m \u001b[0;34m\u001b[0m\u001b[0m\n\u001b[1;32m    447\u001b[0m     def sitestream(self, follow, stall_warnings=False,\n",
      "\u001b[0;32m/opt/conda/lib/python3.6/site-packages/tweepy/streaming.py\u001b[0m in \u001b[0;36m_start\u001b[0;34m(self, async)\u001b[0m\n\u001b[1;32m    359\u001b[0m             \u001b[0mself\u001b[0m\u001b[0;34m.\u001b[0m\u001b[0m_thread\u001b[0m\u001b[0;34m.\u001b[0m\u001b[0mstart\u001b[0m\u001b[0;34m(\u001b[0m\u001b[0;34m)\u001b[0m\u001b[0;34m\u001b[0m\u001b[0m\n\u001b[1;32m    360\u001b[0m         \u001b[0;32melse\u001b[0m\u001b[0;34m:\u001b[0m\u001b[0;34m\u001b[0m\u001b[0m\n\u001b[0;32m--> 361\u001b[0;31m             \u001b[0mself\u001b[0m\u001b[0;34m.\u001b[0m\u001b[0m_run\u001b[0m\u001b[0;34m(\u001b[0m\u001b[0;34m)\u001b[0m\u001b[0;34m\u001b[0m\u001b[0m\n\u001b[0m\u001b[1;32m    362\u001b[0m \u001b[0;34m\u001b[0m\u001b[0m\n\u001b[1;32m    363\u001b[0m     \u001b[0;32mdef\u001b[0m \u001b[0mon_closed\u001b[0m\u001b[0;34m(\u001b[0m\u001b[0mself\u001b[0m\u001b[0;34m,\u001b[0m \u001b[0mresp\u001b[0m\u001b[0;34m)\u001b[0m\u001b[0;34m:\u001b[0m\u001b[0;34m\u001b[0m\u001b[0m\n",
      "\u001b[0;32m/opt/conda/lib/python3.6/site-packages/tweepy/streaming.py\u001b[0m in \u001b[0;36m_run\u001b[0;34m(self)\u001b[0m\n\u001b[1;32m    253\u001b[0m                         self.retry_time = max(self.retry_420_start,\n\u001b[1;32m    254\u001b[0m                                               self.retry_time)\n\u001b[0;32m--> 255\u001b[0;31m                     \u001b[0msleep\u001b[0m\u001b[0;34m(\u001b[0m\u001b[0mself\u001b[0m\u001b[0;34m.\u001b[0m\u001b[0mretry_time\u001b[0m\u001b[0;34m)\u001b[0m\u001b[0;34m\u001b[0m\u001b[0m\n\u001b[0m\u001b[1;32m    256\u001b[0m                     self.retry_time = min(self.retry_time * 2,\n\u001b[1;32m    257\u001b[0m                                           self.retry_time_cap)\n",
      "\u001b[0;31mKeyboardInterrupt\u001b[0m: "
     ]
    }
   ],
   "source": [
    "__author__ = 'Janis'\n",
    "# -*- coding: utf-8 -*-\n",
    "#!/usr/bin/env python\n",
    "\n",
    "\n",
    "import tweepy\n",
    "import time\n",
    "\n",
    "# Initialize tweepy functions------------------------------------------------\n",
    "CONSUMER_KEY ='7fR0w1qKESCmYW4U0cuIAV5rp'\n",
    "CONSUMER_SECRET = 'Rj9VtxB9h1ov42XIOEusKZFg4J9eh5jHjsG4wknyGSRnC0Nr2I'\n",
    "ACCESS_TOKEN = '12270642-aXZ5e5DUpAEzba1JpFkyKrqdtWGOxzgTj8kIdppRL'\n",
    "ACCESS_TOKEN_SECRET = 'FWPX2zPP5LR2oRBH0cfppEhX9C4DhxDBY2VYvLWmui3XL'\n",
    "\n",
    "\n",
    "auth = tweepy.OAuthHandler(CONSUMER_KEY, CONSUMER_SECRET)\n",
    "auth.set_access_token(ACCESS_TOKEN, ACCESS_TOKEN_SECRET)\n",
    "\n",
    "api = tweepy.API(auth)\n",
    "\n",
    "class Listener(tweepy.StreamListener):\n",
    "\n",
    "    def on_status(self, status):\n",
    "        print('{}\\t{}\\t{}'.format(status.created_at,status.user.screen_name,status.text))\n",
    "        return True\n",
    "\n",
    "    def on_error(self, status_code):\n",
    "        print('Error in streaming')\n",
    "        print(status_code)\n",
    "\n",
    "        pass\n",
    "\n",
    "twitterStream =tweepy.Stream(auth=auth, listener=Listener())\n",
    "t = u\"مصر\"\n",
    "twitterStream.filter(track=[t])"
   ]
  },
  {
   "cell_type": "code",
   "execution_count": null,
   "metadata": {},
   "outputs": [],
   "source": []
  },
  {
   "cell_type": "code",
   "execution_count": 26,
   "metadata": {},
   "outputs": [],
   "source": [
    "CONSUMER_KEY = '7fR0w1qKESCmYW4U0cuIAV5rp'\n",
    "CONSUMER_SECRET = 'Rj9VtxB9h1ov42XIOEusKZFg4J9eh5jHjsG4wknyGSRnC0Nr2I'\n",
    "ACCESS_TOKEN = '12270642-aXZ5e5DUpAEzba1JpFkyKrqdtWGOxzgTj8kIdppRL'\n",
    "ACCESS_SECRET = 'FWPX2zPP5LR2oRBH0cfppEhX9C4DhxDBY2VYvLWmui3XL'"
   ]
  },
  {
   "cell_type": "code",
   "execution_count": null,
   "metadata": {},
   "outputs": [],
   "source": []
  },
  {
   "cell_type": "code",
   "execution_count": null,
   "metadata": {},
   "outputs": [],
   "source": []
  },
  {
   "cell_type": "code",
   "execution_count": null,
   "metadata": {},
   "outputs": [],
   "source": [
    "from tweepy import Stream\n",
    "from tweepy import OAuthHandler\n",
    "from tweepy.streaming import StreamListener\n",
    "import json\n",
    "import sys\n",
    "\n",
    "ConsumerKey = 'Your_Consumer_Key'\n",
    "ConsumerSecret = 'Your_Consumer_Secret'\n",
    "AccessToken = 'Your_Access_Token'\n",
    "AccessTokenSecret = 'Your_Access_Token_Secret'\n",
    "\n",
    "non_bmp_map = dict.fromkeys(range(0x10000, sys.maxunicode + 1), 0xfffd)\n",
    "\n",
    "#tweets = open('Tweets.txt',mode='w',encoding=\"utf8\",newline=None)\n",
    "\n",
    "\n",
    "class listener(StreamListener) :\n",
    "    def on_data (self , data):\n",
    "        try:\n",
    "            tweet = json.loads(data)['text']\n",
    "            print(tweet.translate(non_bmp_map))\n",
    "\n",
    "        except KeyError:\n",
    "            pass\n",
    "\n",
    "    def on_error(self , status):\n",
    "        print(status)\n",
    "\n",
    "\n",
    "auth = OAuthHandler (ConsumerKey , ConsumerSecret)\n",
    "auth.set_access_token(AccessToken , AccessTokenSecret)\n",
    "twitterStream = Stream(auth , listener())\n",
    "twitterStream.filter(track=['الله'])\n",
    "#tweets.close()"
   ]
  },
  {
   "cell_type": "code",
   "execution_count": 105,
   "metadata": {},
   "outputs": [
    {
     "name": "stdout",
     "output_type": "stream",
     "text": [
      "Requirement already satisfied: tweepy in /opt/conda/lib/python3.6/site-packages\n",
      "Requirement already satisfied: six>=1.7.3 in /opt/conda/lib/python3.6/site-packages (from tweepy)\n",
      "Requirement already satisfied: requests-oauthlib>=0.4.1 in /opt/conda/lib/python3.6/site-packages (from tweepy)\n",
      "Requirement already satisfied: requests>=2.4.3 in /opt/conda/lib/python3.6/site-packages (from tweepy)\n",
      "Requirement already satisfied: oauthlib>=0.6.2 in /opt/conda/lib/python3.6/site-packages (from requests-oauthlib>=0.4.1->tweepy)\n",
      "Requirement already satisfied: chardet<3.1.0,>=3.0.2 in /opt/conda/lib/python3.6/site-packages (from requests>=2.4.3->tweepy)\n",
      "Requirement already satisfied: idna<2.7,>=2.5 in /opt/conda/lib/python3.6/site-packages (from requests>=2.4.3->tweepy)\n",
      "Requirement already satisfied: urllib3<1.23,>=1.21.1 in /opt/conda/lib/python3.6/site-packages (from requests>=2.4.3->tweepy)\n",
      "Requirement already satisfied: certifi>=2017.4.17 in /opt/conda/lib/python3.6/site-packages (from requests>=2.4.3->tweepy)\n"
     ]
    }
   ],
   "source": [
    "!pip install tweepy"
   ]
  },
  {
   "cell_type": "code",
   "execution_count": 106,
   "metadata": {},
   "outputs": [
    {
     "ename": "ModuleNotFoundError",
     "evalue": "No module named 'twitter_client'",
     "output_type": "error",
     "traceback": [
      "\u001b[0;31m---------------------------------------------------------------------------\u001b[0m",
      "\u001b[0;31mModuleNotFoundError\u001b[0m                       Traceback (most recent call last)",
      "\u001b[0;32m<ipython-input-106-cd191170b48c>\u001b[0m in \u001b[0;36m<module>\u001b[0;34m()\u001b[0m\n\u001b[1;32m      5\u001b[0m \u001b[0;32mfrom\u001b[0m \u001b[0mtweepy\u001b[0m \u001b[0;32mimport\u001b[0m \u001b[0mStream\u001b[0m\u001b[0;34m\u001b[0m\u001b[0m\n\u001b[1;32m      6\u001b[0m \u001b[0;32mfrom\u001b[0m \u001b[0mtweepy\u001b[0m\u001b[0;34m.\u001b[0m\u001b[0mstreaming\u001b[0m \u001b[0;32mimport\u001b[0m \u001b[0mStreamListener\u001b[0m\u001b[0;34m\u001b[0m\u001b[0m\n\u001b[0;32m----> 7\u001b[0;31m \u001b[0;32mfrom\u001b[0m \u001b[0mtwitter_client\u001b[0m \u001b[0;32mimport\u001b[0m \u001b[0mget_twitter_auth\u001b[0m\u001b[0;34m\u001b[0m\u001b[0m\n\u001b[0m\u001b[1;32m      8\u001b[0m \u001b[0;34m\u001b[0m\u001b[0m\n\u001b[1;32m      9\u001b[0m \u001b[0;32mclass\u001b[0m \u001b[0mCustomListener\u001b[0m\u001b[0;34m(\u001b[0m\u001b[0mStreamListener\u001b[0m\u001b[0;34m)\u001b[0m\u001b[0;34m:\u001b[0m\u001b[0;34m\u001b[0m\u001b[0m\n",
      "\u001b[0;31mModuleNotFoundError\u001b[0m: No module named 'twitter_client'"
     ]
    }
   ],
   "source": [
    "# Chap02-03/twitter_streaming.py\n",
    " from tweepy import Cursor\n",
    "   from twitter_client import get_twitter_client\n",
    "   if __name__ == '__main__':\n",
    "     client = get_twitter_client()\n",
    "     for status in Cursor(client.home_timeline).items(10):\n",
    "       # Process a single status\n",
    "       print(status.text)\n"
   ]
  },
  {
   "cell_type": "code",
   "execution_count": 107,
   "metadata": {},
   "outputs": [
    {
     "name": "stdout",
     "output_type": "stream",
     "text": [
      "Capstone starter.ipynb                             README.txt\r\n",
      "Mongo+Twitter_together_again_for_first_time.ipynb\r\n"
     ]
    }
   ],
   "source": [
    "ls"
   ]
  },
  {
   "cell_type": "code",
   "execution_count": null,
   "metadata": {},
   "outputs": [],
   "source": []
  }
 ],
 "metadata": {
  "kernelspec": {
   "display_name": "Python 3",
   "language": "python",
   "name": "python3"
  },
  "language_info": {
   "codemirror_mode": {
    "name": "ipython",
    "version": 3
   },
   "file_extension": ".py",
   "mimetype": "text/x-python",
   "name": "python",
   "nbconvert_exporter": "python",
   "pygments_lexer": "ipython3",
   "version": "3.6.3"
  }
 },
 "nbformat": 4,
 "nbformat_minor": 2
}
