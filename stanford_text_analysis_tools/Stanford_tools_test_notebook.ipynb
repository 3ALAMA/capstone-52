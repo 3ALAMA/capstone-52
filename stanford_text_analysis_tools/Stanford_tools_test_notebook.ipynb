{
 "cells": [
  {
   "cell_type": "code",
   "execution_count": null,
   "metadata": {},
   "outputs": [],
   "source": [
    "#!pip install nltk"
   ]
  },
  {
   "cell_type": "code",
   "execution_count": 2,
   "metadata": {},
   "outputs": [],
   "source": [
    "import nltk"
   ]
  },
  {
   "cell_type": "code",
   "execution_count": 3,
   "metadata": {},
   "outputs": [
    {
     "data": {
      "text/plain": [
       "'3.2.5'"
      ]
     },
     "execution_count": 3,
     "metadata": {},
     "output_type": "execute_result"
    }
   ],
   "source": [
    "nltk.__version__"
   ]
  },
  {
   "cell_type": "code",
   "execution_count": null,
   "metadata": {},
   "outputs": [],
   "source": [
    "# sudo apt-get install default-jre\n",
    "# sudo apt-get install default-jdk"
   ]
  },
  {
   "cell_type": "code",
   "execution_count": null,
   "metadata": {},
   "outputs": [],
   "source": []
  },
  {
   "cell_type": "markdown",
   "metadata": {},
   "source": [
    "After downloading the full version, unzip it and copy the related data in our test directory:\n",
    "\n",
    "mkdir postagger\n",
    "cd postagger/\n",
    "cp ../stanford-postagger-full-2014-08-27/stanford-postagger.jar .\n",
    "cp -r ../stanford-postagger-full-2014-08-27/models .\n",
    "#ipython –pylab\n",
    "\n",
    "First test the English POS Tagging Result:\n",
    "from nltk.tag.stanford import POSTagger\n",
    "english_postagger = POSTagger(‘models/english-bidirectional-distsim.tagger’, ‘stanford-postagger.jar’)\n",
    "english_postagger.tag(‘this is stanford postagger in nltk for python users’.split())"
   ]
  },
  {
   "cell_type": "markdown",
   "metadata": {},
   "source": [
    "Then test the Chinese POS Tagging result:\n",
    "\n",
    "In [4]: chinese_postagger = POSTagger(‘models/chinese-distsim.tagger’, ‘stanford-postagger.jar’, encoding=’utf-8′)\n",
    "\n",
    "In [5]: chinese_postagger.tag(‘这 是 在 Python 环境 中 使用 斯坦福 词性 标 器’.split())"
   ]
  },
  {
   "cell_type": "code",
   "execution_count": 4,
   "metadata": {},
   "outputs": [],
   "source": [
    "from nltk.parse.stanford import StanfordParser"
   ]
  },
  {
   "cell_type": "code",
   "execution_count": 19,
   "metadata": {},
   "outputs": [
    {
     "name": "stdout",
     "output_type": "stream",
     "text": [
      "\u001b[0m\u001b[01;34mstanford-parser-full-2014-08-27\u001b[0m/  stanford-parser-full-2014-08-27.zip\r\n"
     ]
    }
   ],
   "source": [
    "ls"
   ]
  },
  {
   "cell_type": "code",
   "execution_count": 20,
   "metadata": {},
   "outputs": [
    {
     "data": {
      "text/plain": [
       "'./stanford-parser-full-2014-08-27/'"
      ]
     },
     "execution_count": 20,
     "metadata": {},
     "output_type": "execute_result"
    }
   ],
   "source": [
    "'./stanford-parser-full-2014-08-27/'"
   ]
  },
  {
   "cell_type": "code",
   "execution_count": 21,
   "metadata": {},
   "outputs": [],
   "source": [
    "english_parser = StanfordParser('./stanford-parser-full-2014-08-27/stanford-parser.jar',\n",
    "                                './stanford-parser-full-2014-08-27/stanford-parser-3.4.1-models.jar')"
   ]
  },
  {
   "cell_type": "code",
   "execution_count": 22,
   "metadata": {},
   "outputs": [],
   "source": [
    "from IPython.display import display"
   ]
  },
  {
   "cell_type": "code",
   "execution_count": 23,
   "metadata": {},
   "outputs": [],
   "source": [
    "parsed = english_parser.raw_parse_sents(('تدرس هندسة وحده عرف يتعطل عندك خلاط مغسلة تروح مكتب مؤسسة صيانة يستقبلك صاحب', 'تب سعودي تتفق معه وتأخذ… مخطط من بعد مغسلة'))"
   ]
  },
  {
   "cell_type": "code",
   "execution_count": 24,
   "metadata": {},
   "outputs": [],
   "source": [
    "l = [list(i) for i in parsed]"
   ]
  },
  {
   "cell_type": "code",
   "execution_count": 25,
   "metadata": {},
   "outputs": [],
   "source": [
    "l0 = l[0]"
   ]
  },
  {
   "cell_type": "code",
   "execution_count": 30,
   "metadata": {},
   "outputs": [],
   "source": [
    "test = l0"
   ]
  },
  {
   "cell_type": "code",
   "execution_count": 33,
   "metadata": {},
   "outputs": [
    {
     "name": "stdout",
     "output_type": "stream",
     "text": [
      "(ROOT\n",
      "  (SINV\n",
      "    (VP (VBZ تدرس))\n",
      "    (NP\n",
      "      (NNP هندسة)\n",
      "      (NNP وحده)\n",
      "      (NNP عرف)\n",
      "      (NNP يتعطل)\n",
      "      (NNP عندك)\n",
      "      (NNP خلاط)\n",
      "      (NNP مغسلة)\n",
      "      (NNP تروح)\n",
      "      (NNP مكتب)\n",
      "      (NNP مؤسسة)\n",
      "      (NNP صيانة)\n",
      "      (NNP يستقبلك)\n",
      "      (NNP صاحب))))\n"
     ]
    }
   ],
   "source": [
    "print(test[0])"
   ]
  },
  {
   "cell_type": "code",
   "execution_count": 36,
   "metadata": {},
   "outputs": [
    {
     "name": "stdout",
     "output_type": "stream",
     "text": [
      "(SINV\n",
      "  (VP (VBZ تدرس))\n",
      "  (NP\n",
      "    (NNP هندسة)\n",
      "    (NNP وحده)\n",
      "    (NNP عرف)\n",
      "    (NNP يتعطل)\n",
      "    (NNP عندك)\n",
      "    (NNP خلاط)\n",
      "    (NNP مغسلة)\n",
      "    (NNP تروح)\n",
      "    (NNP مكتب)\n",
      "    (NNP مؤسسة)\n",
      "    (NNP صيانة)\n",
      "    (NNP يستقبلك)\n",
      "    (NNP صاحب)))\n"
     ]
    }
   ],
   "source": [
    "for sentence in l0:\n",
    "    for word in sentence:\n",
    "        print(word)"
   ]
  },
  {
   "cell_type": "code",
   "execution_count": 52,
   "metadata": {},
   "outputs": [
    {
     "ename": "ImportError",
     "evalue": "cannot import name 'POSTagger'",
     "output_type": "error",
     "traceback": [
      "\u001b[0;31m---------------------------------------------------------------------------\u001b[0m",
      "\u001b[0;31mImportError\u001b[0m                               Traceback (most recent call last)",
      "\u001b[0;32m<ipython-input-52-55436031f3e7>\u001b[0m in \u001b[0;36m<module>\u001b[0;34m()\u001b[0m\n\u001b[0;32m----> 1\u001b[0;31m \u001b[0;32mfrom\u001b[0m \u001b[0mnltk\u001b[0m\u001b[0;34m.\u001b[0m\u001b[0mtag\u001b[0m\u001b[0;34m.\u001b[0m\u001b[0mstanford\u001b[0m \u001b[0;32mimport\u001b[0m \u001b[0mPOSTagger\u001b[0m\u001b[0;34m\u001b[0m\u001b[0m\n\u001b[0m",
      "\u001b[0;31mImportError\u001b[0m: cannot import name 'POSTagger'"
     ]
    }
   ],
   "source": [
    "from nltk.tag.stanford import POSTagger"
   ]
  },
  {
   "cell_type": "code",
   "execution_count": 48,
   "metadata": {},
   "outputs": [
    {
     "data": {
      "text/plain": [
       "'./stanford-postagger-full-2014-08-27/'"
      ]
     },
     "execution_count": 48,
     "metadata": {},
     "output_type": "execute_result"
    }
   ],
   "source": [
    "'./stanford-postagger-full-2014-08-27/'"
   ]
  },
  {
   "cell_type": "code",
   "execution_count": null,
   "metadata": {},
   "outputs": [],
   "source": [
    "english_parser = StanfordParser('./stanford-parser-full-2014-08-27/stanford-parser.jar',\n",
    "                                './stanford-parser-full-2014-08-27/stanford-parser-3.4.1-models.jar')"
   ]
  },
  {
   "cell_type": "code",
   "execution_count": 54,
   "metadata": {},
   "outputs": [
    {
     "ename": "NameError",
     "evalue": "name 'POSTagger' is not defined",
     "output_type": "error",
     "traceback": [
      "\u001b[0;31m---------------------------------------------------------------------------\u001b[0m",
      "\u001b[0;31mNameError\u001b[0m                                 Traceback (most recent call last)",
      "\u001b[0;32m<ipython-input-54-0853ad19ed1a>\u001b[0m in \u001b[0;36m<module>\u001b[0;34m()\u001b[0m\n\u001b[0;32m----> 1\u001b[0;31m english_postagger = POSTagger('./models/english-bidirectional-distsim.tagger', \n\u001b[0m\u001b[1;32m      2\u001b[0m                               './stanford-postagger.jar')\n",
      "\u001b[0;31mNameError\u001b[0m: name 'POSTagger' is not defined"
     ]
    }
   ],
   "source": [
    "english_postagger = POSTagger('./models/english-bidirectional-distsim.tagger', \n",
    "                              './stanford-postagger.jar')"
   ]
  },
  {
   "cell_type": "code",
   "execution_count": 53,
   "metadata": {},
   "outputs": [
    {
     "name": "stdout",
     "output_type": "stream",
     "text": [
      "\u001b[0m\u001b[01;34mstanford-postagger-full-2014-08-27\u001b[0m/  stanford-postagger-full-2014-08-27.zip\r\n"
     ]
    }
   ],
   "source": [
    "ls"
   ]
  },
  {
   "cell_type": "code",
   "execution_count": null,
   "metadata": {},
   "outputs": [],
   "source": []
  }
 ],
 "metadata": {
  "kernelspec": {
   "display_name": "Python 3",
   "language": "python",
   "name": "python3"
  }
 },
 "nbformat": 4,
 "nbformat_minor": 2
}
