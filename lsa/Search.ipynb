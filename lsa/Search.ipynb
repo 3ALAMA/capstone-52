{
 "cells": [
  {
   "cell_type": "code",
   "execution_count": null,
   "metadata": {},
   "outputs": [],
   "source": [
    "%pip install nltk"
   ]
  },
  {
   "cell_type": "code",
   "execution_count": 50,
   "metadata": {},
   "outputs": [],
   "source": [
    "import matplotlib.pyplot as plt\n",
    "import numpy as np\n",
    "import pandas as pd\n",
    "import seaborn as sns\n",
    "\n",
    "%matplotlib inline"
   ]
  },
  {
   "cell_type": "code",
   "execution_count": 6,
   "metadata": {
    "scrolled": true
   },
   "outputs": [],
   "source": [
    "df = pd.read_pickle('../Pickled_from_mongo/combined_eg_gulf.p')"
   ]
  },
  {
   "cell_type": "code",
   "execution_count": 9,
   "metadata": {},
   "outputs": [
    {
     "data": {
      "text/plain": [
       "(940, 5)"
      ]
     },
     "execution_count": 9,
     "metadata": {},
     "output_type": "execute_result"
    }
   ],
   "source": [
    "df.shape"
   ]
  },
  {
   "cell_type": "code",
   "execution_count": 11,
   "metadata": {},
   "outputs": [],
   "source": [
    "df = df.drop(['_id', ], axis=1)\n"
   ]
  },
  {
   "cell_type": "code",
   "execution_count": 14,
   "metadata": {},
   "outputs": [],
   "source": [
    "df = df.set_index(['cleaned_name'])"
   ]
  },
  {
   "cell_type": "code",
   "execution_count": 15,
   "metadata": {},
   "outputs": [
    {
     "data": {
      "text/html": [
       "<div>\n",
       "<table border=\"1\" class=\"dataframe\">\n",
       "  <thead>\n",
       "    <tr style=\"text-align: right;\">\n",
       "      <th></th>\n",
       "      <th>cleaned_geo</th>\n",
       "      <th>cleaned_text</th>\n",
       "      <th>class</th>\n",
       "    </tr>\n",
       "    <tr>\n",
       "      <th>cleaned_name</th>\n",
       "      <th></th>\n",
       "      <th></th>\n",
       "      <th></th>\n",
       "    </tr>\n",
       "  </thead>\n",
       "  <tbody>\n",
       "    <tr>\n",
       "      <th>mohamed22hamo</th>\n",
       "      <td>None</td>\n",
       "      <td>* الساعه - ازيك يا محمد -- لا محمد ايه قوليلى ...</td>\n",
       "      <td>EG</td>\n",
       "    </tr>\n",
       "    <tr>\n",
       "      <th>typicallynorah</th>\n",
       "      <td>United Arab Emirates</td>\n",
       "      <td>: على الاقل ارحم من ان تتعود على وجود احد ويغر...</td>\n",
       "      <td>GULF</td>\n",
       "    </tr>\n",
       "    <tr>\n",
       "      <th>AbooodXQ</th>\n",
       "      <td>Gaza, Palestine</td>\n",
       "      <td>: مرة شوية رز حبو يسلمو على مديرهم قالوله ازيك...</td>\n",
       "      <td>EG</td>\n",
       "    </tr>\n",
       "    <tr>\n",
       "      <th>Ahmed30MAr</th>\n",
       "      <td>Egypt</td>\n",
       "      <td>اثبتت الدراسات العلميه ان اسرع طريقه للنوم هي ...</td>\n",
       "      <td>EG</td>\n",
       "    </tr>\n",
       "    <tr>\n",
       "      <th>EL_OSTAZA_</th>\n",
       "      <td>Egypt</td>\n",
       "      <td>الجو دا محتاج لحاف تقيل و كوباية نسكافيه و تكل...</td>\n",
       "      <td>EG</td>\n",
       "    </tr>\n",
       "    <tr>\n",
       "      <th>Moood</th>\n",
       "      <td>None</td>\n",
       "      <td>إنها مغسلة سيارات</td>\n",
       "      <td>GULF</td>\n",
       "    </tr>\n",
       "    <tr>\n",
       "      <th>shlhob2_shlhob</th>\n",
       "      <td>Saudi Arabia</td>\n",
       "      <td>: ازيك يا صلاح واحشتني</td>\n",
       "      <td>EG</td>\n",
       "    </tr>\n",
       "    <tr>\n",
       "      <th>Medhaat74</th>\n",
       "      <td>Egypt</td>\n",
       "      <td>ورقة وقلم و بحر و الاغانى بتاعتى و ازازة ابسلي...</td>\n",
       "      <td>EG</td>\n",
       "    </tr>\n",
       "  </tbody>\n",
       "</table>\n",
       "</div>"
      ],
      "text/plain": [
       "                         cleaned_geo  \\\n",
       "cleaned_name                           \n",
       "mohamed22hamo                   None   \n",
       "typicallynorah  United Arab Emirates   \n",
       "AbooodXQ             Gaza, Palestine   \n",
       "Ahmed30MAr                     Egypt   \n",
       "EL_OSTAZA_                     Egypt   \n",
       "Moood                           None   \n",
       "shlhob2_shlhob          Saudi Arabia   \n",
       "Medhaat74                      Egypt   \n",
       "\n",
       "                                                     cleaned_text class  \n",
       "cleaned_name                                                             \n",
       "mohamed22hamo   * الساعه - ازيك يا محمد -- لا محمد ايه قوليلى ...    EG  \n",
       "typicallynorah  : على الاقل ارحم من ان تتعود على وجود احد ويغر...  GULF  \n",
       "AbooodXQ        : مرة شوية رز حبو يسلمو على مديرهم قالوله ازيك...    EG  \n",
       "Ahmed30MAr      اثبتت الدراسات العلميه ان اسرع طريقه للنوم هي ...    EG  \n",
       "EL_OSTAZA_      الجو دا محتاج لحاف تقيل و كوباية نسكافيه و تكل...    EG  \n",
       "Moood                                           إنها مغسلة سيارات  GULF  \n",
       "shlhob2_shlhob                             : ازيك يا صلاح واحشتني    EG  \n",
       "Medhaat74       ورقة وقلم و بحر و الاغانى بتاعتى و ازازة ابسلي...    EG  "
      ]
     },
     "execution_count": 15,
     "metadata": {},
     "output_type": "execute_result"
    }
   ],
   "source": [
    "df.sample(8)"
   ]
  },
  {
   "cell_type": "markdown",
   "metadata": {},
   "source": [
    "### Label Encode the Categories\n"
   ]
  },
  {
   "cell_type": "code",
   "execution_count": 16,
   "metadata": {},
   "outputs": [],
   "source": [
    "from sklearn.preprocessing import LabelEncoder"
   ]
  },
  {
   "cell_type": "code",
   "execution_count": 17,
   "metadata": {},
   "outputs": [],
   "source": [
    "le = LabelEncoder()\n",
    "df['class_numerical'] = le.fit_transform(df['class'])"
   ]
  },
  {
   "cell_type": "code",
   "execution_count": 19,
   "metadata": {},
   "outputs": [
    {
     "data": {
      "text/plain": [
       "(940, 4)"
      ]
     },
     "execution_count": 19,
     "metadata": {},
     "output_type": "execute_result"
    }
   ],
   "source": [
    "df.shape"
   ]
  },
  {
   "cell_type": "code",
   "execution_count": 20,
   "metadata": {},
   "outputs": [
    {
     "data": {
      "text/html": [
       "<div>\n",
       "<table border=\"1\" class=\"dataframe\">\n",
       "  <thead>\n",
       "    <tr style=\"text-align: right;\">\n",
       "      <th></th>\n",
       "      <th>cleaned_geo</th>\n",
       "      <th>cleaned_text</th>\n",
       "      <th>class</th>\n",
       "      <th>class_numerical</th>\n",
       "    </tr>\n",
       "    <tr>\n",
       "      <th>cleaned_name</th>\n",
       "      <th></th>\n",
       "      <th></th>\n",
       "      <th></th>\n",
       "      <th></th>\n",
       "    </tr>\n",
       "  </thead>\n",
       "  <tbody>\n",
       "    <tr>\n",
       "      <th>loumylamouni1</th>\n",
       "      <td>None</td>\n",
       "      <td>: شيل البوتاغاز من جنب مغسلة المواعين عشان نبع...</td>\n",
       "      <td>GULF</td>\n",
       "      <td>1</td>\n",
       "    </tr>\n",
       "    <tr>\n",
       "      <th>muharraq77</th>\n",
       "      <td>Muharraq - Bahrain</td>\n",
       "      <td>: يالله يا جماعة دلونا الطريج ‍️</td>\n",
       "      <td>GULF</td>\n",
       "      <td>1</td>\n",
       "    </tr>\n",
       "    <tr>\n",
       "      <th>alka__96</th>\n",
       "      <td>🇰🇼 | 🇬🇧</td>\n",
       "      <td>من صجج احس بينزلني بنص الطريج</td>\n",
       "      <td>GULF</td>\n",
       "      <td>1</td>\n",
       "    </tr>\n",
       "    <tr>\n",
       "      <th>ghzlan12345</th>\n",
       "      <td>None</td>\n",
       "      <td>اخوان سته كلنا نمشي بنفس الطريج 🇦🇪️🇧🇭️🇸🇦️🇴🇲️🇶🇦️🇰🇼</td>\n",
       "      <td>GULF</td>\n",
       "      <td>1</td>\n",
       "    </tr>\n",
       "    <tr>\n",
       "      <th>bebosobhy123</th>\n",
       "      <td>الدور الرابع</td>\n",
       "      <td>يسقط العالم وتحيا كوباية الشاي بالنعناع</td>\n",
       "      <td>EG</td>\n",
       "      <td>0</td>\n",
       "    </tr>\n",
       "    <tr>\n",
       "      <th>hadeelnasser34</th>\n",
       "      <td>Saudi Arabia</td>\n",
       "      <td>: تقريباً كان قبل سنوات .. يوم مانساه!</td>\n",
       "      <td>GULF</td>\n",
       "      <td>1</td>\n",
       "    </tr>\n",
       "    <tr>\n",
       "      <th>saud77311</th>\n",
       "      <td>None</td>\n",
       "      <td>: أعتقد ان أول جامعة \"غسلت\" شهادة من نوع هي جا...</td>\n",
       "      <td>GULF</td>\n",
       "      <td>1</td>\n",
       "    </tr>\n",
       "    <tr>\n",
       "      <th>Mo2men_Mo5tar</th>\n",
       "      <td>Tanta, Egypt</td>\n",
       "      <td>ازيك يا صاحبي واحشني جدا و الله -طب متيجي نتقا...</td>\n",
       "      <td>EG</td>\n",
       "      <td>0</td>\n",
       "    </tr>\n",
       "  </tbody>\n",
       "</table>\n",
       "</div>"
      ],
      "text/plain": [
       "                       cleaned_geo  \\\n",
       "cleaned_name                         \n",
       "loumylamouni1                 None   \n",
       "muharraq77      Muharraq - Bahrain   \n",
       "alka__96                   🇰🇼 | 🇬🇧   \n",
       "ghzlan12345                   None   \n",
       "bebosobhy123          الدور الرابع   \n",
       "hadeelnasser34        Saudi Arabia   \n",
       "saud77311                     None   \n",
       "Mo2men_Mo5tar         Tanta, Egypt   \n",
       "\n",
       "                                                     cleaned_text class  \\\n",
       "cleaned_name                                                              \n",
       "loumylamouni1   : شيل البوتاغاز من جنب مغسلة المواعين عشان نبع...  GULF   \n",
       "muharraq77                       : يالله يا جماعة دلونا الطريج ‍️  GULF   \n",
       "alka__96                            من صجج احس بينزلني بنص الطريج  GULF   \n",
       "ghzlan12345     اخوان سته كلنا نمشي بنفس الطريج 🇦🇪️🇧🇭️🇸🇦️🇴🇲️🇶🇦️🇰🇼  GULF   \n",
       "bebosobhy123              يسقط العالم وتحيا كوباية الشاي بالنعناع    EG   \n",
       "hadeelnasser34             : تقريباً كان قبل سنوات .. يوم مانساه!  GULF   \n",
       "saud77311       : أعتقد ان أول جامعة \"غسلت\" شهادة من نوع هي جا...  GULF   \n",
       "Mo2men_Mo5tar   ازيك يا صاحبي واحشني جدا و الله -طب متيجي نتقا...    EG   \n",
       "\n",
       "                class_numerical  \n",
       "cleaned_name                     \n",
       "loumylamouni1                 1  \n",
       "muharraq77                    1  \n",
       "alka__96                      1  \n",
       "ghzlan12345                   1  \n",
       "bebosobhy123                  0  \n",
       "hadeelnasser34                1  \n",
       "saud77311                     1  \n",
       "Mo2men_Mo5tar                 0  "
      ]
     },
     "execution_count": 20,
     "metadata": {},
     "output_type": "execute_result"
    }
   ],
   "source": [
    "df.sample(8)"
   ]
  },
  {
   "cell_type": "code",
   "execution_count": 21,
   "metadata": {},
   "outputs": [
    {
     "data": {
      "text/plain": [
       "array([0, 1])"
      ]
     },
     "execution_count": 21,
     "metadata": {},
     "output_type": "execute_result"
    }
   ],
   "source": [
    "df.class_numerical.unique()\n"
   ]
  },
  {
   "cell_type": "markdown",
   "metadata": {},
   "source": [
    "### Prepare Document Term Matrix\n"
   ]
  },
  {
   "cell_type": "code",
   "execution_count": 22,
   "metadata": {},
   "outputs": [],
   "source": [
    "from sklearn.feature_extraction.text import TfidfVectorizer\n"
   ]
  },
  {
   "cell_type": "code",
   "execution_count": 25,
   "metadata": {},
   "outputs": [],
   "source": [
    "tfidf_vectorizer = TfidfVectorizer(min_df = 1)\n"
   ]
  },
  {
   "cell_type": "markdown",
   "metadata": {},
   "source": [
    "### TFIDF"
   ]
  },
  {
   "cell_type": "code",
   "execution_count": 27,
   "metadata": {},
   "outputs": [],
   "source": [
    "document_term_matrix_sps = tfidf_vectorizer.fit_transform(df.cleaned_text)"
   ]
  },
  {
   "cell_type": "code",
   "execution_count": 28,
   "metadata": {},
   "outputs": [
    {
     "data": {
      "text/plain": [
       "<940x4297 sparse matrix of type '<class 'numpy.float64'>'\n",
       "\twith 9954 stored elements in Compressed Sparse Row format>"
      ]
     },
     "execution_count": 28,
     "metadata": {},
     "output_type": "execute_result"
    }
   ],
   "source": [
    "document_term_matrix_sps\n"
   ]
  },
  {
   "cell_type": "code",
   "execution_count": 29,
   "metadata": {},
   "outputs": [],
   "source": [
    "document_term_matrix_df = pd.DataFrame(document_term_matrix_sps.toarray(),\n",
    "                                       index=df.index,\n",
    "                                       columns=tfidf_vectorizer.get_feature_names())"
   ]
  },
  {
   "cell_type": "code",
   "execution_count": 30,
   "metadata": {},
   "outputs": [
    {
     "data": {
      "text/html": [
       "<div>\n",
       "<table border=\"1\" class=\"dataframe\">\n",
       "  <thead>\n",
       "    <tr style=\"text-align: right;\">\n",
       "      <th></th>\n",
       "      <th>cleaned_text</th>\n",
       "      <th>___</th>\n",
       "      <th>_ثواني</th>\n",
       "      <th>_ضمان١٠سنوات</th>\n",
       "      <th>about</th>\n",
       "      <th>al</th>\n",
       "      <th>and</th>\n",
       "      <th>aziz</th>\n",
       "      <th>cousin</th>\n",
       "      <th>day</th>\n",
       "      <th>...</th>\n",
       "      <th>يومك</th>\n",
       "      <th>يومها</th>\n",
       "      <th>يومين</th>\n",
       "      <th>يونس</th>\n",
       "      <th>يوووه</th>\n",
       "      <th>يويو</th>\n",
       "      <th>٣٠</th>\n",
       "      <th>چلوتي</th>\n",
       "      <th>چنا</th>\n",
       "      <th>ﻻحياة</th>\n",
       "    </tr>\n",
       "    <tr>\n",
       "      <th>cleaned_name</th>\n",
       "      <th></th>\n",
       "      <th></th>\n",
       "      <th></th>\n",
       "      <th></th>\n",
       "      <th></th>\n",
       "      <th></th>\n",
       "      <th></th>\n",
       "      <th></th>\n",
       "      <th></th>\n",
       "      <th></th>\n",
       "      <th></th>\n",
       "      <th></th>\n",
       "      <th></th>\n",
       "      <th></th>\n",
       "      <th></th>\n",
       "      <th></th>\n",
       "      <th></th>\n",
       "      <th></th>\n",
       "      <th></th>\n",
       "      <th></th>\n",
       "      <th></th>\n",
       "    </tr>\n",
       "  </thead>\n",
       "  <tbody>\n",
       "    <tr>\n",
       "      <th>Remao444</th>\n",
       "      <td>: يبه شلونك ؟ ملل هالكون من دونك تهزمني الدمعة...</td>\n",
       "      <td>0.0</td>\n",
       "      <td>0.0</td>\n",
       "      <td>0.0</td>\n",
       "      <td>0.0</td>\n",
       "      <td>0.0</td>\n",
       "      <td>0.0</td>\n",
       "      <td>0.0</td>\n",
       "      <td>0.0</td>\n",
       "      <td>0.0</td>\n",
       "      <td>...</td>\n",
       "      <td>0.0</td>\n",
       "      <td>0.0</td>\n",
       "      <td>0.0</td>\n",
       "      <td>0.0</td>\n",
       "      <td>0.0</td>\n",
       "      <td>0.0</td>\n",
       "      <td>0.0</td>\n",
       "      <td>0.0</td>\n",
       "      <td>0.0</td>\n",
       "      <td>0.0</td>\n",
       "    </tr>\n",
       "    <tr>\n",
       "      <th>Moood</th>\n",
       "      <td>إنها مغسلة سيارات</td>\n",
       "      <td>0.0</td>\n",
       "      <td>0.0</td>\n",
       "      <td>0.0</td>\n",
       "      <td>0.0</td>\n",
       "      <td>0.0</td>\n",
       "      <td>0.0</td>\n",
       "      <td>0.0</td>\n",
       "      <td>0.0</td>\n",
       "      <td>0.0</td>\n",
       "      <td>...</td>\n",
       "      <td>0.0</td>\n",
       "      <td>0.0</td>\n",
       "      <td>0.0</td>\n",
       "      <td>0.0</td>\n",
       "      <td>0.0</td>\n",
       "      <td>0.0</td>\n",
       "      <td>0.0</td>\n",
       "      <td>0.0</td>\n",
       "      <td>0.0</td>\n",
       "      <td>0.0</td>\n",
       "    </tr>\n",
       "    <tr>\n",
       "      <th>shemo5295</th>\n",
       "      <td>طب م تقولي ازيك ف المايك كده يا صخره</td>\n",
       "      <td>0.0</td>\n",
       "      <td>0.0</td>\n",
       "      <td>0.0</td>\n",
       "      <td>0.0</td>\n",
       "      <td>0.0</td>\n",
       "      <td>0.0</td>\n",
       "      <td>0.0</td>\n",
       "      <td>0.0</td>\n",
       "      <td>0.0</td>\n",
       "      <td>...</td>\n",
       "      <td>0.0</td>\n",
       "      <td>0.0</td>\n",
       "      <td>0.0</td>\n",
       "      <td>0.0</td>\n",
       "      <td>0.0</td>\n",
       "      <td>0.0</td>\n",
       "      <td>0.0</td>\n",
       "      <td>0.0</td>\n",
       "      <td>0.0</td>\n",
       "      <td>0.0</td>\n",
       "    </tr>\n",
       "    <tr>\n",
       "      <th>Mamdoh590370651</th>\n",
       "      <td>ازيك يااسكر ازيك ياعسل عامله ايه</td>\n",
       "      <td>0.0</td>\n",
       "      <td>0.0</td>\n",
       "      <td>0.0</td>\n",
       "      <td>0.0</td>\n",
       "      <td>0.0</td>\n",
       "      <td>0.0</td>\n",
       "      <td>0.0</td>\n",
       "      <td>0.0</td>\n",
       "      <td>0.0</td>\n",
       "      <td>...</td>\n",
       "      <td>0.0</td>\n",
       "      <td>0.0</td>\n",
       "      <td>0.0</td>\n",
       "      <td>0.0</td>\n",
       "      <td>0.0</td>\n",
       "      <td>0.0</td>\n",
       "      <td>0.0</td>\n",
       "      <td>0.0</td>\n",
       "      <td>0.0</td>\n",
       "      <td>0.0</td>\n",
       "    </tr>\n",
       "    <tr>\n",
       "      <th>M7mdd_3del</th>\n",
       "      <td>صحيت اتعشيت و شربت سجارة و كوباية الشاي، ارجع ...</td>\n",
       "      <td>0.0</td>\n",
       "      <td>0.0</td>\n",
       "      <td>0.0</td>\n",
       "      <td>0.0</td>\n",
       "      <td>0.0</td>\n",
       "      <td>0.0</td>\n",
       "      <td>0.0</td>\n",
       "      <td>0.0</td>\n",
       "      <td>0.0</td>\n",
       "      <td>...</td>\n",
       "      <td>0.0</td>\n",
       "      <td>0.0</td>\n",
       "      <td>0.0</td>\n",
       "      <td>0.0</td>\n",
       "      <td>0.0</td>\n",
       "      <td>0.0</td>\n",
       "      <td>0.0</td>\n",
       "      <td>0.0</td>\n",
       "      <td>0.0</td>\n",
       "      <td>0.0</td>\n",
       "    </tr>\n",
       "    <tr>\n",
       "      <th>rehamamr97</th>\n",
       "      <td>كوباية الشاي بلبن الصبح</td>\n",
       "      <td>0.0</td>\n",
       "      <td>0.0</td>\n",
       "      <td>0.0</td>\n",
       "      <td>0.0</td>\n",
       "      <td>0.0</td>\n",
       "      <td>0.0</td>\n",
       "      <td>0.0</td>\n",
       "      <td>0.0</td>\n",
       "      <td>0.0</td>\n",
       "      <td>...</td>\n",
       "      <td>0.0</td>\n",
       "      <td>0.0</td>\n",
       "      <td>0.0</td>\n",
       "      <td>0.0</td>\n",
       "      <td>0.0</td>\n",
       "      <td>0.0</td>\n",
       "      <td>0.0</td>\n",
       "      <td>0.0</td>\n",
       "      <td>0.0</td>\n",
       "      <td>0.0</td>\n",
       "    </tr>\n",
       "    <tr>\n",
       "      <th>EngnrFaisal</th>\n",
       "      <td>: عرض خاص لأعضاء جمعية المهندسين الكويتية من م...</td>\n",
       "      <td>0.0</td>\n",
       "      <td>0.0</td>\n",
       "      <td>0.0</td>\n",
       "      <td>0.0</td>\n",
       "      <td>0.0</td>\n",
       "      <td>0.0</td>\n",
       "      <td>0.0</td>\n",
       "      <td>0.0</td>\n",
       "      <td>0.0</td>\n",
       "      <td>...</td>\n",
       "      <td>0.0</td>\n",
       "      <td>0.0</td>\n",
       "      <td>0.0</td>\n",
       "      <td>0.0</td>\n",
       "      <td>0.0</td>\n",
       "      <td>0.0</td>\n",
       "      <td>0.0</td>\n",
       "      <td>0.0</td>\n",
       "      <td>0.0</td>\n",
       "      <td>0.0</td>\n",
       "    </tr>\n",
       "    <tr>\n",
       "      <th>Dahan_Co</th>\n",
       "      <td>كرسي + مغسلة موديل فلورا مرخم بأكثر من لون ب ر...</td>\n",
       "      <td>0.0</td>\n",
       "      <td>0.0</td>\n",
       "      <td>0.0</td>\n",
       "      <td>0.0</td>\n",
       "      <td>0.0</td>\n",
       "      <td>0.0</td>\n",
       "      <td>0.0</td>\n",
       "      <td>0.0</td>\n",
       "      <td>0.0</td>\n",
       "      <td>...</td>\n",
       "      <td>0.0</td>\n",
       "      <td>0.0</td>\n",
       "      <td>0.0</td>\n",
       "      <td>0.0</td>\n",
       "      <td>0.0</td>\n",
       "      <td>0.0</td>\n",
       "      <td>0.0</td>\n",
       "      <td>0.0</td>\n",
       "      <td>0.0</td>\n",
       "      <td>0.0</td>\n",
       "    </tr>\n",
       "    <tr>\n",
       "      <th>majed9064</th>\n",
       "      <td>عسروج في معده عنز متوفيه صارلها إسبوع طايحه ع ...</td>\n",
       "      <td>0.0</td>\n",
       "      <td>0.0</td>\n",
       "      <td>0.0</td>\n",
       "      <td>0.0</td>\n",
       "      <td>0.0</td>\n",
       "      <td>0.0</td>\n",
       "      <td>0.0</td>\n",
       "      <td>0.0</td>\n",
       "      <td>0.0</td>\n",
       "      <td>...</td>\n",
       "      <td>0.0</td>\n",
       "      <td>0.0</td>\n",
       "      <td>0.0</td>\n",
       "      <td>0.0</td>\n",
       "      <td>0.0</td>\n",
       "      <td>0.0</td>\n",
       "      <td>0.0</td>\n",
       "      <td>0.0</td>\n",
       "      <td>0.0</td>\n",
       "      <td>0.0</td>\n",
       "    </tr>\n",
       "    <tr>\n",
       "      <th>sa_sa765h</th>\n",
       "      <td>مغسلة الجبر</td>\n",
       "      <td>0.0</td>\n",
       "      <td>0.0</td>\n",
       "      <td>0.0</td>\n",
       "      <td>0.0</td>\n",
       "      <td>0.0</td>\n",
       "      <td>0.0</td>\n",
       "      <td>0.0</td>\n",
       "      <td>0.0</td>\n",
       "      <td>0.0</td>\n",
       "      <td>...</td>\n",
       "      <td>0.0</td>\n",
       "      <td>0.0</td>\n",
       "      <td>0.0</td>\n",
       "      <td>0.0</td>\n",
       "      <td>0.0</td>\n",
       "      <td>0.0</td>\n",
       "      <td>0.0</td>\n",
       "      <td>0.0</td>\n",
       "      <td>0.0</td>\n",
       "      <td>0.0</td>\n",
       "    </tr>\n",
       "  </tbody>\n",
       "</table>\n",
       "<p>10 rows × 4298 columns</p>\n",
       "</div>"
      ],
      "text/plain": [
       "                                                      cleaned_text  ___  \\\n",
       "cleaned_name                                                              \n",
       "Remao444         : يبه شلونك ؟ ملل هالكون من دونك تهزمني الدمعة...  0.0   \n",
       "Moood                                            إنها مغسلة سيارات  0.0   \n",
       "shemo5295                     طب م تقولي ازيك ف المايك كده يا صخره  0.0   \n",
       "Mamdoh590370651                   ازيك يااسكر ازيك ياعسل عامله ايه  0.0   \n",
       "M7mdd_3del       صحيت اتعشيت و شربت سجارة و كوباية الشاي، ارجع ...  0.0   \n",
       "rehamamr97                                 كوباية الشاي بلبن الصبح  0.0   \n",
       "EngnrFaisal      : عرض خاص لأعضاء جمعية المهندسين الكويتية من م...  0.0   \n",
       "Dahan_Co         كرسي + مغسلة موديل فلورا مرخم بأكثر من لون ب ر...  0.0   \n",
       "majed9064        عسروج في معده عنز متوفيه صارلها إسبوع طايحه ع ...  0.0   \n",
       "sa_sa765h                                              مغسلة الجبر  0.0   \n",
       "\n",
       "                 _ثواني  _ضمان١٠سنوات  about   al  and  aziz  cousin  day  \\\n",
       "cleaned_name                                                                \n",
       "Remao444            0.0           0.0    0.0  0.0  0.0   0.0     0.0  0.0   \n",
       "Moood               0.0           0.0    0.0  0.0  0.0   0.0     0.0  0.0   \n",
       "shemo5295           0.0           0.0    0.0  0.0  0.0   0.0     0.0  0.0   \n",
       "Mamdoh590370651     0.0           0.0    0.0  0.0  0.0   0.0     0.0  0.0   \n",
       "M7mdd_3del          0.0           0.0    0.0  0.0  0.0   0.0     0.0  0.0   \n",
       "rehamamr97          0.0           0.0    0.0  0.0  0.0   0.0     0.0  0.0   \n",
       "EngnrFaisal         0.0           0.0    0.0  0.0  0.0   0.0     0.0  0.0   \n",
       "Dahan_Co            0.0           0.0    0.0  0.0  0.0   0.0     0.0  0.0   \n",
       "majed9064           0.0           0.0    0.0  0.0  0.0   0.0     0.0  0.0   \n",
       "sa_sa765h           0.0           0.0    0.0  0.0  0.0   0.0     0.0  0.0   \n",
       "\n",
       "                 ...    يومك  يومها  يومين  يونس  يوووه  يويو   ٣٠  چلوتي  \\\n",
       "cleaned_name     ...                                                        \n",
       "Remao444         ...     0.0    0.0    0.0   0.0    0.0   0.0  0.0    0.0   \n",
       "Moood            ...     0.0    0.0    0.0   0.0    0.0   0.0  0.0    0.0   \n",
       "shemo5295        ...     0.0    0.0    0.0   0.0    0.0   0.0  0.0    0.0   \n",
       "Mamdoh590370651  ...     0.0    0.0    0.0   0.0    0.0   0.0  0.0    0.0   \n",
       "M7mdd_3del       ...     0.0    0.0    0.0   0.0    0.0   0.0  0.0    0.0   \n",
       "rehamamr97       ...     0.0    0.0    0.0   0.0    0.0   0.0  0.0    0.0   \n",
       "EngnrFaisal      ...     0.0    0.0    0.0   0.0    0.0   0.0  0.0    0.0   \n",
       "Dahan_Co         ...     0.0    0.0    0.0   0.0    0.0   0.0  0.0    0.0   \n",
       "majed9064        ...     0.0    0.0    0.0   0.0    0.0   0.0  0.0    0.0   \n",
       "sa_sa765h        ...     0.0    0.0    0.0   0.0    0.0   0.0  0.0    0.0   \n",
       "\n",
       "                 چنا  ﻻحياة  \n",
       "cleaned_name                 \n",
       "Remao444         0.0    0.0  \n",
       "Moood            0.0    0.0  \n",
       "shemo5295        0.0    0.0  \n",
       "Mamdoh590370651  0.0    0.0  \n",
       "M7mdd_3del       0.0    0.0  \n",
       "rehamamr97       0.0    0.0  \n",
       "EngnrFaisal      0.0    0.0  \n",
       "Dahan_Co         0.0    0.0  \n",
       "majed9064        0.0    0.0  \n",
       "sa_sa765h        0.0    0.0  \n",
       "\n",
       "[10 rows x 4298 columns]"
      ]
     },
     "execution_count": 30,
     "metadata": {},
     "output_type": "execute_result"
    }
   ],
   "source": [
    "pd.concat([df.cleaned_text, document_term_matrix_df], axis=1).sample(10)"
   ]
  },
  {
   "cell_type": "markdown",
   "metadata": {},
   "source": [
    "### Compute SVD of Document Term Matrix"
   ]
  },
  {
   "cell_type": "code",
   "execution_count": 31,
   "metadata": {},
   "outputs": [],
   "source": [
    "from sklearn.decomposition import TruncatedSVD"
   ]
  },
  {
   "cell_type": "code",
   "execution_count": 32,
   "metadata": {},
   "outputs": [],
   "source": [
    "n_components = 2\n",
    "SVD = TruncatedSVD(n_components)\n",
    "component_names = [\"component_\"+str(i+1) for i in range(n_components)]"
   ]
  },
  {
   "cell_type": "code",
   "execution_count": 33,
   "metadata": {},
   "outputs": [],
   "source": [
    "svd_matrix = SVD.fit_transform(document_term_matrix_df)\n"
   ]
  },
  {
   "cell_type": "code",
   "execution_count": 34,
   "metadata": {},
   "outputs": [
    {
     "data": {
      "text/plain": [
       "array([ 0.01409849,  0.01252813])"
      ]
     },
     "execution_count": 34,
     "metadata": {},
     "output_type": "execute_result"
    }
   ],
   "source": [
    "SVD.explained_variance_ratio_\n"
   ]
  },
  {
   "cell_type": "code",
   "execution_count": 35,
   "metadata": {},
   "outputs": [
    {
     "data": {
      "text/plain": [
       "array([[ 0.01108769,  0.00537359],\n",
       "       [ 0.0236545 ,  0.00827522],\n",
       "       [ 0.00965105,  0.00521715],\n",
       "       [ 0.01853978,  0.00601777]])"
      ]
     },
     "execution_count": 35,
     "metadata": {},
     "output_type": "execute_result"
    }
   ],
   "source": [
    "svd_matrix[:4]\n"
   ]
  },
  {
   "cell_type": "markdown",
   "metadata": {},
   "source": [
    "### Load SVD Matrix with Documents and Labels\n"
   ]
  },
  {
   "cell_type": "code",
   "execution_count": 41,
   "metadata": {
    "scrolled": true
   },
   "outputs": [],
   "source": [
    "latent_semantic_analysis = pd.DataFrame(svd_matrix,\n",
    "                                        index=document_term_matrix_df.index,\n",
    "                                        columns=component_names)\n",
    "latent_semantic_analysis['cleaned_text'] = df.cleaned_text\n",
    "latent_semantic_analysis['class'] = df['class']"
   ]
  },
  {
   "cell_type": "code",
   "execution_count": 39,
   "metadata": {
    "scrolled": true
   },
   "outputs": [
    {
     "data": {
      "text/plain": [
       "cleaned_name\n",
       "kamal              أزاي أقول لك كنا زمان ... والماضي كان فى الغيب...\n",
       "agabdelrehim       هي آراء آه بس أزاي أجويرو منتهي يعني أمال لو م...\n",
       "ElsndubadE         أنت صيني أزاي تقارن شادي بالخطيب ألي هو الوحيد...\n",
       "h_sawires          أزاي الناس كانت بتغرد في الخمسينات قبل إختراع ...\n",
       "Hagerelmor         التوينز اللي معاها كل الحلو والوحش والمصايب وا...\n",
       "YaraHossamElDin    : عن الناس إلي ربنا بعتهالك عشان يقولك شوف آخر...\n",
       "weaamaboelwafa1                   شوفت لما تجاهلت الناس وشك نور أزاي\n",
       "hjjarr             ده انا صاحيه من ساعه وزهقت هكمل أزاي بقيت اليو...\n",
       "amira_ashraf97     أزاي اتعرفت علي افضل صديق/ة عندك/ي؟ — افضل صدي...\n",
       "YasmeenShabana2    اكيد مكنتيش هتقدري تعيشي ي بنتي ، انتي م غيري ...\n",
       "trbdKnADYIRSP7                                 الله اكبر رووووووووعه\n",
       "i_asam             أول مرة أسمع أغنية رق الحـبيب لأم كلثـوم كـامل...\n",
       "rehamaboelhamed    : أول مرة أسمع أغنية رق الحـبيب لأم كلثـوم كـا...\n",
       "mahmoud_s58                      أزاي يعني واحد يكون مجرم ويطلع براة\n",
       "Mn3m_reda          البعُد عنك خوف وأنا ع الرجوع ملهوف ، لكن أعود ...\n",
       "AbdullaFal         : أزاي كل مرة بنشوفكم فيها، بنحس كأنها أول مرة...\n",
       "titoozahran        : مش عارفة هصحي الساعه عشان احضر سكشن أزاي و ا...\n",
       "omarmuhamed1                                 : الله اكبر رووووووووعه\n",
       "AbdelaZizo_              : أنت غيرت المقام كدا أزاي الشيخ ماشاء الله\n",
       "WASM2004           مستنين أيه !! شوفوا اليمن وليبيا أزاي عملوا با...\n",
       "mahmoud_hny                                 لا يا عم ده حالق دقنه بس\n",
       "KeroaiadKero                              : لا يا عم ده حالق دقنه بس\n",
       "Ejal3mrii0         : اللي شُفته قبل مَا تشوفك عينيًّا عُمْر ضايع ...\n",
       "etman_r2                                          لا دا عشان حلقت بس\n",
       "Dinaekrady                                      : لا دا عشان حلقت بس\n",
       "mariam_red               أزاي اتعرفت علي افضل صديق/ة عندك/ي؟ — جامعه\n",
       "EngHassanSaid1                   أزاي ابدأ في الشبكات | Network: via\n",
       "nadernashat        جيل كامل من الأباء والأمهات ماعرفوش يربوا أولا...\n",
       "sarah_naggar                               أزاي عندك حب اﻷمتﻻك ده !!\n",
       "TaliaRamadan9      : اللي شوفته قبل ما تشوفك عنيّا.. عُمْر ضايع ،...\n",
       "                                         ...                        \n",
       "ON0_OF             ؛ رسالة وصلتنا : غطاء هاتف. مكسور فـ منتصف الش...\n",
       "Drsareeh2                                        احمد ربك حصلت اربعه\n",
       "fjs2001                                                 مغسلة الجوري\n",
       "zain_int_co        مغسلة ديكور انطلاق اكبر مهرجان للخصومات من زين...\n",
       "najranad1          : مغسلة ديكور انطلاق اكبر مهرجان للخصومات من ز...\n",
       "AskDmam            من الخاص السلام عليكم ايش افضل مغسلة البطانيات...\n",
       "Dreamssteps2       مغسلة ديكور مزدوجه انيقه جدامن dreamsste **اكب...\n",
       "faaf758            : ؛ رسالة وصلتنا : غطاء هاتف. مكسور فـ منتصف ا...\n",
       "KSEweb             عرض خاص لأعضاء جمعية المهندسين الكويتية من مغس...\n",
       "syrianinturkey     من رسائلكم مطلوب محل للايجار يصلح ل مغسلة سيار...\n",
       "Alawi_Ismail11     : لو اني فتحت مغسلة في الصناعية كان اشرفلي من ...\n",
       "MekkyRoony8        متاح عدة مغسلة كاملة للبيع لو حد عايز يكلمني ا...\n",
       "BahkaliEng         : اعتقد ان أول جامعة سعودية غسلت شهادة دكتوراه...\n",
       "SaudiLinks         : لاأزال لا أستوعب سبب عدم منح تراخيص لجمعيات ...\n",
       "nissoo58           ضمان سنتين شطاف كاديا شطاف داليا ضمان سنوات شا...\n",
       "B11Do              ضمان سنتين شطاف كاديا شطاف داليا ضمان سنوات شا...\n",
       "nissoo58           ضمان سنتين شطاف كاديا شطاف داليا ضمان سنوات شا...\n",
       "nissoo58           ضمان سنتين شطاف كاديا شطاف داليا ضمان سنوات شا...\n",
       "nissoo58           ضمان سنتين شطاف كاديا شطاف داليا ضمان سنوات شا...\n",
       "Noo7MTOO           : لكم أن تتخيلوا قساوة المشهد وألم الشعور عندم...\n",
       "mfs1405                  : فكرة انارة مغسلة مع انارة مركزة على الورد\n",
       "KhanKamran6789     مرحبا مكتب استقدام الهند يوجد لدي: عامل مزارع ...\n",
       "Shadi_T_Saeed      : ضمان سنتين شطاف كاديا شطاف داليا ضمان سنوات ...\n",
       "vle_ft             : اسرع طريقة صاروخيه لكسب الاموال من عامل فى م...\n",
       "AboYasser137                                                       …\n",
       "BX4XBX                           بغزل حمامي كلهم سيفون الا انت مغسلة\n",
       "AloubaidyAmjad                 حاشا هذي ماهي امراه هاذي مغسلة سيارات\n",
       "EngnrFaisal        : عرض خاص لأعضاء جمعية المهندسين الكويتية من م...\n",
       "aw632a_0908763     والله ما أحد مستانس غير طلاب الابتدائي متسدحين...\n",
       "AAlawone           ماشاء الله ... ياليث يعمم في الطرق السريعة مثل...\n",
       "Name: cleaned_text, dtype: object"
      ]
     },
     "execution_count": 39,
     "metadata": {},
     "output_type": "execute_result"
    }
   ],
   "source": [
    "df.cleaned_text"
   ]
  },
  {
   "cell_type": "code",
   "execution_count": 42,
   "metadata": {},
   "outputs": [
    {
     "data": {
      "text/html": [
       "<div>\n",
       "<table border=\"1\" class=\"dataframe\">\n",
       "  <thead>\n",
       "    <tr style=\"text-align: right;\">\n",
       "      <th></th>\n",
       "      <th>component_1</th>\n",
       "      <th>component_2</th>\n",
       "      <th>cleaned_text</th>\n",
       "      <th>class</th>\n",
       "    </tr>\n",
       "    <tr>\n",
       "      <th>cleaned_name</th>\n",
       "      <th></th>\n",
       "      <th></th>\n",
       "      <th></th>\n",
       "      <th></th>\n",
       "    </tr>\n",
       "  </thead>\n",
       "  <tbody>\n",
       "    <tr>\n",
       "      <th>HamdyMagdy140</th>\n",
       "      <td>0.016422</td>\n",
       "      <td>0.008503</td>\n",
       "      <td>كوباية شاي بلبن و سورة يوسف بصوت الشيخ محمود ا...</td>\n",
       "      <td>EG</td>\n",
       "    </tr>\n",
       "    <tr>\n",
       "      <th>aleid_t</th>\n",
       "      <td>0.135003</td>\n",
       "      <td>-0.003171</td>\n",
       "      <td>هلاا بك نايف ازيك ي قميل</td>\n",
       "      <td>EG</td>\n",
       "    </tr>\n",
       "    <tr>\n",
       "      <th>ab_aljaafari</th>\n",
       "      <td>0.012311</td>\n",
       "      <td>0.006418</td>\n",
       "      <td>بعض الإخوانيين وجوههم مغسلة بمرق.. والله ما يس...</td>\n",
       "      <td>GULF</td>\n",
       "    </tr>\n",
       "    <tr>\n",
       "      <th>Dahan_Co</th>\n",
       "      <td>0.013447</td>\n",
       "      <td>0.020420</td>\n",
       "      <td>كرسي + مغسلة موديل فلورا ، متوفر بأكثر من لون ...</td>\n",
       "      <td>GULF</td>\n",
       "    </tr>\n",
       "  </tbody>\n",
       "</table>\n",
       "</div>"
      ],
      "text/plain": [
       "               component_1  component_2  \\\n",
       "cleaned_name                              \n",
       "HamdyMagdy140     0.016422     0.008503   \n",
       "aleid_t           0.135003    -0.003171   \n",
       "ab_aljaafari      0.012311     0.006418   \n",
       "Dahan_Co          0.013447     0.020420   \n",
       "\n",
       "                                                    cleaned_text class  \n",
       "cleaned_name                                                            \n",
       "HamdyMagdy140  كوباية شاي بلبن و سورة يوسف بصوت الشيخ محمود ا...    EG  \n",
       "aleid_t                                 هلاا بك نايف ازيك ي قميل    EG  \n",
       "ab_aljaafari   بعض الإخوانيين وجوههم مغسلة بمرق.. والله ما يس...  GULF  \n",
       "Dahan_Co       كرسي + مغسلة موديل فلورا ، متوفر بأكثر من لون ...  GULF  "
      ]
     },
     "execution_count": 42,
     "metadata": {},
     "output_type": "execute_result"
    }
   ],
   "source": [
    "latent_semantic_analysis.sample(4)\n"
   ]
  },
  {
   "cell_type": "code",
   "execution_count": 43,
   "metadata": {},
   "outputs": [],
   "source": [
    "vocabulary_loadings = pd.DataFrame(SVD.components_,\n",
    "                                   index=component_names,\n",
    "                                   columns=tfidf_vectorizer.get_feature_names()).T"
   ]
  },
  {
   "cell_type": "code",
   "execution_count": 46,
   "metadata": {},
   "outputs": [],
   "source": [
    "vocabulary_loadings['abs_component_1'] = np.abs(vocabulary_loadings.component_1)\n",
    "vocabulary_loadings['abs_component_2'] = np.abs(vocabulary_loadings.component_2)"
   ]
  },
  {
   "cell_type": "markdown",
   "metadata": {},
   "source": [
    "### Display Top Terms for Each Component"
   ]
  },
  {
   "cell_type": "markdown",
   "metadata": {},
   "source": [
    "Top 10 Terms for Component 1"
   ]
  },
  {
   "cell_type": "code",
   "execution_count": 47,
   "metadata": {},
   "outputs": [
    {
     "data": {
      "text/html": [
       "<div>\n",
       "<table border=\"1\" class=\"dataframe\">\n",
       "  <thead>\n",
       "    <tr style=\"text-align: right;\">\n",
       "      <th></th>\n",
       "      <th>component_1</th>\n",
       "      <th>component_2</th>\n",
       "      <th>abs_component_1</th>\n",
       "      <th>abs_component_2</th>\n",
       "    </tr>\n",
       "  </thead>\n",
       "  <tbody>\n",
       "    <tr>\n",
       "      <th>ازيك</th>\n",
       "      <td>0.851860</td>\n",
       "      <td>-0.019378</td>\n",
       "      <td>0.851860</td>\n",
       "      <td>0.019378</td>\n",
       "    </tr>\n",
       "    <tr>\n",
       "      <th>يا</th>\n",
       "      <td>0.361040</td>\n",
       "      <td>-0.006833</td>\n",
       "      <td>0.361040</td>\n",
       "      <td>0.006833</td>\n",
       "    </tr>\n",
       "    <tr>\n",
       "      <th>rice</th>\n",
       "      <td>0.073530</td>\n",
       "      <td>-0.001390</td>\n",
       "      <td>0.073530</td>\n",
       "      <td>0.001390</td>\n",
       "    </tr>\n",
       "    <tr>\n",
       "      <th>ايه</th>\n",
       "      <td>0.073049</td>\n",
       "      <td>-0.000439</td>\n",
       "      <td>0.073049</td>\n",
       "      <td>0.000439</td>\n",
       "    </tr>\n",
       "    <tr>\n",
       "      <th>انا</th>\n",
       "      <td>0.071393</td>\n",
       "      <td>0.008345</td>\n",
       "      <td>0.071393</td>\n",
       "      <td>0.008345</td>\n",
       "    </tr>\n",
       "    <tr>\n",
       "      <th>على</th>\n",
       "      <td>0.070657</td>\n",
       "      <td>0.008123</td>\n",
       "      <td>0.070657</td>\n",
       "      <td>0.008123</td>\n",
       "    </tr>\n",
       "    <tr>\n",
       "      <th>رز</th>\n",
       "      <td>0.064986</td>\n",
       "      <td>-0.001175</td>\n",
       "      <td>0.064986</td>\n",
       "      <td>0.001175</td>\n",
       "    </tr>\n",
       "    <tr>\n",
       "      <th>مديرهم</th>\n",
       "      <td>0.062328</td>\n",
       "      <td>-0.001152</td>\n",
       "      <td>0.062328</td>\n",
       "      <td>0.001152</td>\n",
       "    </tr>\n",
       "    <tr>\n",
       "      <th>شوية</th>\n",
       "      <td>0.062170</td>\n",
       "      <td>-0.001078</td>\n",
       "      <td>0.062170</td>\n",
       "      <td>0.001078</td>\n",
       "    </tr>\n",
       "    <tr>\n",
       "      <th>مش</th>\n",
       "      <td>0.057406</td>\n",
       "      <td>0.002645</td>\n",
       "      <td>0.057406</td>\n",
       "      <td>0.002645</td>\n",
       "    </tr>\n",
       "  </tbody>\n",
       "</table>\n",
       "</div>"
      ],
      "text/plain": [
       "        component_1  component_2  abs_component_1  abs_component_2\n",
       "ازيك       0.851860    -0.019378         0.851860         0.019378\n",
       "يا         0.361040    -0.006833         0.361040         0.006833\n",
       "rice       0.073530    -0.001390         0.073530         0.001390\n",
       "ايه        0.073049    -0.000439         0.073049         0.000439\n",
       "انا        0.071393     0.008345         0.071393         0.008345\n",
       "على        0.070657     0.008123         0.070657         0.008123\n",
       "رز         0.064986    -0.001175         0.064986         0.001175\n",
       "مديرهم     0.062328    -0.001152         0.062328         0.001152\n",
       "شوية       0.062170    -0.001078         0.062170         0.001078\n",
       "مش         0.057406     0.002645         0.057406         0.002645"
      ]
     },
     "execution_count": 47,
     "metadata": {},
     "output_type": "execute_result"
    }
   ],
   "source": [
    "vocabulary_loadings.sort_values('abs_component_1',ascending=False).head(10)\n"
   ]
  },
  {
   "cell_type": "markdown",
   "metadata": {},
   "source": [
    "Top 10 Terms for Component 2\n"
   ]
  },
  {
   "cell_type": "code",
   "execution_count": 48,
   "metadata": {},
   "outputs": [
    {
     "data": {
      "text/html": [
       "<div>\n",
       "<table border=\"1\" class=\"dataframe\">\n",
       "  <thead>\n",
       "    <tr style=\"text-align: right;\">\n",
       "      <th></th>\n",
       "      <th>component_1</th>\n",
       "      <th>component_2</th>\n",
       "      <th>abs_component_1</th>\n",
       "      <th>abs_component_2</th>\n",
       "    </tr>\n",
       "  </thead>\n",
       "  <tbody>\n",
       "    <tr>\n",
       "      <th>شطاف</th>\n",
       "      <td>0.002479</td>\n",
       "      <td>0.423237</td>\n",
       "      <td>0.002479</td>\n",
       "      <td>0.423237</td>\n",
       "    </tr>\n",
       "    <tr>\n",
       "      <th>ضمان</th>\n",
       "      <td>0.002270</td>\n",
       "      <td>0.376150</td>\n",
       "      <td>0.002270</td>\n",
       "      <td>0.376150</td>\n",
       "    </tr>\n",
       "    <tr>\n",
       "      <th>شاور</th>\n",
       "      <td>0.002174</td>\n",
       "      <td>0.365834</td>\n",
       "      <td>0.002174</td>\n",
       "      <td>0.365834</td>\n",
       "    </tr>\n",
       "    <tr>\n",
       "      <th>مع</th>\n",
       "      <td>0.013609</td>\n",
       "      <td>0.320185</td>\n",
       "      <td>0.013609</td>\n",
       "      <td>0.320185</td>\n",
       "    </tr>\n",
       "    <tr>\n",
       "      <th>مسطرة</th>\n",
       "      <td>0.001873</td>\n",
       "      <td>0.317055</td>\n",
       "      <td>0.001873</td>\n",
       "      <td>0.317055</td>\n",
       "    </tr>\n",
       "    <tr>\n",
       "      <th>صاعد</th>\n",
       "      <td>0.001675</td>\n",
       "      <td>0.284360</td>\n",
       "      <td>0.001675</td>\n",
       "      <td>0.284360</td>\n",
       "    </tr>\n",
       "    <tr>\n",
       "      <th>داليا</th>\n",
       "      <td>0.001240</td>\n",
       "      <td>0.211619</td>\n",
       "      <td>0.001240</td>\n",
       "      <td>0.211619</td>\n",
       "    </tr>\n",
       "    <tr>\n",
       "      <th>كاديا</th>\n",
       "      <td>0.001240</td>\n",
       "      <td>0.211619</td>\n",
       "      <td>0.001240</td>\n",
       "      <td>0.211619</td>\n",
       "    </tr>\n",
       "    <tr>\n",
       "      <th>سنتين</th>\n",
       "      <td>0.001240</td>\n",
       "      <td>0.211619</td>\n",
       "      <td>0.001240</td>\n",
       "      <td>0.211619</td>\n",
       "    </tr>\n",
       "    <tr>\n",
       "      <th>سنوات</th>\n",
       "      <td>0.002162</td>\n",
       "      <td>0.210773</td>\n",
       "      <td>0.002162</td>\n",
       "      <td>0.210773</td>\n",
       "    </tr>\n",
       "  </tbody>\n",
       "</table>\n",
       "</div>"
      ],
      "text/plain": [
       "       component_1  component_2  abs_component_1  abs_component_2\n",
       "شطاف      0.002479     0.423237         0.002479         0.423237\n",
       "ضمان      0.002270     0.376150         0.002270         0.376150\n",
       "شاور      0.002174     0.365834         0.002174         0.365834\n",
       "مع        0.013609     0.320185         0.013609         0.320185\n",
       "مسطرة     0.001873     0.317055         0.001873         0.317055\n",
       "صاعد      0.001675     0.284360         0.001675         0.284360\n",
       "داليا     0.001240     0.211619         0.001240         0.211619\n",
       "كاديا     0.001240     0.211619         0.001240         0.211619\n",
       "سنتين     0.001240     0.211619         0.001240         0.211619\n",
       "سنوات     0.002162     0.210773         0.002162         0.210773"
      ]
     },
     "execution_count": 48,
     "metadata": {},
     "output_type": "execute_result"
    }
   ],
   "source": [
    "vocabulary_loadings.sort_values('abs_component_2',ascending=False).head(10)\n"
   ]
  },
  {
   "cell_type": "markdown",
   "metadata": {},
   "source": [
    "### Plot Top Two Components\n"
   ]
  },
  {
   "cell_type": "code",
   "execution_count": 52,
   "metadata": {},
   "outputs": [
    {
     "data": {
      "text/plain": [
       "(-0.5, 1)"
      ]
     },
     "execution_count": 52,
     "metadata": {},
     "output_type": "execute_result"
    },
    {
     "data": {
      "image/png": "[encoded data removed]",
      "text/plain": [
       "<matplotlib.figure.Figure at 0x7f643615ddd8>"
      ]
     },
     "metadata": {},
     "output_type": "display_data"
    }
   ],
   "source": [
    "plt.figure(figsize=(7,7))\n",
    "pc_1 = latent_semantic_analysis['component_1'].values\n",
    "pc_2 = latent_semantic_analysis['component_2'].values\n",
    "\n",
    "plt.scatter(pc_1, pc_2, c=df['class_numerical'], cmap='rainbow')\n",
    "\n",
    "plt.xlabel('First PC')\n",
    "plt.ylabel('Second PC')\n",
    "plt.axvline(linewidth=0.5)\n",
    "plt.axhline(linewidth=0.5)\n",
    "plt.xlim(-.1,1)\n",
    "plt.ylim(-.5,1)"
   ]
  },
  {
   "cell_type": "code",
   "execution_count": 53,
   "metadata": {},
   "outputs": [
    {
     "data": {
      "text/plain": [
       "(-0.1, 1)"
      ]
     },
     "execution_count": 53,
     "metadata": {},
     "output_type": "execute_result"
    },
    {
     "data": {
      "image/png": "[encoded data removed]",
      "text/plain": [
       "<matplotlib.figure.Figure at 0x7f6436040320>"
      ]
     },
     "metadata": {},
     "output_type": "display_data"
    }
   ],
   "source": [
    "plt.figure(figsize=(6,6))\n",
    "pc_1 = latent_semantic_analysis['component_1'].values\n",
    "pc_2 = latent_semantic_analysis['component_2'].values\n",
    "\n",
    "strings = df['cleaned_text'].values\n",
    "for i, (x, y) in enumerate(zip(pc_1, pc_2)): \n",
    "    plt.text(x,y,strings[i][:10])\n",
    "\n",
    "plt.scatter(pc_1, pc_2, c=df['class_numerical'], cmap='rainbow')\n",
    "\n",
    "plt.xlabel('First PC')\n",
    "plt.ylabel('Second PC')\n",
    "plt.axvline(linewidth=0.5)\n",
    "plt.axhline(linewidth=0.5)\n",
    "plt.xlim(-.1,1)\n",
    "plt.ylim(-.1,1)"
   ]
  },
  {
   "cell_type": "code",
   "execution_count": 54,
   "metadata": {},
   "outputs": [
    {
     "data": {
      "text/plain": [
       "(-0.3, 0.6)"
      ]
     },
     "execution_count": 54,
     "metadata": {},
     "output_type": "execute_result"
    },
    {
     "data": {
      "image/png": "[encoded data removed]",
      "text/plain": [
       "<matplotlib.figure.Figure at 0x7f6436125b70>"
      ]
     },
     "metadata": {},
     "output_type": "display_data"
    }
   ],
   "source": [
    "plt.figure(figsize=(6,6))\n",
    "pc_1 = latent_semantic_analysis['component_1'].values\n",
    "pc_2 = latent_semantic_analysis['component_2'].values\n",
    "\n",
    "plt.scatter(pc_1, pc_2, c=df['class_numerical'], cmap='rainbow')\n",
    "\n",
    "plt.xlabel('First PC')\n",
    "plt.ylabel('Second PC')\n",
    "plt.axvline(linewidth=0.5)\n",
    "plt.axhline(linewidth=0.5)\n",
    "plt.xlim(-.01,.5)\n",
    "plt.ylim(-.3,.6)"
   ]
  },
  {
   "cell_type": "code",
   "execution_count": null,
   "metadata": {},
   "outputs": [],
   "source": []
  }
 ],
 "metadata": {
  "kernelspec": {
   "display_name": "Python 3",
   "language": "python",
   "name": "python3"
  },
  "language_info": {
   "codemirror_mode": {
    "name": "ipython",
    "version": 3
   },
   "file_extension": ".py",
   "mimetype": "text/x-python",
   "name": "python",
   "nbconvert_exporter": "python",
   "pygments_lexer": "ipython3",
   "version": "3.6.3"
  }
 },
 "nbformat": 4,
 "nbformat_minor": 2
}
