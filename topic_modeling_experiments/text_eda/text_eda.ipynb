{
 "cells": [
  {
   "cell_type": "code",
   "execution_count": 24,
   "metadata": {},
   "outputs": [
    {
     "name": "stdout",
     "output_type": "stream",
     "text": [
      "Collecting nltk\n",
      "Requirement already satisfied: six in /opt/conda/lib/python3.6/site-packages (from nltk)\n",
      "Installing collected packages: nltk\n",
      "Successfully installed nltk-3.2.5\n"
     ]
    }
   ],
   "source": [
    "#!pip install nltk"
   ]
  },
  {
   "cell_type": "code",
   "execution_count": 1,
   "metadata": {},
   "outputs": [
    {
     "name": "stdout",
     "output_type": "stream",
     "text": [
      "text_eda.ipynb\r\n"
     ]
    }
   ],
   "source": [
    "cd ../Pickled_from_mongo/combined_eg_gulf_200k_sample.p"
   ]
  },
  {
   "cell_type": "code",
   "execution_count": 6,
   "metadata": {},
   "outputs": [
    {
     "name": "stdout",
     "output_type": "stream",
     "text": [
      "combined_eg_gulf_1k_sample.p  combined_eg_gulf_200k_sample.p\r\n"
     ]
    }
   ],
   "source": [
    "ls"
   ]
  },
  {
   "cell_type": "code",
   "execution_count": 8,
   "metadata": {},
   "outputs": [],
   "source": [
    "import matplotlib.pyplot as plt\n",
    "import numpy as np\n",
    "import pandas as pd\n",
    "import seaborn as sns\n",
    "\n",
    "%matplotlib inline"
   ]
  },
  {
   "cell_type": "code",
   "execution_count": 9,
   "metadata": {},
   "outputs": [],
   "source": [
    "df = pd.read_pickle('../Pickled_from_mongo/combined_eg_gulf_200k_sample.p')"
   ]
  },
  {
   "cell_type": "code",
   "execution_count": 14,
   "metadata": {},
   "outputs": [
    {
     "name": "stdout",
     "output_type": "stream",
     "text": [
      "<class 'pandas.core.frame.DataFrame'>\n",
      "Int64Index: 192936 entries, 0 to 95683\n",
      "Data columns (total 5 columns):\n",
      "_id             192936 non-null object\n",
      "cleaned_geo     192936 non-null object\n",
      "cleaned_name    192936 non-null object\n",
      "cleaned_text    192936 non-null object\n",
      "class           192936 non-null object\n",
      "dtypes: object(5)\n",
      "memory usage: 8.8+ MB\n"
     ]
    }
   ],
   "source": [
    "df.info()"
   ]
  },
  {
   "cell_type": "markdown",
   "metadata": {},
   "source": [
    "### Identify most frequent `locations` and `names`"
   ]
  },
  {
   "cell_type": "code",
   "execution_count": 11,
   "metadata": {},
   "outputs": [
    {
     "data": {
      "text/plain": [
       "                38822\n",
       "Egypt           37687\n",
       "Saudi Arabia    15317\n",
       "Kuwait          10917\n",
       "Bahrain          5499\n",
       "Name: cleaned_geo, dtype: int64"
      ]
     },
     "execution_count": 11,
     "metadata": {},
     "output_type": "execute_result"
    }
   ],
   "source": [
    "df.cleaned_geo.value_counts().head()"
   ]
  },
  {
   "cell_type": "code",
   "execution_count": 12,
   "metadata": {},
   "outputs": [
    {
     "data": {
      "text/plain": [
       "<matplotlib.axes._subplots.AxesSubplot at 0x7fc381f832e8>"
      ]
     },
     "execution_count": 12,
     "metadata": {},
     "output_type": "execute_result"
    },
    {
     "data": {
      "image/png": "[encoded data removed]",
      "text/plain": [
       "<matplotlib.figure.Figure at 0x7fc3b408e860>"
      ]
     },
     "metadata": {},
     "output_type": "display_data"
    }
   ],
   "source": [
    "df.cleaned_geo.value_counts().hist()"
   ]
  },
  {
   "cell_type": "code",
   "execution_count": 15,
   "metadata": {},
   "outputs": [
    {
     "data": {
      "text/plain": [
       "array(['None', 'Egypt', 'فجأه لقتني منوفية', ...,\n",
       "       'Williamsburg, VA ، الرياض', 'Insomnia', 'East - مملكتي'], dtype=object)"
      ]
     },
     "execution_count": 15,
     "metadata": {},
     "output_type": "execute_result"
    }
   ],
   "source": [
    "df.cleaned_geo.unique()"
   ]
  },
  {
   "cell_type": "code",
   "execution_count": 16,
   "metadata": {},
   "outputs": [
    {
     "data": {
      "text/plain": [
       "9485"
      ]
     },
     "execution_count": 16,
     "metadata": {},
     "output_type": "execute_result"
    }
   ],
   "source": [
    "df.cleaned_name.nunique()"
   ]
  },
  {
   "cell_type": "markdown",
   "metadata": {},
   "source": [
    "### Conduct EDA on tweets"
   ]
  },
  {
   "cell_type": "code",
   "execution_count": 18,
   "metadata": {},
   "outputs": [],
   "source": [
    "word_list = [word for line in df['cleaned_text'] for word in line.split()]"
   ]
  },
  {
   "cell_type": "code",
   "execution_count": 19,
   "metadata": {},
   "outputs": [
    {
     "data": {
      "text/plain": [
       "['أزاي', 'أقول', 'لك', 'كنا', 'زمان', 'والماضي', 'كان', 'فى', 'الغيب', 'بكره']"
      ]
     },
     "execution_count": 19,
     "metadata": {},
     "output_type": "execute_result"
    }
   ],
   "source": [
    "word_list[:10]"
   ]
  },
  {
   "cell_type": "code",
   "execution_count": 20,
   "metadata": {},
   "outputs": [
    {
     "data": {
      "text/plain": [
       "37"
      ]
     },
     "execution_count": 20,
     "metadata": {},
     "output_type": "execute_result"
    }
   ],
   "source": [
    "word_list.count('عجل')"
   ]
  },
  {
   "cell_type": "code",
   "execution_count": 21,
   "metadata": {},
   "outputs": [
    {
     "data": {
      "text/plain": [
       "1964821"
      ]
     },
     "execution_count": 21,
     "metadata": {},
     "output_type": "execute_result"
    }
   ],
   "source": [
    "len(word_list)"
   ]
  },
  {
   "cell_type": "code",
   "execution_count": 22,
   "metadata": {},
   "outputs": [
    {
     "data": {
      "text/plain": [
       "270839"
      ]
     },
     "execution_count": 22,
     "metadata": {},
     "output_type": "execute_result"
    }
   ],
   "source": [
    "vocab = set(word_list)\n",
    "vocab_size = len(vocab)\n",
    "vocab_size"
   ]
  },
  {
   "cell_type": "code",
   "execution_count": 25,
   "metadata": {},
   "outputs": [],
   "source": [
    "from nltk.text import Text  \n",
    "#nltk wrapper to conduct counting, concordancing, collocation, discovery, and more."
   ]
  },
  {
   "cell_type": "code",
   "execution_count": 26,
   "metadata": {},
   "outputs": [],
   "source": [
    "text_eda = Text(word_list)"
   ]
  },
  {
   "cell_type": "code",
   "execution_count": 27,
   "metadata": {},
   "outputs": [],
   "source": [
    "def percentage(count, total):\n",
    "    return 100 * count / total"
   ]
  },
  {
   "cell_type": "code",
   "execution_count": 28,
   "metadata": {},
   "outputs": [
    {
     "data": {
      "text/plain": [
       "0.0018831231954463028"
      ]
     },
     "execution_count": 28,
     "metadata": {},
     "output_type": "execute_result"
    }
   ],
   "source": [
    "percentage(text_eda.count('عجل'), len(text_eda))"
   ]
  },
  {
   "cell_type": "code",
   "execution_count": 32,
   "metadata": {},
   "outputs": [
    {
     "name": "stdout",
     "output_type": "stream",
     "text": [
      "Displaying 25 of 85 matches:\n",
      "كوا لاعنيكم أحسنوا إلى مبغضيكم وصلوا لأجل الذين يسيئون إليكم ويطرودكم\" (مت ، )\n",
      "و الله هما عارفين كل حاجه إلا عيوبهم لأجل من نحب نتحمل ما لا نحب مبحبش الناس ا\n",
      "تتدخل اراده ربنا و تحل كل حاجه الصبر لأجل القدس دى كانت ءاخر تكة ميت إكلينيكيا\n",
      "بسيطاً تكن أجمل عش كما أنت، لا تتصنع لأجل الناس،كل أولئك الذين تصنعوا لأجل الن\n",
      "صنع لأجل الناس،كل أولئك الذين تصنعوا لأجل الناس خسروا أنفسهم وكل الناس،فمن لا \n",
      "د في شمال عمل فظيع لا يوصف إننا نصلي لأجل كل المتضررين، و… اللي يقدر يتبرع بال\n",
      " دماغي صح يا رب كل شويه بعملك لايكات لأجل ما تحس انى وتخش تكلمنى انما اقول ايه\n",
      "ﻋﻴﻨﺎﻙِ ﻫﻤﺎ سكني صباحوو حلو عمرو قاتل لأجل ماتحب حتى لا تبكي كالحمقى عن ضياعه ك\n",
      "تيريش هناك ألف سبب لتذهب، ولكنك تبقى لأجل سبب وحيد لا تفهمه فيروز مع كوبايه قه\n",
      "لاقينا في٢٠١١ ومحصلش حاجة خالص حقيقي لأجل الورد ينسقي العليق صلّوا على الحبيب \n",
      " شوقي اليه وانا شاغل بالي انادي عليه لأجل ما يحس علي دمه لكن هقول ايه جبلة مني\n",
      "نَفْسِكَ الْيَوْمَ عَلَيْكَ حَسِيبًا لأجل كرة القدم ، لأجل المونديال ، لأجل مي\n",
      "َ عَلَيْكَ حَسِيبًا لأجل كرة القدم ، لأجل المونديال ، لأجل ميسي ، أتمنى تأهل ا\n",
      "ًا لأجل كرة القدم ، لأجل المونديال ، لأجل ميسي ، أتمنى تأهل الأرجنتين 🇦🇷 و الل\n",
      "ة من الدروس بيروح كله على اول شارعنا لأجل من نحب نتحمل ما لا نحب والله ياجدعان\n",
      "ة عامة اللي بتحاصرنا في شارع ابو قير لأجل رآحة قلبكّ ، استغفر الله كثيراً بترو\n",
      "كثر وش موقفك لو رجع لك شخص قديم باعك لأجل شخص ثاني فضفضه مو اكثر كل شخص له مزا\n",
      "ن لا يعرف قيمتك رحم الله امرأً تغافل لأجل بقَاء الود ، فإن نقاء القلب ليسَ عيب\n",
      "الهاپي حق كل يير ️ رحم الله من تغافل لأجل بقاء ود وستر زلة (فَأَسَرَّهَا يُوسُ\n",
      "حسن علوي السلامُ على أول من فدا نفسه لأجل الحُسين بن عقيل متى كلاساتكم باجر اب\n",
      " من يتحمل جميع ضغوط الحياة وصعوباتها لأجل أن تعيش عائلته براحة وسعادة ومن يقلل\n",
      "قلّب مقامات النَّاس في قلبك اخسر شيء لأجل صديقك ولا تخسر صديقك من أجل شي حين ت\n",
      "ت وي… قرارات وزير الداخلية هي الصواب لأجل سلامة المواطنيين ،،، إلتزم بالقوانيي\n",
      " تنزله اعانة دينار ويكتب اللي صاحبني لأجل مصلحة يتركني يالله عاد زعل علينا الو\n",
      "لم أرى مثله من قبل لا أريد من يريدني لأجل محاسني أريد شخصاً يعرف كل مساوئي ومع\n"
     ]
    }
   ],
   "source": [
    "text_eda.concordance(\"لأجل\")"
   ]
  },
  {
   "cell_type": "code",
   "execution_count": 34,
   "metadata": {},
   "outputs": [],
   "source": [
    "from nltk import FreqDist"
   ]
  },
  {
   "cell_type": "code",
   "execution_count": 35,
   "metadata": {},
   "outputs": [],
   "source": [
    "fdist1 = FreqDist(text_eda)"
   ]
  },
  {
   "cell_type": "code",
   "execution_count": 38,
   "metadata": {},
   "outputs": [
    {
     "data": {
      "text/plain": [
       "['أزاي',\n",
       " 'أقول',\n",
       " 'لك',\n",
       " 'كنا',\n",
       " 'زمان',\n",
       " 'والماضي',\n",
       " 'كان',\n",
       " 'فى',\n",
       " 'الغيب',\n",
       " 'بكره',\n",
       " 'واللي',\n",
       " 'أحنا',\n",
       " 'فيه',\n",
       " 'دلوقت',\n",
       " 'كمان',\n",
       " 'ح',\n",
       " 'يفوت',\n",
       " 'علينا',\n",
       " 'ولا',\n",
       " 'ندري',\n",
       " 'هي',\n",
       " 'آراء',\n",
       " 'آه',\n",
       " 'بس',\n",
       " 'أجويرو',\n",
       " 'منتهي',\n",
       " 'يعني',\n",
       " 'أمال',\n",
       " 'لو',\n",
       " 'مكنش']"
      ]
     },
     "execution_count": 38,
     "metadata": {},
     "output_type": "execute_result"
    }
   ],
   "source": [
    "vocabulary1 = list(fdist1.keys())\n",
    "vocabulary1[:30]"
   ]
  },
  {
   "cell_type": "code",
   "execution_count": 39,
   "metadata": {
    "scrolled": true
   },
   "outputs": [
    {
     "data": {
      "image/png": "[encoded data removed]",
      "text/plain": [
       "<matplotlib.figure.Figure at 0x7fc36c84f550>"
      ]
     },
     "metadata": {},
     "output_type": "display_data"
    }
   ],
   "source": [
    "fdist1.plot(50, cumulative=True)"
   ]
  },
  {
   "cell_type": "code",
   "execution_count": 41,
   "metadata": {},
   "outputs": [
    {
     "data": {
      "image/png": "[encoded data removed]",
      "text/plain": [
       "<matplotlib.figure.Figure at 0x7fc363353f60>"
      ]
     },
     "metadata": {},
     "output_type": "display_data"
    }
   ],
   "source": [
    "text_eda.dispersion_plot([\"مغسلة\", \"ياخذون\", \"فقط\", \"داخل\", \"عجل\"])"
   ]
  },
  {
   "cell_type": "code",
   "execution_count": 42,
   "metadata": {},
   "outputs": [
    {
     "name": "stdout",
     "output_type": "stream",
     "text": [
      "الله من ما كدا خير كل مصر الناس تويتر اللي آخر صبرك بعض واحد أن حد يوم\n",
      "نفسي بنت ان\n"
     ]
    }
   ],
   "source": [
    "text_eda.similar(\"عجل\")"
   ]
  },
  {
   "cell_type": "code",
   "execution_count": 44,
   "metadata": {},
   "outputs": [],
   "source": [
    "fdist = FreqDist([len(w) for w in text_eda])"
   ]
  },
  {
   "cell_type": "code",
   "execution_count": 45,
   "metadata": {},
   "outputs": [
    {
     "data": {
      "text/plain": [
       "4"
      ]
     },
     "execution_count": 45,
     "metadata": {},
     "output_type": "execute_result"
    }
   ],
   "source": [
    "fdist.max()"
   ]
  },
  {
   "cell_type": "code",
   "execution_count": 46,
   "metadata": {},
   "outputs": [
    {
     "data": {
      "text/plain": [
       "dict_items([(4, 461098), (2, 261495), (3, 344748), (7, 129838), (5, 365814), (1, 70778), (6, 239515), (8, 55309), (9, 19811), (11, 3148), (10, 7516), (15, 438), (13, 927), (16, 278), (14, 656), (12, 1651), (22, 56), (38, 15), (24, 38), (30, 112), (21, 55), (17, 226), (19, 117), (26, 36), (20, 140), (23, 46), (36, 11), (49, 11), (29, 29), (18, 141), (27, 36), (25, 38), (28, 31), (56, 10), (37, 19), (44, 11), (32, 27), (41, 9), (40, 18), (48, 11), (52, 12), (64, 6), (42, 5), (89, 3), (54, 11), (50, 15), (39, 8), (43, 10), (95, 4), (62, 8), (61, 7), (107, 1), (55, 4), (34, 10), (33, 25), (31, 18), (35, 16), (74, 3), (51, 8), (45, 11), (60, 8), (68, 1), (117, 1), (97, 1), (100, 5), (73, 6), (94, 1), (59, 7), (88, 3), (87, 3), (122, 1), (67, 8), (78, 215), (129, 1), (82, 7), (86, 6), (85, 2), (81, 3), (79, 5), (71, 3), (53, 7), (76, 3), (109, 2), (77, 1), (83, 2), (106, 2), (84, 2), (46, 13), (91, 1), (116, 3), (96, 3), (102, 1), (80, 2), (63, 3), (47, 9), (101, 1), (127, 2), (93, 2), (66, 4), (72, 1), (57, 3), (65, 3), (58, 6), (70, 4), (92, 1), (123, 1), (75, 1), (140, 3)])"
      ]
     },
     "execution_count": 46,
     "metadata": {},
     "output_type": "execute_result"
    }
   ],
   "source": [
    "fdist.items()"
   ]
  },
  {
   "cell_type": "code",
   "execution_count": null,
   "metadata": {},
   "outputs": [],
   "source": []
  }
 ],
 "metadata": {
  "kernelspec": {
   "display_name": "Python 3",
   "language": "python",
   "name": "python3"
  },
  "language_info": {
   "codemirror_mode": {
    "name": "ipython",
    "version": 3
   },
   "file_extension": ".py",
   "mimetype": "text/x-python",
   "name": "python",
   "nbconvert_exporter": "python",
   "pygments_lexer": "ipython3",
   "version": "3.6.3"
  }
 },
 "nbformat": 4,
 "nbformat_minor": 2
}
