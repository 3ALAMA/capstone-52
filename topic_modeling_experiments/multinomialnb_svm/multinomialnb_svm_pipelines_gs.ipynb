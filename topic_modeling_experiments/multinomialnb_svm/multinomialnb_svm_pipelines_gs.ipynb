{
 "cells": [
  {
   "cell_type": "code",
   "execution_count": 1,
   "metadata": {},
   "outputs": [],
   "source": [
    "import matplotlib.pyplot as plt\n",
    "import numpy as np\n",
    "import pandas as pd\n",
    "import seaborn as sns\n",
    "\n",
    "%matplotlib inline"
   ]
  },
  {
   "cell_type": "code",
   "execution_count": 3,
   "metadata": {},
   "outputs": [
    {
     "data": {
      "text/plain": [
       "'/home/jovyan/capstone-52/topic_modeling_experiments/multinomialnb_svm'"
      ]
     },
     "execution_count": 3,
     "metadata": {},
     "output_type": "execute_result"
    }
   ],
   "source": [
    "pwd"
   ]
  },
  {
   "cell_type": "code",
   "execution_count": 5,
   "metadata": {},
   "outputs": [
    {
     "name": "stdout",
     "output_type": "stream",
     "text": [
      "/home/jovyan/capstone-52/Pickled_from_mongo\n"
     ]
    }
   ],
   "source": [
    "cd ../../../capstone-52/Pickled_from_mongo/"
   ]
  },
  {
   "cell_type": "code",
   "execution_count": 6,
   "metadata": {},
   "outputs": [],
   "source": [
    "df = pd.read_pickle('../Pickled_from_mongo/combined_eg_gulf_100k_sample.p')"
   ]
  },
  {
   "cell_type": "code",
   "execution_count": 7,
   "metadata": {
    "scrolled": true
   },
   "outputs": [
    {
     "data": {
      "text/plain": [
       "(192936, 5)"
      ]
     },
     "execution_count": 7,
     "metadata": {},
     "output_type": "execute_result"
    }
   ],
   "source": [
    "df.shape"
   ]
  },
  {
   "cell_type": "code",
   "execution_count": 8,
   "metadata": {},
   "outputs": [
    {
     "data": {
      "text/html": [
       "<div>\n",
       "<table border=\"1\" class=\"dataframe\">\n",
       "  <thead>\n",
       "    <tr style=\"text-align: right;\">\n",
       "      <th></th>\n",
       "      <th>_id</th>\n",
       "      <th>cleaned_geo</th>\n",
       "      <th>cleaned_name</th>\n",
       "      <th>cleaned_text</th>\n",
       "      <th>class</th>\n",
       "    </tr>\n",
       "  </thead>\n",
       "  <tbody>\n",
       "    <tr>\n",
       "      <th>0</th>\n",
       "      <td>5a2c7a44204c9e0400cdc0e2</td>\n",
       "      <td>None</td>\n",
       "      <td>kamal</td>\n",
       "      <td>أزاي أقول لك كنا زمان والماضي كان فى الغيب بكر...</td>\n",
       "      <td>EG</td>\n",
       "    </tr>\n",
       "    <tr>\n",
       "      <th>1</th>\n",
       "      <td>5a2c7a44204c9e0400cdc0e3</td>\n",
       "      <td>Egypt</td>\n",
       "      <td>agabdelrehim</td>\n",
       "      <td>هي آراء آه بس أزاي أجويرو منتهي يعني أمال لو م...</td>\n",
       "      <td>EG</td>\n",
       "    </tr>\n",
       "    <tr>\n",
       "      <th>2</th>\n",
       "      <td>5a2c7a44204c9e0400cdc0e4</td>\n",
       "      <td>None</td>\n",
       "      <td>ElsndubadE</td>\n",
       "      <td>أنت صيني أزاي تقارن شادي بالخطيب ألي هو الوحيد...</td>\n",
       "      <td>EG</td>\n",
       "    </tr>\n",
       "    <tr>\n",
       "      <th>3</th>\n",
       "      <td>5a2c7a44204c9e0400cdc0e5</td>\n",
       "      <td>None</td>\n",
       "      <td>h_sawires</td>\n",
       "      <td>أزاي الناس كانت بتغرد في الخمسينات قبل إختراع ...</td>\n",
       "      <td>EG</td>\n",
       "    </tr>\n",
       "    <tr>\n",
       "      <th>4</th>\n",
       "      <td>5a2c7a44204c9e0400cdc0e6</td>\n",
       "      <td>Egypt</td>\n",
       "      <td>Hagerelmor</td>\n",
       "      <td>التوينز اللي معاها كل الحلو والوحش والمصايب وا...</td>\n",
       "      <td>EG</td>\n",
       "    </tr>\n",
       "  </tbody>\n",
       "</table>\n",
       "</div>"
      ],
      "text/plain": [
       "                        _id cleaned_geo  cleaned_name  \\\n",
       "0  5a2c7a44204c9e0400cdc0e2        None         kamal   \n",
       "1  5a2c7a44204c9e0400cdc0e3       Egypt  agabdelrehim   \n",
       "2  5a2c7a44204c9e0400cdc0e4        None    ElsndubadE   \n",
       "3  5a2c7a44204c9e0400cdc0e5        None     h_sawires   \n",
       "4  5a2c7a44204c9e0400cdc0e6       Egypt    Hagerelmor   \n",
       "\n",
       "                                        cleaned_text class  \n",
       "0  أزاي أقول لك كنا زمان والماضي كان فى الغيب بكر...    EG  \n",
       "1  هي آراء آه بس أزاي أجويرو منتهي يعني أمال لو م...    EG  \n",
       "2  أنت صيني أزاي تقارن شادي بالخطيب ألي هو الوحيد...    EG  \n",
       "3  أزاي الناس كانت بتغرد في الخمسينات قبل إختراع ...    EG  \n",
       "4  التوينز اللي معاها كل الحلو والوحش والمصايب وا...    EG  "
      ]
     },
     "execution_count": 8,
     "metadata": {},
     "output_type": "execute_result"
    }
   ],
   "source": [
    "df.head()"
   ]
  },
  {
   "cell_type": "code",
   "execution_count": 9,
   "metadata": {},
   "outputs": [],
   "source": [
    "from sklearn.feature_extraction.text import CountVectorizer\n",
    "from sklearn.feature_extraction.text import TfidfTransformer"
   ]
  },
  {
   "cell_type": "code",
   "execution_count": 10,
   "metadata": {},
   "outputs": [],
   "source": [
    "df_test = df['cleaned_text'].sample()"
   ]
  },
  {
   "cell_type": "code",
   "execution_count": 11,
   "metadata": {},
   "outputs": [
    {
     "data": {
      "text/plain": [
       "(192936, 223045)"
      ]
     },
     "execution_count": 11,
     "metadata": {},
     "output_type": "execute_result"
    }
   ],
   "source": [
    "count_vect = CountVectorizer()\n",
    "X_train_counts = count_vect.fit_transform(df['cleaned_text'])\n",
    "X_train_counts.shape"
   ]
  },
  {
   "cell_type": "code",
   "execution_count": 12,
   "metadata": {},
   "outputs": [
    {
     "data": {
      "text/plain": [
       "scipy.sparse.csr.csr_matrix"
      ]
     },
     "execution_count": 12,
     "metadata": {},
     "output_type": "execute_result"
    }
   ],
   "source": [
    "type(X_train_counts)"
   ]
  },
  {
   "cell_type": "code",
   "execution_count": 13,
   "metadata": {},
   "outputs": [
    {
     "data": {
      "text/plain": [
       "(192936, 223045)"
      ]
     },
     "execution_count": 13,
     "metadata": {},
     "output_type": "execute_result"
    }
   ],
   "source": [
    "tfidf_transformer = TfidfTransformer()\n",
    "X_train_tfidf = tfidf_transformer.fit_transform(X_train_counts)\n",
    "X_train_tfidf.shape"
   ]
  },
  {
   "cell_type": "markdown",
   "metadata": {},
   "source": [
    "### MultinomialNB"
   ]
  },
  {
   "cell_type": "code",
   "execution_count": 14,
   "metadata": {},
   "outputs": [],
   "source": [
    "from sklearn.naive_bayes import MultinomialNB\n",
    "clf = MultinomialNB().fit(X_train_tfidf, df['class'])"
   ]
  },
  {
   "cell_type": "markdown",
   "metadata": {},
   "source": [
    "#### Conduct search using two different dialects and see if predicted class is accurate"
   ]
  },
  {
   "cell_type": "code",
   "execution_count": 15,
   "metadata": {},
   "outputs": [
    {
     "name": "stdout",
     "output_type": "stream",
     "text": [
      "'الثوره المصريه تحولت من ثورة شارع محدش يزعل' 10354    GULF\n",
      "2310       EG\n",
      "41816    GULF\n",
      "22988    GULF\n",
      "23817    GULF\n",
      "43860      EG\n",
      "44919    GULF\n",
      "4359     GULF\n",
      "17965    GULF\n",
      "75680    GULF\n",
      "Name: class, dtype: object\n",
      "'ذويه ارفضوا لانه عيار جمبازي مافيه شي وبليس مايكسر اماعينه يامال لضعفه قطو بو سبعة ارواح' 28081      EG\n",
      "13907    GULF\n",
      "77177      EG\n",
      "7298     GULF\n",
      "24292      EG\n",
      "11671    GULF\n",
      "80894      EG\n",
      "79569      EG\n",
      "84371      EG\n",
      "9972     GULF\n",
      "Name: class, dtype: object\n"
     ]
    }
   ],
   "source": [
    "docs_new = ['الثوره المصريه تحولت من ثورة شارع محدش يزعل', 'ذويه ارفضوا لانه عيار جمبازي مافيه شي وبليس مايكسر اماعينه يامال لضعفه قطو بو سبعة ارواح']\n",
    "X_new_counts = count_vect.transform(docs_new)\n",
    "X_new_tfidf = tfidf_transformer.transform(X_new_counts)\n",
    "\n",
    "predicted = clf.predict(X_new_tfidf)\n",
    "\n",
    "for doc, category in zip(docs_new, predicted):\n",
    "    print('%r %s' % (doc, df['class'].sample(10)))\n",
    "    "
   ]
  },
  {
   "cell_type": "code",
   "execution_count": 16,
   "metadata": {},
   "outputs": [],
   "source": [
    "from sklearn.pipeline import Pipeline\n",
    "text_clf = Pipeline([('vect', CountVectorizer()),\n",
    "                     ('tfidf', TfidfTransformer()),\n",
    "                     ('clf', MultinomialNB()),])"
   ]
  },
  {
   "cell_type": "code",
   "execution_count": 17,
   "metadata": {},
   "outputs": [
    {
     "data": {
      "text/plain": [
       "Pipeline(steps=[('vect', CountVectorizer(analyzer='word', binary=False, decode_error='strict',\n",
       "        dtype=<class 'numpy.int64'>, encoding='utf-8', input='content',\n",
       "        lowercase=True, max_df=1.0, max_features=None, min_df=1,\n",
       "        ngram_range=(1, 1), preprocessor=None, stop_words=None,\n",
       "        strip...inear_tf=False, use_idf=True)), ('clf', MultinomialNB(alpha=1.0, class_prior=None, fit_prior=True))])"
      ]
     },
     "execution_count": 17,
     "metadata": {},
     "output_type": "execute_result"
    }
   ],
   "source": [
    "text_clf.fit(df['cleaned_text'], df['class']) "
   ]
  },
  {
   "cell_type": "markdown",
   "metadata": {},
   "source": [
    "#### Evaluating predictive accuracy of the model.\n",
    "\n",
    "Tagged tweets from both EG and GULF classes that have not been seen by the training data."
   ]
  },
  {
   "cell_type": "code",
   "execution_count": 18,
   "metadata": {},
   "outputs": [],
   "source": [
    "search_sentences = [\n",
    "{\"sentence\": \"الثوره المصريه تحولت من ثورة شارع محدش يزعل\", \"class\" : \"EG\"},\n",
    "{\"sentence\": \"نفسي اكون زيك بعرف اطنشك أو اخليك اخر حاجة و بعد كده اضحك عليك بكلمتين و انت تصدق كل مرة عادي\", \"class\" : \"EG\"},\n",
    "{\"sentence\": \"بما أن أغلب اللي متابعني مش بقدر اوصلهم أغلب الوقت. . ف كل يوم هعمل تويته آخر اليوم اللي هيعمل لايك\", \"class\" : \"EG\"},\n",
    "{\"sentence\": \"مقاومتنا للأشياء طلعت بتقل مع الزمن، مبقيناش نناهد ف حاجة.. و مش عشان أحنا جامدين قوي. هو حيلنا بس\", \"class\" : \"EG\"},\n",
    "{\"sentence\": \"عارف ايه احلى حاجة حاصلة ليا انى منك وانت برضه بتجرى فيا انت اخر كل يوم باخدك ف حضنى وانت اول\", \"class\" : \"EG\"},\n",
    "{\"sentence\": \"القاضى اللى حكم على المعتقلين بالاعدام هو هو نفس القاضى اللى هيراقب الانتخابات\", \"class\" : \"EG\"},\n",
    "{\"sentence\": \"وفجأة تيجي سيرة حاجة في وسط الكلام تقلب عليك القديم والجديد وترسم في دماغك علامات استفهام مالهاش\", \"class\" : \"EG\"},\n",
    "{\"sentence\": \"السنة اللي فاتت الاعلام الانجليزي قال المفروض بيب يعرف انه في البريمييرليج لازم يتأقلم و يلعب كورتنا\", \"class\" : \"EG\"},\n",
    "{\"sentence\": \"حرب و قتال و ناس تموت و هذا الدلخ يقول سعيد و مثل أجواء كرة القدم \", \"class\" : \"GULF\"},\n",
    "{\"sentence\": \"من غباء الهلالي الدلخ اللي يفتخر بفوز فريقه من قيادة رئيس الحكام كلاتنبيرغ له سنه ماسنع الحكام السعوديين\", \"class\" : \"GULF\"},\n",
    "{\"sentence\": \"شفتوا هوشة شيعان وغالي لو هي بين الهلاليين كان شفتوا هاشتاق كبر راسهم المنسم وكان جاك هذا الدلخ \", \"class\" : \"GULF\"},\n",
    "{\"sentence\": \"ذويه ارفضوا لانه عيار جمبازي مافيه شي وبليس مايكسر اماعينه يامال لضعفه قطو بو سبعة ارواح \", \"class\" : \"GULF\"},\n",
    "{\"sentence\": \"صج ياجماعه في سوال محيرني ليش المتان مافيهم النفسيه عكس الضعاف تقول خاشوقه ومنفس\", \"class\" : \"GULF\"},\n",
    "{\"sentence\": \"لم نعاند التاريخ مسيو خاشوقه بل الواقع والعقلانية ابعدنا من التدمير والانفلات\", \"class\" : \"GULF\"},\n",
    "{\"sentence\": \"أي والله وعندي عنه ابو خاشوقة أسرار لا تشرف قد أقولها اذا لم يلجم لسانه عن سب وطني\", \"class\" : \"GULF\"},\n",
    "{\"sentence\": \"قبل ماتتكلمين يالطيبه افهمي السالفه ومنب ملزومه بسنابي اني اشرح كل شيء صارت بالتفصيل بس لانك قلق خل\", \"class\" : \"GULF\"},\n",
    "]"
   ]
  },
  {
   "cell_type": "code",
   "execution_count": 19,
   "metadata": {},
   "outputs": [],
   "source": [
    "search_sentences_df = pd.DataFrame(search_sentences)"
   ]
  },
  {
   "cell_type": "code",
   "execution_count": 20,
   "metadata": {
    "scrolled": true
   },
   "outputs": [
    {
     "data": {
      "text/html": [
       "<div>\n",
       "<table border=\"1\" class=\"dataframe\">\n",
       "  <thead>\n",
       "    <tr style=\"text-align: right;\">\n",
       "      <th></th>\n",
       "      <th>class</th>\n",
       "      <th>sentence</th>\n",
       "    </tr>\n",
       "  </thead>\n",
       "  <tbody>\n",
       "    <tr>\n",
       "      <th>5</th>\n",
       "      <td>EG</td>\n",
       "      <td>القاضى اللى حكم على المعتقلين بالاعدام هو هو ن...</td>\n",
       "    </tr>\n",
       "    <tr>\n",
       "      <th>11</th>\n",
       "      <td>GULF</td>\n",
       "      <td>ذويه ارفضوا لانه عيار جمبازي مافيه شي وبليس ما...</td>\n",
       "    </tr>\n",
       "    <tr>\n",
       "      <th>8</th>\n",
       "      <td>GULF</td>\n",
       "      <td>حرب و قتال و ناس تموت و هذا الدلخ يقول سعيد و ...</td>\n",
       "    </tr>\n",
       "    <tr>\n",
       "      <th>1</th>\n",
       "      <td>EG</td>\n",
       "      <td>نفسي اكون زيك بعرف اطنشك أو اخليك اخر حاجة و ب...</td>\n",
       "    </tr>\n",
       "  </tbody>\n",
       "</table>\n",
       "</div>"
      ],
      "text/plain": [
       "   class                                           sentence\n",
       "5     EG  القاضى اللى حكم على المعتقلين بالاعدام هو هو ن...\n",
       "11  GULF  ذويه ارفضوا لانه عيار جمبازي مافيه شي وبليس ما...\n",
       "8   GULF  حرب و قتال و ناس تموت و هذا الدلخ يقول سعيد و ...\n",
       "1     EG  نفسي اكون زيك بعرف اطنشك أو اخليك اخر حاجة و ب..."
      ]
     },
     "execution_count": 20,
     "metadata": {},
     "output_type": "execute_result"
    }
   ],
   "source": [
    "search_sentences_df.sample(4)"
   ]
  },
  {
   "cell_type": "markdown",
   "metadata": {},
   "source": [
    "__MultinomialNB prediction score__"
   ]
  },
  {
   "cell_type": "code",
   "execution_count": 21,
   "metadata": {},
   "outputs": [
    {
     "data": {
      "text/plain": [
       "1.0"
      ]
     },
     "execution_count": 21,
     "metadata": {},
     "output_type": "execute_result"
    }
   ],
   "source": [
    "import numpy as np\n",
    "\n",
    "docs_test = search_sentences_df['sentence']\n",
    "predicted = text_clf.predict(docs_test)\n",
    "np.mean(predicted == search_sentences_df['class'])  "
   ]
  },
  {
   "cell_type": "markdown",
   "metadata": {},
   "source": [
    "### Support Vector Machine (SVM)"
   ]
  },
  {
   "cell_type": "code",
   "execution_count": 22,
   "metadata": {},
   "outputs": [
    {
     "data": {
      "text/plain": [
       "0.8125"
      ]
     },
     "execution_count": 22,
     "metadata": {},
     "output_type": "execute_result"
    }
   ],
   "source": [
    "from sklearn.linear_model import SGDClassifier\n",
    "text_clf = Pipeline([('vect', CountVectorizer()),\n",
    "                     ('tfidf', TfidfTransformer()),\n",
    "                     ('clf', SGDClassifier(loss='hinge', penalty='l2',\n",
    "                                           alpha=1e-3, random_state=42)),\n",
    "                    ])\n",
    "text_clf.fit(df['cleaned_text'], df['class'])  \n",
    "\n",
    "predicted = text_clf.predict(docs_test)\n",
    "np.mean(predicted == search_sentences_df['class']) "
   ]
  },
  {
   "cell_type": "markdown",
   "metadata": {},
   "source": [
    "__Precision/Recall and Confusion Matrix for SVM__"
   ]
  },
  {
   "cell_type": "code",
   "execution_count": 23,
   "metadata": {},
   "outputs": [
    {
     "name": "stdout",
     "output_type": "stream",
     "text": [
      "             precision    recall  f1-score   support\n",
      "\n",
      "         EG       1.00      0.62      0.77         8\n",
      "       GULF       0.73      1.00      0.84         8\n",
      "\n",
      "avg / total       0.86      0.81      0.81        16\n",
      "\n"
     ]
    }
   ],
   "source": [
    "from sklearn import metrics\n",
    "print(metrics.classification_report(search_sentences_df['class'], predicted, \n",
    "                                    target_names=['EG',\"GULF\"]))"
   ]
  },
  {
   "cell_type": "code",
   "execution_count": 24,
   "metadata": {},
   "outputs": [
    {
     "data": {
      "text/plain": [
       "array([[5, 3],\n",
       "       [0, 8]])"
      ]
     },
     "execution_count": 24,
     "metadata": {},
     "output_type": "execute_result"
    }
   ],
   "source": [
    "metrics.confusion_matrix(search_sentences_df['class'], predicted)"
   ]
  },
  {
   "cell_type": "code",
   "execution_count": null,
   "metadata": {},
   "outputs": [],
   "source": [
    "score(X, y[, sample_weight])"
   ]
  },
  {
   "cell_type": "markdown",
   "metadata": {},
   "source": [
    "__Parameter tuning using grid search__"
   ]
  },
  {
   "cell_type": "code",
   "execution_count": 25,
   "metadata": {},
   "outputs": [],
   "source": [
    "from sklearn.model_selection import GridSearchCV\n",
    "parameters = {'vect__ngram_range': [(1, 1), (1, 2)],\n",
    "              'tfidf__use_idf': (True, False),\n",
    "              'clf__alpha': (1e-2, 1e-3),\n",
    "             }"
   ]
  },
  {
   "cell_type": "code",
   "execution_count": 26,
   "metadata": {},
   "outputs": [],
   "source": [
    "gs_clf = GridSearchCV(text_clf, parameters, n_jobs=-1)"
   ]
  },
  {
   "cell_type": "code",
   "execution_count": 27,
   "metadata": {},
   "outputs": [],
   "source": [
    "gs_clf = gs_clf.fit(df['cleaned_text'], df['class'])"
   ]
  },
  {
   "cell_type": "markdown",
   "metadata": {},
   "source": [
    "__Using as a classifier to predict dialect__"
   ]
  },
  {
   "cell_type": "code",
   "execution_count": 28,
   "metadata": {},
   "outputs": [
    {
     "data": {
      "text/plain": [
       "GULF    NaN\n",
       "Name: class, dtype: object"
      ]
     },
     "execution_count": 28,
     "metadata": {},
     "output_type": "execute_result"
    }
   ],
   "source": [
    "search_sentences_df['class'][gs_clf.predict(['الثوره المصريه تحولت من ثورة شارع محدش يزعل'])]"
   ]
  },
  {
   "cell_type": "code",
   "execution_count": 29,
   "metadata": {},
   "outputs": [
    {
     "data": {
      "text/plain": [
       "0.74826885599369741"
      ]
     },
     "execution_count": 29,
     "metadata": {},
     "output_type": "execute_result"
    }
   ],
   "source": [
    "gs_clf.best_score_  "
   ]
  },
  {
   "cell_type": "code",
   "execution_count": 30,
   "metadata": {},
   "outputs": [
    {
     "name": "stdout",
     "output_type": "stream",
     "text": [
      "clf__alpha: 0.001\n",
      "tfidf__use_idf: True\n",
      "vect__ngram_range: (1, 2)\n"
     ]
    }
   ],
   "source": [
    "for param_name in sorted(parameters.keys()):\n",
    "    print(\"%s: %r\" % (param_name, gs_clf.best_params_[param_name]))"
   ]
  },
  {
   "cell_type": "code",
   "execution_count": 31,
   "metadata": {},
   "outputs": [],
   "source": [
    "cv_results_df = pd.DataFrame(gs_clf.cv_results_)"
   ]
  },
  {
   "cell_type": "code",
   "execution_count": 34,
   "metadata": {},
   "outputs": [],
   "source": [
    "high_mean_test_mask = cv_results_df[cv_results_df['mean_test_score'] >= 0.70]"
   ]
  },
  {
   "cell_type": "code",
   "execution_count": 35,
   "metadata": {},
   "outputs": [
    {
     "data": {
      "text/html": [
       "<div>\n",
       "<table border=\"1\" class=\"dataframe\">\n",
       "  <thead>\n",
       "    <tr style=\"text-align: right;\">\n",
       "      <th></th>\n",
       "      <th>mean_fit_time</th>\n",
       "      <th>mean_score_time</th>\n",
       "      <th>mean_test_score</th>\n",
       "      <th>mean_train_score</th>\n",
       "      <th>param_clf__alpha</th>\n",
       "      <th>param_tfidf__use_idf</th>\n",
       "      <th>param_vect__ngram_range</th>\n",
       "      <th>params</th>\n",
       "      <th>rank_test_score</th>\n",
       "      <th>split0_test_score</th>\n",
       "      <th>split0_train_score</th>\n",
       "      <th>split1_test_score</th>\n",
       "      <th>split1_train_score</th>\n",
       "      <th>split2_test_score</th>\n",
       "      <th>split2_train_score</th>\n",
       "      <th>std_fit_time</th>\n",
       "      <th>std_score_time</th>\n",
       "      <th>std_test_score</th>\n",
       "      <th>std_train_score</th>\n",
       "    </tr>\n",
       "  </thead>\n",
       "  <tbody>\n",
       "    <tr>\n",
       "      <th>4</th>\n",
       "      <td>2.869609</td>\n",
       "      <td>1.051105</td>\n",
       "      <td>0.728096</td>\n",
       "      <td>0.742352</td>\n",
       "      <td>0.001</td>\n",
       "      <td>True</td>\n",
       "      <td>(1, 1)</td>\n",
       "      <td>{'clf__alpha': 0.001, 'tfidf__use_idf': True, ...</td>\n",
       "      <td>3</td>\n",
       "      <td>0.735590</td>\n",
       "      <td>0.740948</td>\n",
       "      <td>0.749487</td>\n",
       "      <td>0.747909</td>\n",
       "      <td>0.699212</td>\n",
       "      <td>0.738200</td>\n",
       "      <td>0.060067</td>\n",
       "      <td>0.054278</td>\n",
       "      <td>0.021198</td>\n",
       "      <td>0.004086</td>\n",
       "    </tr>\n",
       "    <tr>\n",
       "      <th>5</th>\n",
       "      <td>9.780769</td>\n",
       "      <td>2.322877</td>\n",
       "      <td>0.748269</td>\n",
       "      <td>0.754986</td>\n",
       "      <td>0.001</td>\n",
       "      <td>True</td>\n",
       "      <td>(1, 2)</td>\n",
       "      <td>{'clf__alpha': 0.001, 'tfidf__use_idf': True, ...</td>\n",
       "      <td>1</td>\n",
       "      <td>0.765226</td>\n",
       "      <td>0.767724</td>\n",
       "      <td>0.761755</td>\n",
       "      <td>0.761763</td>\n",
       "      <td>0.717824</td>\n",
       "      <td>0.735471</td>\n",
       "      <td>0.344075</td>\n",
       "      <td>0.116200</td>\n",
       "      <td>0.021574</td>\n",
       "      <td>0.014012</td>\n",
       "    </tr>\n",
       "    <tr>\n",
       "      <th>6</th>\n",
       "      <td>2.787026</td>\n",
       "      <td>1.026807</td>\n",
       "      <td>0.736882</td>\n",
       "      <td>0.755953</td>\n",
       "      <td>0.001</td>\n",
       "      <td>False</td>\n",
       "      <td>(1, 1)</td>\n",
       "      <td>{'clf__alpha': 0.001, 'tfidf__use_idf': False,...</td>\n",
       "      <td>2</td>\n",
       "      <td>0.746303</td>\n",
       "      <td>0.752579</td>\n",
       "      <td>0.753701</td>\n",
       "      <td>0.757604</td>\n",
       "      <td>0.710640</td>\n",
       "      <td>0.757675</td>\n",
       "      <td>0.057421</td>\n",
       "      <td>0.063561</td>\n",
       "      <td>0.018799</td>\n",
       "      <td>0.002386</td>\n",
       "    </tr>\n",
       "    <tr>\n",
       "      <th>7</th>\n",
       "      <td>9.119327</td>\n",
       "      <td>2.148480</td>\n",
       "      <td>0.724090</td>\n",
       "      <td>0.734339</td>\n",
       "      <td>0.001</td>\n",
       "      <td>False</td>\n",
       "      <td>(1, 2)</td>\n",
       "      <td>{'clf__alpha': 0.001, 'tfidf__use_idf': False,...</td>\n",
       "      <td>4</td>\n",
       "      <td>0.734097</td>\n",
       "      <td>0.731836</td>\n",
       "      <td>0.738976</td>\n",
       "      <td>0.738136</td>\n",
       "      <td>0.699196</td>\n",
       "      <td>0.733046</td>\n",
       "      <td>0.290211</td>\n",
       "      <td>0.164013</td>\n",
       "      <td>0.017715</td>\n",
       "      <td>0.002730</td>\n",
       "    </tr>\n",
       "  </tbody>\n",
       "</table>\n",
       "</div>"
      ],
      "text/plain": [
       "   mean_fit_time  mean_score_time  mean_test_score  mean_train_score  \\\n",
       "4       2.869609         1.051105         0.728096          0.742352   \n",
       "5       9.780769         2.322877         0.748269          0.754986   \n",
       "6       2.787026         1.026807         0.736882          0.755953   \n",
       "7       9.119327         2.148480         0.724090          0.734339   \n",
       "\n",
       "  param_clf__alpha param_tfidf__use_idf param_vect__ngram_range  \\\n",
       "4            0.001                 True                  (1, 1)   \n",
       "5            0.001                 True                  (1, 2)   \n",
       "6            0.001                False                  (1, 1)   \n",
       "7            0.001                False                  (1, 2)   \n",
       "\n",
       "                                              params  rank_test_score  \\\n",
       "4  {'clf__alpha': 0.001, 'tfidf__use_idf': True, ...                3   \n",
       "5  {'clf__alpha': 0.001, 'tfidf__use_idf': True, ...                1   \n",
       "6  {'clf__alpha': 0.001, 'tfidf__use_idf': False,...                2   \n",
       "7  {'clf__alpha': 0.001, 'tfidf__use_idf': False,...                4   \n",
       "\n",
       "   split0_test_score  split0_train_score  split1_test_score  \\\n",
       "4           0.735590            0.740948           0.749487   \n",
       "5           0.765226            0.767724           0.761755   \n",
       "6           0.746303            0.752579           0.753701   \n",
       "7           0.734097            0.731836           0.738976   \n",
       "\n",
       "   split1_train_score  split2_test_score  split2_train_score  std_fit_time  \\\n",
       "4            0.747909           0.699212            0.738200      0.060067   \n",
       "5            0.761763           0.717824            0.735471      0.344075   \n",
       "6            0.757604           0.710640            0.757675      0.057421   \n",
       "7            0.738136           0.699196            0.733046      0.290211   \n",
       "\n",
       "   std_score_time  std_test_score  std_train_score  \n",
       "4        0.054278        0.021198         0.004086  \n",
       "5        0.116200        0.021574         0.014012  \n",
       "6        0.063561        0.018799         0.002386  \n",
       "7        0.164013        0.017715         0.002730  "
      ]
     },
     "execution_count": 35,
     "metadata": {},
     "output_type": "execute_result"
    }
   ],
   "source": [
    "high_mean_test_mask"
   ]
  },
  {
   "cell_type": "code",
   "execution_count": null,
   "metadata": {},
   "outputs": [],
   "source": []
  }
 ],
 "metadata": {
  "kernelspec": {
   "display_name": "Python 3",
   "language": "python",
   "name": "python3"
  },
  "language_info": {
   "codemirror_mode": {
    "name": "ipython",
    "version": 3
   },
   "file_extension": ".py",
   "mimetype": "text/x-python",
   "name": "python",
   "nbconvert_exporter": "python",
   "pygments_lexer": "ipython3",
   "version": "3.6.3"
  }
 },
 "nbformat": 4,
 "nbformat_minor": 2
}
