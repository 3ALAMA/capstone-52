{
 "cells": [
  {
   "cell_type": "markdown",
   "metadata": {},
   "source": [
    "## LSA & LDA \n",
    "\n",
    "___(With stop words)___"
   ]
  },
  {
   "cell_type": "code",
   "execution_count": 1,
   "metadata": {},
   "outputs": [],
   "source": [
    "import matplotlib.pyplot as plt\n",
    "import numpy as np\n",
    "import pandas as pd\n",
    "import seaborn as sns\n",
    "\n",
    "%matplotlib inline"
   ]
  },
  {
   "cell_type": "code",
   "execution_count": 2,
   "metadata": {},
   "outputs": [],
   "source": [
    "pd.set_option('display.max_colwidth', -1)"
   ]
  },
  {
   "cell_type": "markdown",
   "metadata": {},
   "source": [
    "_________________________________________________"
   ]
  },
  {
   "cell_type": "markdown",
   "metadata": {},
   "source": [
    "#### Import pickled stop words from \n",
    "`Effects of Stop Words Elimination for Arabic Information Retrieval: A Comparative Study`"
   ]
  },
  {
   "cell_type": "code",
   "execution_count": 3,
   "metadata": {
    "scrolled": true
   },
   "outputs": [],
   "source": [
    "stop_words_df = pd.read_pickle('/home/jovyan/capstone-52/topic_modeling_experiments/pickled_stopwords/comp_study_stopwords.p')"
   ]
  },
  {
   "cell_type": "code",
   "execution_count": 4,
   "metadata": {},
   "outputs": [],
   "source": [
    "stop_words_df.columns = [\"stop_words\"]"
   ]
  },
  {
   "cell_type": "code",
   "execution_count": 5,
   "metadata": {},
   "outputs": [
    {
     "data": {
      "text/plain": [
       "Index(['stop_words'], dtype='object')"
      ]
     },
     "execution_count": 5,
     "metadata": {},
     "output_type": "execute_result"
    }
   ],
   "source": [
    "stop_words_df.columns"
   ]
  },
  {
   "cell_type": "code",
   "execution_count": 6,
   "metadata": {},
   "outputs": [],
   "source": [
    "iabuelkhair_stopwords = stop_words_df['stop_words'].tolist()"
   ]
  },
  {
   "cell_type": "code",
   "execution_count": 7,
   "metadata": {},
   "outputs": [
    {
     "data": {
      "text/plain": [
       "['انها', 'اثناء', 'اجل', 'احدا']"
      ]
     },
     "execution_count": 7,
     "metadata": {},
     "output_type": "execute_result"
    }
   ],
   "source": [
    "iabuelkhair_stopwords[:4]"
   ]
  },
  {
   "cell_type": "markdown",
   "metadata": {},
   "source": [
    "### Access corpus through pickled MongoDB file"
   ]
  },
  {
   "cell_type": "code",
   "execution_count": 8,
   "metadata": {
    "scrolled": true
   },
   "outputs": [
    {
     "name": "stdout",
     "output_type": "stream",
     "text": [
      "/home/jovyan/capstone-52/Pickled_from_mongo\n"
     ]
    }
   ],
   "source": [
    "cd ../../Pickled_from_mongo/"
   ]
  },
  {
   "cell_type": "code",
   "execution_count": 41,
   "metadata": {
    "scrolled": false
   },
   "outputs": [],
   "source": [
    "df = pd.read_pickle('../Pickled_from_mongo/combined_eg_gulf_200k_sample.p')"
   ]
  },
  {
   "cell_type": "code",
   "execution_count": 42,
   "metadata": {},
   "outputs": [
    {
     "data": {
      "text/html": [
       "<div>\n",
       "<table border=\"1\" class=\"dataframe\">\n",
       "  <thead>\n",
       "    <tr style=\"text-align: right;\">\n",
       "      <th></th>\n",
       "      <th>_id</th>\n",
       "      <th>cleaned_geo</th>\n",
       "      <th>cleaned_name</th>\n",
       "      <th>cleaned_text</th>\n",
       "      <th>class</th>\n",
       "    </tr>\n",
       "  </thead>\n",
       "  <tbody>\n",
       "    <tr>\n",
       "      <th>71581</th>\n",
       "      <td>5a2cd263204c9e0400ced87f</td>\n",
       "      <td></td>\n",
       "      <td>rehamamr97</td>\n",
       "      <td>انا من رأيي علشان نستفز امريكا بجد نروح ندعم كوريا الشماليه في الصاروخ ال بتهدد بيه امريكا</td>\n",
       "      <td>EG</td>\n",
       "    </tr>\n",
       "    <tr>\n",
       "      <th>59375</th>\n",
       "      <td>5a2cb974204c9e0400cea8d1</td>\n",
       "      <td>Egypt</td>\n",
       "      <td>Dohaaaaaa3</td>\n",
       "      <td>يا صباح الخرا</td>\n",
       "      <td>EG</td>\n",
       "    </tr>\n",
       "  </tbody>\n",
       "</table>\n",
       "</div>"
      ],
      "text/plain": [
       "                            _id cleaned_geo cleaned_name  \\\n",
       "71581  5a2cd263204c9e0400ced87f              rehamamr97    \n",
       "59375  5a2cb974204c9e0400cea8d1  Egypt       Dohaaaaaa3    \n",
       "\n",
       "                                                                                     cleaned_text  \\\n",
       "71581  انا من رأيي علشان نستفز امريكا بجد نروح ندعم كوريا الشماليه في الصاروخ ال بتهدد بيه امريكا   \n",
       "59375  يا صباح الخرا                                                                                \n",
       "\n",
       "      class  \n",
       "71581  EG    \n",
       "59375  EG    "
      ]
     },
     "execution_count": 42,
     "metadata": {},
     "output_type": "execute_result"
    }
   ],
   "source": [
    "df.sample(2)"
   ]
  },
  {
   "cell_type": "code",
   "execution_count": 43,
   "metadata": {},
   "outputs": [],
   "source": [
    "df = df.drop(['_id', 'cleaned_geo', 'cleaned_name'], axis=1)"
   ]
  },
  {
   "cell_type": "code",
   "execution_count": 44,
   "metadata": {},
   "outputs": [],
   "source": [
    "df = df.drop_duplicates(['cleaned_text'], keep=False)"
   ]
  },
  {
   "cell_type": "code",
   "execution_count": 45,
   "metadata": {
    "scrolled": true
   },
   "outputs": [
    {
     "name": "stdout",
     "output_type": "stream",
     "text": [
      "<class 'pandas.core.frame.DataFrame'>\n",
      "Int64Index: 179632 entries, 0 to 95683\n",
      "Data columns (total 2 columns):\n",
      "cleaned_text    179632 non-null object\n",
      "class           179632 non-null object\n",
      "dtypes: object(2)\n",
      "memory usage: 4.1+ MB\n"
     ]
    }
   ],
   "source": [
    "df.info()"
   ]
  },
  {
   "cell_type": "markdown",
   "metadata": {},
   "source": [
    "## Benchmark LSA with stop words"
   ]
  },
  {
   "cell_type": "markdown",
   "metadata": {},
   "source": [
    "### Label Encode the Categories\n"
   ]
  },
  {
   "cell_type": "code",
   "execution_count": null,
   "metadata": {},
   "outputs": [],
   "source": [
    "from sklearn.preprocessing import LabelEncoder"
   ]
  },
  {
   "cell_type": "code",
   "execution_count": null,
   "metadata": {},
   "outputs": [],
   "source": [
    "le = LabelEncoder()\n",
    "df['class_numerical'] = le.fit_transform(df['class'])"
   ]
  },
  {
   "cell_type": "markdown",
   "metadata": {},
   "source": [
    "### TFIDF"
   ]
  },
  {
   "cell_type": "markdown",
   "metadata": {},
   "source": [
    "### Prepare Document Term Matrix\n"
   ]
  },
  {
   "cell_type": "code",
   "execution_count": null,
   "metadata": {},
   "outputs": [],
   "source": [
    "from sklearn.feature_extraction.text import TfidfVectorizer"
   ]
  },
  {
   "cell_type": "code",
   "execution_count": null,
   "metadata": {},
   "outputs": [],
   "source": [
    "tfidf_vectorizer = TfidfVectorizer(min_df = 1, stop_words= iabuelkhair_stopwords)"
   ]
  },
  {
   "cell_type": "code",
   "execution_count": null,
   "metadata": {},
   "outputs": [],
   "source": [
    "document_term_matrix_sps = tfidf_vectorizer.fit_transform(df.cleaned_text)"
   ]
  },
  {
   "cell_type": "code",
   "execution_count": null,
   "metadata": {},
   "outputs": [],
   "source": [
    "document_term_matrix_sps\n"
   ]
  },
  {
   "cell_type": "markdown",
   "metadata": {},
   "source": [
    "### Compute SVD of Document Term Matrix"
   ]
  },
  {
   "cell_type": "code",
   "execution_count": null,
   "metadata": {},
   "outputs": [],
   "source": [
    "from sklearn.decomposition import TruncatedSVD"
   ]
  },
  {
   "cell_type": "code",
   "execution_count": null,
   "metadata": {},
   "outputs": [],
   "source": [
    "n_components = 50\n",
    "SVD = TruncatedSVD(n_components)\n",
    "component_names = [\"component_\"+str(i+1) for i in range(n_components)]"
   ]
  },
  {
   "cell_type": "code",
   "execution_count": null,
   "metadata": {},
   "outputs": [],
   "source": [
    "svd_matrix = SVD.fit_transform(document_term_matrix_sps)"
   ]
  },
  {
   "cell_type": "code",
   "execution_count": null,
   "metadata": {},
   "outputs": [],
   "source": [
    "SVD.explained_variance_ratio_"
   ]
  },
  {
   "cell_type": "code",
   "execution_count": null,
   "metadata": {},
   "outputs": [],
   "source": [
    "svd_matrix.shape"
   ]
  },
  {
   "cell_type": "markdown",
   "metadata": {},
   "source": [
    "### Load SVD Matrix with Documents and Labels\n"
   ]
  },
  {
   "cell_type": "code",
   "execution_count": null,
   "metadata": {},
   "outputs": [],
   "source": [
    "latent_semantic_analysis = pd.DataFrame(svd_matrix,\n",
    "                                        index=df.index,\n",
    "                                        columns=component_names)\n",
    "latent_semantic_analysis['cleaned_text'] = df.cleaned_text\n",
    "latent_semantic_analysis['class'] = df['class']"
   ]
  },
  {
   "cell_type": "code",
   "execution_count": null,
   "metadata": {},
   "outputs": [],
   "source": [
    "latent_semantic_analysis.head()\n"
   ]
  },
  {
   "cell_type": "code",
   "execution_count": null,
   "metadata": {},
   "outputs": [],
   "source": [
    "vocabulary_loadings = pd.DataFrame(SVD.components_,\n",
    "                                   index=component_names,\n",
    "                                   columns=tfidf_vectorizer.get_feature_names()).T"
   ]
  },
  {
   "cell_type": "code",
   "execution_count": null,
   "metadata": {},
   "outputs": [],
   "source": [
    "vocabulary_loadings['abs_component_1'] = np.abs(vocabulary_loadings.component_1)\n",
    "vocabulary_loadings['abs_component_2'] = np.abs(vocabulary_loadings.component_2)"
   ]
  },
  {
   "cell_type": "markdown",
   "metadata": {},
   "source": [
    "### Display Top Terms for Each Component"
   ]
  },
  {
   "cell_type": "code",
   "execution_count": null,
   "metadata": {},
   "outputs": [],
   "source": [
    "vocabulary_loadings.sort_values('abs_component_1',ascending=False).head(10)"
   ]
  },
  {
   "cell_type": "code",
   "execution_count": null,
   "metadata": {},
   "outputs": [],
   "source": [
    "vocabulary_loadings.sort_values('abs_component_2',ascending=False).head(10)"
   ]
  },
  {
   "cell_type": "code",
   "execution_count": null,
   "metadata": {},
   "outputs": [],
   "source": [
    "plt.figure(figsize=(7,7))\n",
    "pc_1 = latent_semantic_analysis['component_1'].values\n",
    "pc_2 = latent_semantic_analysis['component_2'].values\n",
    "\n",
    "plt.scatter(pc_1, pc_2, c=df['class_numerical'], cmap='rainbow')\n",
    "\n",
    "plt.xlabel('First PC')\n",
    "plt.ylabel('Second PC')\n",
    "plt.axvline(linewidth=0.5)\n",
    "plt.axhline(linewidth=0.5)\n",
    "plt.xlim(-.1,1)\n",
    "plt.ylim(-.5,1)"
   ]
  },
  {
   "cell_type": "code",
   "execution_count": null,
   "metadata": {},
   "outputs": [],
   "source": [
    "plt.figure(figsize=(6,6))\n",
    "pc_1 = latent_semantic_analysis['component_1'].values\n",
    "pc_2 = latent_semantic_analysis['component_2'].values\n",
    "\n",
    "strings = df['cleaned_text'].values\n",
    "for i, (x, y) in enumerate(zip(pc_1, pc_2)): \n",
    "    plt.text(x,y,strings[i][:10])\n",
    "\n",
    "plt.scatter(pc_1, pc_2, c=df['class_numerical'], cmap='rainbow')\n",
    "\n",
    "plt.xlabel('First PC')\n",
    "plt.ylabel('Second PC')\n",
    "plt.axvline(linewidth=0.5)\n",
    "plt.axhline(linewidth=0.5)\n",
    "plt.xlim(-.1,1)\n",
    "plt.ylim(-.1,1)"
   ]
  },
  {
   "cell_type": "code",
   "execution_count": null,
   "metadata": {},
   "outputs": [],
   "source": [
    "plt.figure(figsize=(6,6))\n",
    "pc_1 = latent_semantic_analysis['component_1'].values\n",
    "pc_2 = latent_semantic_analysis['component_2'].values\n",
    "\n",
    "plt.scatter(pc_1, pc_2, c=df['class_numerical'], cmap='rainbow')\n",
    "\n",
    "plt.xlabel('First PC')\n",
    "plt.ylabel('Second PC')\n",
    "plt.axvline(linewidth=0.5)\n",
    "plt.axhline(linewidth=0.5)\n",
    "plt.xlim(-.01,.5)\n",
    "plt.ylim(-.3,.6)"
   ]
  },
  {
   "cell_type": "code",
   "execution_count": null,
   "metadata": {},
   "outputs": [],
   "source": [
    "eg_mask = latent_semantic_analysis['class'] == 'EG'"
   ]
  },
  {
   "cell_type": "code",
   "execution_count": null,
   "metadata": {},
   "outputs": [],
   "source": [
    "latent_semantic_analysis[eg_mask][:5]"
   ]
  },
  {
   "cell_type": "code",
   "execution_count": null,
   "metadata": {},
   "outputs": [],
   "source": [
    "gulf_mask = latent_semantic_analysis['class'] == 'GULF'"
   ]
  },
  {
   "cell_type": "code",
   "execution_count": null,
   "metadata": {},
   "outputs": [],
   "source": [
    "latent_semantic_analysis[gulf_mask][:5]"
   ]
  },
  {
   "cell_type": "code",
   "execution_count": null,
   "metadata": {},
   "outputs": [],
   "source": [
    "latent_semantic_analysis[(latent_semantic_analysis['class'] == 'EG') \n",
    "                         & (latent_semantic_analysis.component_2 > .050)][:5]"
   ]
  },
  {
   "cell_type": "code",
   "execution_count": null,
   "metadata": {},
   "outputs": [],
   "source": [
    "latent_semantic_analysis[(latent_semantic_analysis['class'] == 'GULF') \n",
    "                         & (latent_semantic_analysis.component_2 > .50)][:5]"
   ]
  },
  {
   "cell_type": "markdown",
   "metadata": {},
   "source": [
    "## GENSIM"
   ]
  },
  {
   "cell_type": "code",
   "execution_count": null,
   "metadata": {},
   "outputs": [],
   "source": [
    "#!pip install -U gensim"
   ]
  },
  {
   "cell_type": "code",
   "execution_count": 66,
   "metadata": {},
   "outputs": [],
   "source": [
    "import logging\n",
    "logging.basicConfig(format='%(asctime)s : %(levelname)s : %(message)s', level=logging.INFO)"
   ]
  },
  {
   "cell_type": "code",
   "execution_count": 70,
   "metadata": {},
   "outputs": [],
   "source": [
    "import nltk\n",
    "import gensim\n",
    "from nltk.text import Text  \n",
    "from gensim import models, corpora, similarities"
   ]
  },
  {
   "cell_type": "code",
   "execution_count": 22,
   "metadata": {},
   "outputs": [
    {
     "data": {
      "text/html": [
       "<div>\n",
       "<table border=\"1\" class=\"dataframe\">\n",
       "  <thead>\n",
       "    <tr style=\"text-align: right;\">\n",
       "      <th></th>\n",
       "      <th>cleaned_text</th>\n",
       "      <th>class</th>\n",
       "    </tr>\n",
       "  </thead>\n",
       "  <tbody>\n",
       "    <tr>\n",
       "      <th>34836</th>\n",
       "      <td>الحمدلله من قبل ومن بعد بكره عمليه اخرى لي ونقول ي رب عفوك وتوفيقك ، دعواتكم</td>\n",
       "      <td>GULF</td>\n",
       "    </tr>\n",
       "    <tr>\n",
       "      <th>36026</th>\n",
       "      <td>مشاء الله الساعه</td>\n",
       "      <td>EG</td>\n",
       "    </tr>\n",
       "  </tbody>\n",
       "</table>\n",
       "</div>"
      ],
      "text/plain": [
       "                                                                       cleaned_text  \\\n",
       "34836  الحمدلله من قبل ومن بعد بكره عمليه اخرى لي ونقول ي رب عفوك وتوفيقك ، دعواتكم   \n",
       "36026  مشاء الله الساعه                                                               \n",
       "\n",
       "      class  \n",
       "34836  GULF  \n",
       "36026  EG    "
      ]
     },
     "execution_count": 22,
     "metadata": {},
     "output_type": "execute_result"
    }
   ],
   "source": [
    "df.sample(2)"
   ]
  },
  {
   "cell_type": "code",
   "execution_count": 46,
   "metadata": {
    "scrolled": true
   },
   "outputs": [],
   "source": [
    "df[\"cleaned_text\"] = df[\"cleaned_text\"].map(lambda x: x.split(' '))"
   ]
  },
  {
   "cell_type": "code",
   "execution_count": 24,
   "metadata": {},
   "outputs": [
    {
     "data": {
      "text/plain": [
       "23482    [علي, كدا, روان, دي, ظروفها, ايه]                                                                                                                         \n",
       "34106    [امرنا, الله, بالامتثال, لاوامر, الوالدين, مادام, ليس, بها, معصية, للخالق،, وانا, شخصيا, م, اذكر, اني, خالفت, اهلي, بشي, ومشيت, ع, رأيي, الا, واتسحف, وا…]\n",
       "Name: cleaned_text, dtype: object"
      ]
     },
     "execution_count": 24,
     "metadata": {},
     "output_type": "execute_result"
    }
   ],
   "source": [
    "df[\"cleaned_text\"].sample(2)"
   ]
  },
  {
   "cell_type": "code",
   "execution_count": 25,
   "metadata": {},
   "outputs": [
    {
     "data": {
      "text/plain": [
       "179632"
      ]
     },
     "execution_count": 25,
     "metadata": {},
     "output_type": "execute_result"
    }
   ],
   "source": [
    "len(df[\"cleaned_text\"])"
   ]
  },
  {
   "cell_type": "code",
   "execution_count": 26,
   "metadata": {},
   "outputs": [
    {
     "data": {
      "text/plain": [
       "1590"
      ]
     },
     "execution_count": 26,
     "metadata": {},
     "output_type": "execute_result"
    }
   ],
   "source": [
    "len(iabuelkhair_stopwords)"
   ]
  },
  {
   "cell_type": "code",
   "execution_count": 27,
   "metadata": {},
   "outputs": [
    {
     "data": {
      "text/plain": [
       "['انها', 'اثناء', 'اجل']"
      ]
     },
     "execution_count": 27,
     "metadata": {},
     "output_type": "execute_result"
    }
   ],
   "source": [
    "iabuelkhair_stopwords[:3]"
   ]
  },
  {
   "cell_type": "markdown",
   "metadata": {},
   "source": [
    "#### Removing stop words from tokens"
   ]
  },
  {
   "cell_type": "code",
   "execution_count": 39,
   "metadata": {
    "scrolled": true
   },
   "outputs": [
    {
     "ename": "SyntaxError",
     "evalue": "invalid syntax (<ipython-input-39-d4c4634cd332>, line 1)",
     "output_type": "error",
     "traceback": [
      "\u001b[0;36m  File \u001b[0;32m\"<ipython-input-39-d4c4634cd332>\"\u001b[0;36m, line \u001b[0;32m1\u001b[0m\n\u001b[0;31m    df[\"cleaned_text\"] = df[\"cleaned_text\"].map([lambda x: if x not in iabuelkhair_stopwords])\u001b[0m\n\u001b[0m                                                            ^\u001b[0m\n\u001b[0;31mSyntaxError\u001b[0m\u001b[0;31m:\u001b[0m invalid syntax\n"
     ]
    }
   ],
   "source": [
    "df[\"cleaned_text\"] = df[\"cleaned_text\"].map([lambda x: if x not in iabuelkhair_stopwords])"
   ]
  },
  {
   "cell_type": "code",
   "execution_count": 33,
   "metadata": {
    "scrolled": false
   },
   "outputs": [
    {
     "data": {
      "text/plain": [
       "179632"
      ]
     },
     "execution_count": 33,
     "metadata": {},
     "output_type": "execute_result"
    }
   ],
   "source": [
    "len(df[\"cleaned_text\"])"
   ]
  },
  {
   "cell_type": "code",
   "execution_count": 40,
   "metadata": {
    "scrolled": true
   },
   "outputs": [
    {
     "data": {
      "text/plain": [
       "0    True\n",
       "1    True\n",
       "2    True\n",
       "Name: cleaned_text, dtype: bool"
      ]
     },
     "execution_count": 40,
     "metadata": {},
     "output_type": "execute_result"
    }
   ],
   "source": [
    "df[\"cleaned_text\"][:3]"
   ]
  },
  {
   "cell_type": "markdown",
   "metadata": {},
   "source": [
    "#### See how many words were removed"
   ]
  },
  {
   "cell_type": "code",
   "execution_count": null,
   "metadata": {},
   "outputs": [],
   "source": [
    "def stopword_percentage(text_eda, text_eda_no_stops):\n",
    "    increase = (len(text_eda_no_stops) - len(text_eda))\n",
    "    return (increase / len(text_eda)) * 100"
   ]
  },
  {
   "cell_type": "code",
   "execution_count": null,
   "metadata": {},
   "outputs": [],
   "source": [
    "stopword_percentage(text_eda, text_eda_no_stops)"
   ]
  },
  {
   "cell_type": "markdown",
   "metadata": {},
   "source": [
    "#### Pass `df[\"cleaned_text\"]` to gensim's Dictionary:"
   ]
  },
  {
   "cell_type": "code",
   "execution_count": 47,
   "metadata": {
    "scrolled": true
   },
   "outputs": [],
   "source": [
    "dictionary = corpora.Dictionary(df[\"cleaned_text\"])"
   ]
  },
  {
   "cell_type": "markdown",
   "metadata": {},
   "source": [
    "#### Use filter_extremes method to eliminate the 5000 most frequent words"
   ]
  },
  {
   "cell_type": "code",
   "execution_count": 48,
   "metadata": {
    "scrolled": true
   },
   "outputs": [],
   "source": [
    "dictionary.filter_extremes(no_below=1, no_above=1, keep_n=5000)"
   ]
  },
  {
   "cell_type": "markdown",
   "metadata": {},
   "source": [
    "#### Compactify data to make up for any missing labels"
   ]
  },
  {
   "cell_type": "code",
   "execution_count": 49,
   "metadata": {},
   "outputs": [],
   "source": [
    "dictionary.compactify()"
   ]
  },
  {
   "cell_type": "markdown",
   "metadata": {},
   "source": [
    "#### Use doc2bow method to get bag of words representation (word_id, frequency) "
   ]
  },
  {
   "cell_type": "code",
   "execution_count": 50,
   "metadata": {},
   "outputs": [],
   "source": [
    "corpus = [dictionary.doc2bow(text) for text in df[\"cleaned_text\"]]"
   ]
  },
  {
   "cell_type": "code",
   "execution_count": null,
   "metadata": {},
   "outputs": [],
   "source": [
    "#dictionary.doc2bow(dictionary, allow_update=True, return_missing=False)"
   ]
  },
  {
   "cell_type": "markdown",
   "metadata": {},
   "source": [
    "#### Save corpus in Market Matrix format "
   ]
  },
  {
   "cell_type": "code",
   "execution_count": 51,
   "metadata": {},
   "outputs": [
    {
     "data": {
      "text/plain": [
       "'/home/jovyan/capstone-52/Pickled_from_mongo'"
      ]
     },
     "execution_count": 51,
     "metadata": {},
     "output_type": "execute_result"
    }
   ],
   "source": [
    "pwd"
   ]
  },
  {
   "cell_type": "code",
   "execution_count": 58,
   "metadata": {},
   "outputs": [
    {
     "name": "stdout",
     "output_type": "stream",
     "text": [
      "/home/jovyan/capstone-52/market_matrix_files\n"
     ]
    }
   ],
   "source": [
    "cd market_matrix_files/"
   ]
  },
  {
   "cell_type": "code",
   "execution_count": 60,
   "metadata": {},
   "outputs": [],
   "source": [
    "corpora.MmCorpus.serialize('../market_matrix_files/corpus_test.mm', corpus)"
   ]
  },
  {
   "cell_type": "markdown",
   "metadata": {},
   "source": [
    "#### Load corpus iterator from Matrix Market file"
   ]
  },
  {
   "cell_type": "code",
   "execution_count": null,
   "metadata": {},
   "outputs": [],
   "source": [
    "corpus = corpora.MmCorpus('/tmp/corpus.mm')"
   ]
  },
  {
   "cell_type": "markdown",
   "metadata": {},
   "source": [
    "#### Explore the transformed corpus"
   ]
  },
  {
   "cell_type": "code",
   "execution_count": 62,
   "metadata": {
    "scrolled": true
   },
   "outputs": [
    {
     "name": "stdout",
     "output_type": "stream",
     "text": [
      "[(1, 1), (25, 1), (31, 1), (32, 1), (33, 1), (34, 1), (35, 1), (36, 1), (37, 1)]\n"
     ]
    }
   ],
   "source": [
    "print(corpus[2])"
   ]
  },
  {
   "cell_type": "markdown",
   "metadata": {},
   "source": [
    "## LDA with stopwords"
   ]
  },
  {
   "cell_type": "code",
   "execution_count": 67,
   "metadata": {
    "scrolled": true
   },
   "outputs": [
    {
     "name": "stderr",
     "output_type": "stream",
     "text": [
      "2017-12-16 05:03:44,476 : INFO : using symmetric alpha at 0.3333333333333333\n",
      "2017-12-16 05:03:44,477 : INFO : using symmetric eta at 0.3333333333333333\n",
      "2017-12-16 05:03:44,479 : INFO : using serial LDA version on this node\n",
      "2017-12-16 05:03:44,713 : INFO : running online (single-pass) LDA training, 3 topics, 1 passes over the supplied corpus of 179632 documents, updating model once every 2000 documents, evaluating perplexity every 20000 documents, iterating 50x with a convergence threshold of 0.001000\n",
      "2017-12-16 05:03:44,715 : INFO : PROGRESS: pass 0, at document #2000/179632\n",
      "2017-12-16 05:03:49,174 : INFO : merging changes from 2000 documents into a model of 179632 documents\n",
      "2017-12-16 05:03:49,216 : INFO : topic #0 (0.333): 0.033*\"في\" + 0.026*\"من\" + 0.025*\"يا\" + 0.021*\"اللي\" + 0.018*\"مش\" + 0.016*\"ما\" + 0.014*\"كل\" + 0.013*\"و\" + 0.012*\"على\" + 0.011*\"أزاي\"\n",
      "2017-12-16 05:03:49,219 : INFO : topic #1 (0.333): 0.029*\"لا\" + 0.024*\"من\" + 0.019*\"ايه\" + 0.018*\"في\" + 0.014*\"بس\" + 0.012*\"كده\" + 0.012*\"ده\" + 0.012*\"ولا\" + 0.011*\"على\" + 0.010*\"جدا\"\n",
      "2017-12-16 05:03:49,221 : INFO : topic #2 (0.333): 0.028*\"انا\" + 0.022*\"في\" + 0.022*\"مش\" + 0.019*\"على\" + 0.017*\"لا\" + 0.014*\"من\" + 0.014*\"بس\" + 0.012*\"كده\" + 0.011*\"هو\" + 0.011*\"اللي\"\n",
      "2017-12-16 05:03:49,223 : INFO : topic diff=4.442747, rho=1.000000\n",
      "2017-12-16 05:03:49,226 : INFO : PROGRESS: pass 0, at document #4000/179632\n",
      "2017-12-16 05:03:52,277 : INFO : merging changes from 2000 documents into a model of 179632 documents\n",
      "2017-12-16 05:03:52,320 : INFO : topic #0 (0.333): 0.042*\"في\" + 0.031*\"من\" + 0.026*\"يا\" + 0.022*\"اللي\" + 0.018*\"مش\" + 0.016*\"على\" + 0.014*\"و\" + 0.014*\"كل\" + 0.013*\"ده\" + 0.012*\"ما\"\n",
      "2017-12-16 05:03:52,322 : INFO : topic #1 (0.333): 0.029*\"من\" + 0.025*\"في\" + 0.019*\"لا\" + 0.018*\"ايه\" + 0.016*\"ده\" + 0.016*\"على\" + 0.013*\"دي\" + 0.012*\"بس\" + 0.009*\"…\" + 0.009*\"لو\"\n",
      "2017-12-16 05:03:52,325 : INFO : topic #2 (0.333): 0.031*\"في\" + 0.026*\"على\" + 0.023*\"مش\" + 0.020*\"انا\" + 0.018*\"من\" + 0.012*\"لا\" + 0.011*\"علشان\" + 0.011*\"بس\" + 0.010*\"اللي\" + 0.010*\"كده\"\n",
      "2017-12-16 05:03:52,327 : INFO : topic diff=1.658532, rho=0.707107\n",
      "2017-12-16 05:03:52,329 : INFO : PROGRESS: pass 0, at document #6000/179632\n",
      "2017-12-16 05:03:55,217 : INFO : merging changes from 2000 documents into a model of 179632 documents\n",
      "2017-12-16 05:03:55,256 : INFO : topic #0 (0.333): 0.058*\"و\" + 0.041*\"في\" + 0.034*\"يا\" + 0.028*\"من\" + 0.026*\"اللي\" + 0.021*\"ما\" + 0.018*\"مش\" + 0.016*\"ده\" + 0.013*\"على\" + 0.012*\"كل\"\n",
      "2017-12-16 05:03:55,258 : INFO : topic #1 (0.333): 0.029*\"من\" + 0.025*\"في\" + 0.018*\"لا\" + 0.017*\"ده\" + 0.014*\"دي\" + 0.014*\"و\" + 0.014*\"على\" + 0.012*\"…\" + 0.012*\"ايه\" + 0.010*\"بس\"\n",
      "2017-12-16 05:03:55,261 : INFO : topic #2 (0.333): 0.033*\"في\" + 0.024*\"على\" + 0.023*\"مش\" + 0.020*\"من\" + 0.015*\"انا\" + 0.013*\"لا\" + 0.012*\"ما\" + 0.011*\"اللي\" + 0.010*\"بس\" + 0.010*\"كده\"\n",
      "2017-12-16 05:03:55,263 : INFO : topic diff=0.995353, rho=0.577350\n",
      "2017-12-16 05:03:55,265 : INFO : PROGRESS: pass 0, at document #8000/179632\n",
      "2017-12-16 05:03:58,054 : INFO : merging changes from 2000 documents into a model of 179632 documents\n",
      "2017-12-16 05:03:58,090 : INFO : topic #0 (0.333): 0.071*\"و\" + 0.038*\"يا\" + 0.036*\"في\" + 0.025*\"من\" + 0.025*\"ما\" + 0.024*\"اللي\" + 0.020*\"،\" + 0.019*\"مش\" + 0.018*\"ده\" + 0.011*\"كل\"\n",
      "2017-12-16 05:03:58,093 : INFO : topic #1 (0.333): 0.025*\"من\" + 0.023*\"في\" + 0.017*\"ده\" + 0.015*\"لا\" + 0.014*\")\" + 0.014*\"و\" + 0.013*\"دي\" + 0.010*\"فـ\" + 0.010*\"بس\" + 0.010*\"…\"\n",
      "2017-12-16 05:03:58,095 : INFO : topic #2 (0.333): 0.031*\"في\" + 0.022*\"مش\" + 0.020*\"على\" + 0.019*\"من\" + 0.014*\"ما\" + 0.013*\"،\" + 0.011*\"أن\" + 0.011*\"عشان\" + 0.010*\"لا\" + 0.010*\"بس\"\n",
      "2017-12-16 05:03:58,098 : INFO : topic diff=0.768542, rho=0.500000\n",
      "2017-12-16 05:03:58,100 : INFO : PROGRESS: pass 0, at document #10000/179632\n",
      "2017-12-16 05:04:00,794 : INFO : merging changes from 2000 documents into a model of 179632 documents\n",
      "2017-12-16 05:04:00,830 : INFO : topic #0 (0.333): 0.069*\"،\" + 0.045*\"و\" + 0.032*\"يا\" + 0.023*\"في\" + 0.023*\"من\" + 0.018*\"مش\" + 0.017*\"ما\" + 0.015*\"اللي\" + 0.015*\"ده\" + 0.013*\"كل\"\n",
      "2017-12-16 05:04:00,833 : INFO : topic #1 (0.333): 0.029*\"فـ\" + 0.026*\"الـ\" + 0.022*\"من\" + 0.020*\"أنا\" + 0.018*\"،\" + 0.016*\"لا\" + 0.013*\"ده\" + 0.013*\"في\" + 0.010*\"بس\" + 0.010*\"ايه\"\n",
      "2017-12-16 05:04:00,835 : INFO : topic #2 (0.333): 0.049*\"،\" + 0.022*\"مش\" + 0.018*\"في\" + 0.017*\"من\" + 0.013*\"انا\" + 0.012*\"على\" + 0.012*\"لا\" + 0.011*\"بس\" + 0.010*\"أن\" + 0.010*\"كده\"\n",
      "2017-12-16 05:04:00,837 : INFO : topic diff=0.718124, rho=0.447214\n",
      "2017-12-16 05:04:00,840 : INFO : PROGRESS: pass 0, at document #12000/179632\n",
      "2017-12-16 05:04:03,353 : INFO : merging changes from 2000 documents into a model of 179632 documents\n",
      "2017-12-16 05:04:03,393 : INFO : topic #0 (0.333): 0.053*\"،\" + 0.046*\"و\" + 0.026*\"يا\" + 0.024*\"في\" + 0.023*\"من\" + 0.018*\"اللي\" + 0.018*\"ما\" + 0.017*\"مش\" + 0.016*\"كل\" + 0.012*\"الله\"\n",
      "2017-12-16 05:04:03,395 : INFO : topic #1 (0.333): 0.023*\"من\" + 0.022*\"فـ\" + 0.018*\"أنا\" + 0.018*\"لا\" + 0.018*\"الـ\" + 0.015*\"،\" + 0.013*\"في\" + 0.012*\"ايه\" + 0.010*\"ده\" + 0.010*\"ولا\"\n",
      "2017-12-16 05:04:03,397 : INFO : topic #2 (0.333): 0.037*\"،\" + 0.023*\"مش\" + 0.020*\"انا\" + 0.018*\"من\" + 0.018*\"في\" + 0.013*\"على\" + 0.013*\"لا\" + 0.012*\"حد\" + 0.010*\"أن\" + 0.010*\"بس\"\n",
      "2017-12-16 05:04:03,400 : INFO : topic diff=0.649910, rho=0.408248\n",
      "2017-12-16 05:04:03,402 : INFO : PROGRESS: pass 0, at document #14000/179632\n",
      "2017-12-16 05:04:05,763 : INFO : merging changes from 2000 documents into a model of 179632 documents\n",
      "2017-12-16 05:04:05,806 : INFO : topic #0 (0.333): 0.046*\"و\" + 0.043*\"،\" + 0.025*\"في\" + 0.024*\"يا\" + 0.024*\"من\" + 0.022*\"اللي\" + 0.020*\"كل\" + 0.018*\"مش\" + 0.016*\"ما\" + 0.011*\"الله\"\n",
      "2017-12-16 05:04:05,808 : INFO : topic #1 (0.333): 0.024*\"من\" + 0.018*\"لا\" + 0.017*\"أنا\" + 0.015*\"فـ\" + 0.014*\"في\" + 0.012*\"الـ\" + 0.012*\"ايه\" + 0.012*\"،\" + 0.012*\"\"\" + 0.012*\"ولا\"\n",
      "2017-12-16 05:04:05,810 : INFO : topic #2 (0.333): 0.029*\"،\" + 0.028*\"انا\" + 0.024*\"مش\" + 0.019*\"في\" + 0.019*\"من\" + 0.014*\"حد\" + 0.012*\"لا\" + 0.011*\"على\" + 0.010*\"بس\" + 0.010*\"عشان\"\n",
      "2017-12-16 05:04:05,813 : INFO : topic diff=0.443865, rho=0.377964\n",
      "2017-12-16 05:04:05,815 : INFO : PROGRESS: pass 0, at document #16000/179632\n",
      "2017-12-16 05:04:07,961 : INFO : merging changes from 2000 documents into a model of 179632 documents\n",
      "2017-12-16 05:04:08,003 : INFO : topic #0 (0.333): 0.042*\"و\" + 0.034*\"،\" + 0.028*\"في\" + 0.026*\"يا\" + 0.024*\"من\" + 0.023*\"اللي\" + 0.019*\"كل\" + 0.017*\"مش\" + 0.015*\"ما\" + 0.011*\"الله\"\n",
      "2017-12-16 05:04:08,005 : INFO : topic #1 (0.333): 0.025*\"من\" + 0.019*\"لا\" + 0.015*\"في\" + 0.015*\"أنا\" + 0.013*\"\"\" + 0.012*\"ولا\" + 0.012*\"ف\" + 0.011*\"فـ\" + 0.011*\"ايه\" + 0.010*\"،\"\n",
      "2017-12-16 05:04:08,008 : INFO : topic #2 (0.333): 0.032*\"انا\" + 0.023*\"مش\" + 0.023*\"في\" + 0.022*\"،\" + 0.019*\"من\" + 0.015*\"حد\" + 0.012*\"لا\" + 0.011*\"بس\" + 0.010*\"على\" + 0.010*\"دا\"\n",
      "2017-12-16 05:04:08,010 : INFO : topic diff=0.371369, rho=0.353553\n",
      "2017-12-16 05:04:08,012 : INFO : PROGRESS: pass 0, at document #18000/179632\n",
      "2017-12-16 05:04:10,149 : INFO : merging changes from 2000 documents into a model of 179632 documents\n",
      "2017-12-16 05:04:10,191 : INFO : topic #0 (0.333): 0.069*\"و\" + 0.028*\"يا\" + 0.025*\"،\" + 0.023*\"من\" + 0.023*\"في\" + 0.022*\"اللي\" + 0.017*\"كل\" + 0.017*\"مش\" + 0.014*\"ما\" + 0.010*\"والله\"\n",
      "2017-12-16 05:04:10,193 : INFO : topic #1 (0.333): 0.024*\"من\" + 0.020*\"لا\" + 0.017*\"ف\" + 0.015*\"ايه\" + 0.014*\"ولا\" + 0.014*\"في\" + 0.012*\"أنا\" + 0.012*\"\"\" + 0.010*\"جدا\" + 0.009*\"بس\"\n",
      "2017-12-16 05:04:10,195 : INFO : topic #2 (0.333): 0.044*\"انا\" + 0.024*\"مش\" + 0.019*\"في\" + 0.018*\"من\" + 0.017*\"،\" + 0.014*\"حد\" + 0.014*\"بس\" + 0.013*\"لا\" + 0.011*\"عشان\" + 0.010*\"على\"\n",
      "2017-12-16 05:04:10,198 : INFO : topic diff=0.328258, rho=0.333333\n",
      "2017-12-16 05:04:12,931 : INFO : -7.028 per-word bound, 130.5 perplexity estimate based on a held-out corpus of 2000 documents with 13710 words\n",
      "2017-12-16 05:04:12,933 : INFO : PROGRESS: pass 0, at document #20000/179632\n",
      "2017-12-16 05:04:15,046 : INFO : merging changes from 2000 documents into a model of 179632 documents\n",
      "2017-12-16 05:04:15,088 : INFO : topic #0 (0.333): 0.061*\"و\" + 0.058*\"كدا\" + 0.027*\"يا\" + 0.022*\"من\" + 0.020*\"في\" + 0.020*\"اللي\" + 0.017*\"مش\" + 0.017*\"،\" + 0.016*\"كل\" + 0.014*\"ما\"\n",
      "2017-12-16 05:04:15,091 : INFO : topic #1 (0.333): 0.024*\"من\" + 0.021*\"لا\" + 0.019*\"ف\" + 0.018*\"ايه\" + 0.015*\"ولا\" + 0.013*\"في\" + 0.011*\"أنا\" + 0.011*\"بس\" + 0.010*\"ده\" + 0.009*\"\"\"\n"
     ]
    },
    {
     "name": "stderr",
     "output_type": "stream",
     "text": [
      "2017-12-16 05:04:15,093 : INFO : topic #2 (0.333): 0.052*\"انا\" + 0.025*\"مش\" + 0.017*\"في\" + 0.017*\"من\" + 0.015*\"بس\" + 0.014*\"حد\" + 0.014*\"لا\" + 0.013*\"،\" + 0.011*\"دا\" + 0.010*\"عشان\"\n",
      "2017-12-16 05:04:15,095 : INFO : topic diff=0.361279, rho=0.316228\n",
      "2017-12-16 05:04:15,097 : INFO : PROGRESS: pass 0, at document #22000/179632\n",
      "2017-12-16 05:04:17,156 : INFO : merging changes from 2000 documents into a model of 179632 documents\n",
      "2017-12-16 05:04:17,198 : INFO : topic #0 (0.333): 0.114*\"كدا\" + 0.051*\"و\" + 0.024*\"يا\" + 0.022*\"من\" + 0.019*\"في\" + 0.018*\"مش\" + 0.017*\"اللي\" + 0.014*\"كل\" + 0.013*\"ما\" + 0.013*\"،\"\n",
      "2017-12-16 05:04:17,201 : INFO : topic #1 (0.333): 0.024*\"من\" + 0.021*\"لا\" + 0.021*\"ف\" + 0.018*\"ايه\" + 0.015*\"ولا\" + 0.012*\"في\" + 0.012*\"بس\" + 0.011*\"ع\" + 0.010*\"غير\" + 0.010*\"أنا\"\n",
      "2017-12-16 05:04:17,203 : INFO : topic #2 (0.333): 0.053*\"انا\" + 0.026*\"مش\" + 0.017*\"من\" + 0.017*\"في\" + 0.016*\"بس\" + 0.015*\"دا\" + 0.013*\"لا\" + 0.012*\"حد\" + 0.012*\"عشان\" + 0.010*\"،\"\n",
      "2017-12-16 05:04:17,205 : INFO : topic diff=0.395184, rho=0.301511\n",
      "2017-12-16 05:04:17,207 : INFO : PROGRESS: pass 0, at document #24000/179632\n",
      "2017-12-16 05:04:19,285 : INFO : merging changes from 2000 documents into a model of 179632 documents\n",
      "2017-12-16 05:04:19,328 : INFO : topic #0 (0.333): 0.144*\"كدا\" + 0.046*\"و\" + 0.022*\"يا\" + 0.021*\"من\" + 0.018*\"في\" + 0.017*\"مش\" + 0.016*\"اللي\" + 0.013*\"ما\" + 0.012*\"كل\" + 0.011*\"انت\"\n",
      "2017-12-16 05:04:19,331 : INFO : topic #1 (0.333): 0.023*\"من\" + 0.021*\"ف\" + 0.021*\"لا\" + 0.019*\"ايه\" + 0.014*\"ولا\" + 0.012*\"بس\" + 0.012*\"في\" + 0.011*\"ع\" + 0.010*\"غير\" + 0.009*\"أنا\"\n",
      "2017-12-16 05:04:19,333 : INFO : topic #2 (0.333): 0.054*\"انا\" + 0.025*\"مش\" + 0.017*\"دا\" + 0.017*\"بس\" + 0.016*\"من\" + 0.016*\"في\" + 0.013*\"عشان\" + 0.012*\"لا\" + 0.011*\"حد\" + 0.011*\"ف\"\n",
      "2017-12-16 05:04:19,336 : INFO : topic diff=0.346838, rho=0.288675\n",
      "2017-12-16 05:04:19,338 : INFO : PROGRESS: pass 0, at document #26000/179632\n",
      "2017-12-16 05:04:21,397 : INFO : merging changes from 2000 documents into a model of 179632 documents\n",
      "2017-12-16 05:04:21,440 : INFO : topic #0 (0.333): 0.156*\"كدا\" + 0.043*\"و\" + 0.022*\"من\" + 0.022*\"يا\" + 0.018*\"مش\" + 0.018*\"في\" + 0.015*\"اللي\" + 0.013*\"ما\" + 0.012*\"كل\" + 0.011*\"بس\"\n",
      "2017-12-16 05:04:21,442 : INFO : topic #1 (0.333): 0.024*\"من\" + 0.022*\"لا\" + 0.021*\"ف\" + 0.020*\"ايه\" + 0.014*\"ولا\" + 0.013*\"بس\" + 0.012*\"في\" + 0.011*\"ع\" + 0.010*\"غير\" + 0.008*\"دي\"\n",
      "2017-12-16 05:04:21,445 : INFO : topic #2 (0.333): 0.054*\"انا\" + 0.025*\"مش\" + 0.018*\"دا\" + 0.017*\"بس\" + 0.016*\"من\" + 0.016*\"في\" + 0.013*\"عشان\" + 0.013*\"لا\" + 0.011*\"ف\" + 0.011*\"حد\"\n",
      "2017-12-16 05:04:21,447 : INFO : topic diff=0.318296, rho=0.277350\n",
      "2017-12-16 05:04:21,449 : INFO : PROGRESS: pass 0, at document #28000/179632\n",
      "2017-12-16 05:04:23,275 : INFO : merging changes from 2000 documents into a model of 179632 documents\n",
      "2017-12-16 05:04:23,317 : INFO : topic #0 (0.333): 0.134*\"كدا\" + 0.039*\"و\" + 0.028*\"يا\" + 0.021*\"من\" + 0.018*\"في\" + 0.018*\"مش\" + 0.016*\"اللي\" + 0.013*\"ما\" + 0.013*\"انت\" + 0.012*\"كل\"\n",
      "2017-12-16 05:04:23,319 : INFO : topic #1 (0.333): 0.024*\"من\" + 0.023*\"لا\" + 0.021*\"ايه\" + 0.020*\"️\" + 0.019*\"ف\" + 0.015*\"ولا\" + 0.013*\"ولله\" + 0.013*\"في\" + 0.013*\"بس\" + 0.010*\"ع\"\n",
      "2017-12-16 05:04:23,322 : INFO : topic #2 (0.333): 0.050*\"انا\" + 0.028*\"مش\" + 0.020*\"دا\" + 0.017*\"بس\" + 0.017*\"في\" + 0.016*\"من\" + 0.013*\"لا\" + 0.012*\"حد\" + 0.012*\"عشان\" + 0.011*\"ف\"\n",
      "2017-12-16 05:04:23,324 : INFO : topic diff=0.247872, rho=0.267261\n",
      "2017-12-16 05:04:23,326 : INFO : PROGRESS: pass 0, at document #30000/179632\n",
      "2017-12-16 05:04:25,066 : INFO : merging changes from 2000 documents into a model of 179632 documents\n",
      "2017-12-16 05:04:25,109 : INFO : topic #0 (0.333): 0.112*\"كدا\" + 0.053*\"و\" + 0.030*\"يا\" + 0.020*\"من\" + 0.018*\"مش\" + 0.017*\"في\" + 0.015*\"اللي\" + 0.013*\"ما\" + 0.013*\"انت\" + 0.012*\"كل\"\n",
      "2017-12-16 05:04:25,112 : INFO : topic #1 (0.333): 0.025*\"لا\" + 0.023*\"من\" + 0.022*\"ف\" + 0.019*\"️\" + 0.019*\"ايه\" + 0.014*\"ولا\" + 0.012*\"في\" + 0.012*\"بس\" + 0.012*\"ولله\" + 0.011*\"ع\"\n",
      "2017-12-16 05:04:25,114 : INFO : topic #2 (0.333): 0.049*\"انا\" + 0.028*\"مش\" + 0.020*\"دا\" + 0.017*\"بس\" + 0.015*\"في\" + 0.015*\"من\" + 0.014*\"لا\" + 0.012*\"ف\" + 0.012*\"حد\" + 0.011*\"عشان\"\n",
      "2017-12-16 05:04:25,117 : INFO : topic diff=0.240590, rho=0.258199\n",
      "2017-12-16 05:04:25,119 : INFO : PROGRESS: pass 0, at document #32000/179632\n",
      "2017-12-16 05:04:27,006 : INFO : merging changes from 2000 documents into a model of 179632 documents\n",
      "2017-12-16 05:04:27,048 : INFO : topic #0 (0.333): 0.092*\"كدا\" + 0.051*\"و\" + 0.033*\"يا\" + 0.020*\"من\" + 0.019*\"في\" + 0.017*\"اللي\" + 0.017*\"مش\" + 0.013*\"كل\" + 0.013*\"ما\" + 0.012*\"انت\"\n",
      "2017-12-16 05:04:27,050 : INFO : topic #1 (0.333): 0.024*\"من\" + 0.024*\"لا\" + 0.019*\"ف\" + 0.019*\"ايه\" + 0.019*\"️\" + 0.014*\"ولا\" + 0.014*\"في\" + 0.011*\"ع\" + 0.011*\"بس\" + 0.009*\"أنا\"\n",
      "2017-12-16 05:04:27,053 : INFO : topic #2 (0.333): 0.052*\"انا\" + 0.029*\"مش\" + 0.020*\"دا\" + 0.018*\"في\" + 0.016*\"بس\" + 0.015*\"من\" + 0.015*\"حد\" + 0.013*\"لا\" + 0.012*\"عشان\" + 0.011*\"والله\"\n",
      "2017-12-16 05:04:27,055 : INFO : topic diff=0.256473, rho=0.250000\n",
      "2017-12-16 05:04:27,057 : INFO : PROGRESS: pass 0, at document #34000/179632\n",
      "2017-12-16 05:04:28,891 : INFO : merging changes from 2000 documents into a model of 179632 documents\n",
      "2017-12-16 05:04:28,933 : INFO : topic #0 (0.333): 0.077*\"كدا\" + 0.045*\"و\" + 0.037*\"يا\" + 0.019*\"من\" + 0.019*\"في\" + 0.017*\"اللي\" + 0.017*\"مش\" + 0.014*\"والله\" + 0.013*\"كل\" + 0.013*\"ما\"\n",
      "2017-12-16 05:04:28,936 : INFO : topic #1 (0.333): 0.024*\"من\" + 0.024*\"لا\" + 0.022*\"ايه\" + 0.020*\"ف\" + 0.018*\"️\" + 0.015*\"ولا\" + 0.015*\"في\" + 0.011*\"ع\" + 0.010*\"بس\" + 0.009*\"الله\"\n",
      "2017-12-16 05:04:28,938 : INFO : topic #2 (0.333): 0.053*\"انا\" + 0.029*\"مش\" + 0.021*\"دا\" + 0.019*\"في\" + 0.016*\"حد\" + 0.016*\"من\" + 0.015*\"بس\" + 0.013*\"لا\" + 0.013*\"والله\" + 0.012*\"عشان\"\n",
      "2017-12-16 05:04:28,941 : INFO : topic diff=0.226572, rho=0.242536\n",
      "2017-12-16 05:04:28,943 : INFO : PROGRESS: pass 0, at document #36000/179632\n",
      "2017-12-16 05:04:30,678 : INFO : merging changes from 2000 documents into a model of 179632 documents\n",
      "2017-12-16 05:04:30,722 : INFO : topic #0 (0.333): 0.066*\"كدا\" + 0.045*\"و\" + 0.039*\"يا\" + 0.019*\"من\" + 0.018*\"في\" + 0.016*\"مش\" + 0.015*\"اللي\" + 0.014*\"كل\" + 0.014*\"والله\" + 0.013*\"ما\"\n",
      "2017-12-16 05:04:30,725 : INFO : topic #1 (0.333): 0.026*\"لا\" + 0.024*\"من\" + 0.024*\"ف\" + 0.024*\"ايه\" + 0.016*\"ولا\" + 0.015*\"️\" + 0.013*\"في\" + 0.011*\"الله\" + 0.010*\"دي\" + 0.010*\"\"\"\n",
      "2017-12-16 05:04:30,727 : INFO : topic #2 (0.333): 0.056*\"انا\" + 0.031*\"مش\" + 0.021*\"دا\" + 0.018*\"حد\" + 0.017*\"في\" + 0.016*\"بس\" + 0.015*\"من\" + 0.013*\"لا\" + 0.013*\"والله\" + 0.012*\"ف\"\n",
      "2017-12-16 05:04:30,730 : INFO : topic diff=0.203293, rho=0.235702\n",
      "2017-12-16 05:04:30,732 : INFO : PROGRESS: pass 0, at document #38000/179632\n",
      "2017-12-16 05:04:32,608 : INFO : merging changes from 2000 documents into a model of 179632 documents\n",
      "2017-12-16 05:04:32,652 : INFO : topic #0 (0.333): 0.054*\"كدا\" + 0.048*\"و\" + 0.041*\"يا\" + 0.019*\"من\" + 0.017*\"في\" + 0.016*\"مش\" + 0.015*\"اللي\" + 0.015*\"كل\" + 0.014*\"والله\" + 0.012*\"ما\"\n",
      "2017-12-16 05:04:32,654 : INFO : topic #1 (0.333): 0.026*\"ايه\" + 0.025*\"لا\" + 0.024*\"ف\" + 0.024*\"من\" + 0.017*\"ولا\" + 0.013*\"في\" + 0.013*\"️\" + 0.011*\"دي\" + 0.010*\"أنا\" + 0.010*\"الله\"\n",
      "2017-12-16 05:04:32,657 : INFO : topic #2 (0.333): 0.062*\"انا\" + 0.033*\"مش\" + 0.020*\"دا\" + 0.019*\"حد\" + 0.016*\"بس\" + 0.016*\"في\" + 0.015*\"من\" + 0.014*\"والله\" + 0.013*\"ف\" + 0.012*\"لا\"\n",
      "2017-12-16 05:04:32,659 : INFO : topic diff=0.247987, rho=0.229416\n",
      "2017-12-16 05:04:35,277 : INFO : -7.041 per-word bound, 131.7 perplexity estimate based on a held-out corpus of 2000 documents with 14571 words\n",
      "2017-12-16 05:04:35,280 : INFO : PROGRESS: pass 0, at document #40000/179632\n",
      "2017-12-16 05:04:37,220 : INFO : merging changes from 2000 documents into a model of 179632 documents\n",
      "2017-12-16 05:04:37,263 : INFO : topic #0 (0.333): 0.056*\"و\" + 0.043*\"كدا\" + 0.037*\"يا\" + 0.020*\"من\" + 0.017*\"في\" + 0.017*\"كل\" + 0.016*\"اللي\" + 0.015*\"مش\" + 0.013*\"ما\" + 0.013*\"والله\"\n",
      "2017-12-16 05:04:37,270 : INFO : topic #1 (0.333): 0.026*\"من\" + 0.025*\"لا\" + 0.023*\"ف\" + 0.023*\"ايه\" + 0.017*\"ولا\" + 0.013*\"في\" + 0.013*\"\"\" + 0.013*\"أنا\" + 0.011*\"الله\" + 0.010*\"️\"\n",
      "2017-12-16 05:04:37,273 : INFO : topic #2 (0.333): 0.059*\"انا\" + 0.033*\"مش\" + 0.022*\"حد\" + 0.018*\"دا\" + 0.016*\"بس\" + 0.015*\"من\" + 0.015*\"في\" + 0.014*\"ف\" + 0.012*\"والله\" + 0.011*\"لا\"\n"
     ]
    },
    {
     "name": "stderr",
     "output_type": "stream",
     "text": [
      "2017-12-16 05:04:37,275 : INFO : topic diff=0.282918, rho=0.223607\n",
      "2017-12-16 05:04:37,277 : INFO : PROGRESS: pass 0, at document #42000/179632\n",
      "2017-12-16 05:04:39,097 : INFO : merging changes from 2000 documents into a model of 179632 documents\n",
      "2017-12-16 05:04:39,149 : INFO : topic #0 (0.333): 0.050*\"و\" + 0.041*\"يا\" + 0.039*\"كدا\" + 0.019*\"من\" + 0.018*\"اللي\" + 0.016*\"كل\" + 0.014*\"في\" + 0.014*\"مش\" + 0.014*\"انت\" + 0.013*\"والله\"\n",
      "2017-12-16 05:04:39,152 : INFO : topic #1 (0.333): 0.027*\"لا\" + 0.027*\"ف\" + 0.026*\"ايه\" + 0.024*\"من\" + 0.017*\"ولا\" + 0.012*\"في\" + 0.011*\"\"\" + 0.011*\"الله\" + 0.010*\"أنا\" + 0.010*\"دي\"\n",
      "2017-12-16 05:04:39,155 : INFO : topic #2 (0.333): 0.066*\"انا\" + 0.032*\"مش\" + 0.020*\"حد\" + 0.019*\"دا\" + 0.017*\"ف\" + 0.017*\"بس\" + 0.015*\"من\" + 0.013*\"في\" + 0.012*\"لا\" + 0.012*\"والله\"\n",
      "2017-12-16 05:04:39,157 : INFO : topic diff=0.215783, rho=0.218218\n",
      "2017-12-16 05:04:39,159 : INFO : PROGRESS: pass 0, at document #44000/179632\n",
      "2017-12-16 05:04:41,082 : INFO : merging changes from 2000 documents into a model of 179632 documents\n",
      "2017-12-16 05:04:41,124 : INFO : topic #0 (0.333): 0.051*\"و\" + 0.044*\"يا\" + 0.032*\"كدا\" + 0.019*\"من\" + 0.019*\"اللي\" + 0.017*\"كل\" + 0.016*\"في\" + 0.014*\"مش\" + 0.014*\"والله\" + 0.013*\"ما\"\n",
      "2017-12-16 05:04:41,127 : INFO : topic #1 (0.333): 0.026*\"لا\" + 0.025*\"من\" + 0.025*\"ايه\" + 0.023*\"ف\" + 0.019*\"ولا\" + 0.013*\"في\" + 0.012*\"فى\" + 0.011*\"الله\" + 0.011*\"\"\" + 0.010*\"أنا\"\n",
      "2017-12-16 05:04:41,129 : INFO : topic #2 (0.333): 0.063*\"انا\" + 0.033*\"مش\" + 0.022*\"حد\" + 0.017*\"بس\" + 0.016*\"دا\" + 0.015*\"ف\" + 0.015*\"من\" + 0.014*\"والله\" + 0.013*\"في\" + 0.012*\"لا\"\n",
      "2017-12-16 05:04:41,132 : INFO : topic diff=0.259109, rho=0.213201\n",
      "2017-12-16 05:04:41,134 : INFO : PROGRESS: pass 0, at document #46000/179632\n",
      "2017-12-16 05:04:42,958 : INFO : merging changes from 2000 documents into a model of 179632 documents\n",
      "2017-12-16 05:04:43,000 : INFO : topic #0 (0.333): 0.053*\"و\" + 0.046*\"يا\" + 0.027*\"كدا\" + 0.019*\"من\" + 0.018*\"اللي\" + 0.017*\"في\" + 0.017*\"كل\" + 0.014*\"مش\" + 0.014*\"انت\" + 0.013*\"والله\"\n",
      "2017-12-16 05:04:43,003 : INFO : topic #1 (0.333): 0.027*\"ايه\" + 0.026*\"لا\" + 0.025*\"من\" + 0.020*\"ف\" + 0.019*\"ولا\" + 0.014*\"في\" + 0.013*\"فى\" + 0.011*\"️\" + 0.011*\"الله\" + 0.010*\"أنا\"\n",
      "2017-12-16 05:04:43,005 : INFO : topic #2 (0.333): 0.062*\"انا\" + 0.033*\"مش\" + 0.021*\"حد\" + 0.016*\"بس\" + 0.014*\"من\" + 0.014*\"دا\" + 0.014*\"في\" + 0.014*\"ف\" + 0.013*\"والله\" + 0.011*\"لا\"\n",
      "2017-12-16 05:04:43,007 : INFO : topic diff=0.218858, rho=0.208514\n",
      "2017-12-16 05:04:43,010 : INFO : PROGRESS: pass 0, at document #48000/179632\n",
      "2017-12-16 05:04:44,992 : INFO : merging changes from 2000 documents into a model of 179632 documents\n",
      "2017-12-16 05:04:45,036 : INFO : topic #0 (0.333): 0.056*\"و\" + 0.046*\"يا\" + 0.022*\"كدا\" + 0.019*\"في\" + 0.019*\"اللي\" + 0.018*\"من\" + 0.016*\"بتاع\" + 0.016*\"كل\" + 0.014*\"انت\" + 0.013*\"مش\"\n",
      "2017-12-16 05:04:45,039 : INFO : topic #1 (0.333): 0.028*\"ايه\" + 0.025*\"من\" + 0.024*\"لا\" + 0.019*\"ولا\" + 0.018*\"ف\" + 0.014*\"في\" + 0.014*\"فى\" + 0.011*\"أنا\" + 0.010*\"\"\" + 0.010*\"ده\"\n",
      "2017-12-16 05:04:45,041 : INFO : topic #2 (0.333): 0.060*\"انا\" + 0.033*\"مش\" + 0.019*\"حد\" + 0.018*\"بتاع\" + 0.015*\"بس\" + 0.015*\"في\" + 0.014*\"دا\" + 0.014*\"من\" + 0.012*\"ف\" + 0.012*\"والله\"\n",
      "2017-12-16 05:04:45,043 : INFO : topic diff=0.268874, rho=0.204124\n",
      "2017-12-16 05:04:45,046 : INFO : PROGRESS: pass 0, at document #50000/179632\n",
      "2017-12-16 05:04:47,118 : INFO : merging changes from 2000 documents into a model of 179632 documents\n",
      "2017-12-16 05:04:47,161 : INFO : topic #0 (0.333): 0.057*\"و\" + 0.044*\"يا\" + 0.036*\"بتاع\" + 0.019*\"اللي\" + 0.019*\"في\" + 0.018*\"من\" + 0.017*\"كدا\" + 0.016*\"كل\" + 0.014*\"انت\" + 0.013*\"مش\"\n",
      "2017-12-16 05:04:47,164 : INFO : topic #1 (0.333): 0.027*\"ايه\" + 0.025*\"من\" + 0.022*\"لا\" + 0.017*\"ولا\" + 0.016*\"ف\" + 0.015*\"في\" + 0.014*\"فى\" + 0.011*\"أنا\" + 0.010*\"ده\" + 0.010*\"\"\"\n",
      "2017-12-16 05:04:47,166 : INFO : topic #2 (0.333): 0.055*\"انا\" + 0.038*\"بتاع\" + 0.031*\"مش\" + 0.017*\"حد\" + 0.015*\"بس\" + 0.014*\"في\" + 0.014*\"من\" + 0.014*\"دا\" + 0.011*\"ف\" + 0.011*\"والله\"\n",
      "2017-12-16 05:04:47,169 : INFO : topic diff=0.305559, rho=0.200000\n",
      "2017-12-16 05:04:47,171 : INFO : PROGRESS: pass 0, at document #52000/179632\n",
      "2017-12-16 05:04:49,106 : INFO : merging changes from 2000 documents into a model of 179632 documents\n",
      "2017-12-16 05:04:49,149 : INFO : topic #0 (0.333): 0.059*\"و\" + 0.040*\"يا\" + 0.028*\"بتاع\" + 0.021*\"اللي\" + 0.020*\"من\" + 0.020*\"في\" + 0.016*\"كل\" + 0.014*\"انت\" + 0.014*\"كدا\" + 0.013*\"مش\"\n",
      "2017-12-16 05:04:49,152 : INFO : topic #1 (0.333): 0.028*\"من\" + 0.024*\"ايه\" + 0.022*\"لا\" + 0.017*\"ولا\" + 0.016*\"في\" + 0.015*\"فى\" + 0.014*\"ف\" + 0.011*\"\"\" + 0.011*\"أنا\" + 0.009*\"ده\"\n",
      "2017-12-16 05:04:49,154 : INFO : topic #2 (0.333): 0.049*\"انا\" + 0.032*\"مش\" + 0.030*\"بتاع\" + 0.019*\"حد\" + 0.015*\"بس\" + 0.015*\"من\" + 0.015*\"في\" + 0.011*\"دا\" + 0.010*\"عشان\" + 0.010*\"ف\"\n",
      "2017-12-16 05:04:49,156 : INFO : topic diff=0.257112, rho=0.196116\n",
      "2017-12-16 05:04:49,159 : INFO : PROGRESS: pass 0, at document #54000/179632\n",
      "2017-12-16 05:04:50,856 : INFO : merging changes from 2000 documents into a model of 179632 documents\n",
      "2017-12-16 05:04:50,897 : INFO : topic #0 (0.333): 0.056*\"و\" + 0.040*\"يا\" + 0.024*\"بتاع\" + 0.022*\"اللي\" + 0.021*\"في\" + 0.020*\"من\" + 0.016*\"كل\" + 0.014*\"انت\" + 0.012*\"مش\" + 0.012*\"ما\"\n",
      "2017-12-16 05:04:50,900 : INFO : topic #1 (0.333): 0.029*\"من\" + 0.022*\"ايه\" + 0.022*\"لا\" + 0.017*\"في\" + 0.016*\"ولا\" + 0.014*\"فى\" + 0.013*\"أنا\" + 0.013*\"ف\" + 0.013*\"(\" + 0.011*\"\"\"\n",
      "2017-12-16 05:04:50,902 : INFO : topic #2 (0.333): 0.049*\"انا\" + 0.032*\"مش\" + 0.026*\"بتاع\" + 0.019*\"حد\" + 0.016*\"في\" + 0.016*\"بس\" + 0.015*\"من\" + 0.013*\"والله\" + 0.011*\"عشان\" + 0.010*\"اللي\"\n",
      "2017-12-16 05:04:50,904 : INFO : topic diff=0.169990, rho=0.192450\n",
      "2017-12-16 05:04:50,907 : INFO : PROGRESS: pass 0, at document #56000/179632\n",
      "2017-12-16 05:04:52,619 : INFO : merging changes from 2000 documents into a model of 179632 documents\n",
      "2017-12-16 05:04:52,660 : INFO : topic #0 (0.333): 0.070*\"و\" + 0.041*\"يا\" + 0.023*\"اللي\" + 0.022*\"في\" + 0.020*\"بتاع\" + 0.019*\"من\" + 0.015*\"كل\" + 0.013*\"ما\" + 0.012*\"مش\" + 0.012*\"انت\"\n",
      "2017-12-16 05:04:52,663 : INFO : topic #1 (0.333): 0.027*\"من\" + 0.024*\"أنا\" + 0.021*\"ايه\" + 0.021*\"لا\" + 0.019*\"في\" + 0.016*\"ولا\" + 0.014*\"(\" + 0.012*\"ده\" + 0.012*\"فشخ\" + 0.012*\"فى\"\n",
      "2017-12-16 05:04:52,665 : INFO : topic #2 (0.333): 0.053*\"انا\" + 0.034*\"مش\" + 0.022*\"بتاع\" + 0.018*\"حد\" + 0.017*\"في\" + 0.016*\"بس\" + 0.015*\"من\" + 0.014*\"والله\" + 0.012*\"عشان\" + 0.010*\"اللي\"\n",
      "2017-12-16 05:04:52,668 : INFO : topic diff=0.177309, rho=0.188982\n",
      "2017-12-16 05:04:52,670 : INFO : PROGRESS: pass 0, at document #58000/179632\n",
      "2017-12-16 05:04:54,362 : INFO : merging changes from 2000 documents into a model of 179632 documents\n",
      "2017-12-16 05:04:54,404 : INFO : topic #0 (0.333): 0.062*\"و\" + 0.045*\"يا\" + 0.022*\"في\" + 0.022*\"اللي\" + 0.019*\"من\" + 0.017*\"بتاع\" + 0.015*\"كل\" + 0.012*\"مش\" + 0.012*\"ما\" + 0.012*\"ده\"\n",
      "2017-12-16 05:04:54,406 : INFO : topic #1 (0.333): 0.027*\"من\" + 0.023*\"أنا\" + 0.021*\"لا\" + 0.020*\"ايه\" + 0.019*\"في\" + 0.017*\"ولا\" + 0.016*\"فى\" + 0.015*\"فشخ\" + 0.014*\"ده\" + 0.012*\"(\"\n",
      "2017-12-16 05:04:54,408 : INFO : topic #2 (0.333): 0.050*\"انا\" + 0.035*\"مش\" + 0.019*\"بتاع\" + 0.017*\"في\" + 0.017*\"حد\" + 0.016*\"بس\" + 0.015*\"من\" + 0.013*\"والله\" + 0.013*\"عشان\" + 0.010*\"اللي\"\n",
      "2017-12-16 05:04:54,411 : INFO : topic diff=0.186735, rho=0.185695\n",
      "2017-12-16 05:04:56,766 : INFO : -7.271 per-word bound, 154.4 perplexity estimate based on a held-out corpus of 2000 documents with 11847 words\n",
      "2017-12-16 05:04:56,769 : INFO : PROGRESS: pass 0, at document #60000/179632\n",
      "2017-12-16 05:04:58,548 : INFO : merging changes from 2000 documents into a model of 179632 documents\n",
      "2017-12-16 05:04:58,589 : INFO : topic #0 (0.333): 0.056*\"و\" + 0.049*\"يا\" + 0.021*\"في\" + 0.020*\"اللي\" + 0.019*\"من\" + 0.015*\"بتاع\" + 0.013*\"كل\" + 0.013*\"انت\" + 0.012*\"مش\" + 0.012*\"ده\"\n",
      "2017-12-16 05:04:58,591 : INFO : topic #1 (0.333): 0.029*\"من\" + 0.025*\"فى\" + 0.022*\"لا\" + 0.021*\"أنا\" + 0.020*\"ايه\" + 0.018*\"في\" + 0.017*\"ولا\" + 0.015*\"اللى\" + 0.014*\"ده\" + 0.013*\"فشخ\"\n",
      "2017-12-16 05:04:58,594 : INFO : topic #2 (0.333): 0.046*\"انا\" + 0.037*\"مش\" + 0.017*\"بس\" + 0.016*\"بتاع\" + 0.016*\"في\" + 0.016*\"حد\" + 0.016*\"من\" + 0.014*\"عشان\" + 0.013*\"والله\" + 0.010*\"لا\"\n",
      "2017-12-16 05:04:58,596 : INFO : topic diff=0.198748, rho=0.182574\n",
      "2017-12-16 05:04:58,598 : INFO : PROGRESS: pass 0, at document #62000/179632\n"
     ]
    },
    {
     "name": "stderr",
     "output_type": "stream",
     "text": [
      "2017-12-16 05:05:00,347 : INFO : merging changes from 2000 documents into a model of 179632 documents\n",
      "2017-12-16 05:05:00,388 : INFO : topic #0 (0.333): 0.055*\"و\" + 0.049*\"يا\" + 0.021*\"اللي\" + 0.020*\"في\" + 0.020*\"من\" + 0.013*\"انت\" + 0.013*\"كل\" + 0.013*\"بتاع\" + 0.012*\"ده\" + 0.012*\"مش\"\n",
      "2017-12-16 05:05:00,391 : INFO : topic #1 (0.333): 0.030*\"من\" + 0.023*\"لا\" + 0.023*\"فى\" + 0.021*\"ايه\" + 0.019*\"أنا\" + 0.018*\"في\" + 0.017*\"ولا\" + 0.014*\"ده\" + 0.013*\"اللى\" + 0.011*\"على\"\n",
      "2017-12-16 05:05:00,393 : INFO : topic #2 (0.333): 0.048*\"انا\" + 0.037*\"مش\" + 0.018*\"بس\" + 0.016*\"حد\" + 0.016*\"من\" + 0.015*\"في\" + 0.013*\"بتاع\" + 0.013*\"عشان\" + 0.012*\"والله\" + 0.011*\"لا\"\n",
      "2017-12-16 05:05:00,396 : INFO : topic diff=0.169418, rho=0.179605\n",
      "2017-12-16 05:05:00,398 : INFO : PROGRESS: pass 0, at document #64000/179632\n",
      "2017-12-16 05:05:02,123 : INFO : merging changes from 2000 documents into a model of 179632 documents\n",
      "2017-12-16 05:05:02,162 : INFO : topic #0 (0.333): 0.062*\"و\" + 0.048*\"يا\" + 0.022*\"اللي\" + 0.022*\"في\" + 0.020*\"من\" + 0.013*\"انت\" + 0.012*\"كل\" + 0.012*\"ما\" + 0.012*\"مش\" + 0.011*\"بتاع\"\n",
      "2017-12-16 05:05:02,165 : INFO : topic #1 (0.333): 0.029*\"من\" + 0.024*\"ايه\" + 0.023*\"لا\" + 0.022*\"فى\" + 0.019*\"في\" + 0.017*\"ولا\" + 0.016*\"أنا\" + 0.013*\"ده\" + 0.013*\"اللى\" + 0.011*\"على\"\n",
      "2017-12-16 05:05:02,168 : INFO : topic #2 (0.333): 0.050*\"انا\" + 0.037*\"مش\" + 0.018*\"بس\" + 0.016*\"في\" + 0.016*\"من\" + 0.015*\"حد\" + 0.013*\"عشان\" + 0.012*\"والله\" + 0.011*\"بتاع\" + 0.011*\"لا\"\n",
      "2017-12-16 05:05:02,170 : INFO : topic diff=0.167495, rho=0.176777\n",
      "2017-12-16 05:05:02,172 : INFO : PROGRESS: pass 0, at document #66000/179632\n",
      "2017-12-16 05:05:04,013 : INFO : merging changes from 2000 documents into a model of 179632 documents\n",
      "2017-12-16 05:05:04,053 : INFO : topic #0 (0.333): 0.060*\"و\" + 0.049*\"يا\" + 0.022*\"في\" + 0.021*\"اللي\" + 0.019*\"من\" + 0.013*\"كل\" + 0.012*\"انت\" + 0.012*\"ما\" + 0.011*\"مش\" + 0.010*\"ده\"\n",
      "2017-12-16 05:05:04,056 : INFO : topic #1 (0.333): 0.028*\"من\" + 0.024*\"ايه\" + 0.022*\"لا\" + 0.020*\"في\" + 0.020*\"فى\" + 0.019*\"ف\" + 0.016*\"ولا\" + 0.013*\"أنا\" + 0.012*\"القلب\" + 0.012*\"ده\"\n",
      "2017-12-16 05:05:04,058 : INFO : topic #2 (0.333): 0.050*\"انا\" + 0.036*\"مش\" + 0.017*\"بس\" + 0.017*\"في\" + 0.016*\"من\" + 0.015*\"حد\" + 0.013*\"عشان\" + 0.011*\"والله\" + 0.010*\"لا\" + 0.010*\"بتاع\"\n",
      "2017-12-16 05:05:04,061 : INFO : topic diff=0.193545, rho=0.174078\n",
      "2017-12-16 05:05:04,063 : INFO : PROGRESS: pass 0, at document #68000/179632\n",
      "2017-12-16 05:05:05,793 : INFO : merging changes from 2000 documents into a model of 179632 documents\n",
      "2017-12-16 05:05:05,832 : INFO : topic #0 (0.333): 0.054*\"و\" + 0.044*\"يا\" + 0.025*\"في\" + 0.019*\"من\" + 0.019*\"اللي\" + 0.014*\"كل\" + 0.011*\"انت\" + 0.011*\"ما\" + 0.010*\"مش\" + 0.009*\"صحابك\"\n",
      "2017-12-16 05:05:05,834 : INFO : topic #1 (0.333): 0.028*\"من\" + 0.022*\"لا\" + 0.022*\"ايه\" + 0.022*\"في\" + 0.017*\"فى\" + 0.017*\"ف\" + 0.016*\"ولا\" + 0.011*\"الله\" + 0.011*\"أنا\" + 0.011*\"الوكر\"\n",
      "2017-12-16 05:05:05,837 : INFO : topic #2 (0.333): 0.046*\"انا\" + 0.035*\"مش\" + 0.019*\"في\" + 0.017*\"بس\" + 0.016*\"من\" + 0.015*\"حد\" + 0.014*\"لما\" + 0.011*\"عشان\" + 0.010*\"والله\" + 0.010*\"لا\"\n",
      "2017-12-16 05:05:05,839 : INFO : topic diff=0.220360, rho=0.171499\n",
      "2017-12-16 05:05:05,841 : INFO : PROGRESS: pass 0, at document #70000/179632\n",
      "2017-12-16 05:05:07,536 : INFO : merging changes from 2000 documents into a model of 179632 documents\n",
      "2017-12-16 05:05:07,575 : INFO : topic #0 (0.333): 0.047*\"و\" + 0.040*\"يا\" + 0.028*\"في\" + 0.020*\"من\" + 0.016*\"اللي\" + 0.015*\"كل\" + 0.013*\"دة\" + 0.012*\"انت\" + 0.012*\"ربنا\" + 0.011*\"الله\"\n",
      "2017-12-16 05:05:07,578 : INFO : topic #1 (0.333): 0.032*\"من\" + 0.025*\"في\" + 0.024*\"لا\" + 0.022*\"ايه\" + 0.018*\"الله\" + 0.016*\"ولا\" + 0.014*\"فى\" + 0.013*\"ف\" + 0.009*\"\"\" + 0.009*\"على\"\n",
      "2017-12-16 05:05:07,580 : INFO : topic #2 (0.333): 0.043*\"انا\" + 0.034*\"مش\" + 0.022*\"في\" + 0.017*\"من\" + 0.017*\"بس\" + 0.014*\"حد\" + 0.013*\"لما\" + 0.010*\"لا\" + 0.010*\"ال\" + 0.009*\"لو\"\n",
      "2017-12-16 05:05:07,582 : INFO : topic diff=0.231471, rho=0.169031\n",
      "2017-12-16 05:05:07,585 : INFO : PROGRESS: pass 0, at document #72000/179632\n",
      "2017-12-16 05:05:09,080 : INFO : merging changes from 2000 documents into a model of 179632 documents\n",
      "2017-12-16 05:05:09,120 : INFO : topic #0 (0.333): 0.046*\"يا\" + 0.044*\"و\" + 0.026*\"في\" + 0.020*\"من\" + 0.015*\"اللي\" + 0.015*\"كل\" + 0.012*\"انت\" + 0.012*\"ربنا\" + 0.012*\"دة\" + 0.011*\"ما\"\n",
      "2017-12-16 05:05:09,123 : INFO : topic #1 (0.333): 0.033*\"من\" + 0.024*\"لا\" + 0.023*\"في\" + 0.022*\"ايه\" + 0.018*\"الله\" + 0.017*\"فى\" + 0.016*\"ولا\" + 0.012*\"ف\" + 0.010*\"على\" + 0.009*\"\"\"\n",
      "2017-12-16 05:05:09,125 : INFO : topic #2 (0.333): 0.044*\"انا\" + 0.033*\"مش\" + 0.020*\"في\" + 0.018*\"بس\" + 0.017*\"من\" + 0.013*\"حد\" + 0.013*\"لما\" + 0.010*\"لا\" + 0.010*\"لو\" + 0.009*\"والله\"\n",
      "2017-12-16 05:05:09,127 : INFO : topic diff=0.138287, rho=0.166667\n",
      "2017-12-16 05:05:09,130 : INFO : PROGRESS: pass 0, at document #74000/179632\n",
      "2017-12-16 05:05:10,877 : INFO : merging changes from 2000 documents into a model of 179632 documents\n",
      "2017-12-16 05:05:10,917 : INFO : topic #0 (0.333): 0.048*\"يا\" + 0.040*\"و\" + 0.023*\"في\" + 0.019*\"من\" + 0.016*\"كل\" + 0.014*\"اللي\" + 0.013*\"ربنا\" + 0.012*\"انت\" + 0.011*\"ما\" + 0.010*\"الله\"\n",
      "2017-12-16 05:05:10,920 : INFO : topic #1 (0.333): 0.032*\"من\" + 0.025*\"فى\" + 0.023*\"لا\" + 0.022*\"ايه\" + 0.021*\"في\" + 0.017*\"الله\" + 0.016*\"اللى\" + 0.016*\"ولا\" + 0.012*\"على\" + 0.011*\"ف\"\n",
      "2017-12-16 05:05:10,922 : INFO : topic #2 (0.333): 0.046*\"انا\" + 0.036*\"مش\" + 0.018*\"بس\" + 0.017*\"في\" + 0.017*\"من\" + 0.014*\"حد\" + 0.013*\"لما\" + 0.011*\"والله\" + 0.011*\"عشان\" + 0.010*\"لا\"\n",
      "2017-12-16 05:05:10,925 : INFO : topic diff=0.155448, rho=0.164399\n",
      "2017-12-16 05:05:10,927 : INFO : PROGRESS: pass 0, at document #76000/179632\n",
      "2017-12-16 05:05:12,655 : INFO : merging changes from 2000 documents into a model of 179632 documents\n",
      "2017-12-16 05:05:12,695 : INFO : topic #0 (0.333): 0.046*\"يا\" + 0.042*\"و\" + 0.023*\"في\" + 0.020*\"من\" + 0.016*\"كل\" + 0.016*\"اللي\" + 0.013*\"انت\" + 0.013*\"ما\" + 0.012*\"ربنا\" + 0.010*\"مش\"\n",
      "2017-12-16 05:05:12,698 : INFO : topic #1 (0.333): 0.033*\"من\" + 0.024*\"فى\" + 0.024*\"لا\" + 0.021*\"في\" + 0.021*\"ايه\" + 0.016*\"الله\" + 0.015*\"ولا\" + 0.015*\"اللى\" + 0.012*\"ف\" + 0.012*\"على\"\n",
      "2017-12-16 05:05:12,701 : INFO : topic #2 (0.333): 0.044*\"انا\" + 0.037*\"مش\" + 0.018*\"بس\" + 0.017*\"في\" + 0.017*\"من\" + 0.015*\"حد\" + 0.013*\"لما\" + 0.011*\"عشان\" + 0.010*\"والله\" + 0.010*\"لو\"\n",
      "2017-12-16 05:05:12,703 : INFO : topic diff=0.184040, rho=0.162221\n",
      "2017-12-16 05:05:12,705 : INFO : PROGRESS: pass 0, at document #78000/179632\n",
      "2017-12-16 05:05:14,443 : INFO : merging changes from 2000 documents into a model of 179632 documents\n",
      "2017-12-16 05:05:14,484 : INFO : topic #0 (0.333): 0.046*\"يا\" + 0.043*\"و\" + 0.022*\"في\" + 0.020*\"من\" + 0.018*\"اللي\" + 0.016*\"كل\" + 0.013*\"ما\" + 0.013*\"انت\" + 0.012*\"ربنا\" + 0.010*\"مش\"\n",
      "2017-12-16 05:05:14,486 : INFO : topic #1 (0.333): 0.035*\"من\" + 0.024*\"لا\" + 0.022*\"فى\" + 0.021*\"في\" + 0.020*\"ايه\" + 0.016*\"الله\" + 0.015*\"ولا\" + 0.013*\"ف\" + 0.013*\"اللى\" + 0.012*\"على\"\n",
      "2017-12-16 05:05:14,489 : INFO : topic #2 (0.333): 0.045*\"انا\" + 0.037*\"مش\" + 0.018*\"بس\" + 0.017*\"من\" + 0.017*\"في\" + 0.015*\"حد\" + 0.013*\"لما\" + 0.010*\"عشان\" + 0.010*\"والله\" + 0.010*\"لو\"\n",
      "2017-12-16 05:05:14,491 : INFO : topic diff=0.167662, rho=0.160128\n",
      "2017-12-16 05:05:16,760 : INFO : -7.111 per-word bound, 138.3 perplexity estimate based on a held-out corpus of 2000 documents with 11619 words\n",
      "2017-12-16 05:05:16,763 : INFO : PROGRESS: pass 0, at document #80000/179632\n",
      "2017-12-16 05:05:18,345 : INFO : merging changes from 2000 documents into a model of 179632 documents\n",
      "2017-12-16 05:05:18,385 : INFO : topic #0 (0.333): 0.052*\"يا\" + 0.039*\"و\" + 0.020*\"اللي\" + 0.020*\"في\" + 0.019*\"من\" + 0.016*\"كل\" + 0.013*\"انت\" + 0.013*\"ما\" + 0.012*\"ربنا\" + 0.010*\"مش\"\n",
      "2017-12-16 05:05:18,387 : INFO : topic #1 (0.333): 0.035*\"من\" + 0.025*\"لا\" + 0.022*\"ايه\" + 0.020*\"في\" + 0.019*\"فى\" + 0.016*\"ولا\" + 0.016*\"الله\" + 0.015*\"ف\" + 0.012*\"اللى\" + 0.011*\"على\"\n",
      "2017-12-16 05:05:18,390 : INFO : topic #2 (0.333): 0.047*\"انا\" + 0.037*\"مش\" + 0.019*\"بس\" + 0.016*\"من\" + 0.015*\"في\" + 0.014*\"حد\" + 0.012*\"والله\" + 0.012*\"لما\" + 0.010*\"لا\" + 0.010*\"لو\"\n",
      "2017-12-16 05:05:18,392 : INFO : topic diff=0.151174, rho=0.158114\n",
      "2017-12-16 05:05:18,394 : INFO : PROGRESS: pass 0, at document #82000/179632\n",
      "2017-12-16 05:05:20,161 : INFO : merging changes from 2000 documents into a model of 179632 documents\n"
     ]
    },
    {
     "name": "stderr",
     "output_type": "stream",
     "text": [
      "2017-12-16 05:05:20,200 : INFO : topic #0 (0.333): 0.050*\"يا\" + 0.042*\"و\" + 0.022*\"اللي\" + 0.021*\"في\" + 0.019*\"من\" + 0.017*\"كل\" + 0.014*\"انت\" + 0.014*\"ما\" + 0.011*\"ربنا\" + 0.010*\"مش\"\n",
      "2017-12-16 05:05:20,203 : INFO : topic #1 (0.333): 0.036*\"من\" + 0.026*\"لا\" + 0.021*\"ايه\" + 0.020*\"في\" + 0.019*\"فى\" + 0.016*\"ولا\" + 0.015*\"الله\" + 0.014*\"ف\" + 0.012*\"\"\" + 0.011*\"اللى\"\n",
      "2017-12-16 05:05:20,205 : INFO : topic #2 (0.333): 0.047*\"انا\" + 0.039*\"مش\" + 0.019*\"بس\" + 0.017*\"من\" + 0.016*\"حد\" + 0.016*\"في\" + 0.012*\"والله\" + 0.012*\"لما\" + 0.011*\"لو\" + 0.010*\"لا\"\n",
      "2017-12-16 05:05:20,207 : INFO : topic diff=0.167897, rho=0.156174\n",
      "2017-12-16 05:05:20,210 : INFO : PROGRESS: pass 0, at document #84000/179632\n",
      "2017-12-16 05:05:21,967 : INFO : merging changes from 2000 documents into a model of 179632 documents\n",
      "2017-12-16 05:05:22,004 : INFO : topic #0 (0.333): 0.049*\"يا\" + 0.040*\"و\" + 0.023*\"اللي\" + 0.021*\"في\" + 0.018*\"من\" + 0.016*\"كل\" + 0.014*\"انت\" + 0.013*\"ما\" + 0.012*\"ربنا\" + 0.010*\"والله\"\n",
      "2017-12-16 05:05:22,006 : INFO : topic #1 (0.333): 0.036*\"من\" + 0.027*\"لا\" + 0.023*\"ايه\" + 0.021*\"في\" + 0.018*\"فى\" + 0.016*\"ولا\" + 0.015*\"الله\" + 0.013*\"ف\" + 0.011*\"اللى\" + 0.011*\"\"\"\n",
      "2017-12-16 05:05:22,009 : INFO : topic #2 (0.333): 0.049*\"انا\" + 0.040*\"مش\" + 0.020*\"بس\" + 0.017*\"في\" + 0.017*\"حد\" + 0.016*\"من\" + 0.014*\"والله\" + 0.012*\"لما\" + 0.011*\"لو\" + 0.010*\"اللي\"\n",
      "2017-12-16 05:05:22,011 : INFO : topic diff=0.135473, rho=0.154303\n",
      "2017-12-16 05:05:22,013 : INFO : PROGRESS: pass 0, at document #86000/179632\n",
      "2017-12-16 05:05:23,656 : INFO : merging changes from 2000 documents into a model of 179632 documents\n",
      "2017-12-16 05:05:23,692 : INFO : topic #0 (0.333): 0.050*\"يا\" + 0.044*\"و\" + 0.024*\"اللي\" + 0.022*\"في\" + 0.018*\"من\" + 0.016*\"كل\" + 0.014*\"انت\" + 0.013*\"ما\" + 0.012*\"ربنا\" + 0.011*\"والله\"\n",
      "2017-12-16 05:05:23,695 : INFO : topic #1 (0.333): 0.035*\"من\" + 0.025*\"لا\" + 0.025*\"ايه\" + 0.021*\"في\" + 0.017*\"فى\" + 0.017*\"ولا\" + 0.015*\"الله\" + 0.013*\"ف\" + 0.010*\"\"\" + 0.010*\"اللى\"\n",
      "2017-12-16 05:05:23,697 : INFO : topic #2 (0.333): 0.047*\"انا\" + 0.039*\"مش\" + 0.021*\"بس\" + 0.018*\"في\" + 0.016*\"من\" + 0.016*\"حد\" + 0.015*\"والله\" + 0.011*\"عشان\" + 0.011*\"اللي\" + 0.011*\"لما\"\n",
      "2017-12-16 05:05:23,700 : INFO : topic diff=0.130942, rho=0.152499\n",
      "2017-12-16 05:05:23,702 : INFO : PROGRESS: pass 0, at document #88000/179632\n",
      "2017-12-16 05:05:25,244 : INFO : merging changes from 2000 documents into a model of 179632 documents\n",
      "2017-12-16 05:05:25,284 : INFO : topic #0 (0.333): 0.058*\"و\" + 0.049*\"يا\" + 0.024*\"اللي\" + 0.023*\"في\" + 0.018*\"من\" + 0.016*\"كل\" + 0.013*\"انت\" + 0.012*\"ما\" + 0.012*\"ربنا\" + 0.011*\"الله\"\n",
      "2017-12-16 05:05:25,286 : INFO : topic #1 (0.333): 0.036*\"من\" + 0.024*\"لا\" + 0.022*\"ايه\" + 0.022*\"في\" + 0.017*\"الله\" + 0.017*\"ولا\" + 0.016*\"فى\" + 0.013*\"ف\" + 0.011*\"\"\" + 0.011*\"أنا\"\n",
      "2017-12-16 05:05:25,289 : INFO : topic #2 (0.333): 0.045*\"انا\" + 0.039*\"مش\" + 0.021*\"بس\" + 0.018*\"في\" + 0.017*\"حد\" + 0.016*\"من\" + 0.014*\"والله\" + 0.011*\"عشان\" + 0.011*\"اللي\" + 0.011*\"لما\"\n",
      "2017-12-16 05:05:25,291 : INFO : topic diff=0.161547, rho=0.150756\n",
      "2017-12-16 05:05:25,293 : INFO : PROGRESS: pass 0, at document #90000/179632\n",
      "2017-12-16 05:05:26,725 : INFO : merging changes from 2000 documents into a model of 179632 documents\n",
      "2017-12-16 05:05:26,759 : INFO : topic #0 (0.333): 0.055*\"يا\" + 0.054*\"و\" + 0.022*\"في\" + 0.021*\"اللي\" + 0.017*\"من\" + 0.016*\"كل\" + 0.014*\"انت\" + 0.012*\"ربنا\" + 0.012*\"ما\" + 0.011*\"الله\"\n",
      "2017-12-16 05:05:26,761 : INFO : topic #1 (0.333): 0.037*\"من\" + 0.024*\"لا\" + 0.022*\"ايه\" + 0.022*\"في\" + 0.017*\"ولا\" + 0.017*\"الله\" + 0.016*\"فى\" + 0.012*\"على\" + 0.012*\"ف\" + 0.010*\"أنا\"\n",
      "2017-12-16 05:05:26,764 : INFO : topic #2 (0.333): 0.045*\"انا\" + 0.038*\"مش\" + 0.021*\"بس\" + 0.017*\"في\" + 0.016*\"حد\" + 0.016*\"من\" + 0.014*\"والله\" + 0.012*\"عشان\" + 0.010*\"لو\" + 0.010*\"اللي\"\n",
      "2017-12-16 05:05:26,766 : INFO : topic diff=0.152306, rho=0.149071\n",
      "2017-12-16 05:05:26,768 : INFO : PROGRESS: pass 0, at document #92000/179632\n",
      "2017-12-16 05:05:28,332 : INFO : merging changes from 2000 documents into a model of 179632 documents\n",
      "2017-12-16 05:05:28,367 : INFO : topic #0 (0.333): 0.056*\"يا\" + 0.051*\"و\" + 0.021*\"في\" + 0.021*\"اللي\" + 0.017*\"من\" + 0.016*\"كل\" + 0.014*\"انت\" + 0.012*\"ربنا\" + 0.012*\"ما\" + 0.011*\"يارب\"\n",
      "2017-12-16 05:05:28,370 : INFO : topic #1 (0.333): 0.038*\"من\" + 0.024*\"لا\" + 0.021*\"في\" + 0.019*\"ايه\" + 0.018*\"الله\" + 0.016*\"ولا\" + 0.015*\"على\" + 0.015*\"فى\" + 0.010*\"،\" + 0.010*\"ف\"\n",
      "2017-12-16 05:05:28,372 : INFO : topic #2 (0.333): 0.043*\"انا\" + 0.036*\"مش\" + 0.021*\"بس\" + 0.017*\"في\" + 0.016*\"من\" + 0.014*\"حد\" + 0.014*\"والله\" + 0.012*\"عشان\" + 0.010*\"اللي\" + 0.010*\"لو\"\n",
      "2017-12-16 05:05:28,374 : INFO : topic diff=0.246610, rho=0.147442\n",
      "2017-12-16 05:05:28,376 : INFO : PROGRESS: pass 0, at document #94000/179632\n",
      "2017-12-16 05:05:29,872 : INFO : merging changes from 2000 documents into a model of 179632 documents\n",
      "2017-12-16 05:05:29,906 : INFO : topic #0 (0.333): 0.054*\"يا\" + 0.052*\"و\" + 0.022*\"اللي\" + 0.021*\"في\" + 0.018*\"من\" + 0.016*\"كل\" + 0.013*\"انت\" + 0.013*\"ما\" + 0.011*\"الله\" + 0.011*\"ربنا\"\n",
      "2017-12-16 05:05:29,909 : INFO : topic #1 (0.333): 0.041*\"من\" + 0.026*\"لا\" + 0.021*\"في\" + 0.020*\"الله\" + 0.017*\"على\" + 0.015*\"،\" + 0.014*\"ايه\" + 0.014*\"ولا\" + 0.011*\"فى\" + 0.010*\"اللهم\"\n",
      "2017-12-16 05:05:29,911 : INFO : topic #2 (0.333): 0.040*\"انا\" + 0.031*\"مش\" + 0.021*\"بس\" + 0.017*\"في\" + 0.016*\"من\" + 0.013*\"والله\" + 0.013*\"حد\" + 0.011*\"اللي\" + 0.011*\"عشان\" + 0.010*\"لما\"\n",
      "2017-12-16 05:05:29,913 : INFO : topic diff=0.220873, rho=0.145865\n",
      "2017-12-16 05:05:29,916 : INFO : PROGRESS: pass 0, at document #96000/179632\n",
      "2017-12-16 05:05:31,388 : INFO : merging changes from 2000 documents into a model of 179632 documents\n",
      "2017-12-16 05:05:31,423 : INFO : topic #0 (0.333): 0.053*\"و\" + 0.053*\"يا\" + 0.021*\"اللي\" + 0.020*\"في\" + 0.017*\"من\" + 0.017*\"كل\" + 0.014*\"ما\" + 0.013*\"انت\" + 0.011*\"الله\" + 0.011*\"يارب\"\n",
      "2017-12-16 05:05:31,425 : INFO : topic #1 (0.333): 0.041*\"من\" + 0.029*\"لا\" + 0.020*\"في\" + 0.020*\"الله\" + 0.018*\"على\" + 0.017*\"،\" + 0.015*\"ولا\" + 0.012*\"ايه\" + 0.011*\"ما\" + 0.011*\"اللهم\"\n",
      "2017-12-16 05:05:31,427 : INFO : topic #2 (0.333): 0.040*\"انا\" + 0.028*\"مش\" + 0.022*\"بس\" + 0.017*\"في\" + 0.016*\"من\" + 0.012*\"والله\" + 0.011*\"حد\" + 0.011*\"اللي\" + 0.010*\"عشان\" + 0.010*\"لا\"\n",
      "2017-12-16 05:05:31,430 : INFO : topic diff=0.161875, rho=0.144338\n",
      "2017-12-16 05:05:31,432 : INFO : PROGRESS: pass 0, at document #98000/179632\n",
      "2017-12-16 05:05:32,915 : INFO : merging changes from 2000 documents into a model of 179632 documents\n",
      "2017-12-16 05:05:32,958 : INFO : topic #0 (0.333): 0.054*\"يا\" + 0.054*\"و\" + 0.022*\"في\" + 0.020*\"اللي\" + 0.018*\"من\" + 0.017*\"كل\" + 0.015*\"ما\" + 0.013*\"انت\" + 0.011*\"الله\" + 0.011*\"يارب\"\n",
      "2017-12-16 05:05:32,960 : INFO : topic #1 (0.333): 0.044*\"من\" + 0.028*\"لا\" + 0.022*\"في\" + 0.020*\"الله\" + 0.020*\"على\" + 0.016*\"،\" + 0.014*\"ولا\" + 0.011*\"ما\" + 0.011*\"ايه\" + 0.011*\"اللهم\"\n",
      "2017-12-16 05:05:32,962 : INFO : topic #2 (0.333): 0.039*\"انا\" + 0.027*\"مش\" + 0.021*\"بس\" + 0.017*\"في\" + 0.017*\"من\" + 0.012*\"والله\" + 0.011*\"حد\" + 0.010*\"اللي\" + 0.009*\"عشان\" + 0.009*\"لا\"\n",
      "2017-12-16 05:05:32,965 : INFO : topic diff=0.229125, rho=0.142857\n",
      "2017-12-16 05:05:34,967 : INFO : -7.367 per-word bound, 165.1 perplexity estimate based on a held-out corpus of 2000 documents with 11212 words\n",
      "2017-12-16 05:05:34,970 : INFO : PROGRESS: pass 0, at document #100000/179632\n",
      "2017-12-16 05:05:36,427 : INFO : merging changes from 2000 documents into a model of 179632 documents\n",
      "2017-12-16 05:05:36,462 : INFO : topic #0 (0.333): 0.058*\"و\" + 0.055*\"يا\" + 0.022*\"في\" + 0.019*\"اللي\" + 0.018*\"من\" + 0.017*\"ما\" + 0.017*\"كل\" + 0.014*\"انت\" + 0.012*\"الله\" + 0.010*\"يارب\"\n",
      "2017-12-16 05:05:36,464 : INFO : topic #1 (0.333): 0.045*\"من\" + 0.028*\"لا\" + 0.024*\"في\" + 0.020*\"على\" + 0.020*\"الله\" + 0.016*\"،\" + 0.013*\"ولا\" + 0.012*\"ما\" + 0.010*\"اللهم\" + 0.010*\"ايه\"\n",
      "2017-12-16 05:05:36,466 : INFO : topic #2 (0.333): 0.039*\"انا\" + 0.024*\"مش\" + 0.020*\"بس\" + 0.018*\"في\" + 0.017*\"من\" + 0.012*\"والله\" + 0.010*\"اللي\" + 0.010*\"حد\" + 0.009*\"لا\" + 0.009*\"لو\"\n",
      "2017-12-16 05:05:36,469 : INFO : topic diff=0.148434, rho=0.141421\n",
      "2017-12-16 05:05:36,471 : INFO : PROGRESS: pass 0, at document #102000/179632\n",
      "2017-12-16 05:05:37,928 : INFO : merging changes from 2000 documents into a model of 179632 documents\n",
      "2017-12-16 05:05:37,963 : INFO : topic #0 (0.333): 0.064*\"و\" + 0.054*\"يا\" + 0.022*\"في\" + 0.019*\"اللي\" + 0.018*\"من\" + 0.018*\"ما\" + 0.016*\"كل\" + 0.014*\"انت\" + 0.012*\"الله\" + 0.009*\"يارب\"\n"
     ]
    },
    {
     "name": "stderr",
     "output_type": "stream",
     "text": [
      "2017-12-16 05:05:37,965 : INFO : topic #1 (0.333): 0.046*\"من\" + 0.027*\"لا\" + 0.025*\"في\" + 0.021*\"على\" + 0.019*\"الله\" + 0.015*\"،\" + 0.012*\"ولا\" + 0.012*\"ما\" + 0.012*\"️\" + 0.010*\"أن\"\n",
      "2017-12-16 05:05:37,968 : INFO : topic #2 (0.333): 0.036*\"انا\" + 0.021*\"مش\" + 0.020*\"بس\" + 0.018*\"من\" + 0.018*\"في\" + 0.011*\"والله\" + 0.010*\"اللي\" + 0.009*\"لا\" + 0.009*\"حد\" + 0.009*\"لو\"\n",
      "2017-12-16 05:05:37,970 : INFO : topic diff=0.179880, rho=0.140028\n",
      "2017-12-16 05:05:37,972 : INFO : PROGRESS: pass 0, at document #104000/179632\n",
      "2017-12-16 05:05:39,479 : INFO : merging changes from 2000 documents into a model of 179632 documents\n",
      "2017-12-16 05:05:39,513 : INFO : topic #0 (0.333): 0.063*\"و\" + 0.053*\"يا\" + 0.022*\"في\" + 0.019*\"من\" + 0.018*\"اللي\" + 0.017*\"ما\" + 0.016*\"كل\" + 0.012*\"انت\" + 0.012*\"الله\" + 0.008*\"يارب\"\n",
      "2017-12-16 05:05:39,516 : INFO : topic #1 (0.333): 0.049*\"من\" + 0.028*\"في\" + 0.024*\"لا\" + 0.023*\"على\" + 0.018*\"الله\" + 0.014*\"،\" + 0.012*\"️\" + 0.010*\"…\" + 0.010*\"ولا\" + 0.010*\"ما\"\n",
      "2017-12-16 05:05:39,518 : INFO : topic #2 (0.333): 0.032*\"انا\" + 0.019*\"في\" + 0.019*\"من\" + 0.019*\"مش\" + 0.018*\"بس\" + 0.010*\"والله\" + 0.009*\"اللي\" + 0.009*\"لو\" + 0.008*\"لا\" + 0.008*\"على\"\n",
      "2017-12-16 05:05:39,521 : INFO : topic diff=0.180078, rho=0.138675\n",
      "2017-12-16 05:05:39,523 : INFO : PROGRESS: pass 0, at document #106000/179632\n",
      "2017-12-16 05:05:41,088 : INFO : merging changes from 2000 documents into a model of 179632 documents\n",
      "2017-12-16 05:05:41,122 : INFO : topic #0 (0.333): 0.058*\"و\" + 0.050*\"يا\" + 0.021*\"في\" + 0.021*\"اللي\" + 0.019*\"من\" + 0.019*\"ما\" + 0.016*\"كل\" + 0.012*\"انت\" + 0.011*\"الله\" + 0.008*\"مو\"\n",
      "2017-12-16 05:05:41,124 : INFO : topic #1 (0.333): 0.048*\"من\" + 0.027*\"في\" + 0.024*\"لا\" + 0.023*\"على\" + 0.017*\"الله\" + 0.013*\"️\" + 0.013*\"،\" + 0.012*\"ما\" + 0.010*\"عن\" + 0.010*\"…\"\n",
      "2017-12-16 05:05:41,127 : INFO : topic #2 (0.333): 0.033*\"انا\" + 0.021*\"بس\" + 0.019*\"من\" + 0.018*\"في\" + 0.016*\"مش\" + 0.012*\"اللي\" + 0.010*\"والله\" + 0.010*\"ما\" + 0.009*\"اي\" + 0.009*\"لا\"\n",
      "2017-12-16 05:05:41,129 : INFO : topic diff=0.145797, rho=0.137361\n",
      "2017-12-16 05:05:41,131 : INFO : PROGRESS: pass 0, at document #108000/179632\n",
      "2017-12-16 05:05:42,514 : INFO : merging changes from 2000 documents into a model of 179632 documents\n",
      "2017-12-16 05:05:42,548 : INFO : topic #0 (0.333): 0.053*\"و\" + 0.045*\"يا\" + 0.022*\"ما\" + 0.020*\"في\" + 0.019*\"اللي\" + 0.019*\"من\" + 0.016*\"كل\" + 0.014*\"انت\" + 0.012*\"الله\" + 0.010*\"مو\"\n",
      "2017-12-16 05:05:42,551 : INFO : topic #1 (0.333): 0.047*\"من\" + 0.026*\"في\" + 0.026*\"لا\" + 0.023*\"على\" + 0.018*\"الله\" + 0.014*\"ما\" + 0.012*\"️\" + 0.012*\"،\" + 0.010*\"ولا\" + 0.010*\"عن\"\n",
      "2017-12-16 05:05:42,553 : INFO : topic #2 (0.333): 0.035*\"انا\" + 0.025*\"بس\" + 0.018*\"من\" + 0.016*\"في\" + 0.014*\"مش\" + 0.012*\"ما\" + 0.012*\"اي\" + 0.011*\"والله\" + 0.011*\"اللي\" + 0.010*\"لا\"\n",
      "2017-12-16 05:05:42,555 : INFO : topic diff=0.111924, rho=0.136083\n",
      "2017-12-16 05:05:42,558 : INFO : PROGRESS: pass 0, at document #110000/179632\n",
      "2017-12-16 05:05:43,948 : INFO : merging changes from 2000 documents into a model of 179632 documents\n",
      "2017-12-16 05:05:43,983 : INFO : topic #0 (0.333): 0.052*\"و\" + 0.042*\"يا\" + 0.021*\"ما\" + 0.021*\"في\" + 0.019*\"من\" + 0.018*\"اللي\" + 0.016*\"كل\" + 0.014*\"انت\" + 0.013*\"الله\" + 0.010*\"مو\"\n",
      "2017-12-16 05:05:43,985 : INFO : topic #1 (0.333): 0.047*\"من\" + 0.028*\"في\" + 0.025*\"لا\" + 0.022*\"على\" + 0.018*\"الله\" + 0.013*\"أن\" + 0.012*\"ما\" + 0.011*\"…\" + 0.010*\"،\" + 0.010*\"عن\"\n",
      "2017-12-16 05:05:43,987 : INFO : topic #2 (0.333): 0.033*\"انا\" + 0.023*\"بس\" + 0.018*\"من\" + 0.017*\"في\" + 0.012*\"مش\" + 0.012*\"ما\" + 0.011*\"اي\" + 0.010*\"اللي\" + 0.010*\"والله\" + 0.009*\"لا\"\n",
      "2017-12-16 05:05:43,990 : INFO : topic diff=0.179684, rho=0.134840\n",
      "2017-12-16 05:05:43,992 : INFO : PROGRESS: pass 0, at document #112000/179632\n",
      "2017-12-16 05:05:45,424 : INFO : merging changes from 2000 documents into a model of 179632 documents\n",
      "2017-12-16 05:05:45,458 : INFO : topic #0 (0.333): 0.058*\"و\" + 0.038*\"يا\" + 0.022*\"في\" + 0.020*\"ما\" + 0.019*\"من\" + 0.017*\"كل\" + 0.016*\"اللي\" + 0.013*\"انت\" + 0.012*\"الله\" + 0.010*\"قلبي\"\n",
      "2017-12-16 05:05:45,460 : INFO : topic #1 (0.333): 0.046*\"من\" + 0.030*\"في\" + 0.030*\"لا\" + 0.020*\"على\" + 0.020*\"أن\" + 0.016*\"الله\" + 0.012*\"ما\" + 0.011*\"ولا\" + 0.010*\"عن\" + 0.010*\"كل\"\n",
      "2017-12-16 05:05:45,463 : INFO : topic #2 (0.333): 0.030*\"انا\" + 0.020*\"بس\" + 0.018*\"من\" + 0.017*\"في\" + 0.012*\"لي\" + 0.011*\"ما\" + 0.011*\"مش\" + 0.010*\"اي\" + 0.010*\"لا\" + 0.009*\"اللي\"\n",
      "2017-12-16 05:05:45,465 : INFO : topic diff=0.187993, rho=0.133631\n",
      "2017-12-16 05:05:45,467 : INFO : PROGRESS: pass 0, at document #114000/179632\n",
      "2017-12-16 05:05:47,033 : INFO : merging changes from 2000 documents into a model of 179632 documents\n",
      "2017-12-16 05:05:47,065 : INFO : topic #0 (0.333): 0.055*\"و\" + 0.035*\"يا\" + 0.021*\"في\" + 0.019*\"ما\" + 0.018*\"من\" + 0.017*\"كل\" + 0.016*\"اللي\" + 0.015*\"انت\" + 0.013*\"الله\" + 0.010*\"الي\"\n",
      "2017-12-16 05:05:47,067 : INFO : topic #1 (0.333): 0.044*\"من\" + 0.029*\"لا\" + 0.029*\"في\" + 0.023*\"على\" + 0.018*\"أن\" + 0.016*\"الله\" + 0.013*\"ثقيل\" + 0.011*\"ما\" + 0.011*\"ولا\" + 0.010*\"عن\"\n",
      "2017-12-16 05:05:47,070 : INFO : topic #2 (0.333): 0.028*\"انا\" + 0.022*\"بس\" + 0.017*\"من\" + 0.016*\"في\" + 0.012*\"لي\" + 0.011*\"ما\" + 0.011*\"اي\" + 0.010*\"اللي\" + 0.009*\"مش\" + 0.009*\"لا\"\n",
      "2017-12-16 05:05:47,072 : INFO : topic diff=0.151803, rho=0.132453\n",
      "2017-12-16 05:05:47,074 : INFO : PROGRESS: pass 0, at document #116000/179632\n",
      "2017-12-16 05:05:48,635 : INFO : merging changes from 2000 documents into a model of 179632 documents\n",
      "2017-12-16 05:05:48,668 : INFO : topic #0 (0.333): 0.047*\"و\" + 0.031*\"يا\" + 0.020*\"انت\" + 0.020*\"في\" + 0.018*\"من\" + 0.017*\"كل\" + 0.017*\"الي\" + 0.017*\"ما\" + 0.014*\"الله\" + 0.014*\"اللي\"\n",
      "2017-12-16 05:05:48,670 : INFO : topic #1 (0.333): 0.045*\"من\" + 0.029*\"في\" + 0.028*\"لا\" + 0.024*\"على\" + 0.017*\"الله\" + 0.017*\"أن\" + 0.012*\"ثقيل\" + 0.012*\"ولا\" + 0.011*\"عن\" + 0.011*\"ما\"\n",
      "2017-12-16 05:05:48,673 : INFO : topic #2 (0.333): 0.025*\"انا\" + 0.024*\"بس\" + 0.018*\"من\" + 0.016*\"في\" + 0.012*\"اي\" + 0.011*\"لي\" + 0.010*\"والله\" + 0.010*\"ما\" + 0.010*\"على\" + 0.009*\"لا\"\n",
      "2017-12-16 05:05:48,675 : INFO : topic diff=0.127596, rho=0.131306\n",
      "2017-12-16 05:05:48,677 : INFO : PROGRESS: pass 0, at document #118000/179632\n",
      "2017-12-16 05:05:50,080 : INFO : merging changes from 2000 documents into a model of 179632 documents\n",
      "2017-12-16 05:05:50,115 : INFO : topic #0 (0.333): 0.064*\"و\" + 0.029*\"يا\" + 0.020*\"انت\" + 0.019*\"في\" + 0.018*\"من\" + 0.017*\"كل\" + 0.017*\"الي\" + 0.016*\"ما\" + 0.015*\"اللي\" + 0.014*\"الله\"\n",
      "2017-12-16 05:05:50,117 : INFO : topic #1 (0.333): 0.044*\"من\" + 0.028*\"في\" + 0.028*\"لا\" + 0.024*\"على\" + 0.017*\"الله\" + 0.016*\"أن\" + 0.012*\"ولا\" + 0.011*\"عن\" + 0.011*\"ثقيل\" + 0.010*\"ما\"\n",
      "2017-12-16 05:05:50,119 : INFO : topic #2 (0.333): 0.025*\"بس\" + 0.024*\"انا\" + 0.018*\"من\" + 0.015*\"في\" + 0.011*\"لي\" + 0.011*\"اي\" + 0.010*\"والله\" + 0.010*\"اللي\" + 0.010*\"ما\" + 0.009*\"على\"\n",
      "2017-12-16 05:05:50,122 : INFO : topic diff=0.121019, rho=0.130189\n",
      "2017-12-16 05:05:52,076 : INFO : -7.262 per-word bound, 153.4 perplexity estimate based on a held-out corpus of 2000 documents with 12057 words\n",
      "2017-12-16 05:05:52,079 : INFO : PROGRESS: pass 0, at document #120000/179632\n",
      "2017-12-16 05:05:53,456 : INFO : merging changes from 2000 documents into a model of 179632 documents\n",
      "2017-12-16 05:05:53,489 : INFO : topic #0 (0.333): 0.073*\"و\" + 0.027*\"يا\" + 0.019*\"من\" + 0.018*\"انت\" + 0.018*\"في\" + 0.018*\"كل\" + 0.017*\"اللي\" + 0.016*\"الي\" + 0.016*\"ما\" + 0.014*\"الله\"\n",
      "2017-12-16 05:05:53,491 : INFO : topic #1 (0.333): 0.045*\"من\" + 0.028*\"في\" + 0.028*\"لا\" + 0.023*\"على\" + 0.018*\"الله\" + 0.015*\"أن\" + 0.012*\"،\" + 0.011*\"ولا\" + 0.011*\"عن\" + 0.010*\"ما\"\n",
      "2017-12-16 05:05:53,494 : INFO : topic #2 (0.333): 0.025*\"بس\" + 0.024*\"انا\" + 0.018*\"من\" + 0.015*\"في\" + 0.012*\"لي\" + 0.011*\"اني\" + 0.011*\"اي\" + 0.011*\"اللي\" + 0.009*\"والله\" + 0.009*\"لو\"\n",
      "2017-12-16 05:05:53,496 : INFO : topic diff=0.113748, rho=0.129099\n",
      "2017-12-16 05:05:53,498 : INFO : PROGRESS: pass 0, at document #122000/179632\n",
      "2017-12-16 05:05:54,865 : INFO : merging changes from 2000 documents into a model of 179632 documents\n",
      "2017-12-16 05:05:54,900 : INFO : topic #0 (0.333): 0.070*\"و\" + 0.026*\"يا\" + 0.020*\"من\" + 0.019*\"كل\" + 0.018*\"في\" + 0.018*\"اللي\" + 0.017*\"انت\" + 0.016*\"ما\" + 0.015*\"الله\" + 0.015*\"الي\"\n",
      "2017-12-16 05:05:54,902 : INFO : topic #1 (0.333): 0.045*\"من\" + 0.029*\"لا\" + 0.028*\"في\" + 0.022*\"على\" + 0.019*\"الله\" + 0.016*\"أن\" + 0.015*\"،\" + 0.011*\"ولا\" + 0.011*\"عن\" + 0.011*\"ما\"\n"
     ]
    },
    {
     "name": "stderr",
     "output_type": "stream",
     "text": [
      "2017-12-16 05:05:54,905 : INFO : topic #2 (0.333): 0.024*\"بس\" + 0.023*\"انا\" + 0.018*\"من\" + 0.014*\"في\" + 0.012*\"لي\" + 0.011*\"اللي\" + 0.010*\"اي\" + 0.010*\"اني\" + 0.009*\"لو\" + 0.009*\"ما\"\n",
      "2017-12-16 05:05:54,907 : INFO : topic diff=0.111011, rho=0.128037\n",
      "2017-12-16 05:05:54,909 : INFO : PROGRESS: pass 0, at document #124000/179632\n",
      "2017-12-16 05:05:56,261 : INFO : merging changes from 2000 documents into a model of 179632 documents\n",
      "2017-12-16 05:05:56,294 : INFO : topic #0 (0.333): 0.066*\"و\" + 0.026*\"يا\" + 0.020*\"من\" + 0.019*\"كل\" + 0.018*\"في\" + 0.017*\"انت\" + 0.017*\"الله\" + 0.017*\"اللي\" + 0.015*\"ما\" + 0.014*\"الي\"\n",
      "2017-12-16 05:05:56,297 : INFO : topic #1 (0.333): 0.046*\"من\" + 0.029*\"في\" + 0.026*\"لا\" + 0.022*\"على\" + 0.021*\"الله\" + 0.015*\"،\" + 0.015*\"أن\" + 0.011*\"عن\" + 0.011*\"ولا\" + 0.010*\"ما\"\n",
      "2017-12-16 05:05:56,299 : INFO : topic #2 (0.333): 0.023*\"انا\" + 0.022*\"بس\" + 0.019*\"من\" + 0.014*\"في\" + 0.014*\"لي\" + 0.011*\"اللي\" + 0.010*\"اني\" + 0.010*\"لو\" + 0.010*\"اي\" + 0.009*\"ما\"\n",
      "2017-12-16 05:05:56,301 : INFO : topic diff=0.118998, rho=0.127000\n",
      "2017-12-16 05:05:56,304 : INFO : PROGRESS: pass 0, at document #126000/179632\n",
      "2017-12-16 05:05:57,497 : INFO : merging changes from 2000 documents into a model of 179632 documents\n",
      "2017-12-16 05:05:57,532 : INFO : topic #0 (0.333): 0.061*\"و\" + 0.024*\"يا\" + 0.020*\"من\" + 0.019*\"انت\" + 0.019*\"كل\" + 0.018*\"في\" + 0.017*\"الله\" + 0.016*\"اللي\" + 0.015*\"ما\" + 0.014*\"الي\"\n",
      "2017-12-16 05:05:57,534 : INFO : topic #1 (0.333): 0.046*\"من\" + 0.029*\"في\" + 0.027*\"لا\" + 0.022*\"على\" + 0.022*\"الله\" + 0.014*\"أن\" + 0.014*\"،\" + 0.010*\"عن\" + 0.010*\"ولا\" + 0.010*\"كل\"\n",
      "2017-12-16 05:05:57,536 : INFO : topic #2 (0.333): 0.023*\"بس\" + 0.023*\"انا\" + 0.019*\"من\" + 0.014*\"في\" + 0.014*\"لي\" + 0.011*\"اللي\" + 0.010*\"والله\" + 0.010*\"اي\" + 0.010*\"لو\" + 0.010*\"اني\"\n",
      "2017-12-16 05:05:57,538 : INFO : topic diff=0.085093, rho=0.125988\n",
      "2017-12-16 05:05:57,541 : INFO : PROGRESS: pass 0, at document #128000/179632\n",
      "2017-12-16 05:05:58,809 : INFO : merging changes from 2000 documents into a model of 179632 documents\n",
      "2017-12-16 05:05:58,843 : INFO : topic #0 (0.333): 0.057*\"و\" + 0.024*\"يا\" + 0.020*\"انت\" + 0.020*\"من\" + 0.018*\"كل\" + 0.018*\"اللي\" + 0.017*\"الله\" + 0.017*\"في\" + 0.015*\"ما\" + 0.014*\"مو\"\n",
      "2017-12-16 05:05:58,845 : INFO : topic #1 (0.333): 0.046*\"من\" + 0.028*\"في\" + 0.028*\"لا\" + 0.022*\"على\" + 0.021*\"الله\" + 0.014*\"،\" + 0.014*\"أن\" + 0.010*\"ولا\" + 0.010*\"عن\" + 0.010*\"كل\"\n",
      "2017-12-16 05:05:58,855 : INFO : topic #2 (0.333): 0.027*\"انا\" + 0.024*\"بس\" + 0.019*\"من\" + 0.014*\"في\" + 0.013*\"لي\" + 0.012*\"والله\" + 0.012*\"اللي\" + 0.011*\"اي\" + 0.010*\"لو\" + 0.010*\"اني\"\n",
      "2017-12-16 05:05:58,856 : INFO : topic diff=0.086447, rho=0.125000\n",
      "2017-12-16 05:05:58,857 : INFO : PROGRESS: pass 0, at document #130000/179632\n",
      "2017-12-16 05:06:00,156 : INFO : merging changes from 2000 documents into a model of 179632 documents\n",
      "2017-12-16 05:06:00,189 : INFO : topic #0 (0.333): 0.053*\"و\" + 0.022*\"يا\" + 0.020*\"من\" + 0.020*\"انت\" + 0.019*\"اللي\" + 0.018*\"كل\" + 0.016*\"الله\" + 0.016*\"في\" + 0.015*\"مو\" + 0.014*\"ما\"\n",
      "2017-12-16 05:06:00,192 : INFO : topic #1 (0.333): 0.046*\"من\" + 0.029*\"لا\" + 0.027*\"في\" + 0.022*\"على\" + 0.021*\"الله\" + 0.015*\"،\" + 0.013*\"أن\" + 0.010*\"ولا\" + 0.010*\"عن\" + 0.010*\"كل\"\n",
      "2017-12-16 05:06:00,194 : INFO : topic #2 (0.333): 0.031*\"انا\" + 0.026*\"بس\" + 0.018*\"من\" + 0.014*\"لي\" + 0.013*\"اللي\" + 0.013*\"في\" + 0.012*\"والله\" + 0.012*\"اي\" + 0.010*\"لو\" + 0.010*\"اني\"\n",
      "2017-12-16 05:06:00,196 : INFO : topic diff=0.093550, rho=0.124035\n",
      "2017-12-16 05:06:00,199 : INFO : PROGRESS: pass 0, at document #132000/179632\n",
      "2017-12-16 05:06:01,447 : INFO : merging changes from 2000 documents into a model of 179632 documents\n",
      "2017-12-16 05:06:01,487 : INFO : topic #0 (0.333): 0.049*\"و\" + 0.020*\"من\" + 0.020*\"انت\" + 0.020*\"اللي\" + 0.020*\"يا\" + 0.018*\"كل\" + 0.016*\"مو\" + 0.015*\"الله\" + 0.015*\"في\" + 0.013*\"ما\"\n",
      "2017-12-16 05:06:01,489 : INFO : topic #1 (0.333): 0.046*\"من\" + 0.030*\"لا\" + 0.026*\"في\" + 0.021*\"على\" + 0.020*\"الله\" + 0.014*\"،\" + 0.012*\"أن\" + 0.010*\"شي\" + 0.010*\"ولا\" + 0.010*\"عن\"\n",
      "2017-12-16 05:06:01,492 : INFO : topic #2 (0.333): 0.032*\"انا\" + 0.026*\"بس\" + 0.018*\"من\" + 0.014*\"لي\" + 0.014*\"اللي\" + 0.013*\"اي\" + 0.013*\"ع\" + 0.012*\"والله\" + 0.011*\"في\" + 0.010*\"لا\"\n",
      "2017-12-16 05:06:01,494 : INFO : topic diff=0.089338, rho=0.123091\n",
      "2017-12-16 05:06:01,496 : INFO : PROGRESS: pass 0, at document #134000/179632\n",
      "2017-12-16 05:06:02,867 : INFO : merging changes from 2000 documents into a model of 179632 documents\n",
      "2017-12-16 05:06:02,899 : INFO : topic #0 (0.333): 0.047*\"و\" + 0.021*\"من\" + 0.021*\"يا\" + 0.020*\"اللي\" + 0.018*\"انت\" + 0.017*\"كل\" + 0.016*\"مو\" + 0.016*\"في\" + 0.015*\"الله\" + 0.013*\"ما\"\n",
      "2017-12-16 05:06:02,901 : INFO : topic #1 (0.333): 0.047*\"من\" + 0.031*\"في\" + 0.029*\"لا\" + 0.021*\"على\" + 0.019*\"الله\" + 0.015*\"،\" + 0.013*\"أن\" + 0.010*\"عن\" + 0.010*\"هذا\" + 0.010*\"…\"\n",
      "2017-12-16 05:06:02,904 : INFO : topic #2 (0.333): 0.030*\"انا\" + 0.024*\"بس\" + 0.018*\"من\" + 0.014*\"ع\" + 0.014*\"لي\" + 0.013*\"اللي\" + 0.013*\"اي\" + 0.012*\"في\" + 0.011*\"والله\" + 0.010*\"لا\"\n",
      "2017-12-16 05:06:02,906 : INFO : topic diff=0.154125, rho=0.122169\n",
      "2017-12-16 05:06:02,908 : INFO : PROGRESS: pass 0, at document #136000/179632\n",
      "2017-12-16 05:06:04,317 : INFO : merging changes from 2000 documents into a model of 179632 documents\n",
      "2017-12-16 05:06:04,350 : INFO : topic #0 (0.333): 0.044*\"و\" + 0.022*\"يا\" + 0.022*\"من\" + 0.021*\"اللي\" + 0.017*\"في\" + 0.017*\"انت\" + 0.016*\"كل\" + 0.015*\"مو\" + 0.014*\"الله\" + 0.013*\"ما\"\n",
      "2017-12-16 05:06:04,352 : INFO : topic #1 (0.333): 0.049*\"من\" + 0.035*\"في\" + 0.026*\"لا\" + 0.022*\"على\" + 0.018*\"الله\" + 0.016*\"،\" + 0.014*\"أن\" + 0.011*\"…\" + 0.011*\"عن\" + 0.010*\"هذا\"\n",
      "2017-12-16 05:06:04,354 : INFO : topic #2 (0.333): 0.027*\"انا\" + 0.023*\"بس\" + 0.019*\"من\" + 0.013*\"اللي\" + 0.013*\"في\" + 0.013*\"لي\" + 0.012*\"ع\" + 0.012*\"اي\" + 0.011*\"والله\" + 0.010*\"لو\"\n",
      "2017-12-16 05:06:04,357 : INFO : topic diff=0.158167, rho=0.121268\n",
      "2017-12-16 05:06:04,359 : INFO : PROGRESS: pass 0, at document #138000/179632\n",
      "2017-12-16 05:06:05,766 : INFO : merging changes from 2000 documents into a model of 179632 documents\n",
      "2017-12-16 05:06:05,798 : INFO : topic #0 (0.333): 0.040*\"و\" + 0.022*\"يا\" + 0.022*\"اللي\" + 0.021*\"من\" + 0.018*\"في\" + 0.015*\"انت\" + 0.015*\"كل\" + 0.014*\"الله\" + 0.013*\"مو\" + 0.012*\"ما\"\n",
      "2017-12-16 05:06:05,801 : INFO : topic #1 (0.333): 0.049*\"من\" + 0.036*\"في\" + 0.024*\"لا\" + 0.022*\"على\" + 0.017*\"الله\" + 0.016*\"،\" + 0.012*\"أن\" + 0.011*\"…\" + 0.010*\"عن\" + 0.010*\"هذا\"\n",
      "2017-12-16 05:06:05,803 : INFO : topic #2 (0.333): 0.025*\"انا\" + 0.022*\"بس\" + 0.019*\"من\" + 0.014*\"اللي\" + 0.013*\"والله\" + 0.013*\"في\" + 0.012*\"لي\" + 0.011*\"اي\" + 0.011*\"ع\" + 0.011*\"لو\"\n",
      "2017-12-16 05:06:05,805 : INFO : topic diff=0.143030, rho=0.120386\n",
      "2017-12-16 05:06:07,823 : INFO : -7.367 per-word bound, 165.0 perplexity estimate based on a held-out corpus of 2000 documents with 11785 words\n",
      "2017-12-16 05:06:07,826 : INFO : PROGRESS: pass 0, at document #140000/179632\n",
      "2017-12-16 05:06:09,245 : INFO : merging changes from 2000 documents into a model of 179632 documents\n",
      "2017-12-16 05:06:09,277 : INFO : topic #0 (0.333): 0.038*\"و\" + 0.022*\"من\" + 0.022*\"يا\" + 0.020*\"اللي\" + 0.018*\"في\" + 0.015*\"انت\" + 0.015*\"كل\" + 0.015*\"الله\" + 0.012*\"ما\" + 0.012*\"مو\"\n",
      "2017-12-16 05:06:09,280 : INFO : topic #1 (0.333): 0.049*\"من\" + 0.036*\"في\" + 0.023*\"على\" + 0.022*\"لا\" + 0.019*\"،\" + 0.017*\"الله\" + 0.011*\"…\" + 0.011*\"أن\" + 0.011*\"عن\" + 0.010*\"هذا\"\n",
      "2017-12-16 05:06:09,282 : INFO : topic #2 (0.333): 0.025*\"انا\" + 0.022*\"بس\" + 0.019*\"من\" + 0.013*\"في\" + 0.013*\"اللي\" + 0.013*\"والله\" + 0.012*\"لي\" + 0.011*\"لو\" + 0.011*\"اي\" + 0.010*\"ع\"\n",
      "2017-12-16 05:06:09,284 : INFO : topic diff=0.106948, rho=0.119523\n",
      "2017-12-16 05:06:09,286 : INFO : PROGRESS: pass 0, at document #142000/179632\n",
      "2017-12-16 05:06:10,644 : INFO : merging changes from 2000 documents into a model of 179632 documents\n",
      "2017-12-16 05:06:10,677 : INFO : topic #0 (0.333): 0.037*\"و\" + 0.022*\"من\" + 0.021*\"يا\" + 0.020*\"اللي\" + 0.017*\"في\" + 0.016*\"الله\" + 0.016*\"انت\" + 0.015*\"كل\" + 0.012*\"ما\" + 0.012*\"الي\"\n",
      "2017-12-16 05:06:10,679 : INFO : topic #1 (0.333): 0.049*\"من\" + 0.036*\"في\" + 0.023*\"على\" + 0.023*\"لا\" + 0.020*\"،\" + 0.018*\"الله\" + 0.011*\"…\" + 0.011*\"أن\" + 0.010*\"عن\" + 0.010*\"هذا\"\n",
      "2017-12-16 05:06:10,681 : INFO : topic #2 (0.333): 0.027*\"انا\" + 0.022*\"بس\" + 0.019*\"من\" + 0.013*\"والله\" + 0.013*\"اللي\" + 0.013*\"في\" + 0.012*\"لي\" + 0.011*\"لو\" + 0.011*\"ع\" + 0.011*\"اي\"\n"
     ]
    },
    {
     "name": "stderr",
     "output_type": "stream",
     "text": [
      "2017-12-16 05:06:10,684 : INFO : topic diff=0.091005, rho=0.118678\n",
      "2017-12-16 05:06:10,686 : INFO : PROGRESS: pass 0, at document #144000/179632\n",
      "2017-12-16 05:06:12,014 : INFO : merging changes from 2000 documents into a model of 179632 documents\n",
      "2017-12-16 05:06:12,045 : INFO : topic #0 (0.333): 0.036*\"و\" + 0.023*\"من\" + 0.020*\"يا\" + 0.019*\"اللي\" + 0.018*\"الله\" + 0.017*\"انت\" + 0.016*\"في\" + 0.014*\"كل\" + 0.013*\"الي\" + 0.012*\"ما\"\n",
      "2017-12-16 05:06:12,048 : INFO : topic #1 (0.333): 0.050*\"من\" + 0.035*\"في\" + 0.023*\"لا\" + 0.023*\"على\" + 0.020*\"،\" + 0.019*\"الله\" + 0.010*\"هذا\" + 0.010*\"عن\" + 0.010*\"ولا\" + 0.010*\"…\"\n",
      "2017-12-16 05:06:12,050 : INFO : topic #2 (0.333): 0.029*\"انا\" + 0.021*\"بس\" + 0.019*\"من\" + 0.014*\"ع\" + 0.014*\"والله\" + 0.013*\"لي\" + 0.013*\"اللي\" + 0.012*\"لو\" + 0.012*\"في\" + 0.012*\"اي\"\n",
      "2017-12-16 05:06:12,052 : INFO : topic diff=0.081464, rho=0.117851\n",
      "2017-12-16 05:06:12,055 : INFO : PROGRESS: pass 0, at document #146000/179632\n",
      "2017-12-16 05:06:13,320 : INFO : merging changes from 2000 documents into a model of 179632 documents\n",
      "2017-12-16 05:06:13,352 : INFO : topic #0 (0.333): 0.037*\"و\" + 0.023*\"من\" + 0.020*\"اللي\" + 0.019*\"يا\" + 0.018*\"الله\" + 0.016*\"انت\" + 0.016*\"في\" + 0.014*\"كل\" + 0.014*\"ما\" + 0.013*\"الي\"\n",
      "2017-12-16 05:06:13,355 : INFO : topic #1 (0.333): 0.049*\"من\" + 0.034*\"في\" + 0.024*\"لا\" + 0.023*\"على\" + 0.021*\"،\" + 0.019*\"الله\" + 0.011*\"ولا\" + 0.010*\"عن\" + 0.010*\"أن\" + 0.010*\"هذا\"\n",
      "2017-12-16 05:06:13,357 : INFO : topic #2 (0.333): 0.029*\"انا\" + 0.021*\"بس\" + 0.019*\"من\" + 0.014*\"ع\" + 0.013*\"والله\" + 0.013*\"لي\" + 0.013*\"لو\" + 0.013*\"اللي\" + 0.012*\"ي\" + 0.011*\"اي\"\n",
      "2017-12-16 05:06:13,359 : INFO : topic diff=0.086155, rho=0.117041\n",
      "2017-12-16 05:06:13,361 : INFO : PROGRESS: pass 0, at document #148000/179632\n",
      "2017-12-16 05:06:14,620 : INFO : merging changes from 2000 documents into a model of 179632 documents\n",
      "2017-12-16 05:06:14,654 : INFO : topic #0 (0.333): 0.049*\"و\" + 0.023*\"من\" + 0.020*\"اللي\" + 0.020*\"يا\" + 0.018*\"الله\" + 0.017*\"ما\" + 0.016*\"انت\" + 0.015*\"في\" + 0.014*\"مو\" + 0.014*\"كل\"\n",
      "2017-12-16 05:06:14,656 : INFO : topic #1 (0.333): 0.048*\"من\" + 0.033*\"في\" + 0.026*\"لا\" + 0.023*\"على\" + 0.020*\"،\" + 0.018*\"الله\" + 0.011*\"ما\" + 0.011*\"ولا\" + 0.011*\"هذا\" + 0.010*\"عن\"\n",
      "2017-12-16 05:06:14,659 : INFO : topic #2 (0.333): 0.033*\"انا\" + 0.022*\"بس\" + 0.018*\"من\" + 0.014*\"اي\" + 0.014*\"والله\" + 0.013*\"لو\" + 0.013*\"لي\" + 0.013*\"اللي\" + 0.012*\"ع\" + 0.012*\"ي\"\n",
      "2017-12-16 05:06:14,661 : INFO : topic diff=0.092134, rho=0.116248\n",
      "2017-12-16 05:06:14,663 : INFO : PROGRESS: pass 0, at document #150000/179632\n",
      "2017-12-16 05:06:15,981 : INFO : merging changes from 2000 documents into a model of 179632 documents\n",
      "2017-12-16 05:06:16,015 : INFO : topic #0 (0.333): 0.057*\"و\" + 0.022*\"من\" + 0.020*\"يا\" + 0.020*\"اللي\" + 0.017*\"الله\" + 0.017*\"ما\" + 0.016*\"انت\" + 0.015*\"مو\" + 0.015*\"في\" + 0.013*\"كل\"\n",
      "2017-12-16 05:06:16,018 : INFO : topic #1 (0.333): 0.048*\"من\" + 0.037*\"في\" + 0.025*\"لا\" + 0.024*\"على\" + 0.018*\"،\" + 0.018*\"الله\" + 0.011*\"…\" + 0.011*\"ما\" + 0.010*\"هذا\" + 0.010*\"عن\"\n",
      "2017-12-16 05:06:16,020 : INFO : topic #2 (0.333): 0.033*\"انا\" + 0.022*\"بس\" + 0.018*\"من\" + 0.016*\"اي\" + 0.013*\"والله\" + 0.012*\"اللي\" + 0.012*\"لو\" + 0.012*\"لي\" + 0.011*\"ع\" + 0.011*\"في\"\n",
      "2017-12-16 05:06:16,022 : INFO : topic diff=0.130241, rho=0.115470\n",
      "2017-12-16 05:06:16,025 : INFO : PROGRESS: pass 0, at document #152000/179632\n",
      "2017-12-16 05:06:17,327 : INFO : merging changes from 2000 documents into a model of 179632 documents\n",
      "2017-12-16 05:06:17,362 : INFO : topic #0 (0.333): 0.057*\"و\" + 0.022*\"من\" + 0.020*\"يا\" + 0.018*\"اللي\" + 0.018*\"الله\" + 0.016*\"ما\" + 0.016*\"في\" + 0.015*\"انت\" + 0.014*\"مو\" + 0.013*\"كل\"\n",
      "2017-12-16 05:06:17,364 : INFO : topic #1 (0.333): 0.048*\"من\" + 0.042*\"في\" + 0.025*\"على\" + 0.021*\"لا\" + 0.017*\"الله\" + 0.017*\"،\" + 0.014*\"…\" + 0.010*\"عن\" + 0.010*\"هذا\" + 0.009*\"ما\"\n",
      "2017-12-16 05:06:17,367 : INFO : topic #2 (0.333): 0.030*\"انا\" + 0.020*\"بس\" + 0.018*\"من\" + 0.015*\"اي\" + 0.013*\"والله\" + 0.012*\"اللي\" + 0.012*\"لو\" + 0.011*\"في\" + 0.011*\"لي\" + 0.010*\"ع\"\n",
      "2017-12-16 05:06:17,369 : INFO : topic diff=0.143625, rho=0.114708\n",
      "2017-12-16 05:06:17,371 : INFO : PROGRESS: pass 0, at document #154000/179632\n",
      "2017-12-16 05:06:18,616 : INFO : merging changes from 2000 documents into a model of 179632 documents\n",
      "2017-12-16 05:06:18,650 : INFO : topic #0 (0.333): 0.053*\"و\" + 0.024*\"يا\" + 0.022*\"من\" + 0.021*\"الله\" + 0.019*\"اللي\" + 0.019*\"ما\" + 0.015*\"في\" + 0.015*\"مو\" + 0.014*\"انت\" + 0.013*\"كل\"\n",
      "2017-12-16 05:06:18,653 : INFO : topic #1 (0.333): 0.047*\"من\" + 0.042*\"في\" + 0.025*\"على\" + 0.022*\"لا\" + 0.018*\"الله\" + 0.016*\"،\" + 0.013*\"…\" + 0.010*\"ما\" + 0.010*\"هذا\" + 0.010*\"عن\"\n",
      "2017-12-16 05:06:18,655 : INFO : topic #2 (0.333): 0.031*\"انا\" + 0.021*\"بس\" + 0.018*\"من\" + 0.015*\"اي\" + 0.013*\"اللي\" + 0.013*\"والله\" + 0.012*\"ما\" + 0.011*\"لو\" + 0.011*\"في\" + 0.011*\"لي\"\n",
      "2017-12-16 05:06:18,657 : INFO : topic diff=0.105671, rho=0.113961\n",
      "2017-12-16 05:06:18,659 : INFO : PROGRESS: pass 0, at document #156000/179632\n",
      "2017-12-16 05:06:20,003 : INFO : merging changes from 2000 documents into a model of 179632 documents\n",
      "2017-12-16 05:06:20,038 : INFO : topic #0 (0.333): 0.054*\"و\" + 0.029*\"يا\" + 0.022*\"من\" + 0.020*\"الله\" + 0.019*\"ما\" + 0.017*\"اللي\" + 0.016*\"في\" + 0.014*\"مو\" + 0.014*\"انت\" + 0.013*\"كل\"\n",
      "2017-12-16 05:06:20,041 : INFO : topic #1 (0.333): 0.047*\"من\" + 0.043*\"في\" + 0.025*\"على\" + 0.020*\"لا\" + 0.017*\"الله\" + 0.015*\"،\" + 0.015*\"…\" + 0.011*\"عن\" + 0.010*\"هذا\" + 0.010*\"ما\"\n",
      "2017-12-16 05:06:20,043 : INFO : topic #2 (0.333): 0.029*\"انا\" + 0.021*\"بس\" + 0.018*\"من\" + 0.014*\"اي\" + 0.012*\"ما\" + 0.012*\"والله\" + 0.012*\"اللي\" + 0.011*\"في\" + 0.011*\"لو\" + 0.010*\"صباح\"\n",
      "2017-12-16 05:06:20,045 : INFO : topic diff=0.136054, rho=0.113228\n",
      "2017-12-16 05:06:20,048 : INFO : PROGRESS: pass 0, at document #158000/179632\n",
      "2017-12-16 05:06:21,417 : INFO : merging changes from 2000 documents into a model of 179632 documents\n",
      "2017-12-16 05:06:21,451 : INFO : topic #0 (0.333): 0.052*\"و\" + 0.041*\"يا\" + 0.023*\"الله\" + 0.022*\"من\" + 0.020*\"ما\" + 0.016*\"اللي\" + 0.016*\"في\" + 0.014*\"انت\" + 0.013*\"مو\" + 0.012*\"كل\"\n",
      "2017-12-16 05:06:21,453 : INFO : topic #1 (0.333): 0.047*\"من\" + 0.045*\"في\" + 0.026*\"على\" + 0.021*\"لا\" + 0.019*\"الله\" + 0.015*\"…\" + 0.014*\"،\" + 0.011*\"عن\" + 0.011*\"هذا\" + 0.010*\"أن\"\n",
      "2017-12-16 05:06:21,456 : INFO : topic #2 (0.333): 0.027*\"انا\" + 0.020*\"بس\" + 0.018*\"من\" + 0.013*\"اي\" + 0.012*\"ما\" + 0.012*\"والله\" + 0.012*\"في\" + 0.011*\"اللي\" + 0.011*\"لو\" + 0.010*\"لا\"\n",
      "2017-12-16 05:06:21,458 : INFO : topic diff=0.135674, rho=0.112509\n",
      "2017-12-16 05:06:23,593 : INFO : -7.066 per-word bound, 133.9 perplexity estimate based on a held-out corpus of 2000 documents with 16733 words\n",
      "2017-12-16 05:06:23,596 : INFO : PROGRESS: pass 0, at document #160000/179632\n",
      "2017-12-16 05:06:25,031 : INFO : merging changes from 2000 documents into a model of 179632 documents\n",
      "2017-12-16 05:06:25,065 : INFO : topic #0 (0.333): 0.050*\"يا\" + 0.047*\"و\" + 0.025*\"الله\" + 0.022*\"من\" + 0.021*\"ما\" + 0.016*\"في\" + 0.015*\"اللي\" + 0.013*\"انت\" + 0.012*\"كل\" + 0.011*\"مو\"\n",
      "2017-12-16 05:06:25,068 : INFO : topic #1 (0.333): 0.047*\"من\" + 0.045*\"في\" + 0.027*\"على\" + 0.023*\"لا\" + 0.020*\"الله\" + 0.014*\"…\" + 0.014*\"،\" + 0.012*\"أن\" + 0.011*\"عن\" + 0.011*\"هذا\"\n",
      "2017-12-16 05:06:25,070 : INFO : topic #2 (0.333): 0.025*\"انا\" + 0.018*\"بس\" + 0.018*\"من\" + 0.013*\"ما\" + 0.012*\"اي\" + 0.012*\"والله\" + 0.012*\"في\" + 0.011*\"قطر\" + 0.011*\"لا\" + 0.010*\"لو\"\n",
      "2017-12-16 05:06:25,073 : INFO : topic diff=0.123358, rho=0.111803\n",
      "2017-12-16 05:06:25,075 : INFO : PROGRESS: pass 0, at document #162000/179632\n",
      "2017-12-16 05:06:26,308 : INFO : merging changes from 2000 documents into a model of 179632 documents\n",
      "2017-12-16 05:06:26,342 : INFO : topic #0 (0.333): 0.045*\"يا\" + 0.043*\"و\" + 0.025*\"الله\" + 0.021*\"من\" + 0.019*\"ما\" + 0.015*\"في\" + 0.014*\"اللي\" + 0.012*\"كل\" + 0.011*\"مو\" + 0.011*\"انت\"\n",
      "2017-12-16 05:06:26,345 : INFO : topic #1 (0.333): 0.047*\"من\" + 0.045*\"في\" + 0.026*\"على\" + 0.023*\"لا\" + 0.020*\"الله\" + 0.014*\"،\" + 0.014*\"…\" + 0.012*\"أن\" + 0.011*\"عن\" + 0.011*\"هذا\"\n",
      "2017-12-16 05:06:26,347 : INFO : topic #2 (0.333): 0.026*\"انا\" + 0.020*\"بس\" + 0.018*\"من\" + 0.012*\"والله\" + 0.012*\"ما\" + 0.012*\"صباح\" + 0.011*\"اي\" + 0.011*\"لا\" + 0.011*\"في\" + 0.010*\"اللي\"\n",
      "2017-12-16 05:06:26,350 : INFO : topic diff=0.142834, rho=0.111111\n",
      "2017-12-16 05:06:26,352 : INFO : PROGRESS: pass 0, at document #164000/179632\n"
     ]
    },
    {
     "name": "stderr",
     "output_type": "stream",
     "text": [
      "2017-12-16 05:06:27,464 : INFO : merging changes from 2000 documents into a model of 179632 documents\n",
      "2017-12-16 05:06:27,498 : INFO : topic #0 (0.333): 0.043*\"يا\" + 0.043*\"و\" + 0.024*\"الله\" + 0.021*\"من\" + 0.018*\"ما\" + 0.014*\"اللي\" + 0.014*\"في\" + 0.013*\"كل\" + 0.011*\"انت\" + 0.011*\"مو\"\n",
      "2017-12-16 05:06:27,501 : INFO : topic #1 (0.333): 0.047*\"من\" + 0.044*\"في\" + 0.026*\"على\" + 0.024*\"لا\" + 0.019*\"الله\" + 0.015*\"،\" + 0.014*\"…\" + 0.012*\"أن\" + 0.011*\"عن\" + 0.010*\"ما\"\n",
      "2017-12-16 05:06:27,503 : INFO : topic #2 (0.333): 0.025*\"انا\" + 0.019*\"بس\" + 0.018*\"من\" + 0.012*\"صباح\" + 0.012*\"والله\" + 0.012*\"ما\" + 0.012*\"لا\" + 0.011*\"لي\" + 0.011*\"في\" + 0.011*\"اللي\"\n",
      "2017-12-16 05:06:27,506 : INFO : topic diff=0.110466, rho=0.110432\n",
      "2017-12-16 05:06:27,508 : INFO : PROGRESS: pass 0, at document #166000/179632\n",
      "2017-12-16 05:06:28,703 : INFO : merging changes from 2000 documents into a model of 179632 documents\n",
      "2017-12-16 05:06:28,735 : INFO : topic #0 (0.333): 0.043*\"يا\" + 0.042*\"و\" + 0.024*\"الله\" + 0.021*\"من\" + 0.018*\"ما\" + 0.014*\"اللي\" + 0.014*\"في\" + 0.012*\"كل\" + 0.011*\"انت\" + 0.010*\"مو\"\n",
      "2017-12-16 05:06:28,738 : INFO : topic #1 (0.333): 0.047*\"من\" + 0.043*\"في\" + 0.025*\"على\" + 0.024*\"لا\" + 0.019*\"الله\" + 0.016*\"،\" + 0.015*\"…\" + 0.012*\"أن\" + 0.011*\"عن\" + 0.010*\"هذا\"\n",
      "2017-12-16 05:06:28,741 : INFO : topic #2 (0.333): 0.025*\"انا\" + 0.018*\"بس\" + 0.018*\"من\" + 0.012*\"صباح\" + 0.012*\"والله\" + 0.011*\"لي\" + 0.011*\"ما\" + 0.011*\"لا\" + 0.010*\"في\" + 0.010*\"اللي\"\n",
      "2017-12-16 05:06:28,743 : INFO : topic diff=0.106465, rho=0.109764\n",
      "2017-12-16 05:06:28,745 : INFO : PROGRESS: pass 0, at document #168000/179632\n",
      "2017-12-16 05:06:30,067 : INFO : merging changes from 2000 documents into a model of 179632 documents\n",
      "2017-12-16 05:06:30,099 : INFO : topic #0 (0.333): 0.041*\"و\" + 0.041*\"يا\" + 0.025*\"الله\" + 0.020*\"من\" + 0.017*\"ما\" + 0.014*\"في\" + 0.013*\"اللي\" + 0.012*\"كل\" + 0.010*\"انت\" + 0.010*\"مو\"\n",
      "2017-12-16 05:06:30,102 : INFO : topic #1 (0.333): 0.046*\"من\" + 0.043*\"في\" + 0.025*\"على\" + 0.022*\"لا\" + 0.019*\"الله\" + 0.016*\"،\" + 0.016*\"…\" + 0.011*\"عن\" + 0.011*\"أن\" + 0.010*\"هذا\"\n",
      "2017-12-16 05:06:30,104 : INFO : topic #2 (0.333): 0.024*\"انا\" + 0.018*\"من\" + 0.017*\"بس\" + 0.012*\"والله\" + 0.011*\"ما\" + 0.011*\"صباح\" + 0.011*\"لي\" + 0.011*\"في\" + 0.010*\"لا\" + 0.010*\"اللي\"\n",
      "2017-12-16 05:06:30,107 : INFO : topic diff=0.127725, rho=0.109109\n",
      "2017-12-16 05:06:30,109 : INFO : PROGRESS: pass 0, at document #170000/179632\n",
      "2017-12-16 05:06:31,405 : INFO : merging changes from 2000 documents into a model of 179632 documents\n",
      "2017-12-16 05:06:31,437 : INFO : topic #0 (0.333): 0.037*\"و\" + 0.037*\"يا\" + 0.028*\"الله\" + 0.020*\"من\" + 0.016*\"يارب\" + 0.016*\"ما\" + 0.014*\"في\" + 0.013*\"كل\" + 0.011*\"اللي\" + 0.009*\"قلبي\"\n",
      "2017-12-16 05:06:31,440 : INFO : topic #1 (0.333): 0.047*\"من\" + 0.043*\"في\" + 0.025*\"على\" + 0.021*\"لا\" + 0.020*\"الله\" + 0.016*\"،\" + 0.015*\"…\" + 0.011*\"أن\" + 0.011*\"هذا\" + 0.010*\"عن\"\n",
      "2017-12-16 05:06:31,442 : INFO : topic #2 (0.333): 0.023*\"انا\" + 0.018*\"من\" + 0.018*\"بس\" + 0.013*\"لي\" + 0.012*\"والله\" + 0.011*\"في\" + 0.011*\"ما\" + 0.011*\"صباح\" + 0.011*\"الخير\" + 0.010*\"اي\"\n",
      "2017-12-16 05:06:31,444 : INFO : topic diff=0.136575, rho=0.108465\n",
      "2017-12-16 05:06:31,447 : INFO : PROGRESS: pass 0, at document #172000/179632\n",
      "2017-12-16 05:06:32,697 : INFO : merging changes from 2000 documents into a model of 179632 documents\n",
      "2017-12-16 05:06:32,728 : INFO : topic #0 (0.333): 0.043*\"و\" + 0.036*\"يا\" + 0.028*\"الله\" + 0.020*\"من\" + 0.016*\"ما\" + 0.015*\"يارب\" + 0.014*\"في\" + 0.013*\"كل\" + 0.012*\"اللي\" + 0.010*\"قلبي\"\n",
      "2017-12-16 05:06:32,731 : INFO : topic #1 (0.333): 0.048*\"من\" + 0.042*\"في\" + 0.025*\"على\" + 0.023*\"لا\" + 0.019*\"الله\" + 0.017*\"،\" + 0.016*\"…\" + 0.012*\"أن\" + 0.011*\"عن\" + 0.010*\"هذا\"\n",
      "2017-12-16 05:06:32,733 : INFO : topic #2 (0.333): 0.023*\"انا\" + 0.018*\"من\" + 0.018*\"بس\" + 0.013*\"لي\" + 0.011*\"والله\" + 0.011*\"ما\" + 0.011*\"في\" + 0.011*\"صباح\" + 0.011*\"الخير\" + 0.010*\"م\"\n",
      "2017-12-16 05:06:32,735 : INFO : topic diff=0.112179, rho=0.107833\n",
      "2017-12-16 05:06:32,738 : INFO : PROGRESS: pass 0, at document #174000/179632\n",
      "2017-12-16 05:06:34,003 : INFO : merging changes from 2000 documents into a model of 179632 documents\n",
      "2017-12-16 05:06:34,034 : INFO : topic #0 (0.333): 0.047*\"و\" + 0.037*\"يا\" + 0.028*\"الله\" + 0.020*\"من\" + 0.016*\"ما\" + 0.015*\"يارب\" + 0.014*\"كل\" + 0.014*\"في\" + 0.011*\"اللي\" + 0.010*\"قلبي\"\n",
      "2017-12-16 05:06:34,036 : INFO : topic #1 (0.333): 0.047*\"من\" + 0.042*\"في\" + 0.024*\"على\" + 0.024*\"لا\" + 0.019*\"الله\" + 0.018*\"،\" + 0.017*\"…\" + 0.013*\"أن\" + 0.010*\"عن\" + 0.010*\"ما\"\n",
      "2017-12-16 05:06:34,039 : INFO : topic #2 (0.333): 0.022*\"انا\" + 0.018*\"من\" + 0.017*\"بس\" + 0.013*\"لي\" + 0.013*\"م\" + 0.012*\"الخير\" + 0.012*\"صباح\" + 0.011*\"ما\" + 0.011*\"في\" + 0.011*\"والله\"\n",
      "2017-12-16 05:06:34,041 : INFO : topic diff=0.099018, rho=0.107211\n",
      "2017-12-16 05:06:34,043 : INFO : PROGRESS: pass 0, at document #176000/179632\n",
      "2017-12-16 05:06:35,315 : INFO : merging changes from 2000 documents into a model of 179632 documents\n",
      "2017-12-16 05:06:35,345 : INFO : topic #0 (0.333): 0.053*\"و\" + 0.036*\"يا\" + 0.028*\"الله\" + 0.021*\"من\" + 0.017*\"ما\" + 0.014*\"يارب\" + 0.014*\"كل\" + 0.014*\"في\" + 0.011*\"اللي\" + 0.010*\"قلبي\"\n",
      "2017-12-16 05:06:35,348 : INFO : topic #1 (0.333): 0.047*\"من\" + 0.042*\"في\" + 0.024*\"لا\" + 0.024*\"على\" + 0.020*\"الله\" + 0.019*\"،\" + 0.018*\"…\" + 0.013*\"أن\" + 0.010*\"عن\" + 0.010*\"ما\"\n",
      "2017-12-16 05:06:35,350 : INFO : topic #2 (0.333): 0.022*\"انا\" + 0.018*\"من\" + 0.017*\"بس\" + 0.013*\"صباح\" + 0.013*\"لي\" + 0.013*\"الخير\" + 0.013*\"ما\" + 0.012*\"م\" + 0.011*\"في\" + 0.010*\"والله\"\n",
      "2017-12-16 05:06:35,352 : INFO : topic diff=0.096331, rho=0.106600\n",
      "2017-12-16 05:06:35,355 : INFO : PROGRESS: pass 0, at document #178000/179632\n",
      "2017-12-16 05:06:36,674 : INFO : merging changes from 2000 documents into a model of 179632 documents\n",
      "2017-12-16 05:06:36,704 : INFO : topic #0 (0.333): 0.058*\"و\" + 0.034*\"يا\" + 0.027*\"الله\" + 0.021*\"من\" + 0.019*\"ما\" + 0.014*\"كل\" + 0.014*\"اللي\" + 0.013*\"في\" + 0.013*\"يارب\" + 0.010*\"انت\"\n",
      "2017-12-16 05:06:36,706 : INFO : topic #1 (0.333): 0.047*\"من\" + 0.041*\"في\" + 0.024*\"لا\" + 0.023*\"على\" + 0.019*\"الله\" + 0.018*\"،\" + 0.017*\"…\" + 0.012*\"أن\" + 0.011*\"ما\" + 0.010*\"عن\"\n",
      "2017-12-16 05:06:36,709 : INFO : topic #2 (0.333): 0.024*\"انا\" + 0.018*\"من\" + 0.017*\"بس\" + 0.015*\"ما\" + 0.012*\"لي\" + 0.012*\"صباح\" + 0.012*\"الخير\" + 0.011*\"في\" + 0.011*\"اللي\" + 0.011*\"م\"\n",
      "2017-12-16 05:06:36,711 : INFO : topic diff=0.104620, rho=0.106000\n",
      "2017-12-16 05:06:38,334 : INFO : -7.416 per-word bound, 170.8 perplexity estimate based on a held-out corpus of 1632 documents with 11392 words\n",
      "2017-12-16 05:06:38,337 : INFO : PROGRESS: pass 0, at document #179632/179632\n",
      "2017-12-16 05:06:39,432 : INFO : merging changes from 1632 documents into a model of 179632 documents\n",
      "2017-12-16 05:06:39,462 : INFO : topic #0 (0.333): 0.055*\"و\" + 0.032*\"يا\" + 0.027*\"الله\" + 0.021*\"من\" + 0.018*\"ما\" + 0.016*\"اللي\" + 0.014*\"كل\" + 0.013*\"في\" + 0.012*\"يارب\" + 0.012*\"انت\"\n",
      "2017-12-16 05:06:39,464 : INFO : topic #1 (0.333): 0.048*\"من\" + 0.041*\"في\" + 0.023*\"لا\" + 0.023*\"على\" + 0.019*\"الله\" + 0.017*\"،\" + 0.017*\"…\" + 0.012*\"أن\" + 0.011*\"عن\" + 0.010*\"ما\"\n",
      "2017-12-16 05:06:39,466 : INFO : topic #2 (0.333): 0.024*\"انا\" + 0.019*\"من\" + 0.017*\"بس\" + 0.014*\"ما\" + 0.013*\"ع\" + 0.013*\"اللي\" + 0.012*\"لي\" + 0.011*\"صباح\" + 0.011*\"الخير\" + 0.010*\"في\"\n",
      "2017-12-16 05:06:39,469 : INFO : topic diff=0.114619, rho=0.105409\n"
     ]
    }
   ],
   "source": [
    "ldamodel = gensim.models.ldamodel.LdaModel(corpus, num_topics=3, id2word = dictionary)"
   ]
  },
  {
   "cell_type": "code",
   "execution_count": 69,
   "metadata": {},
   "outputs": [
    {
     "name": "stderr",
     "output_type": "stream",
     "text": [
      "2017-12-16 05:09:39,137 : INFO : topic #0 (0.333): 0.055*\"و\" + 0.032*\"يا\"\n",
      "2017-12-16 05:09:39,138 : INFO : topic #1 (0.333): 0.048*\"من\" + 0.041*\"في\"\n",
      "2017-12-16 05:09:39,139 : INFO : topic #2 (0.333): 0.024*\"انا\" + 0.019*\"من\"\n"
     ]
    },
    {
     "name": "stdout",
     "output_type": "stream",
     "text": [
      "[(0, '0.055*\"و\" + 0.032*\"يا\"'), (1, '0.048*\"من\" + 0.041*\"في\"'), (2, '0.024*\"انا\" + 0.019*\"من\"')]\n"
     ]
    }
   ],
   "source": [
    "print(ldamodel.print_topics(num_topics=3, num_words=2))"
   ]
  },
  {
   "cell_type": "code",
   "execution_count": null,
   "metadata": {},
   "outputs": [],
   "source": []
  },
  {
   "cell_type": "code",
   "execution_count": null,
   "metadata": {},
   "outputs": [],
   "source": []
  },
  {
   "cell_type": "code",
   "execution_count": null,
   "metadata": {},
   "outputs": [],
   "source": []
  },
  {
   "cell_type": "markdown",
   "metadata": {},
   "source": [
    "For later use"
   ]
  },
  {
   "cell_type": "code",
   "execution_count": null,
   "metadata": {},
   "outputs": [],
   "source": [
    "# class MyCorpus(object):\n",
    "#     def __iter__(self):\n",
    "#         for line in open('datasets/mycorpus.txt'):\n",
    "#             # assume there's one document per line, tokens separated by whitespace\n",
    "#             yield dictionary.doc2bow(line.lower().split())"
   ]
  },
  {
   "cell_type": "code",
   "execution_count": null,
   "metadata": {},
   "outputs": [],
   "source": [
    "# add a new doc (tokens) to this dictionary and update it.\"Same tokens to the same ids and new tokens to new ids\".\n",
    "# dict2 = corpora.Dictionary(moreDocs)\n",
    "# dict1.merge_with(dict2)"
   ]
  },
  {
   "cell_type": "code",
   "execution_count": null,
   "metadata": {},
   "outputs": [],
   "source": [
    "# new_vec = dictionary.doc2bow(text_eda_no_stops)\n",
    "# print(new_vec)  # the word \"interaction\" does not appear in the dictionary and is ignored\n",
    "# [(0, 1), (1, 1)]"
   ]
  },
  {
   "cell_type": "code",
   "execution_count": null,
   "metadata": {},
   "outputs": [],
   "source": [
    "# turn our tokenized documents into a id <-> term dictionary\n",
    "dictionary = Dictionary(text_eda_no_stops)\n",
    "    \n",
    "# convert tokenized documents into a document-term matrix\n",
    "corpus = [dictionary.doc2bow(text) for text in text_eda_no_stops]\n",
    "\n",
    "# generate LDA model\n",
    "ldamodel = gensim.models.ldamodel.LdaModel(corpus, num_topics=2, id2word = dictionary, passes=20)"
   ]
  },
  {
   "cell_type": "code",
   "execution_count": null,
   "metadata": {},
   "outputs": [],
   "source": [
    "#tfidf = models.TfidfModel(df.cleaned_text)"
   ]
  },
  {
   "cell_type": "code",
   "execution_count": null,
   "metadata": {},
   "outputs": [],
   "source": [
    "#corpus = gensim.matutils.Sparse2Corpus(scipy_sparse_matrix)"
   ]
  },
  {
   "cell_type": "code",
   "execution_count": null,
   "metadata": {},
   "outputs": [],
   "source": []
  },
  {
   "cell_type": "code",
   "execution_count": null,
   "metadata": {},
   "outputs": [],
   "source": []
  },
  {
   "cell_type": "code",
   "execution_count": null,
   "metadata": {},
   "outputs": [],
   "source": []
  },
  {
   "cell_type": "code",
   "execution_count": null,
   "metadata": {},
   "outputs": [],
   "source": []
  }
 ],
 "metadata": {
  "kernelspec": {
   "display_name": "Python 3",
   "language": "python",
   "name": "python3"
  },
  "language_info": {
   "codemirror_mode": {
    "name": "ipython",
    "version": 3
   },
   "file_extension": ".py",
   "mimetype": "text/x-python",
   "name": "python",
   "nbconvert_exporter": "python",
   "pygments_lexer": "ipython3",
   "version": "3.6.3"
  }
 },
 "nbformat": 4,
 "nbformat_minor": 2
}
