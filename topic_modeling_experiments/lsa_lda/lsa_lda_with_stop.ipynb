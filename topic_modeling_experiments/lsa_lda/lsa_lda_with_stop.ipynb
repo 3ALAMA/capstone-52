{
 "cells": [
  {
   "cell_type": "markdown",
   "metadata": {},
   "source": [
    "## LSA & LDA \n",
    "\n",
    "___(With stop words)___"
   ]
  },
  {
   "cell_type": "code",
   "execution_count": 1,
   "metadata": {},
   "outputs": [],
   "source": [
    "import matplotlib.pyplot as plt\n",
    "import numpy as np\n",
    "import pandas as pd\n",
    "import seaborn as sns\n",
    "\n",
    "%matplotlib inline"
   ]
  },
  {
   "cell_type": "code",
   "execution_count": 2,
   "metadata": {},
   "outputs": [],
   "source": [
    "pd.set_option('display.max_colwidth', -1)"
   ]
  },
  {
   "cell_type": "markdown",
   "metadata": {},
   "source": [
    "_________________________________________________"
   ]
  },
  {
   "cell_type": "markdown",
   "metadata": {},
   "source": [
    "#### Import pickled stop words from `Effects of Stop Words Elimination for Arabic Information Retrieval: A Comparative Study`"
   ]
  },
  {
   "cell_type": "code",
   "execution_count": 3,
   "metadata": {
    "scrolled": true
   },
   "outputs": [],
   "source": [
    "stop_words_df = pd.read_pickle('/home/jovyan/capstone-52/topic_modeling_experiments/pickled_stopwords/comp_study_stopwords.p')"
   ]
  },
  {
   "cell_type": "code",
   "execution_count": 4,
   "metadata": {},
   "outputs": [],
   "source": [
    "stop_words_df.columns = [\"stop_words\"]"
   ]
  },
  {
   "cell_type": "code",
   "execution_count": 5,
   "metadata": {},
   "outputs": [
    {
     "data": {
      "text/plain": [
       "Index(['stop_words'], dtype='object')"
      ]
     },
     "execution_count": 5,
     "metadata": {},
     "output_type": "execute_result"
    }
   ],
   "source": [
    "stop_words_df.columns"
   ]
  },
  {
   "cell_type": "code",
   "execution_count": 6,
   "metadata": {},
   "outputs": [],
   "source": [
    "iabuelkhair_stopwords = stop_words_df['stop_words'].tolist()"
   ]
  },
  {
   "cell_type": "code",
   "execution_count": 7,
   "metadata": {},
   "outputs": [
    {
     "data": {
      "text/plain": [
       "['انها', 'اثناء', 'اجل', 'احدا']"
      ]
     },
     "execution_count": 7,
     "metadata": {},
     "output_type": "execute_result"
    }
   ],
   "source": [
    "iabuelkhair_stopwords[:4]"
   ]
  },
  {
   "cell_type": "markdown",
   "metadata": {},
   "source": [
    "### Access corpus through pickled MongoDB file"
   ]
  },
  {
   "cell_type": "code",
   "execution_count": 8,
   "metadata": {
    "scrolled": true
   },
   "outputs": [
    {
     "name": "stdout",
     "output_type": "stream",
     "text": [
      "/home/jovyan/capstone-52/Pickled_from_mongo\n"
     ]
    }
   ],
   "source": [
    "cd ../../Pickled_from_mongo/"
   ]
  },
  {
   "cell_type": "code",
   "execution_count": 9,
   "metadata": {
    "scrolled": false
   },
   "outputs": [],
   "source": [
    "df = pd.read_pickle('../Pickled_from_mongo/combined_eg_gulf_200k_sample.p')"
   ]
  },
  {
   "cell_type": "code",
   "execution_count": 10,
   "metadata": {},
   "outputs": [
    {
     "data": {
      "text/html": [
       "<div>\n",
       "<table border=\"1\" class=\"dataframe\">\n",
       "  <thead>\n",
       "    <tr style=\"text-align: right;\">\n",
       "      <th></th>\n",
       "      <th>_id</th>\n",
       "      <th>cleaned_geo</th>\n",
       "      <th>cleaned_name</th>\n",
       "      <th>cleaned_text</th>\n",
       "      <th>class</th>\n",
       "    </tr>\n",
       "  </thead>\n",
       "  <tbody>\n",
       "    <tr>\n",
       "      <th>0</th>\n",
       "      <td>5a2c7a44204c9e0400cdc0e2</td>\n",
       "      <td>None</td>\n",
       "      <td>kamal</td>\n",
       "      <td>أزاي أقول لك كنا زمان والماضي كان فى الغيب بكره واللي أحنا فيه دلوقت كمان ح يفوت علينا ولا ندري</td>\n",
       "      <td>EG</td>\n",
       "    </tr>\n",
       "    <tr>\n",
       "      <th>1</th>\n",
       "      <td>5a2c7a44204c9e0400cdc0e3</td>\n",
       "      <td>Egypt</td>\n",
       "      <td>agabdelrehim</td>\n",
       "      <td>هي آراء آه بس أزاي أجويرو منتهي يعني أمال لو مكنش الهداف التاريخي للسيتي و كل موسم اقل عدد من الاهداف…</td>\n",
       "      <td>EG</td>\n",
       "    </tr>\n",
       "    <tr>\n",
       "      <th>2</th>\n",
       "      <td>5a2c7a44204c9e0400cdc0e4</td>\n",
       "      <td>None</td>\n",
       "      <td>ElsndubadE</td>\n",
       "      <td>أنت صيني أزاي تقارن شادي بالخطيب ألي هو الوحيد ألي خد الكورة الذهبية من مصر وبشهادت الزملكاوي قبل الأ…</td>\n",
       "      <td>EG</td>\n",
       "    </tr>\n",
       "  </tbody>\n",
       "</table>\n",
       "</div>"
      ],
      "text/plain": [
       "                        _id cleaned_geo  cleaned_name  \\\n",
       "0  5a2c7a44204c9e0400cdc0e2  None        kamal          \n",
       "1  5a2c7a44204c9e0400cdc0e3  Egypt       agabdelrehim   \n",
       "2  5a2c7a44204c9e0400cdc0e4  None        ElsndubadE     \n",
       "\n",
       "                                                                                             cleaned_text  \\\n",
       "0  أزاي أقول لك كنا زمان والماضي كان فى الغيب بكره واللي أحنا فيه دلوقت كمان ح يفوت علينا ولا ندري          \n",
       "1  هي آراء آه بس أزاي أجويرو منتهي يعني أمال لو مكنش الهداف التاريخي للسيتي و كل موسم اقل عدد من الاهداف…   \n",
       "2  أنت صيني أزاي تقارن شادي بالخطيب ألي هو الوحيد ألي خد الكورة الذهبية من مصر وبشهادت الزملكاوي قبل الأ…   \n",
       "\n",
       "  class  \n",
       "0  EG    \n",
       "1  EG    \n",
       "2  EG    "
      ]
     },
     "execution_count": 10,
     "metadata": {},
     "output_type": "execute_result"
    }
   ],
   "source": [
    "df.head(3)"
   ]
  },
  {
   "cell_type": "code",
   "execution_count": 11,
   "metadata": {},
   "outputs": [],
   "source": [
    "df = df.drop(['_id', 'cleaned_geo', 'cleaned_name'], axis=1)"
   ]
  },
  {
   "cell_type": "code",
   "execution_count": 14,
   "metadata": {},
   "outputs": [],
   "source": [
    "df = df.drop_duplicates(['cleaned_text'], keep=False)"
   ]
  },
  {
   "cell_type": "code",
   "execution_count": 15,
   "metadata": {
    "scrolled": true
   },
   "outputs": [
    {
     "name": "stdout",
     "output_type": "stream",
     "text": [
      "<class 'pandas.core.frame.DataFrame'>\n",
      "Int64Index: 179632 entries, 0 to 95683\n",
      "Data columns (total 2 columns):\n",
      "cleaned_text    179632 non-null object\n",
      "class           179632 non-null object\n",
      "dtypes: object(2)\n",
      "memory usage: 4.1+ MB\n"
     ]
    }
   ],
   "source": [
    "df.info()"
   ]
  },
  {
   "cell_type": "markdown",
   "metadata": {},
   "source": [
    "## Benchmark LSA with stop words"
   ]
  },
  {
   "cell_type": "markdown",
   "metadata": {},
   "source": [
    "### Label Encode the Categories\n"
   ]
  },
  {
   "cell_type": "code",
   "execution_count": 16,
   "metadata": {},
   "outputs": [],
   "source": [
    "from sklearn.preprocessing import LabelEncoder"
   ]
  },
  {
   "cell_type": "code",
   "execution_count": 17,
   "metadata": {},
   "outputs": [],
   "source": [
    "le = LabelEncoder()\n",
    "df['class_numerical'] = le.fit_transform(df['class'])"
   ]
  },
  {
   "cell_type": "markdown",
   "metadata": {},
   "source": [
    "### TFIDF"
   ]
  },
  {
   "cell_type": "markdown",
   "metadata": {},
   "source": [
    "### Prepare Document Term Matrix\n"
   ]
  },
  {
   "cell_type": "code",
   "execution_count": 18,
   "metadata": {},
   "outputs": [],
   "source": [
    "from sklearn.feature_extraction.text import TfidfVectorizer"
   ]
  },
  {
   "cell_type": "code",
   "execution_count": 19,
   "metadata": {},
   "outputs": [],
   "source": [
    "tfidf_vectorizer = TfidfVectorizer(min_df = 1, stop_words= iabuelkhair_stopwords)"
   ]
  },
  {
   "cell_type": "code",
   "execution_count": 20,
   "metadata": {},
   "outputs": [],
   "source": [
    "document_term_matrix_sps = tfidf_vectorizer.fit_transform(df.cleaned_text)"
   ]
  },
  {
   "cell_type": "code",
   "execution_count": 21,
   "metadata": {},
   "outputs": [
    {
     "data": {
      "text/plain": [
       "<179632x218701 sparse matrix of type '<class 'numpy.float64'>'\n",
       "\twith 1366041 stored elements in Compressed Sparse Row format>"
      ]
     },
     "execution_count": 21,
     "metadata": {},
     "output_type": "execute_result"
    }
   ],
   "source": [
    "document_term_matrix_sps\n"
   ]
  },
  {
   "cell_type": "markdown",
   "metadata": {},
   "source": [
    "### Compute SVD of Document Term Matrix"
   ]
  },
  {
   "cell_type": "code",
   "execution_count": 24,
   "metadata": {},
   "outputs": [],
   "source": [
    "from sklearn.decomposition import TruncatedSVD"
   ]
  },
  {
   "cell_type": "code",
   "execution_count": 25,
   "metadata": {},
   "outputs": [],
   "source": [
    "n_components = 50\n",
    "SVD = TruncatedSVD(n_components)\n",
    "component_names = [\"component_\"+str(i+1) for i in range(n_components)]"
   ]
  },
  {
   "cell_type": "code",
   "execution_count": 26,
   "metadata": {},
   "outputs": [],
   "source": [
    "svd_matrix = SVD.fit_transform(document_term_matrix_sps)"
   ]
  },
  {
   "cell_type": "code",
   "execution_count": 27,
   "metadata": {},
   "outputs": [
    {
     "data": {
      "text/plain": [
       "array([ 0.00214205,  0.00247348,  0.00229391,  0.00199443,  0.00186785,\n",
       "        0.00171522,  0.0015905 ,  0.00148238,  0.00135054,  0.00123149,\n",
       "        0.00122168,  0.00117116,  0.00109812,  0.00103643,  0.00101351,\n",
       "        0.00099886,  0.00095942,  0.00089476,  0.00088403,  0.00087113,\n",
       "        0.00085381,  0.00085049,  0.00083772,  0.00083096,  0.00080576,\n",
       "        0.00078784,  0.00078725,  0.00076711,  0.00075666,  0.00075776,\n",
       "        0.0007364 ,  0.00072796,  0.00071557,  0.0007174 ,  0.00069832,\n",
       "        0.0006781 ,  0.00066695,  0.00066429,  0.00065476,  0.00065393,\n",
       "        0.00063403,  0.00062297,  0.00061141,  0.00060386,  0.00059727,\n",
       "        0.00058227,  0.000579  ,  0.0005683 ,  0.00056274,  0.00054987])"
      ]
     },
     "execution_count": 27,
     "metadata": {},
     "output_type": "execute_result"
    }
   ],
   "source": [
    "SVD.explained_variance_ratio_"
   ]
  },
  {
   "cell_type": "code",
   "execution_count": 28,
   "metadata": {},
   "outputs": [
    {
     "data": {
      "text/plain": [
       "(179632, 50)"
      ]
     },
     "execution_count": 28,
     "metadata": {},
     "output_type": "execute_result"
    }
   ],
   "source": [
    "svd_matrix.shape"
   ]
  },
  {
   "cell_type": "markdown",
   "metadata": {},
   "source": [
    "### Load SVD Matrix with Documents and Labels\n"
   ]
  },
  {
   "cell_type": "code",
   "execution_count": 27,
   "metadata": {},
   "outputs": [],
   "source": [
    "latent_semantic_analysis = pd.DataFrame(svd_matrix,\n",
    "                                        index=df.index,\n",
    "                                        columns=component_names)\n",
    "latent_semantic_analysis['cleaned_text'] = df.cleaned_text\n",
    "latent_semantic_analysis['class'] = df['class']"
   ]
  },
  {
   "cell_type": "code",
   "execution_count": 30,
   "metadata": {},
   "outputs": [
    {
     "data": {
      "text/html": [
       "<div>\n",
       "<table border=\"1\" class=\"dataframe\">\n",
       "  <thead>\n",
       "    <tr style=\"text-align: right;\">\n",
       "      <th></th>\n",
       "      <th>component_1</th>\n",
       "      <th>component_2</th>\n",
       "      <th>cleaned_text</th>\n",
       "      <th>class</th>\n",
       "    </tr>\n",
       "  </thead>\n",
       "  <tbody>\n",
       "    <tr>\n",
       "      <th>0</th>\n",
       "      <td>0.040851</td>\n",
       "      <td>-0.013632</td>\n",
       "      <td>أزاي أقول لك كنا زمان والماضي كان فى الغيب بكره واللي أحنا فيه دلوقت كمان ح يفوت علينا ولا ندري</td>\n",
       "      <td>EG</td>\n",
       "    </tr>\n",
       "    <tr>\n",
       "      <th>1</th>\n",
       "      <td>0.040925</td>\n",
       "      <td>-0.027291</td>\n",
       "      <td>هي آراء آه بس أزاي أجويرو منتهي يعني أمال لو مكنش الهداف التاريخي للسيتي و كل موسم اقل عدد من الاهداف…</td>\n",
       "      <td>EG</td>\n",
       "    </tr>\n",
       "    <tr>\n",
       "      <th>2</th>\n",
       "      <td>0.006369</td>\n",
       "      <td>-0.001625</td>\n",
       "      <td>أنت صيني أزاي تقارن شادي بالخطيب ألي هو الوحيد ألي خد الكورة الذهبية من مصر وبشهادت الزملكاوي قبل الأ…</td>\n",
       "      <td>EG</td>\n",
       "    </tr>\n",
       "    <tr>\n",
       "      <th>3</th>\n",
       "      <td>0.020012</td>\n",
       "      <td>-0.007794</td>\n",
       "      <td>أزاي الناس كانت بتغرد في الخمسينات قبل إختراع تويتر</td>\n",
       "      <td>EG</td>\n",
       "    </tr>\n",
       "    <tr>\n",
       "      <th>4</th>\n",
       "      <td>0.067496</td>\n",
       "      <td>-0.044303</td>\n",
       "      <td>التوينز اللي معاها كل الحلو والوحش والمصايب والاكل والفشل مش عارفه من غيرك كنت هعيش أزاي ربنا يخليكي ليا ومش تويته توصفك</td>\n",
       "      <td>EG</td>\n",
       "    </tr>\n",
       "  </tbody>\n",
       "</table>\n",
       "</div>"
      ],
      "text/plain": [
       "   component_1  component_2  \\\n",
       "0  0.040851    -0.013632      \n",
       "1  0.040925    -0.027291      \n",
       "2  0.006369    -0.001625      \n",
       "3  0.020012    -0.007794      \n",
       "4  0.067496    -0.044303      \n",
       "\n",
       "                                                                                                               cleaned_text  \\\n",
       "0  أزاي أقول لك كنا زمان والماضي كان فى الغيب بكره واللي أحنا فيه دلوقت كمان ح يفوت علينا ولا ندري                            \n",
       "1  هي آراء آه بس أزاي أجويرو منتهي يعني أمال لو مكنش الهداف التاريخي للسيتي و كل موسم اقل عدد من الاهداف…                     \n",
       "2  أنت صيني أزاي تقارن شادي بالخطيب ألي هو الوحيد ألي خد الكورة الذهبية من مصر وبشهادت الزملكاوي قبل الأ…                     \n",
       "3  أزاي الناس كانت بتغرد في الخمسينات قبل إختراع تويتر                                                                        \n",
       "4  التوينز اللي معاها كل الحلو والوحش والمصايب والاكل والفشل مش عارفه من غيرك كنت هعيش أزاي ربنا يخليكي ليا ومش تويته توصفك   \n",
       "\n",
       "  class  \n",
       "0  EG    \n",
       "1  EG    \n",
       "2  EG    \n",
       "3  EG    \n",
       "4  EG    "
      ]
     },
     "execution_count": 30,
     "metadata": {},
     "output_type": "execute_result"
    }
   ],
   "source": [
    "latent_semantic_analysis.head()\n"
   ]
  },
  {
   "cell_type": "code",
   "execution_count": 32,
   "metadata": {},
   "outputs": [],
   "source": [
    "vocabulary_loadings = pd.DataFrame(SVD.components_,\n",
    "                                   index=component_names,\n",
    "                                   columns=tfidf_vectorizer.get_feature_names()).T"
   ]
  },
  {
   "cell_type": "code",
   "execution_count": 33,
   "metadata": {},
   "outputs": [],
   "source": [
    "vocabulary_loadings['abs_component_1'] = np.abs(vocabulary_loadings.component_1)\n",
    "vocabulary_loadings['abs_component_2'] = np.abs(vocabulary_loadings.component_2)"
   ]
  },
  {
   "cell_type": "markdown",
   "metadata": {},
   "source": [
    "### Display Top Terms for Each Component"
   ]
  },
  {
   "cell_type": "code",
   "execution_count": 34,
   "metadata": {},
   "outputs": [
    {
     "data": {
      "text/html": [
       "<div>\n",
       "<table border=\"1\" class=\"dataframe\">\n",
       "  <thead>\n",
       "    <tr style=\"text-align: right;\">\n",
       "      <th></th>\n",
       "      <th>component_1</th>\n",
       "      <th>component_2</th>\n",
       "      <th>abs_component_1</th>\n",
       "      <th>abs_component_2</th>\n",
       "    </tr>\n",
       "  </thead>\n",
       "  <tbody>\n",
       "    <tr>\n",
       "      <th>لا</th>\n",
       "      <td>0.518308</td>\n",
       "      <td>0.105882</td>\n",
       "      <td>0.518308</td>\n",
       "      <td>0.105882</td>\n",
       "    </tr>\n",
       "    <tr>\n",
       "      <th>الله</th>\n",
       "      <td>0.369124</td>\n",
       "      <td>0.829093</td>\n",
       "      <td>0.369124</td>\n",
       "      <td>0.829093</td>\n",
       "    </tr>\n",
       "    <tr>\n",
       "      <th>مش</th>\n",
       "      <td>0.320755</td>\n",
       "      <td>-0.257180</td>\n",
       "      <td>0.320755</td>\n",
       "      <td>0.257180</td>\n",
       "    </tr>\n",
       "    <tr>\n",
       "      <th>والله</th>\n",
       "      <td>0.276075</td>\n",
       "      <td>-0.200997</td>\n",
       "      <td>0.276075</td>\n",
       "      <td>0.200997</td>\n",
       "    </tr>\n",
       "    <tr>\n",
       "      <th>كدا</th>\n",
       "      <td>0.264343</td>\n",
       "      <td>-0.207582</td>\n",
       "      <td>0.264343</td>\n",
       "      <td>0.207582</td>\n",
       "    </tr>\n",
       "    <tr>\n",
       "      <th>بس</th>\n",
       "      <td>0.243458</td>\n",
       "      <td>-0.167986</td>\n",
       "      <td>0.243458</td>\n",
       "      <td>0.167986</td>\n",
       "    </tr>\n",
       "    <tr>\n",
       "      <th>ولا</th>\n",
       "      <td>0.186145</td>\n",
       "      <td>-0.050867</td>\n",
       "      <td>0.186145</td>\n",
       "      <td>0.050867</td>\n",
       "    </tr>\n",
       "    <tr>\n",
       "      <th>ايه</th>\n",
       "      <td>0.179963</td>\n",
       "      <td>-0.155853</td>\n",
       "      <td>0.179963</td>\n",
       "      <td>0.155853</td>\n",
       "    </tr>\n",
       "    <tr>\n",
       "      <th>اللي</th>\n",
       "      <td>0.162563</td>\n",
       "      <td>-0.098702</td>\n",
       "      <td>0.162563</td>\n",
       "      <td>0.098702</td>\n",
       "    </tr>\n",
       "    <tr>\n",
       "      <th>ده</th>\n",
       "      <td>0.134121</td>\n",
       "      <td>-0.090823</td>\n",
       "      <td>0.134121</td>\n",
       "      <td>0.090823</td>\n",
       "    </tr>\n",
       "  </tbody>\n",
       "</table>\n",
       "</div>"
      ],
      "text/plain": [
       "       component_1  component_2  abs_component_1  abs_component_2\n",
       "لا     0.518308     0.105882     0.518308         0.105882       \n",
       "الله   0.369124     0.829093     0.369124         0.829093       \n",
       "مش     0.320755    -0.257180     0.320755         0.257180       \n",
       "والله  0.276075    -0.200997     0.276075         0.200997       \n",
       "كدا    0.264343    -0.207582     0.264343         0.207582       \n",
       "بس     0.243458    -0.167986     0.243458         0.167986       \n",
       "ولا    0.186145    -0.050867     0.186145         0.050867       \n",
       "ايه    0.179963    -0.155853     0.179963         0.155853       \n",
       "اللي   0.162563    -0.098702     0.162563         0.098702       \n",
       "ده     0.134121    -0.090823     0.134121         0.090823       "
      ]
     },
     "execution_count": 34,
     "metadata": {},
     "output_type": "execute_result"
    }
   ],
   "source": [
    "vocabulary_loadings.sort_values('abs_component_1',ascending=False).head(10)"
   ]
  },
  {
   "cell_type": "code",
   "execution_count": 35,
   "metadata": {},
   "outputs": [
    {
     "data": {
      "text/html": [
       "<div>\n",
       "<table border=\"1\" class=\"dataframe\">\n",
       "  <thead>\n",
       "    <tr style=\"text-align: right;\">\n",
       "      <th></th>\n",
       "      <th>component_1</th>\n",
       "      <th>component_2</th>\n",
       "      <th>abs_component_1</th>\n",
       "      <th>abs_component_2</th>\n",
       "    </tr>\n",
       "  </thead>\n",
       "  <tbody>\n",
       "    <tr>\n",
       "      <th>الله</th>\n",
       "      <td>0.369124</td>\n",
       "      <td>0.829093</td>\n",
       "      <td>0.369124</td>\n",
       "      <td>0.829093</td>\n",
       "    </tr>\n",
       "    <tr>\n",
       "      <th>مش</th>\n",
       "      <td>0.320755</td>\n",
       "      <td>-0.257180</td>\n",
       "      <td>0.320755</td>\n",
       "      <td>0.257180</td>\n",
       "    </tr>\n",
       "    <tr>\n",
       "      <th>كدا</th>\n",
       "      <td>0.264343</td>\n",
       "      <td>-0.207582</td>\n",
       "      <td>0.264343</td>\n",
       "      <td>0.207582</td>\n",
       "    </tr>\n",
       "    <tr>\n",
       "      <th>والله</th>\n",
       "      <td>0.276075</td>\n",
       "      <td>-0.200997</td>\n",
       "      <td>0.276075</td>\n",
       "      <td>0.200997</td>\n",
       "    </tr>\n",
       "    <tr>\n",
       "      <th>بس</th>\n",
       "      <td>0.243458</td>\n",
       "      <td>-0.167986</td>\n",
       "      <td>0.243458</td>\n",
       "      <td>0.167986</td>\n",
       "    </tr>\n",
       "    <tr>\n",
       "      <th>ايه</th>\n",
       "      <td>0.179963</td>\n",
       "      <td>-0.155853</td>\n",
       "      <td>0.179963</td>\n",
       "      <td>0.155853</td>\n",
       "    </tr>\n",
       "    <tr>\n",
       "      <th>لا</th>\n",
       "      <td>0.518308</td>\n",
       "      <td>0.105882</td>\n",
       "      <td>0.518308</td>\n",
       "      <td>0.105882</td>\n",
       "    </tr>\n",
       "    <tr>\n",
       "      <th>شاء</th>\n",
       "      <td>0.044677</td>\n",
       "      <td>0.102145</td>\n",
       "      <td>0.044677</td>\n",
       "      <td>0.102145</td>\n",
       "    </tr>\n",
       "    <tr>\n",
       "      <th>اللي</th>\n",
       "      <td>0.162563</td>\n",
       "      <td>-0.098702</td>\n",
       "      <td>0.162563</td>\n",
       "      <td>0.098702</td>\n",
       "    </tr>\n",
       "    <tr>\n",
       "      <th>ده</th>\n",
       "      <td>0.134121</td>\n",
       "      <td>-0.090823</td>\n",
       "      <td>0.134121</td>\n",
       "      <td>0.090823</td>\n",
       "    </tr>\n",
       "  </tbody>\n",
       "</table>\n",
       "</div>"
      ],
      "text/plain": [
       "       component_1  component_2  abs_component_1  abs_component_2\n",
       "الله   0.369124     0.829093     0.369124         0.829093       \n",
       "مش     0.320755    -0.257180     0.320755         0.257180       \n",
       "كدا    0.264343    -0.207582     0.264343         0.207582       \n",
       "والله  0.276075    -0.200997     0.276075         0.200997       \n",
       "بس     0.243458    -0.167986     0.243458         0.167986       \n",
       "ايه    0.179963    -0.155853     0.179963         0.155853       \n",
       "لا     0.518308     0.105882     0.518308         0.105882       \n",
       "شاء    0.044677     0.102145     0.044677         0.102145       \n",
       "اللي   0.162563    -0.098702     0.162563         0.098702       \n",
       "ده     0.134121    -0.090823     0.134121         0.090823       "
      ]
     },
     "execution_count": 35,
     "metadata": {},
     "output_type": "execute_result"
    }
   ],
   "source": [
    "vocabulary_loadings.sort_values('abs_component_2',ascending=False).head(10)"
   ]
  },
  {
   "cell_type": "code",
   "execution_count": 36,
   "metadata": {},
   "outputs": [
    {
     "data": {
      "text/plain": [
       "(-0.5, 1)"
      ]
     },
     "execution_count": 36,
     "metadata": {},
     "output_type": "execute_result"
    },
    {
     "data": {
      "image/png": "[encoded data removed]",
      "text/plain": [
       "<matplotlib.figure.Figure at 0x7fe032076ba8>"
      ]
     },
     "metadata": {},
     "output_type": "display_data"
    }
   ],
   "source": [
    "plt.figure(figsize=(7,7))\n",
    "pc_1 = latent_semantic_analysis['component_1'].values\n",
    "pc_2 = latent_semantic_analysis['component_2'].values\n",
    "\n",
    "plt.scatter(pc_1, pc_2, c=df['class_numerical'], cmap='rainbow')\n",
    "\n",
    "plt.xlabel('First PC')\n",
    "plt.ylabel('Second PC')\n",
    "plt.axvline(linewidth=0.5)\n",
    "plt.axhline(linewidth=0.5)\n",
    "plt.xlim(-.1,1)\n",
    "plt.ylim(-.5,1)"
   ]
  },
  {
   "cell_type": "code",
   "execution_count": 37,
   "metadata": {
    "collapsed": true
   },
   "outputs": [
    {
     "data": {
      "text/plain": [
       "(-0.1, 1)"
      ]
     },
     "execution_count": 37,
     "metadata": {},
     "output_type": "execute_result"
    },
    {
     "ename": "ValueError",
     "evalue": "\n$ $\n^\nExpected end of text (at char 0), (line:1, col:1)",
     "output_type": "error",
     "traceback": [
      "\u001b[0;31m---------------------------------------------------------------------------\u001b[0m",
      "\u001b[0;31mParseException\u001b[0m                            Traceback (most recent call last)",
      "\u001b[0;32m/opt/conda/lib/python3.6/site-packages/matplotlib/mathtext.py\u001b[0m in \u001b[0;36mparse\u001b[0;34m(self, s, fonts_object, fontsize, dpi)\u001b[0m\n\u001b[1;32m   2516\u001b[0m         \u001b[0;32mtry\u001b[0m\u001b[0;34m:\u001b[0m\u001b[0;34m\u001b[0m\u001b[0m\n\u001b[0;32m-> 2517\u001b[0;31m             \u001b[0mresult\u001b[0m \u001b[0;34m=\u001b[0m \u001b[0mself\u001b[0m\u001b[0;34m.\u001b[0m\u001b[0m_expression\u001b[0m\u001b[0;34m.\u001b[0m\u001b[0mparseString\u001b[0m\u001b[0;34m(\u001b[0m\u001b[0ms\u001b[0m\u001b[0;34m)\u001b[0m\u001b[0;34m\u001b[0m\u001b[0m\n\u001b[0m\u001b[1;32m   2518\u001b[0m         \u001b[0;32mexcept\u001b[0m \u001b[0mParseBaseException\u001b[0m \u001b[0;32mas\u001b[0m \u001b[0merr\u001b[0m\u001b[0;34m:\u001b[0m\u001b[0;34m\u001b[0m\u001b[0m\n",
      "\u001b[0;32m/opt/conda/lib/python3.6/site-packages/pyparsing.py\u001b[0m in \u001b[0;36mparseString\u001b[0;34m(self, instring, parseAll)\u001b[0m\n\u001b[1;32m   1631\u001b[0m                 \u001b[0;31m# catch and re-raise exception from here, clears out pyparsing internal stack trace\u001b[0m\u001b[0;34m\u001b[0m\u001b[0;34m\u001b[0m\u001b[0m\n\u001b[0;32m-> 1632\u001b[0;31m                 \u001b[0;32mraise\u001b[0m \u001b[0mexc\u001b[0m\u001b[0;34m\u001b[0m\u001b[0m\n\u001b[0m\u001b[1;32m   1633\u001b[0m         \u001b[0;32melse\u001b[0m\u001b[0;34m:\u001b[0m\u001b[0;34m\u001b[0m\u001b[0m\n",
      "\u001b[0;32m/opt/conda/lib/python3.6/site-packages/pyparsing.py\u001b[0m in \u001b[0;36mparseString\u001b[0;34m(self, instring, parseAll)\u001b[0m\n\u001b[1;32m   1621\u001b[0m         \u001b[0;32mtry\u001b[0m\u001b[0;34m:\u001b[0m\u001b[0;34m\u001b[0m\u001b[0m\n\u001b[0;32m-> 1622\u001b[0;31m             \u001b[0mloc\u001b[0m\u001b[0;34m,\u001b[0m \u001b[0mtokens\u001b[0m \u001b[0;34m=\u001b[0m \u001b[0mself\u001b[0m\u001b[0;34m.\u001b[0m\u001b[0m_parse\u001b[0m\u001b[0;34m(\u001b[0m \u001b[0minstring\u001b[0m\u001b[0;34m,\u001b[0m \u001b[0;36m0\u001b[0m \u001b[0;34m)\u001b[0m\u001b[0;34m\u001b[0m\u001b[0m\n\u001b[0m\u001b[1;32m   1623\u001b[0m             \u001b[0;32mif\u001b[0m \u001b[0mparseAll\u001b[0m\u001b[0;34m:\u001b[0m\u001b[0;34m\u001b[0m\u001b[0m\n",
      "\u001b[0;32m/opt/conda/lib/python3.6/site-packages/pyparsing.py\u001b[0m in \u001b[0;36m_parseCache\u001b[0;34m(self, instring, loc, doActions, callPreParse)\u001b[0m\n\u001b[1;32m   1528\u001b[0m                 \u001b[0;32mtry\u001b[0m\u001b[0;34m:\u001b[0m\u001b[0;34m\u001b[0m\u001b[0m\n\u001b[0;32m-> 1529\u001b[0;31m                     \u001b[0mvalue\u001b[0m \u001b[0;34m=\u001b[0m \u001b[0mself\u001b[0m\u001b[0;34m.\u001b[0m\u001b[0m_parseNoCache\u001b[0m\u001b[0;34m(\u001b[0m\u001b[0minstring\u001b[0m\u001b[0;34m,\u001b[0m \u001b[0mloc\u001b[0m\u001b[0;34m,\u001b[0m \u001b[0mdoActions\u001b[0m\u001b[0;34m,\u001b[0m \u001b[0mcallPreParse\u001b[0m\u001b[0;34m)\u001b[0m\u001b[0;34m\u001b[0m\u001b[0m\n\u001b[0m\u001b[1;32m   1530\u001b[0m                 \u001b[0;32mexcept\u001b[0m \u001b[0mParseBaseException\u001b[0m \u001b[0;32mas\u001b[0m \u001b[0mpe\u001b[0m\u001b[0;34m:\u001b[0m\u001b[0;34m\u001b[0m\u001b[0m\n",
      "\u001b[0;32m/opt/conda/lib/python3.6/site-packages/pyparsing.py\u001b[0m in \u001b[0;36m_parseNoCache\u001b[0;34m(self, instring, loc, doActions, callPreParse)\u001b[0m\n\u001b[1;32m   1378\u001b[0m                 \u001b[0;32mtry\u001b[0m\u001b[0;34m:\u001b[0m\u001b[0;34m\u001b[0m\u001b[0m\n\u001b[0;32m-> 1379\u001b[0;31m                     \u001b[0mloc\u001b[0m\u001b[0;34m,\u001b[0m\u001b[0mtokens\u001b[0m \u001b[0;34m=\u001b[0m \u001b[0mself\u001b[0m\u001b[0;34m.\u001b[0m\u001b[0mparseImpl\u001b[0m\u001b[0;34m(\u001b[0m \u001b[0minstring\u001b[0m\u001b[0;34m,\u001b[0m \u001b[0mpreloc\u001b[0m\u001b[0;34m,\u001b[0m \u001b[0mdoActions\u001b[0m \u001b[0;34m)\u001b[0m\u001b[0;34m\u001b[0m\u001b[0m\n\u001b[0m\u001b[1;32m   1380\u001b[0m                 \u001b[0;32mexcept\u001b[0m \u001b[0mIndexError\u001b[0m\u001b[0;34m:\u001b[0m\u001b[0;34m\u001b[0m\u001b[0m\n",
      "\u001b[0;32m/opt/conda/lib/python3.6/site-packages/pyparsing.py\u001b[0m in \u001b[0;36mparseImpl\u001b[0;34m(self, instring, loc, doActions)\u001b[0m\n\u001b[1;32m   3716\u001b[0m         \u001b[0;32mif\u001b[0m \u001b[0mself\u001b[0m\u001b[0;34m.\u001b[0m\u001b[0mexpr\u001b[0m \u001b[0;32mis\u001b[0m \u001b[0;32mnot\u001b[0m \u001b[0;32mNone\u001b[0m\u001b[0;34m:\u001b[0m\u001b[0;34m\u001b[0m\u001b[0m\n\u001b[0;32m-> 3717\u001b[0;31m             \u001b[0;32mreturn\u001b[0m \u001b[0mself\u001b[0m\u001b[0;34m.\u001b[0m\u001b[0mexpr\u001b[0m\u001b[0;34m.\u001b[0m\u001b[0m_parse\u001b[0m\u001b[0;34m(\u001b[0m \u001b[0minstring\u001b[0m\u001b[0;34m,\u001b[0m \u001b[0mloc\u001b[0m\u001b[0;34m,\u001b[0m \u001b[0mdoActions\u001b[0m\u001b[0;34m,\u001b[0m \u001b[0mcallPreParse\u001b[0m\u001b[0;34m=\u001b[0m\u001b[0;32mFalse\u001b[0m \u001b[0;34m)\u001b[0m\u001b[0;34m\u001b[0m\u001b[0m\n\u001b[0m\u001b[1;32m   3718\u001b[0m         \u001b[0;32melse\u001b[0m\u001b[0;34m:\u001b[0m\u001b[0;34m\u001b[0m\u001b[0m\n",
      "\u001b[0;32m/opt/conda/lib/python3.6/site-packages/pyparsing.py\u001b[0m in \u001b[0;36m_parseCache\u001b[0;34m(self, instring, loc, doActions, callPreParse)\u001b[0m\n\u001b[1;32m   1528\u001b[0m                 \u001b[0;32mtry\u001b[0m\u001b[0;34m:\u001b[0m\u001b[0;34m\u001b[0m\u001b[0m\n\u001b[0;32m-> 1529\u001b[0;31m                     \u001b[0mvalue\u001b[0m \u001b[0;34m=\u001b[0m \u001b[0mself\u001b[0m\u001b[0;34m.\u001b[0m\u001b[0m_parseNoCache\u001b[0m\u001b[0;34m(\u001b[0m\u001b[0minstring\u001b[0m\u001b[0;34m,\u001b[0m \u001b[0mloc\u001b[0m\u001b[0;34m,\u001b[0m \u001b[0mdoActions\u001b[0m\u001b[0;34m,\u001b[0m \u001b[0mcallPreParse\u001b[0m\u001b[0;34m)\u001b[0m\u001b[0;34m\u001b[0m\u001b[0m\n\u001b[0m\u001b[1;32m   1530\u001b[0m                 \u001b[0;32mexcept\u001b[0m \u001b[0mParseBaseException\u001b[0m \u001b[0;32mas\u001b[0m \u001b[0mpe\u001b[0m\u001b[0;34m:\u001b[0m\u001b[0;34m\u001b[0m\u001b[0m\n",
      "\u001b[0;32m/opt/conda/lib/python3.6/site-packages/pyparsing.py\u001b[0m in \u001b[0;36m_parseNoCache\u001b[0;34m(self, instring, loc, doActions, callPreParse)\u001b[0m\n\u001b[1;32m   1378\u001b[0m                 \u001b[0;32mtry\u001b[0m\u001b[0;34m:\u001b[0m\u001b[0;34m\u001b[0m\u001b[0m\n\u001b[0;32m-> 1379\u001b[0;31m                     \u001b[0mloc\u001b[0m\u001b[0;34m,\u001b[0m\u001b[0mtokens\u001b[0m \u001b[0;34m=\u001b[0m \u001b[0mself\u001b[0m\u001b[0;34m.\u001b[0m\u001b[0mparseImpl\u001b[0m\u001b[0;34m(\u001b[0m \u001b[0minstring\u001b[0m\u001b[0;34m,\u001b[0m \u001b[0mpreloc\u001b[0m\u001b[0;34m,\u001b[0m \u001b[0mdoActions\u001b[0m \u001b[0;34m)\u001b[0m\u001b[0;34m\u001b[0m\u001b[0m\n\u001b[0m\u001b[1;32m   1380\u001b[0m                 \u001b[0;32mexcept\u001b[0m \u001b[0mIndexError\u001b[0m\u001b[0;34m:\u001b[0m\u001b[0;34m\u001b[0m\u001b[0m\n",
      "\u001b[0;32m/opt/conda/lib/python3.6/site-packages/pyparsing.py\u001b[0m in \u001b[0;36mparseImpl\u001b[0;34m(self, instring, loc, doActions)\u001b[0m\n\u001b[1;32m   3394\u001b[0m             \u001b[0;32melse\u001b[0m\u001b[0;34m:\u001b[0m\u001b[0;34m\u001b[0m\u001b[0m\n\u001b[0;32m-> 3395\u001b[0;31m                 \u001b[0mloc\u001b[0m\u001b[0;34m,\u001b[0m \u001b[0mexprtokens\u001b[0m \u001b[0;34m=\u001b[0m \u001b[0me\u001b[0m\u001b[0;34m.\u001b[0m\u001b[0m_parse\u001b[0m\u001b[0;34m(\u001b[0m \u001b[0minstring\u001b[0m\u001b[0;34m,\u001b[0m \u001b[0mloc\u001b[0m\u001b[0;34m,\u001b[0m \u001b[0mdoActions\u001b[0m \u001b[0;34m)\u001b[0m\u001b[0;34m\u001b[0m\u001b[0m\n\u001b[0m\u001b[1;32m   3396\u001b[0m             \u001b[0;32mif\u001b[0m \u001b[0mexprtokens\u001b[0m \u001b[0;32mor\u001b[0m \u001b[0mexprtokens\u001b[0m\u001b[0;34m.\u001b[0m\u001b[0mhaskeys\u001b[0m\u001b[0;34m(\u001b[0m\u001b[0;34m)\u001b[0m\u001b[0;34m:\u001b[0m\u001b[0;34m\u001b[0m\u001b[0m\n",
      "\u001b[0;32m/opt/conda/lib/python3.6/site-packages/pyparsing.py\u001b[0m in \u001b[0;36m_parseCache\u001b[0;34m(self, instring, loc, doActions, callPreParse)\u001b[0m\n\u001b[1;32m   1528\u001b[0m                 \u001b[0;32mtry\u001b[0m\u001b[0;34m:\u001b[0m\u001b[0;34m\u001b[0m\u001b[0m\n\u001b[0;32m-> 1529\u001b[0;31m                     \u001b[0mvalue\u001b[0m \u001b[0;34m=\u001b[0m \u001b[0mself\u001b[0m\u001b[0;34m.\u001b[0m\u001b[0m_parseNoCache\u001b[0m\u001b[0;34m(\u001b[0m\u001b[0minstring\u001b[0m\u001b[0;34m,\u001b[0m \u001b[0mloc\u001b[0m\u001b[0;34m,\u001b[0m \u001b[0mdoActions\u001b[0m\u001b[0;34m,\u001b[0m \u001b[0mcallPreParse\u001b[0m\u001b[0;34m)\u001b[0m\u001b[0;34m\u001b[0m\u001b[0m\n\u001b[0m\u001b[1;32m   1530\u001b[0m                 \u001b[0;32mexcept\u001b[0m \u001b[0mParseBaseException\u001b[0m \u001b[0;32mas\u001b[0m \u001b[0mpe\u001b[0m\u001b[0;34m:\u001b[0m\u001b[0;34m\u001b[0m\u001b[0m\n",
      "\u001b[0;32m/opt/conda/lib/python3.6/site-packages/pyparsing.py\u001b[0m in \u001b[0;36m_parseNoCache\u001b[0;34m(self, instring, loc, doActions, callPreParse)\u001b[0m\n\u001b[1;32m   1382\u001b[0m             \u001b[0;32melse\u001b[0m\u001b[0;34m:\u001b[0m\u001b[0;34m\u001b[0m\u001b[0m\n\u001b[0;32m-> 1383\u001b[0;31m                 \u001b[0mloc\u001b[0m\u001b[0;34m,\u001b[0m\u001b[0mtokens\u001b[0m \u001b[0;34m=\u001b[0m \u001b[0mself\u001b[0m\u001b[0;34m.\u001b[0m\u001b[0mparseImpl\u001b[0m\u001b[0;34m(\u001b[0m \u001b[0minstring\u001b[0m\u001b[0;34m,\u001b[0m \u001b[0mpreloc\u001b[0m\u001b[0;34m,\u001b[0m \u001b[0mdoActions\u001b[0m \u001b[0;34m)\u001b[0m\u001b[0;34m\u001b[0m\u001b[0m\n\u001b[0m\u001b[1;32m   1384\u001b[0m \u001b[0;34m\u001b[0m\u001b[0m\n",
      "\u001b[0;32m/opt/conda/lib/python3.6/site-packages/pyparsing.py\u001b[0m in \u001b[0;36mparseImpl\u001b[0;34m(self, instring, loc, doActions)\u001b[0m\n\u001b[1;32m   3182\u001b[0m         \u001b[0;32mif\u001b[0m \u001b[0mloc\u001b[0m \u001b[0;34m<\u001b[0m \u001b[0mlen\u001b[0m\u001b[0;34m(\u001b[0m\u001b[0minstring\u001b[0m\u001b[0;34m)\u001b[0m\u001b[0;34m:\u001b[0m\u001b[0;34m\u001b[0m\u001b[0m\n\u001b[0;32m-> 3183\u001b[0;31m             \u001b[0;32mraise\u001b[0m \u001b[0mParseException\u001b[0m\u001b[0;34m(\u001b[0m\u001b[0minstring\u001b[0m\u001b[0;34m,\u001b[0m \u001b[0mloc\u001b[0m\u001b[0;34m,\u001b[0m \u001b[0mself\u001b[0m\u001b[0;34m.\u001b[0m\u001b[0merrmsg\u001b[0m\u001b[0;34m,\u001b[0m \u001b[0mself\u001b[0m\u001b[0;34m)\u001b[0m\u001b[0;34m\u001b[0m\u001b[0m\n\u001b[0m\u001b[1;32m   3184\u001b[0m         \u001b[0;32melif\u001b[0m \u001b[0mloc\u001b[0m \u001b[0;34m==\u001b[0m \u001b[0mlen\u001b[0m\u001b[0;34m(\u001b[0m\u001b[0minstring\u001b[0m\u001b[0;34m)\u001b[0m\u001b[0;34m:\u001b[0m\u001b[0;34m\u001b[0m\u001b[0m\n",
      "\u001b[0;31mParseException\u001b[0m: Expected end of text (at char 0), (line:1, col:1)",
      "\nDuring handling of the above exception, another exception occurred:\n",
      "\u001b[0;31mValueError\u001b[0m                                Traceback (most recent call last)",
      "\u001b[0;32m/opt/conda/lib/python3.6/site-packages/IPython/core/formatters.py\u001b[0m in \u001b[0;36m__call__\u001b[0;34m(self, obj)\u001b[0m\n\u001b[1;32m    339\u001b[0m                 \u001b[0;32mpass\u001b[0m\u001b[0;34m\u001b[0m\u001b[0m\n\u001b[1;32m    340\u001b[0m             \u001b[0;32melse\u001b[0m\u001b[0;34m:\u001b[0m\u001b[0;34m\u001b[0m\u001b[0m\n\u001b[0;32m--> 341\u001b[0;31m                 \u001b[0;32mreturn\u001b[0m \u001b[0mprinter\u001b[0m\u001b[0;34m(\u001b[0m\u001b[0mobj\u001b[0m\u001b[0;34m)\u001b[0m\u001b[0;34m\u001b[0m\u001b[0m\n\u001b[0m\u001b[1;32m    342\u001b[0m             \u001b[0;31m# Finally look for special method names\u001b[0m\u001b[0;34m\u001b[0m\u001b[0;34m\u001b[0m\u001b[0m\n\u001b[1;32m    343\u001b[0m             \u001b[0mmethod\u001b[0m \u001b[0;34m=\u001b[0m \u001b[0mget_real_method\u001b[0m\u001b[0;34m(\u001b[0m\u001b[0mobj\u001b[0m\u001b[0;34m,\u001b[0m \u001b[0mself\u001b[0m\u001b[0;34m.\u001b[0m\u001b[0mprint_method\u001b[0m\u001b[0;34m)\u001b[0m\u001b[0;34m\u001b[0m\u001b[0m\n",
      "\u001b[0;32m/opt/conda/lib/python3.6/site-packages/IPython/core/pylabtools.py\u001b[0m in \u001b[0;36m<lambda>\u001b[0;34m(fig)\u001b[0m\n\u001b[1;32m    236\u001b[0m \u001b[0;34m\u001b[0m\u001b[0m\n\u001b[1;32m    237\u001b[0m     \u001b[0;32mif\u001b[0m \u001b[0;34m'png'\u001b[0m \u001b[0;32min\u001b[0m \u001b[0mformats\u001b[0m\u001b[0;34m:\u001b[0m\u001b[0;34m\u001b[0m\u001b[0m\n\u001b[0;32m--> 238\u001b[0;31m         \u001b[0mpng_formatter\u001b[0m\u001b[0;34m.\u001b[0m\u001b[0mfor_type\u001b[0m\u001b[0;34m(\u001b[0m\u001b[0mFigure\u001b[0m\u001b[0;34m,\u001b[0m \u001b[0;32mlambda\u001b[0m \u001b[0mfig\u001b[0m\u001b[0;34m:\u001b[0m \u001b[0mprint_figure\u001b[0m\u001b[0;34m(\u001b[0m\u001b[0mfig\u001b[0m\u001b[0;34m,\u001b[0m \u001b[0;34m'png'\u001b[0m\u001b[0;34m,\u001b[0m \u001b[0;34m**\u001b[0m\u001b[0mkwargs\u001b[0m\u001b[0;34m)\u001b[0m\u001b[0;34m)\u001b[0m\u001b[0;34m\u001b[0m\u001b[0m\n\u001b[0m\u001b[1;32m    239\u001b[0m     \u001b[0;32mif\u001b[0m \u001b[0;34m'retina'\u001b[0m \u001b[0;32min\u001b[0m \u001b[0mformats\u001b[0m \u001b[0;32mor\u001b[0m \u001b[0;34m'png2x'\u001b[0m \u001b[0;32min\u001b[0m \u001b[0mformats\u001b[0m\u001b[0;34m:\u001b[0m\u001b[0;34m\u001b[0m\u001b[0m\n\u001b[1;32m    240\u001b[0m         \u001b[0mpng_formatter\u001b[0m\u001b[0;34m.\u001b[0m\u001b[0mfor_type\u001b[0m\u001b[0;34m(\u001b[0m\u001b[0mFigure\u001b[0m\u001b[0;34m,\u001b[0m \u001b[0;32mlambda\u001b[0m \u001b[0mfig\u001b[0m\u001b[0;34m:\u001b[0m \u001b[0mretina_figure\u001b[0m\u001b[0;34m(\u001b[0m\u001b[0mfig\u001b[0m\u001b[0;34m,\u001b[0m \u001b[0;34m**\u001b[0m\u001b[0mkwargs\u001b[0m\u001b[0;34m)\u001b[0m\u001b[0;34m)\u001b[0m\u001b[0;34m\u001b[0m\u001b[0m\n",
      "\u001b[0;32m/opt/conda/lib/python3.6/site-packages/IPython/core/pylabtools.py\u001b[0m in \u001b[0;36mprint_figure\u001b[0;34m(fig, fmt, bbox_inches, **kwargs)\u001b[0m\n\u001b[1;32m    120\u001b[0m \u001b[0;34m\u001b[0m\u001b[0m\n\u001b[1;32m    121\u001b[0m     \u001b[0mbytes_io\u001b[0m \u001b[0;34m=\u001b[0m \u001b[0mBytesIO\u001b[0m\u001b[0;34m(\u001b[0m\u001b[0;34m)\u001b[0m\u001b[0;34m\u001b[0m\u001b[0m\n\u001b[0;32m--> 122\u001b[0;31m     \u001b[0mfig\u001b[0m\u001b[0;34m.\u001b[0m\u001b[0mcanvas\u001b[0m\u001b[0;34m.\u001b[0m\u001b[0mprint_figure\u001b[0m\u001b[0;34m(\u001b[0m\u001b[0mbytes_io\u001b[0m\u001b[0;34m,\u001b[0m \u001b[0;34m**\u001b[0m\u001b[0mkw\u001b[0m\u001b[0;34m)\u001b[0m\u001b[0;34m\u001b[0m\u001b[0m\n\u001b[0m\u001b[1;32m    123\u001b[0m     \u001b[0mdata\u001b[0m \u001b[0;34m=\u001b[0m \u001b[0mbytes_io\u001b[0m\u001b[0;34m.\u001b[0m\u001b[0mgetvalue\u001b[0m\u001b[0;34m(\u001b[0m\u001b[0;34m)\u001b[0m\u001b[0;34m\u001b[0m\u001b[0m\n\u001b[1;32m    124\u001b[0m     \u001b[0;32mif\u001b[0m \u001b[0mfmt\u001b[0m \u001b[0;34m==\u001b[0m \u001b[0;34m'svg'\u001b[0m\u001b[0;34m:\u001b[0m\u001b[0;34m\u001b[0m\u001b[0m\n",
      "\u001b[0;32m/opt/conda/lib/python3.6/site-packages/matplotlib/backend_bases.py\u001b[0m in \u001b[0;36mprint_figure\u001b[0;34m(self, filename, dpi, facecolor, edgecolor, orientation, format, **kwargs)\u001b[0m\n\u001b[1;32m   2198\u001b[0m                     \u001b[0morientation\u001b[0m\u001b[0;34m=\u001b[0m\u001b[0morientation\u001b[0m\u001b[0;34m,\u001b[0m\u001b[0;34m\u001b[0m\u001b[0m\n\u001b[1;32m   2199\u001b[0m                     \u001b[0mdryrun\u001b[0m\u001b[0;34m=\u001b[0m\u001b[0;32mTrue\u001b[0m\u001b[0;34m,\u001b[0m\u001b[0;34m\u001b[0m\u001b[0m\n\u001b[0;32m-> 2200\u001b[0;31m                     **kwargs)\n\u001b[0m\u001b[1;32m   2201\u001b[0m                 \u001b[0mrenderer\u001b[0m \u001b[0;34m=\u001b[0m \u001b[0mself\u001b[0m\u001b[0;34m.\u001b[0m\u001b[0mfigure\u001b[0m\u001b[0;34m.\u001b[0m\u001b[0m_cachedRenderer\u001b[0m\u001b[0;34m\u001b[0m\u001b[0m\n\u001b[1;32m   2202\u001b[0m                 \u001b[0mbbox_inches\u001b[0m \u001b[0;34m=\u001b[0m \u001b[0mself\u001b[0m\u001b[0;34m.\u001b[0m\u001b[0mfigure\u001b[0m\u001b[0;34m.\u001b[0m\u001b[0mget_tightbbox\u001b[0m\u001b[0;34m(\u001b[0m\u001b[0mrenderer\u001b[0m\u001b[0;34m)\u001b[0m\u001b[0;34m\u001b[0m\u001b[0m\n",
      "\u001b[0;32m/opt/conda/lib/python3.6/site-packages/matplotlib/backends/backend_agg.py\u001b[0m in \u001b[0;36mprint_png\u001b[0;34m(self, filename_or_obj, *args, **kwargs)\u001b[0m\n\u001b[1;32m    543\u001b[0m \u001b[0;34m\u001b[0m\u001b[0m\n\u001b[1;32m    544\u001b[0m     \u001b[0;32mdef\u001b[0m \u001b[0mprint_png\u001b[0m\u001b[0;34m(\u001b[0m\u001b[0mself\u001b[0m\u001b[0;34m,\u001b[0m \u001b[0mfilename_or_obj\u001b[0m\u001b[0;34m,\u001b[0m \u001b[0;34m*\u001b[0m\u001b[0margs\u001b[0m\u001b[0;34m,\u001b[0m \u001b[0;34m**\u001b[0m\u001b[0mkwargs\u001b[0m\u001b[0;34m)\u001b[0m\u001b[0;34m:\u001b[0m\u001b[0;34m\u001b[0m\u001b[0m\n\u001b[0;32m--> 545\u001b[0;31m         \u001b[0mFigureCanvasAgg\u001b[0m\u001b[0;34m.\u001b[0m\u001b[0mdraw\u001b[0m\u001b[0;34m(\u001b[0m\u001b[0mself\u001b[0m\u001b[0;34m)\u001b[0m\u001b[0;34m\u001b[0m\u001b[0m\n\u001b[0m\u001b[1;32m    546\u001b[0m         \u001b[0mrenderer\u001b[0m \u001b[0;34m=\u001b[0m \u001b[0mself\u001b[0m\u001b[0;34m.\u001b[0m\u001b[0mget_renderer\u001b[0m\u001b[0;34m(\u001b[0m\u001b[0;34m)\u001b[0m\u001b[0;34m\u001b[0m\u001b[0m\n\u001b[1;32m    547\u001b[0m         \u001b[0moriginal_dpi\u001b[0m \u001b[0;34m=\u001b[0m \u001b[0mrenderer\u001b[0m\u001b[0;34m.\u001b[0m\u001b[0mdpi\u001b[0m\u001b[0;34m\u001b[0m\u001b[0m\n",
      "\u001b[0;32m/opt/conda/lib/python3.6/site-packages/matplotlib/backends/backend_agg.py\u001b[0m in \u001b[0;36mdraw\u001b[0;34m(self)\u001b[0m\n\u001b[1;32m    462\u001b[0m \u001b[0;34m\u001b[0m\u001b[0m\n\u001b[1;32m    463\u001b[0m         \u001b[0;32mtry\u001b[0m\u001b[0;34m:\u001b[0m\u001b[0;34m\u001b[0m\u001b[0m\n\u001b[0;32m--> 464\u001b[0;31m             \u001b[0mself\u001b[0m\u001b[0;34m.\u001b[0m\u001b[0mfigure\u001b[0m\u001b[0;34m.\u001b[0m\u001b[0mdraw\u001b[0m\u001b[0;34m(\u001b[0m\u001b[0mself\u001b[0m\u001b[0;34m.\u001b[0m\u001b[0mrenderer\u001b[0m\u001b[0;34m)\u001b[0m\u001b[0;34m\u001b[0m\u001b[0m\n\u001b[0m\u001b[1;32m    465\u001b[0m         \u001b[0;32mfinally\u001b[0m\u001b[0;34m:\u001b[0m\u001b[0;34m\u001b[0m\u001b[0m\n\u001b[1;32m    466\u001b[0m             \u001b[0mRendererAgg\u001b[0m\u001b[0;34m.\u001b[0m\u001b[0mlock\u001b[0m\u001b[0;34m.\u001b[0m\u001b[0mrelease\u001b[0m\u001b[0;34m(\u001b[0m\u001b[0;34m)\u001b[0m\u001b[0;34m\u001b[0m\u001b[0m\n",
      "\u001b[0;32m/opt/conda/lib/python3.6/site-packages/matplotlib/artist.py\u001b[0m in \u001b[0;36mdraw_wrapper\u001b[0;34m(artist, renderer, *args, **kwargs)\u001b[0m\n\u001b[1;32m     61\u001b[0m     \u001b[0;32mdef\u001b[0m \u001b[0mdraw_wrapper\u001b[0m\u001b[0;34m(\u001b[0m\u001b[0martist\u001b[0m\u001b[0;34m,\u001b[0m \u001b[0mrenderer\u001b[0m\u001b[0;34m,\u001b[0m \u001b[0;34m*\u001b[0m\u001b[0margs\u001b[0m\u001b[0;34m,\u001b[0m \u001b[0;34m**\u001b[0m\u001b[0mkwargs\u001b[0m\u001b[0;34m)\u001b[0m\u001b[0;34m:\u001b[0m\u001b[0;34m\u001b[0m\u001b[0m\n\u001b[1;32m     62\u001b[0m         \u001b[0mbefore\u001b[0m\u001b[0;34m(\u001b[0m\u001b[0martist\u001b[0m\u001b[0;34m,\u001b[0m \u001b[0mrenderer\u001b[0m\u001b[0;34m)\u001b[0m\u001b[0;34m\u001b[0m\u001b[0m\n\u001b[0;32m---> 63\u001b[0;31m         \u001b[0mdraw\u001b[0m\u001b[0;34m(\u001b[0m\u001b[0martist\u001b[0m\u001b[0;34m,\u001b[0m \u001b[0mrenderer\u001b[0m\u001b[0;34m,\u001b[0m \u001b[0;34m*\u001b[0m\u001b[0margs\u001b[0m\u001b[0;34m,\u001b[0m \u001b[0;34m**\u001b[0m\u001b[0mkwargs\u001b[0m\u001b[0;34m)\u001b[0m\u001b[0;34m\u001b[0m\u001b[0m\n\u001b[0m\u001b[1;32m     64\u001b[0m         \u001b[0mafter\u001b[0m\u001b[0;34m(\u001b[0m\u001b[0martist\u001b[0m\u001b[0;34m,\u001b[0m \u001b[0mrenderer\u001b[0m\u001b[0;34m)\u001b[0m\u001b[0;34m\u001b[0m\u001b[0m\n\u001b[1;32m     65\u001b[0m \u001b[0;34m\u001b[0m\u001b[0m\n",
      "\u001b[0;32m/opt/conda/lib/python3.6/site-packages/matplotlib/figure.py\u001b[0m in \u001b[0;36mdraw\u001b[0;34m(self, renderer)\u001b[0m\n\u001b[1;32m   1142\u001b[0m \u001b[0;34m\u001b[0m\u001b[0m\n\u001b[1;32m   1143\u001b[0m             mimage._draw_list_compositing_images(\n\u001b[0;32m-> 1144\u001b[0;31m                 renderer, self, dsu, self.suppressComposite)\n\u001b[0m\u001b[1;32m   1145\u001b[0m \u001b[0;34m\u001b[0m\u001b[0m\n\u001b[1;32m   1146\u001b[0m             \u001b[0mrenderer\u001b[0m\u001b[0;34m.\u001b[0m\u001b[0mclose_group\u001b[0m\u001b[0;34m(\u001b[0m\u001b[0;34m'figure'\u001b[0m\u001b[0;34m)\u001b[0m\u001b[0;34m\u001b[0m\u001b[0m\n",
      "\u001b[0;32m/opt/conda/lib/python3.6/site-packages/matplotlib/image.py\u001b[0m in \u001b[0;36m_draw_list_compositing_images\u001b[0;34m(renderer, parent, dsu, suppress_composite)\u001b[0m\n\u001b[1;32m    137\u001b[0m     \u001b[0;32mif\u001b[0m \u001b[0mnot_composite\u001b[0m \u001b[0;32mor\u001b[0m \u001b[0;32mnot\u001b[0m \u001b[0mhas_images\u001b[0m\u001b[0;34m:\u001b[0m\u001b[0;34m\u001b[0m\u001b[0m\n\u001b[1;32m    138\u001b[0m         \u001b[0;32mfor\u001b[0m \u001b[0mzorder\u001b[0m\u001b[0;34m,\u001b[0m \u001b[0ma\u001b[0m \u001b[0;32min\u001b[0m \u001b[0mdsu\u001b[0m\u001b[0;34m:\u001b[0m\u001b[0;34m\u001b[0m\u001b[0m\n\u001b[0;32m--> 139\u001b[0;31m             \u001b[0ma\u001b[0m\u001b[0;34m.\u001b[0m\u001b[0mdraw\u001b[0m\u001b[0;34m(\u001b[0m\u001b[0mrenderer\u001b[0m\u001b[0;34m)\u001b[0m\u001b[0;34m\u001b[0m\u001b[0m\n\u001b[0m\u001b[1;32m    140\u001b[0m     \u001b[0;32melse\u001b[0m\u001b[0;34m:\u001b[0m\u001b[0;34m\u001b[0m\u001b[0m\n\u001b[1;32m    141\u001b[0m         \u001b[0;31m# Composite any adjacent images together\u001b[0m\u001b[0;34m\u001b[0m\u001b[0;34m\u001b[0m\u001b[0m\n",
      "\u001b[0;32m/opt/conda/lib/python3.6/site-packages/matplotlib/artist.py\u001b[0m in \u001b[0;36mdraw_wrapper\u001b[0;34m(artist, renderer, *args, **kwargs)\u001b[0m\n\u001b[1;32m     61\u001b[0m     \u001b[0;32mdef\u001b[0m \u001b[0mdraw_wrapper\u001b[0m\u001b[0;34m(\u001b[0m\u001b[0martist\u001b[0m\u001b[0;34m,\u001b[0m \u001b[0mrenderer\u001b[0m\u001b[0;34m,\u001b[0m \u001b[0;34m*\u001b[0m\u001b[0margs\u001b[0m\u001b[0;34m,\u001b[0m \u001b[0;34m**\u001b[0m\u001b[0mkwargs\u001b[0m\u001b[0;34m)\u001b[0m\u001b[0;34m:\u001b[0m\u001b[0;34m\u001b[0m\u001b[0m\n\u001b[1;32m     62\u001b[0m         \u001b[0mbefore\u001b[0m\u001b[0;34m(\u001b[0m\u001b[0martist\u001b[0m\u001b[0;34m,\u001b[0m \u001b[0mrenderer\u001b[0m\u001b[0;34m)\u001b[0m\u001b[0;34m\u001b[0m\u001b[0m\n\u001b[0;32m---> 63\u001b[0;31m         \u001b[0mdraw\u001b[0m\u001b[0;34m(\u001b[0m\u001b[0martist\u001b[0m\u001b[0;34m,\u001b[0m \u001b[0mrenderer\u001b[0m\u001b[0;34m,\u001b[0m \u001b[0;34m*\u001b[0m\u001b[0margs\u001b[0m\u001b[0;34m,\u001b[0m \u001b[0;34m**\u001b[0m\u001b[0mkwargs\u001b[0m\u001b[0;34m)\u001b[0m\u001b[0;34m\u001b[0m\u001b[0m\n\u001b[0m\u001b[1;32m     64\u001b[0m         \u001b[0mafter\u001b[0m\u001b[0;34m(\u001b[0m\u001b[0martist\u001b[0m\u001b[0;34m,\u001b[0m \u001b[0mrenderer\u001b[0m\u001b[0;34m)\u001b[0m\u001b[0;34m\u001b[0m\u001b[0m\n\u001b[1;32m     65\u001b[0m \u001b[0;34m\u001b[0m\u001b[0m\n",
      "\u001b[0;32m/opt/conda/lib/python3.6/site-packages/matplotlib/axes/_base.py\u001b[0m in \u001b[0;36mdraw\u001b[0;34m(self, renderer, inframe)\u001b[0m\n\u001b[1;32m   2424\u001b[0m             \u001b[0mrenderer\u001b[0m\u001b[0;34m.\u001b[0m\u001b[0mstop_rasterizing\u001b[0m\u001b[0;34m(\u001b[0m\u001b[0;34m)\u001b[0m\u001b[0;34m\u001b[0m\u001b[0m\n\u001b[1;32m   2425\u001b[0m \u001b[0;34m\u001b[0m\u001b[0m\n\u001b[0;32m-> 2426\u001b[0;31m         \u001b[0mmimage\u001b[0m\u001b[0;34m.\u001b[0m\u001b[0m_draw_list_compositing_images\u001b[0m\u001b[0;34m(\u001b[0m\u001b[0mrenderer\u001b[0m\u001b[0;34m,\u001b[0m \u001b[0mself\u001b[0m\u001b[0;34m,\u001b[0m \u001b[0mdsu\u001b[0m\u001b[0;34m)\u001b[0m\u001b[0;34m\u001b[0m\u001b[0m\n\u001b[0m\u001b[1;32m   2427\u001b[0m \u001b[0;34m\u001b[0m\u001b[0m\n\u001b[1;32m   2428\u001b[0m         \u001b[0mrenderer\u001b[0m\u001b[0;34m.\u001b[0m\u001b[0mclose_group\u001b[0m\u001b[0;34m(\u001b[0m\u001b[0;34m'axes'\u001b[0m\u001b[0;34m)\u001b[0m\u001b[0;34m\u001b[0m\u001b[0m\n",
      "\u001b[0;32m/opt/conda/lib/python3.6/site-packages/matplotlib/image.py\u001b[0m in \u001b[0;36m_draw_list_compositing_images\u001b[0;34m(renderer, parent, dsu, suppress_composite)\u001b[0m\n\u001b[1;32m    137\u001b[0m     \u001b[0;32mif\u001b[0m \u001b[0mnot_composite\u001b[0m \u001b[0;32mor\u001b[0m \u001b[0;32mnot\u001b[0m \u001b[0mhas_images\u001b[0m\u001b[0;34m:\u001b[0m\u001b[0;34m\u001b[0m\u001b[0m\n\u001b[1;32m    138\u001b[0m         \u001b[0;32mfor\u001b[0m \u001b[0mzorder\u001b[0m\u001b[0;34m,\u001b[0m \u001b[0ma\u001b[0m \u001b[0;32min\u001b[0m \u001b[0mdsu\u001b[0m\u001b[0;34m:\u001b[0m\u001b[0;34m\u001b[0m\u001b[0m\n\u001b[0;32m--> 139\u001b[0;31m             \u001b[0ma\u001b[0m\u001b[0;34m.\u001b[0m\u001b[0mdraw\u001b[0m\u001b[0;34m(\u001b[0m\u001b[0mrenderer\u001b[0m\u001b[0;34m)\u001b[0m\u001b[0;34m\u001b[0m\u001b[0m\n\u001b[0m\u001b[1;32m    140\u001b[0m     \u001b[0;32melse\u001b[0m\u001b[0;34m:\u001b[0m\u001b[0;34m\u001b[0m\u001b[0m\n\u001b[1;32m    141\u001b[0m         \u001b[0;31m# Composite any adjacent images together\u001b[0m\u001b[0;34m\u001b[0m\u001b[0;34m\u001b[0m\u001b[0m\n",
      "\u001b[0;32m/opt/conda/lib/python3.6/site-packages/matplotlib/artist.py\u001b[0m in \u001b[0;36mdraw_wrapper\u001b[0;34m(artist, renderer, *args, **kwargs)\u001b[0m\n\u001b[1;32m     61\u001b[0m     \u001b[0;32mdef\u001b[0m \u001b[0mdraw_wrapper\u001b[0m\u001b[0;34m(\u001b[0m\u001b[0martist\u001b[0m\u001b[0;34m,\u001b[0m \u001b[0mrenderer\u001b[0m\u001b[0;34m,\u001b[0m \u001b[0;34m*\u001b[0m\u001b[0margs\u001b[0m\u001b[0;34m,\u001b[0m \u001b[0;34m**\u001b[0m\u001b[0mkwargs\u001b[0m\u001b[0;34m)\u001b[0m\u001b[0;34m:\u001b[0m\u001b[0;34m\u001b[0m\u001b[0m\n\u001b[1;32m     62\u001b[0m         \u001b[0mbefore\u001b[0m\u001b[0;34m(\u001b[0m\u001b[0martist\u001b[0m\u001b[0;34m,\u001b[0m \u001b[0mrenderer\u001b[0m\u001b[0;34m)\u001b[0m\u001b[0;34m\u001b[0m\u001b[0m\n\u001b[0;32m---> 63\u001b[0;31m         \u001b[0mdraw\u001b[0m\u001b[0;34m(\u001b[0m\u001b[0martist\u001b[0m\u001b[0;34m,\u001b[0m \u001b[0mrenderer\u001b[0m\u001b[0;34m,\u001b[0m \u001b[0;34m*\u001b[0m\u001b[0margs\u001b[0m\u001b[0;34m,\u001b[0m \u001b[0;34m**\u001b[0m\u001b[0mkwargs\u001b[0m\u001b[0;34m)\u001b[0m\u001b[0;34m\u001b[0m\u001b[0m\n\u001b[0m\u001b[1;32m     64\u001b[0m         \u001b[0mafter\u001b[0m\u001b[0;34m(\u001b[0m\u001b[0martist\u001b[0m\u001b[0;34m,\u001b[0m \u001b[0mrenderer\u001b[0m\u001b[0;34m)\u001b[0m\u001b[0;34m\u001b[0m\u001b[0m\n\u001b[1;32m     65\u001b[0m \u001b[0;34m\u001b[0m\u001b[0m\n",
      "\u001b[0;32m/opt/conda/lib/python3.6/site-packages/matplotlib/text.py\u001b[0m in \u001b[0;36mdraw\u001b[0;34m(self, renderer)\u001b[0m\n\u001b[1;32m    752\u001b[0m \u001b[0;34m\u001b[0m\u001b[0m\n\u001b[1;32m    753\u001b[0m         \u001b[0;32mwith\u001b[0m \u001b[0m_wrap_text\u001b[0m\u001b[0;34m(\u001b[0m\u001b[0mself\u001b[0m\u001b[0;34m)\u001b[0m \u001b[0;32mas\u001b[0m \u001b[0mtextobj\u001b[0m\u001b[0;34m:\u001b[0m\u001b[0;34m\u001b[0m\u001b[0m\n\u001b[0;32m--> 754\u001b[0;31m             \u001b[0mbbox\u001b[0m\u001b[0;34m,\u001b[0m \u001b[0minfo\u001b[0m\u001b[0;34m,\u001b[0m \u001b[0mdescent\u001b[0m \u001b[0;34m=\u001b[0m \u001b[0mtextobj\u001b[0m\u001b[0;34m.\u001b[0m\u001b[0m_get_layout\u001b[0m\u001b[0;34m(\u001b[0m\u001b[0mrenderer\u001b[0m\u001b[0;34m)\u001b[0m\u001b[0;34m\u001b[0m\u001b[0m\n\u001b[0m\u001b[1;32m    755\u001b[0m             \u001b[0mtrans\u001b[0m \u001b[0;34m=\u001b[0m \u001b[0mtextobj\u001b[0m\u001b[0;34m.\u001b[0m\u001b[0mget_transform\u001b[0m\u001b[0;34m(\u001b[0m\u001b[0;34m)\u001b[0m\u001b[0;34m\u001b[0m\u001b[0m\n\u001b[1;32m    756\u001b[0m \u001b[0;34m\u001b[0m\u001b[0m\n",
      "\u001b[0;32m/opt/conda/lib/python3.6/site-packages/matplotlib/text.py\u001b[0m in \u001b[0;36m_get_layout\u001b[0;34m(self, renderer)\u001b[0m\n\u001b[1;32m    360\u001b[0m                 w, h, d = renderer.get_text_width_height_descent(clean_line,\n\u001b[1;32m    361\u001b[0m                                                         \u001b[0mself\u001b[0m\u001b[0;34m.\u001b[0m\u001b[0m_fontproperties\u001b[0m\u001b[0;34m,\u001b[0m\u001b[0;34m\u001b[0m\u001b[0m\n\u001b[0;32m--> 362\u001b[0;31m                                                         ismath=ismath)\n\u001b[0m\u001b[1;32m    363\u001b[0m             \u001b[0;32melse\u001b[0m\u001b[0;34m:\u001b[0m\u001b[0;34m\u001b[0m\u001b[0m\n\u001b[1;32m    364\u001b[0m                 \u001b[0mw\u001b[0m\u001b[0;34m,\u001b[0m \u001b[0mh\u001b[0m\u001b[0;34m,\u001b[0m \u001b[0md\u001b[0m \u001b[0;34m=\u001b[0m \u001b[0;36m0\u001b[0m\u001b[0;34m,\u001b[0m \u001b[0;36m0\u001b[0m\u001b[0;34m,\u001b[0m \u001b[0;36m0\u001b[0m\u001b[0;34m\u001b[0m\u001b[0m\n",
      "\u001b[0;32m/opt/conda/lib/python3.6/site-packages/matplotlib/backends/backend_agg.py\u001b[0m in \u001b[0;36mget_text_width_height_descent\u001b[0;34m(self, s, prop, ismath)\u001b[0m\n\u001b[1;32m    233\u001b[0m         \u001b[0;32mif\u001b[0m \u001b[0mismath\u001b[0m\u001b[0;34m:\u001b[0m\u001b[0;34m\u001b[0m\u001b[0m\n\u001b[1;32m    234\u001b[0m             \u001b[0mox\u001b[0m\u001b[0;34m,\u001b[0m \u001b[0moy\u001b[0m\u001b[0;34m,\u001b[0m \u001b[0mwidth\u001b[0m\u001b[0;34m,\u001b[0m \u001b[0mheight\u001b[0m\u001b[0;34m,\u001b[0m \u001b[0mdescent\u001b[0m\u001b[0;34m,\u001b[0m \u001b[0mfonts\u001b[0m\u001b[0;34m,\u001b[0m \u001b[0mused_characters\u001b[0m \u001b[0;34m=\u001b[0m\u001b[0;31m \u001b[0m\u001b[0;31m\\\u001b[0m\u001b[0;34m\u001b[0m\u001b[0m\n\u001b[0;32m--> 235\u001b[0;31m                 \u001b[0mself\u001b[0m\u001b[0;34m.\u001b[0m\u001b[0mmathtext_parser\u001b[0m\u001b[0;34m.\u001b[0m\u001b[0mparse\u001b[0m\u001b[0;34m(\u001b[0m\u001b[0ms\u001b[0m\u001b[0;34m,\u001b[0m \u001b[0mself\u001b[0m\u001b[0;34m.\u001b[0m\u001b[0mdpi\u001b[0m\u001b[0;34m,\u001b[0m \u001b[0mprop\u001b[0m\u001b[0;34m)\u001b[0m\u001b[0;34m\u001b[0m\u001b[0m\n\u001b[0m\u001b[1;32m    236\u001b[0m             \u001b[0;32mreturn\u001b[0m \u001b[0mwidth\u001b[0m\u001b[0;34m,\u001b[0m \u001b[0mheight\u001b[0m\u001b[0;34m,\u001b[0m \u001b[0mdescent\u001b[0m\u001b[0;34m\u001b[0m\u001b[0m\n\u001b[1;32m    237\u001b[0m \u001b[0;34m\u001b[0m\u001b[0m\n",
      "\u001b[0;32m/opt/conda/lib/python3.6/site-packages/matplotlib/mathtext.py\u001b[0m in \u001b[0;36mparse\u001b[0;34m(self, s, dpi, prop)\u001b[0m\n\u001b[1;32m   3284\u001b[0m             \u001b[0mself\u001b[0m\u001b[0;34m.\u001b[0m\u001b[0m__class__\u001b[0m\u001b[0;34m.\u001b[0m\u001b[0m_parser\u001b[0m \u001b[0;34m=\u001b[0m \u001b[0mParser\u001b[0m\u001b[0;34m(\u001b[0m\u001b[0;34m)\u001b[0m\u001b[0;34m\u001b[0m\u001b[0m\n\u001b[1;32m   3285\u001b[0m \u001b[0;34m\u001b[0m\u001b[0m\n\u001b[0;32m-> 3286\u001b[0;31m         \u001b[0mbox\u001b[0m \u001b[0;34m=\u001b[0m \u001b[0mself\u001b[0m\u001b[0;34m.\u001b[0m\u001b[0m_parser\u001b[0m\u001b[0;34m.\u001b[0m\u001b[0mparse\u001b[0m\u001b[0;34m(\u001b[0m\u001b[0ms\u001b[0m\u001b[0;34m,\u001b[0m \u001b[0mfont_output\u001b[0m\u001b[0;34m,\u001b[0m \u001b[0mfontsize\u001b[0m\u001b[0;34m,\u001b[0m \u001b[0mdpi\u001b[0m\u001b[0;34m)\u001b[0m\u001b[0;34m\u001b[0m\u001b[0m\n\u001b[0m\u001b[1;32m   3287\u001b[0m         \u001b[0mfont_output\u001b[0m\u001b[0;34m.\u001b[0m\u001b[0mset_canvas_size\u001b[0m\u001b[0;34m(\u001b[0m\u001b[0mbox\u001b[0m\u001b[0;34m.\u001b[0m\u001b[0mwidth\u001b[0m\u001b[0;34m,\u001b[0m \u001b[0mbox\u001b[0m\u001b[0;34m.\u001b[0m\u001b[0mheight\u001b[0m\u001b[0;34m,\u001b[0m \u001b[0mbox\u001b[0m\u001b[0;34m.\u001b[0m\u001b[0mdepth\u001b[0m\u001b[0;34m)\u001b[0m\u001b[0;34m\u001b[0m\u001b[0m\n\u001b[1;32m   3288\u001b[0m         \u001b[0mresult\u001b[0m \u001b[0;34m=\u001b[0m \u001b[0mfont_output\u001b[0m\u001b[0;34m.\u001b[0m\u001b[0mget_results\u001b[0m\u001b[0;34m(\u001b[0m\u001b[0mbox\u001b[0m\u001b[0;34m)\u001b[0m\u001b[0;34m\u001b[0m\u001b[0m\n",
      "\u001b[0;32m/opt/conda/lib/python3.6/site-packages/matplotlib/mathtext.py\u001b[0m in \u001b[0;36mparse\u001b[0;34m(self, s, fonts_object, fontsize, dpi)\u001b[0m\n\u001b[1;32m   2521\u001b[0m                         \u001b[0merr\u001b[0m\u001b[0;34m.\u001b[0m\u001b[0mline\u001b[0m\u001b[0;34m,\u001b[0m\u001b[0;34m\u001b[0m\u001b[0m\n\u001b[1;32m   2522\u001b[0m                         \u001b[0;34m\" \"\u001b[0m \u001b[0;34m*\u001b[0m \u001b[0;34m(\u001b[0m\u001b[0merr\u001b[0m\u001b[0;34m.\u001b[0m\u001b[0mcolumn\u001b[0m \u001b[0;34m-\u001b[0m \u001b[0;36m1\u001b[0m\u001b[0;34m)\u001b[0m \u001b[0;34m+\u001b[0m \u001b[0;34m\"^\"\u001b[0m\u001b[0;34m,\u001b[0m\u001b[0;34m\u001b[0m\u001b[0m\n\u001b[0;32m-> 2523\u001b[0;31m                         six.text_type(err)]))\n\u001b[0m\u001b[1;32m   2524\u001b[0m         \u001b[0mself\u001b[0m\u001b[0;34m.\u001b[0m\u001b[0m_state_stack\u001b[0m \u001b[0;34m=\u001b[0m \u001b[0;32mNone\u001b[0m\u001b[0;34m\u001b[0m\u001b[0m\n\u001b[1;32m   2525\u001b[0m         \u001b[0mself\u001b[0m\u001b[0;34m.\u001b[0m\u001b[0m_em_width_cache\u001b[0m \u001b[0;34m=\u001b[0m \u001b[0;34m{\u001b[0m\u001b[0;34m}\u001b[0m\u001b[0;34m\u001b[0m\u001b[0m\n",
      "\u001b[0;31mValueError\u001b[0m: \n$ $\n^\nExpected end of text (at char 0), (line:1, col:1)"
     ]
    },
    {
     "data": {
      "text/plain": [
       "<matplotlib.figure.Figure at 0x7fe0320765f8>"
      ]
     },
     "metadata": {},
     "output_type": "display_data"
    }
   ],
   "source": [
    "plt.figure(figsize=(6,6))\n",
    "pc_1 = latent_semantic_analysis['component_1'].values\n",
    "pc_2 = latent_semantic_analysis['component_2'].values\n",
    "\n",
    "strings = df['cleaned_text'].values\n",
    "for i, (x, y) in enumerate(zip(pc_1, pc_2)): \n",
    "    plt.text(x,y,strings[i][:10])\n",
    "\n",
    "plt.scatter(pc_1, pc_2, c=df['class_numerical'], cmap='rainbow')\n",
    "\n",
    "plt.xlabel('First PC')\n",
    "plt.ylabel('Second PC')\n",
    "plt.axvline(linewidth=0.5)\n",
    "plt.axhline(linewidth=0.5)\n",
    "plt.xlim(-.1,1)\n",
    "plt.ylim(-.1,1)"
   ]
  },
  {
   "cell_type": "code",
   "execution_count": 103,
   "metadata": {},
   "outputs": [
    {
     "data": {
      "text/plain": [
       "(-0.3, 0.6)"
      ]
     },
     "execution_count": 103,
     "metadata": {},
     "output_type": "execute_result"
    },
    {
     "data": {
      "image/png": "[encoded data removed]",
      "text/plain": [
       "<matplotlib.figure.Figure at 0x7f1d4898ba90>"
      ]
     },
     "metadata": {},
     "output_type": "display_data"
    }
   ],
   "source": [
    "plt.figure(figsize=(6,6))\n",
    "pc_1 = latent_semantic_analysis['component_1'].values\n",
    "pc_2 = latent_semantic_analysis['component_2'].values\n",
    "\n",
    "plt.scatter(pc_1, pc_2, c=df['class_numerical'], cmap='rainbow')\n",
    "\n",
    "plt.xlabel('First PC')\n",
    "plt.ylabel('Second PC')\n",
    "plt.axvline(linewidth=0.5)\n",
    "plt.axhline(linewidth=0.5)\n",
    "plt.xlim(-.01,.5)\n",
    "plt.ylim(-.3,.6)"
   ]
  },
  {
   "cell_type": "code",
   "execution_count": 44,
   "metadata": {},
   "outputs": [],
   "source": [
    "eg_mask = latent_semantic_analysis['class'] == 'EG'"
   ]
  },
  {
   "cell_type": "code",
   "execution_count": 45,
   "metadata": {},
   "outputs": [
    {
     "data": {
      "text/html": [
       "<div>\n",
       "<table border=\"1\" class=\"dataframe\">\n",
       "  <thead>\n",
       "    <tr style=\"text-align: right;\">\n",
       "      <th></th>\n",
       "      <th>component_1</th>\n",
       "      <th>component_2</th>\n",
       "      <th>cleaned_text</th>\n",
       "      <th>class</th>\n",
       "    </tr>\n",
       "  </thead>\n",
       "  <tbody>\n",
       "    <tr>\n",
       "      <th>0</th>\n",
       "      <td>0.040851</td>\n",
       "      <td>-0.013632</td>\n",
       "      <td>أزاي أقول لك كنا زمان والماضي كان فى الغيب بكره واللي أحنا فيه دلوقت كمان ح يفوت علينا ولا ندري</td>\n",
       "      <td>EG</td>\n",
       "    </tr>\n",
       "    <tr>\n",
       "      <th>1</th>\n",
       "      <td>0.040925</td>\n",
       "      <td>-0.027291</td>\n",
       "      <td>هي آراء آه بس أزاي أجويرو منتهي يعني أمال لو مكنش الهداف التاريخي للسيتي و كل موسم اقل عدد من الاهداف…</td>\n",
       "      <td>EG</td>\n",
       "    </tr>\n",
       "    <tr>\n",
       "      <th>2</th>\n",
       "      <td>0.006369</td>\n",
       "      <td>-0.001625</td>\n",
       "      <td>أنت صيني أزاي تقارن شادي بالخطيب ألي هو الوحيد ألي خد الكورة الذهبية من مصر وبشهادت الزملكاوي قبل الأ…</td>\n",
       "      <td>EG</td>\n",
       "    </tr>\n",
       "    <tr>\n",
       "      <th>3</th>\n",
       "      <td>0.020012</td>\n",
       "      <td>-0.007794</td>\n",
       "      <td>أزاي الناس كانت بتغرد في الخمسينات قبل إختراع تويتر</td>\n",
       "      <td>EG</td>\n",
       "    </tr>\n",
       "    <tr>\n",
       "      <th>4</th>\n",
       "      <td>0.067496</td>\n",
       "      <td>-0.044303</td>\n",
       "      <td>التوينز اللي معاها كل الحلو والوحش والمصايب والاكل والفشل مش عارفه من غيرك كنت هعيش أزاي ربنا يخليكي ليا ومش تويته توصفك</td>\n",
       "      <td>EG</td>\n",
       "    </tr>\n",
       "  </tbody>\n",
       "</table>\n",
       "</div>"
      ],
      "text/plain": [
       "   component_1  component_2  \\\n",
       "0  0.040851    -0.013632      \n",
       "1  0.040925    -0.027291      \n",
       "2  0.006369    -0.001625      \n",
       "3  0.020012    -0.007794      \n",
       "4  0.067496    -0.044303      \n",
       "\n",
       "                                                                                                               cleaned_text  \\\n",
       "0  أزاي أقول لك كنا زمان والماضي كان فى الغيب بكره واللي أحنا فيه دلوقت كمان ح يفوت علينا ولا ندري                            \n",
       "1  هي آراء آه بس أزاي أجويرو منتهي يعني أمال لو مكنش الهداف التاريخي للسيتي و كل موسم اقل عدد من الاهداف…                     \n",
       "2  أنت صيني أزاي تقارن شادي بالخطيب ألي هو الوحيد ألي خد الكورة الذهبية من مصر وبشهادت الزملكاوي قبل الأ…                     \n",
       "3  أزاي الناس كانت بتغرد في الخمسينات قبل إختراع تويتر                                                                        \n",
       "4  التوينز اللي معاها كل الحلو والوحش والمصايب والاكل والفشل مش عارفه من غيرك كنت هعيش أزاي ربنا يخليكي ليا ومش تويته توصفك   \n",
       "\n",
       "  class  \n",
       "0  EG    \n",
       "1  EG    \n",
       "2  EG    \n",
       "3  EG    \n",
       "4  EG    "
      ]
     },
     "execution_count": 45,
     "metadata": {},
     "output_type": "execute_result"
    }
   ],
   "source": [
    "latent_semantic_analysis[eg_mask][:5]"
   ]
  },
  {
   "cell_type": "code",
   "execution_count": 40,
   "metadata": {},
   "outputs": [],
   "source": [
    "gulf_mask = latent_semantic_analysis['class'] == 'GULF'"
   ]
  },
  {
   "cell_type": "code",
   "execution_count": 42,
   "metadata": {},
   "outputs": [
    {
     "data": {
      "text/html": [
       "<div>\n",
       "<table border=\"1\" class=\"dataframe\">\n",
       "  <thead>\n",
       "    <tr style=\"text-align: right;\">\n",
       "      <th></th>\n",
       "      <th>component_1</th>\n",
       "      <th>component_2</th>\n",
       "      <th>cleaned_text</th>\n",
       "      <th>class</th>\n",
       "    </tr>\n",
       "  </thead>\n",
       "  <tbody>\n",
       "    <tr>\n",
       "      <th>0</th>\n",
       "      <td>0.007562</td>\n",
       "      <td>-0.000259</td>\n",
       "      <td>على الاقل ارحم من ان تتعود على وجود احد ويغرقك اهتمام وحب ويغنيك عن الدنيا وبنص الطريج يخليك تعاني وتت…</td>\n",
       "      <td>GULF</td>\n",
       "    </tr>\n",
       "    <tr>\n",
       "      <th>1</th>\n",
       "      <td>0.001542</td>\n",
       "      <td>-0.000121</td>\n",
       "      <td>وحدة مكافحة الموز في الطريج الموز</td>\n",
       "      <td>GULF</td>\n",
       "    </tr>\n",
       "    <tr>\n",
       "      <th>2</th>\n",
       "      <td>0.001285</td>\n",
       "      <td>0.000157</td>\n",
       "      <td>اوك مسافة الطريج يايتلچ ‍️‍️‍️</td>\n",
       "      <td>GULF</td>\n",
       "    </tr>\n",
       "    <tr>\n",
       "      <th>3</th>\n",
       "      <td>0.018259</td>\n",
       "      <td>-0.006987</td>\n",
       "      <td>كلام جميل لكن وين التطبيق طلع قانون للخدم ونشر بالجريدة الرسمية من زمان وللحين احنا ناطرين ا…</td>\n",
       "      <td>GULF</td>\n",
       "    </tr>\n",
       "    <tr>\n",
       "      <th>4</th>\n",
       "      <td>0.071783</td>\n",
       "      <td>0.158170</td>\n",
       "      <td>الثالث علي الطريج طولي بالج اول الله️</td>\n",
       "      <td>GULF</td>\n",
       "    </tr>\n",
       "  </tbody>\n",
       "</table>\n",
       "</div>"
      ],
      "text/plain": [
       "   component_1  component_2  \\\n",
       "0  0.007562    -0.000259      \n",
       "1  0.001542    -0.000121      \n",
       "2  0.001285     0.000157      \n",
       "3  0.018259    -0.006987      \n",
       "4  0.071783     0.158170      \n",
       "\n",
       "                                                                                              cleaned_text  \\\n",
       "0  على الاقل ارحم من ان تتعود على وجود احد ويغرقك اهتمام وحب ويغنيك عن الدنيا وبنص الطريج يخليك تعاني وتت…   \n",
       "1  وحدة مكافحة الموز في الطريج الموز                                                                         \n",
       "2  اوك مسافة الطريج يايتلچ ‍️‍️‍️                                                                            \n",
       "3  كلام جميل لكن وين التطبيق طلع قانون للخدم ونشر بالجريدة الرسمية من زمان وللحين احنا ناطرين ا…             \n",
       "4  الثالث علي الطريج طولي بالج اول الله️                                                                     \n",
       "\n",
       "  class  \n",
       "0  GULF  \n",
       "1  GULF  \n",
       "2  GULF  \n",
       "3  GULF  \n",
       "4  GULF  "
      ]
     },
     "execution_count": 42,
     "metadata": {},
     "output_type": "execute_result"
    }
   ],
   "source": [
    "latent_semantic_analysis[gulf_mask][:5]"
   ]
  },
  {
   "cell_type": "code",
   "execution_count": 47,
   "metadata": {},
   "outputs": [
    {
     "data": {
      "text/html": [
       "<div>\n",
       "<table border=\"1\" class=\"dataframe\">\n",
       "  <thead>\n",
       "    <tr style=\"text-align: right;\">\n",
       "      <th></th>\n",
       "      <th>component_1</th>\n",
       "      <th>component_2</th>\n",
       "      <th>cleaned_text</th>\n",
       "      <th>class</th>\n",
       "    </tr>\n",
       "  </thead>\n",
       "  <tbody>\n",
       "    <tr>\n",
       "      <th>14</th>\n",
       "      <td>0.098308</td>\n",
       "      <td>0.214051</td>\n",
       "      <td>الله اكبر رووووووووعه</td>\n",
       "      <td>EG</td>\n",
       "    </tr>\n",
       "    <tr>\n",
       "      <th>15</th>\n",
       "      <td>0.113691</td>\n",
       "      <td>0.103219</td>\n",
       "      <td>__ أنت غيرت المقام كدا أزاي الشيخ ماشاء الله</td>\n",
       "      <td>EG</td>\n",
       "    </tr>\n",
       "    <tr>\n",
       "      <th>55</th>\n",
       "      <td>0.133969</td>\n",
       "      <td>0.063809</td>\n",
       "      <td>سبحان الله ولا عرفنا أزاي هرب ولا مين ساعدة ودلوقتي ولا نعرف سلم نفسة ولا اتقبض علية كله</td>\n",
       "      <td>EG</td>\n",
       "    </tr>\n",
       "    <tr>\n",
       "      <th>147</th>\n",
       "      <td>0.063775</td>\n",
       "      <td>0.120697</td>\n",
       "      <td>ما شاء الله يا حبيبتي واخده عيون ماما مناخير ماما بق ماما</td>\n",
       "      <td>EG</td>\n",
       "    </tr>\n",
       "    <tr>\n",
       "      <th>148</th>\n",
       "      <td>0.062151</td>\n",
       "      <td>0.117917</td>\n",
       "      <td>ما شاء الله يا حبيبتي واخده عيون ماما مناخير ماما وبق ماما</td>\n",
       "      <td>EG</td>\n",
       "    </tr>\n",
       "  </tbody>\n",
       "</table>\n",
       "</div>"
      ],
      "text/plain": [
       "     component_1  component_2  \\\n",
       "14   0.098308     0.214051      \n",
       "15   0.113691     0.103219      \n",
       "55   0.133969     0.063809      \n",
       "147  0.063775     0.120697      \n",
       "148  0.062151     0.117917      \n",
       "\n",
       "                                                                                 cleaned_text  \\\n",
       "14   الله اكبر رووووووووعه                                                                      \n",
       "15   __ أنت غيرت المقام كدا أزاي الشيخ ماشاء الله                                               \n",
       "55   سبحان الله ولا عرفنا أزاي هرب ولا مين ساعدة ودلوقتي ولا نعرف سلم نفسة ولا اتقبض علية كله   \n",
       "147  ما شاء الله يا حبيبتي واخده عيون ماما مناخير ماما بق ماما                                  \n",
       "148  ما شاء الله يا حبيبتي واخده عيون ماما مناخير ماما وبق ماما                                 \n",
       "\n",
       "    class  \n",
       "14   EG    \n",
       "15   EG    \n",
       "55   EG    \n",
       "147  EG    \n",
       "148  EG    "
      ]
     },
     "execution_count": 47,
     "metadata": {},
     "output_type": "execute_result"
    }
   ],
   "source": [
    "latent_semantic_analysis[(latent_semantic_analysis['class'] == 'EG') \n",
    "                         & (latent_semantic_analysis.component_2 > .050)][:5]"
   ]
  },
  {
   "cell_type": "code",
   "execution_count": 48,
   "metadata": {},
   "outputs": [
    {
     "data": {
      "text/html": [
       "<div>\n",
       "<table border=\"1\" class=\"dataframe\">\n",
       "  <thead>\n",
       "    <tr style=\"text-align: right;\">\n",
       "      <th></th>\n",
       "      <th>component_1</th>\n",
       "      <th>component_2</th>\n",
       "      <th>cleaned_text</th>\n",
       "      <th>class</th>\n",
       "    </tr>\n",
       "  </thead>\n",
       "  <tbody>\n",
       "    <tr>\n",
       "      <th>4980</th>\n",
       "      <td>0.369124</td>\n",
       "      <td>0.829093</td>\n",
       "      <td>يَ الله (</td>\n",
       "      <td>GULF</td>\n",
       "    </tr>\n",
       "    <tr>\n",
       "      <th>4986</th>\n",
       "      <td>0.369124</td>\n",
       "      <td>0.829093</td>\n",
       "      <td>يَ الله</td>\n",
       "      <td>GULF</td>\n",
       "    </tr>\n",
       "    <tr>\n",
       "      <th>5234</th>\n",
       "      <td>0.241075</td>\n",
       "      <td>0.539617</td>\n",
       "      <td>الله الله وياك</td>\n",
       "      <td>GULF</td>\n",
       "    </tr>\n",
       "    <tr>\n",
       "      <th>9171</th>\n",
       "      <td>0.369124</td>\n",
       "      <td>0.829093</td>\n",
       "      <td>الله الله</td>\n",
       "      <td>GULF</td>\n",
       "    </tr>\n",
       "    <tr>\n",
       "      <th>9452</th>\n",
       "      <td>0.369124</td>\n",
       "      <td>0.829093</td>\n",
       "      <td>الله الله ️️</td>\n",
       "      <td>GULF</td>\n",
       "    </tr>\n",
       "  </tbody>\n",
       "</table>\n",
       "</div>"
      ],
      "text/plain": [
       "      component_1  component_2    cleaned_text class\n",
       "4980  0.369124     0.829093     يَ الله (       GULF\n",
       "4986  0.369124     0.829093     يَ الله         GULF\n",
       "5234  0.241075     0.539617     الله الله وياك  GULF\n",
       "9171  0.369124     0.829093     الله الله       GULF\n",
       "9452  0.369124     0.829093     الله الله ️️    GULF"
      ]
     },
     "execution_count": 48,
     "metadata": {},
     "output_type": "execute_result"
    }
   ],
   "source": [
    "latent_semantic_analysis[(latent_semantic_analysis['class'] == 'GULF') \n",
    "                         & (latent_semantic_analysis.component_2 > .50)][:5]"
   ]
  },
  {
   "cell_type": "markdown",
   "metadata": {},
   "source": [
    "## LDA with stopwords"
   ]
  },
  {
   "cell_type": "code",
   "execution_count": 29,
   "metadata": {},
   "outputs": [],
   "source": [
    "from sklearn.feature_extraction.text import CountVectorizer\n",
    "from sklearn.feature_extraction.text import TfidfTransformer\n",
    "from sklearn.feature_extraction.text import TfidfVectorizer"
   ]
  },
  {
   "cell_type": "code",
   "execution_count": 30,
   "metadata": {},
   "outputs": [
    {
     "data": {
      "text/plain": [
       "(179632, 219558)"
      ]
     },
     "execution_count": 30,
     "metadata": {},
     "output_type": "execute_result"
    }
   ],
   "source": [
    "count_vect = CountVectorizer()\n",
    "X_train_counts = count_vect.fit_transform(df['cleaned_text'])\n",
    "X_train_counts.shape"
   ]
  },
  {
   "cell_type": "code",
   "execution_count": 54,
   "metadata": {},
   "outputs": [
    {
     "data": {
      "text/plain": [
       "(192936, 223045)"
      ]
     },
     "execution_count": 54,
     "metadata": {},
     "output_type": "execute_result"
    }
   ],
   "source": [
    "tfidf_transformer = TfidfTransformer()\n",
    "X_train_tfidf = tfidf_transformer.fit_transform(X_train_counts)\n",
    "X_train_tfidf.shape"
   ]
  },
  {
   "cell_type": "code",
   "execution_count": 35,
   "metadata": {},
   "outputs": [],
   "source": [
    "svd_no_zero_rows = svd_matrix[~np.all(svd_matrix == 0, axis=1)]"
   ]
  },
  {
   "cell_type": "code",
   "execution_count": 38,
   "metadata": {},
   "outputs": [
    {
     "data": {
      "text/plain": [
       "(178941, 50)"
      ]
     },
     "execution_count": 38,
     "metadata": {},
     "output_type": "execute_result"
    }
   ],
   "source": [
    "svd_no_zero_rows"
   ]
  },
  {
   "cell_type": "code",
   "execution_count": 42,
   "metadata": {},
   "outputs": [],
   "source": [
    "svd_mat_int = svd_no_zero_rows.astype(int)"
   ]
  },
  {
   "cell_type": "code",
   "execution_count": null,
   "metadata": {},
   "outputs": [],
   "source": [
    "## GENSIM"
   ]
  },
  {
   "cell_type": "code",
   "execution_count": 48,
   "metadata": {
    "collapsed": true
   },
   "outputs": [
    {
     "name": "stdout",
     "output_type": "stream",
     "text": [
      "Collecting gensim\n",
      "  Downloading gensim-3.2.0-cp36-cp36m-manylinux1_x86_64.whl (15.9MB)\n",
      "\u001b[K    100% |████████████████████████████████| 15.9MB 40kB/s  eta 0:00:01   60% |███████████████████▍            | 9.6MB 26.9MB/s eta 0:00:01    70% |██████████████████████▍         | 11.1MB 33.5MB/s eta 0:00:01    97% |███████████████████████████████ | 15.4MB 23.8MB/s eta 0:00:01\n",
      "\u001b[?25hCollecting smart-open>=1.2.1 (from gensim)\n",
      "  Downloading smart_open-1.5.5.tar.gz\n",
      "Collecting scipy>=0.18.1 (from gensim)\n",
      "  Downloading scipy-1.0.0-cp36-cp36m-manylinux1_x86_64.whl (50.0MB)\n",
      "\u001b[K    100% |████████████████████████████████| 50.0MB 13kB/s  eta 0:00:01    32% |██████████▌                     | 16.5MB 35.0MB/s eta 0:00:01    78% |█████████████████████████       | 39.2MB 32.6MB/s eta 0:00:01\n",
      "\u001b[?25hRequirement already up-to-date: six>=1.5.0 in /opt/conda/lib/python3.6/site-packages (from gensim)\n",
      "Collecting numpy>=1.11.3 (from gensim)\n",
      "  Downloading numpy-1.13.3-cp36-cp36m-manylinux1_x86_64.whl (17.0MB)\n",
      "\u001b[K    100% |████████████████████████████████| 17.0MB 39kB/s  eta 0:00:01   33% |██████████▉                     | 5.7MB 32.3MB/s eta 0:00:01\n",
      "\u001b[?25hCollecting boto>=2.32 (from smart-open>=1.2.1->gensim)\n",
      "  Downloading boto-2.48.0-py2.py3-none-any.whl (1.4MB)\n",
      "\u001b[K    100% |████████████████████████████████| 1.4MB 494kB/s eta 0:00:01\n",
      "\u001b[?25hCollecting bz2file (from smart-open>=1.2.1->gensim)\n",
      "  Downloading bz2file-0.98.tar.gz\n",
      "Requirement already up-to-date: requests in /opt/conda/lib/python3.6/site-packages (from smart-open>=1.2.1->gensim)\n",
      "Collecting boto3 (from smart-open>=1.2.1->gensim)\n",
      "  Downloading boto3-1.5.1-py2.py3-none-any.whl (128kB)\n",
      "\u001b[K    100% |████████████████████████████████| 133kB 4.5MB/s eta 0:00:01\n",
      "\u001b[?25hRequirement already up-to-date: chardet<3.1.0,>=3.0.2 in /opt/conda/lib/python3.6/site-packages (from requests->smart-open>=1.2.1->gensim)\n",
      "Requirement already up-to-date: idna<2.7,>=2.5 in /opt/conda/lib/python3.6/site-packages (from requests->smart-open>=1.2.1->gensim)\n",
      "Requirement already up-to-date: urllib3<1.23,>=1.21.1 in /opt/conda/lib/python3.6/site-packages (from requests->smart-open>=1.2.1->gensim)\n",
      "Collecting certifi>=2017.4.17 (from requests->smart-open>=1.2.1->gensim)\n",
      "  Using cached certifi-2017.11.5-py2.py3-none-any.whl\n",
      "Collecting jmespath<1.0.0,>=0.7.1 (from boto3->smart-open>=1.2.1->gensim)\n",
      "  Downloading jmespath-0.9.3-py2.py3-none-any.whl\n",
      "Collecting botocore<1.9.0,>=1.8.15 (from boto3->smart-open>=1.2.1->gensim)\n",
      "  Downloading botocore-1.8.15-py2.py3-none-any.whl (4.0MB)\n",
      "\u001b[K    100% |████████████████████████████████| 4.0MB 167kB/s eta 0:00:01\n",
      "\u001b[?25hCollecting s3transfer<0.2.0,>=0.1.10 (from boto3->smart-open>=1.2.1->gensim)\n",
      "  Downloading s3transfer-0.1.12-py2.py3-none-any.whl (59kB)\n",
      "\u001b[K    100% |████████████████████████████████| 61kB 4.6MB/s eta 0:00:01\n",
      "\u001b[?25hRequirement already up-to-date: python-dateutil<3.0.0,>=2.1 in /opt/conda/lib/python3.6/site-packages (from botocore<1.9.0,>=1.8.15->boto3->smart-open>=1.2.1->gensim)\n",
      "Collecting docutils>=0.10 (from botocore<1.9.0,>=1.8.15->boto3->smart-open>=1.2.1->gensim)\n",
      "  Downloading docutils-0.14-py3-none-any.whl (543kB)\n",
      "\u001b[K    100% |████████████████████████████████| 552kB 1.3MB/s eta 0:00:01\n",
      "\u001b[?25hBuilding wheels for collected packages: smart-open, bz2file\n",
      "  Running setup.py bdist_wheel for smart-open ... \u001b[?25ldone\n",
      "\u001b[?25h  Stored in directory: /home/jovyan/.cache/pip/wheels/ed/64/56/a922ace26f5d32090849ec8d89192b2b9ff0d280a5be0a4b7b\n",
      "  Running setup.py bdist_wheel for bz2file ... \u001b[?25ldone\n",
      "\u001b[?25h  Stored in directory: /home/jovyan/.cache/pip/wheels/31/9c/20/996d65ca104cbca940b1b053299b68459391c01c774d073126\n",
      "Successfully built smart-open bz2file\n",
      "Installing collected packages: boto, bz2file, jmespath, docutils, botocore, s3transfer, boto3, smart-open, numpy, scipy, gensim, certifi\n",
      "  Found existing installation: numpy 1.12.1\n",
      "    Uninstalling numpy-1.12.1:\n",
      "      Successfully uninstalled numpy-1.12.1\n",
      "  Found existing installation: scipy 0.19.1\n",
      "    Uninstalling scipy-0.19.1:\n",
      "      Successfully uninstalled scipy-0.19.1\n",
      "  Found existing installation: certifi 2017.7.27.1\n",
      "\u001b[31m    DEPRECATION: Uninstalling a distutils installed project (certifi) has been deprecated and will be removed in a future version. This is due to the fact that uninstalling a distutils project will only partially uninstall the project.\u001b[0m\n",
      "    Uninstalling certifi-2017.7.27.1:\n",
      "      Successfully uninstalled certifi-2017.7.27.1\n",
      "Successfully installed boto-2.48.0 boto3-1.5.1 botocore-1.8.15 bz2file-0.98 certifi-2017.11.5 docutils-0.14 gensim-3.2.0 jmespath-0.9.3 numpy-1.13.3 s3transfer-0.1.12 scipy-1.0.0 smart-open-1.5.5\n"
     ]
    }
   ],
   "source": [
    "#!pip install -U gensim"
   ]
  },
  {
   "cell_type": "code",
   "execution_count": 98,
   "metadata": {},
   "outputs": [],
   "source": [
    "import nltk"
   ]
  },
  {
   "cell_type": "code",
   "execution_count": 57,
   "metadata": {},
   "outputs": [],
   "source": [
    "from nltk.text import Text  "
   ]
  },
  {
   "cell_type": "code",
   "execution_count": 79,
   "metadata": {},
   "outputs": [],
   "source": [
    "from gensim import models, corpora"
   ]
  },
  {
   "cell_type": "code",
   "execution_count": 56,
   "metadata": {},
   "outputs": [],
   "source": [
    "word_list = [word for line in df['cleaned_text'] for word in line.split()]"
   ]
  },
  {
   "cell_type": "code",
   "execution_count": 58,
   "metadata": {},
   "outputs": [],
   "source": [
    "text_eda = Text(word_list)"
   ]
  },
  {
   "cell_type": "code",
   "execution_count": 59,
   "metadata": {
    "scrolled": true
   },
   "outputs": [
    {
     "data": {
      "text/plain": [
       "['أزاي', 'أقول', 'لك']"
      ]
     },
     "execution_count": 59,
     "metadata": {},
     "output_type": "execute_result"
    }
   ],
   "source": [
    "text_eda[:3]"
   ]
  },
  {
   "cell_type": "code",
   "execution_count": 68,
   "metadata": {},
   "outputs": [
    {
     "data": {
      "text/plain": [
       "1838517"
      ]
     },
     "execution_count": 68,
     "metadata": {},
     "output_type": "execute_result"
    }
   ],
   "source": [
    "len(text_eda)"
   ]
  },
  {
   "cell_type": "code",
   "execution_count": 65,
   "metadata": {},
   "outputs": [
    {
     "data": {
      "text/plain": [
       "['انها', 'اثناء', 'اجل']"
      ]
     },
     "execution_count": 65,
     "metadata": {},
     "output_type": "execute_result"
    }
   ],
   "source": [
    "iabuelkhair_stopwords[:3]"
   ]
  },
  {
   "cell_type": "code",
   "execution_count": 69,
   "metadata": {},
   "outputs": [
    {
     "data": {
      "text/plain": [
       "1590"
      ]
     },
     "execution_count": 69,
     "metadata": {},
     "output_type": "execute_result"
    }
   ],
   "source": [
    "len(iabuelkhair_stopwords)"
   ]
  },
  {
   "cell_type": "code",
   "execution_count": 67,
   "metadata": {},
   "outputs": [],
   "source": [
    "# remove stop words from tokens\n",
    "text_eda_no_stops = [i for i in text_eda if not i in iabuelkhair_stopwords]"
   ]
  },
  {
   "cell_type": "code",
   "execution_count": 70,
   "metadata": {},
   "outputs": [
    {
     "data": {
      "text/plain": [
       "1496265"
      ]
     },
     "execution_count": 70,
     "metadata": {},
     "output_type": "execute_result"
    }
   ],
   "source": [
    "len(text_eda_no_stops)"
   ]
  },
  {
   "cell_type": "markdown",
   "metadata": {},
   "source": [
    "Length of text_eda decreased by 342,252 due to 1,590 stop words. "
   ]
  },
  {
   "cell_type": "markdown",
   "metadata": {},
   "source": [
    "Get a list of words in every row"
   ]
  },
  {
   "cell_type": "code",
   "execution_count": 83,
   "metadata": {},
   "outputs": [],
   "source": [
    "df[\"cleaned_text\"] = df[\"cleaned_text\"].map(lambda x: x.split(' '))"
   ]
  },
  {
   "cell_type": "markdown",
   "metadata": {},
   "source": [
    "Passing df[\"cleaned_text\"] to gensim's Dictionary:"
   ]
  },
  {
   "cell_type": "code",
   "execution_count": 86,
   "metadata": {
    "scrolled": true
   },
   "outputs": [
    {
     "name": "stderr",
     "output_type": "stream",
     "text": [
      "INFO:gensim.corpora.dictionary:adding document #0 to Dictionary(0 unique tokens: [])\n",
      "INFO:gensim.corpora.dictionary:adding document #10000 to Dictionary(34127 unique tokens: ['أحنا', 'أزاي', 'أقول', 'الغيب', 'بكره']...)\n",
      "INFO:gensim.corpora.dictionary:adding document #20000 to Dictionary(53319 unique tokens: ['أحنا', 'أزاي', 'أقول', 'الغيب', 'بكره']...)\n",
      "INFO:gensim.corpora.dictionary:adding document #30000 to Dictionary(69263 unique tokens: ['أحنا', 'أزاي', 'أقول', 'الغيب', 'بكره']...)\n",
      "INFO:gensim.corpora.dictionary:adding document #40000 to Dictionary(80421 unique tokens: ['أحنا', 'أزاي', 'أقول', 'الغيب', 'بكره']...)\n",
      "INFO:gensim.corpora.dictionary:adding document #50000 to Dictionary(93339 unique tokens: ['أحنا', 'أزاي', 'أقول', 'الغيب', 'بكره']...)\n",
      "INFO:gensim.corpora.dictionary:adding document #60000 to Dictionary(106599 unique tokens: ['أحنا', 'أزاي', 'أقول', 'الغيب', 'بكره']...)\n",
      "INFO:gensim.corpora.dictionary:adding document #70000 to Dictionary(117032 unique tokens: ['أحنا', 'أزاي', 'أقول', 'الغيب', 'بكره']...)\n",
      "INFO:gensim.corpora.dictionary:adding document #80000 to Dictionary(126918 unique tokens: ['أحنا', 'أزاي', 'أقول', 'الغيب', 'بكره']...)\n",
      "INFO:gensim.corpora.dictionary:adding document #90000 to Dictionary(135088 unique tokens: ['أحنا', 'أزاي', 'أقول', 'الغيب', 'بكره']...)\n",
      "INFO:gensim.corpora.dictionary:adding document #100000 to Dictionary(151942 unique tokens: ['أحنا', 'أزاي', 'أقول', 'الغيب', 'بكره']...)\n",
      "INFO:gensim.corpora.dictionary:adding document #110000 to Dictionary(168900 unique tokens: ['أحنا', 'أزاي', 'أقول', 'الغيب', 'بكره']...)\n",
      "INFO:gensim.corpora.dictionary:adding document #120000 to Dictionary(184774 unique tokens: ['أحنا', 'أزاي', 'أقول', 'الغيب', 'بكره']...)\n",
      "INFO:gensim.corpora.dictionary:adding document #130000 to Dictionary(197055 unique tokens: ['أحنا', 'أزاي', 'أقول', 'الغيب', 'بكره']...)\n",
      "INFO:gensim.corpora.dictionary:adding document #140000 to Dictionary(211193 unique tokens: ['أحنا', 'أزاي', 'أقول', 'الغيب', 'بكره']...)\n",
      "INFO:gensim.corpora.dictionary:adding document #150000 to Dictionary(221985 unique tokens: ['أحنا', 'أزاي', 'أقول', 'الغيب', 'بكره']...)\n",
      "INFO:gensim.corpora.dictionary:adding document #160000 to Dictionary(237023 unique tokens: ['أحنا', 'أزاي', 'أقول', 'الغيب', 'بكره']...)\n",
      "INFO:gensim.corpora.dictionary:adding document #170000 to Dictionary(248954 unique tokens: ['أحنا', 'أزاي', 'أقول', 'الغيب', 'بكره']...)\n",
      "INFO:gensim.corpora.dictionary:built Dictionary(265679 unique tokens: ['أحنا', 'أزاي', 'أقول', 'الغيب', 'بكره']...) from 179632 documents (total 1838517 corpus positions)\n"
     ]
    }
   ],
   "source": [
    "dictionary = corpora.Dictionary(df[\"cleaned_text\"])"
   ]
  },
  {
   "cell_type": "markdown",
   "metadata": {},
   "source": [
    "Using filter_extremes method to eliminate the 5000 most frequent words"
   ]
  },
  {
   "cell_type": "code",
   "execution_count": 87,
   "metadata": {
    "scrolled": true
   },
   "outputs": [
    {
     "name": "stderr",
     "output_type": "stream",
     "text": [
      "INFO:gensim.corpora.dictionary:discarding 260679 tokens: [('والماضي', 6), ('يفوت', 9), ('آراء', 12), ('أجويرو', 2), ('أمال', 10), ('الاهداف…', 1), ('التاريخي', 24), ('الهداف', 8), ('للسيتي', 3), ('ألي', 7)]...\n",
      "INFO:gensim.corpora.dictionary:keeping 5000 tokens which were in no less than 1 and no more than 179632 (=100.0%) documents\n",
      "INFO:gensim.corpora.dictionary:resulting dictionary: Dictionary(5000 unique tokens: ['أحنا', 'أزاي', 'أقول', 'الغيب', 'بكره']...)\n"
     ]
    }
   ],
   "source": [
    "dictionary.filter_extremes(no_below=1, no_above=1, keep_n=5000)"
   ]
  },
  {
   "cell_type": "code",
   "execution_count": 90,
   "metadata": {},
   "outputs": [],
   "source": [
    "dictionary.compactify()"
   ]
  },
  {
   "cell_type": "markdown",
   "metadata": {},
   "source": [
    "Using doc2bow method to get a bag of words representation (word_id, frequency) of corpus"
   ]
  },
  {
   "cell_type": "code",
   "execution_count": 100,
   "metadata": {},
   "outputs": [],
   "source": [
    "corpus = [dictionary.doc2bow(text) for text in df[\"cleaned_text\"]]"
   ]
  },
  {
   "cell_type": "code",
   "execution_count": 101,
   "metadata": {},
   "outputs": [
    {
     "name": "stdout",
     "output_type": "stream",
     "text": [
      "[(0, 1), (1, 1), (2, 1), (3, 1), (4, 1), (5, 1), (6, 1), (7, 1), (8, 1), (9, 1), (10, 1), (11, 1), (12, 1), (13, 1), (14, 1), (15, 1), (16, 1), (17, 1)]\n"
     ]
    }
   ],
   "source": [
    "print(corpus[0])"
   ]
  },
  {
   "cell_type": "code",
   "execution_count": 102,
   "metadata": {
    "scrolled": true
   },
   "outputs": [
    {
     "name": "stderr",
     "output_type": "stream",
     "text": [
      "INFO:gensim.models.ldamodel:using symmetric alpha at 0.3333333333333333\n",
      "INFO:gensim.models.ldamodel:using symmetric eta at 0.3333333333333333\n",
      "INFO:gensim.models.ldamodel:using serial LDA version on this node\n",
      "INFO:gensim.models.ldamodel:running online (multi-pass) LDA training, 3 topics, 20 passes over the supplied corpus of 179632 documents, updating model once every 2000 documents, evaluating perplexity every 20000 documents, iterating 50x with a convergence threshold of 0.001000\n",
      "INFO:gensim.models.ldamodel:PROGRESS: pass 0, at document #2000/179632\n",
      "INFO:gensim.models.ldamodel:merging changes from 2000 documents into a model of 179632 documents\n",
      "INFO:gensim.models.ldamodel:topic #0 (0.333): 0.030*\"في\" + 0.020*\"اللي\" + 0.019*\"ايه\" + 0.018*\"من\" + 0.018*\"يا\" + 0.015*\"ما\" + 0.014*\"على\" + 0.013*\"و\" + 0.012*\"ولا\" + 0.011*\"هو\"\n",
      "INFO:gensim.models.ldamodel:topic #1 (0.333): 0.048*\"من\" + 0.028*\"في\" + 0.024*\"انا\" + 0.013*\"مش\" + 0.013*\"بقى\" + 0.012*\"بس\" + 0.012*\"كده\" + 0.011*\"ولا\" + 0.011*\"احنا\" + 0.010*\"لا\"\n",
      "INFO:gensim.models.ldamodel:topic #2 (0.333): 0.025*\"لا\" + 0.022*\"يا\" + 0.022*\"مش\" + 0.021*\"في\" + 0.019*\"على\" + 0.015*\"اللي\" + 0.015*\"بس\" + 0.014*\"ده\" + 0.012*\"انا\" + 0.011*\"ما\"\n",
      "INFO:gensim.models.ldamodel:topic diff=4.443871, rho=1.000000\n",
      "INFO:gensim.models.ldamodel:PROGRESS: pass 0, at document #4000/179632\n",
      "INFO:gensim.models.ldamodel:merging changes from 2000 documents into a model of 179632 documents\n",
      "INFO:gensim.models.ldamodel:topic #0 (0.333): 0.039*\"في\" + 0.021*\"على\" + 0.020*\"من\" + 0.018*\"اللي\" + 0.017*\"ايه\" + 0.016*\"يا\" + 0.013*\"و\" + 0.012*\"ما\" + 0.011*\"دي\" + 0.011*\"لو\"\n",
      "INFO:gensim.models.ldamodel:topic #1 (0.333): 0.053*\"من\" + 0.037*\"في\" + 0.016*\"انا\" + 0.013*\"مش\" + 0.010*\"دي\" + 0.010*\"ده\" + 0.009*\"علشان\" + 0.008*\"بس\" + 0.008*\"كده\" + 0.008*\"كل\"\n",
      "INFO:gensim.models.ldamodel:topic #2 (0.333): 0.028*\"على\" + 0.024*\"في\" + 0.024*\"مش\" + 0.023*\"يا\" + 0.021*\"لا\" + 0.018*\"ده\" + 0.016*\"اللي\" + 0.015*\"بس\" + 0.011*\"كده\" + 0.009*\"انا\"\n",
      "INFO:gensim.models.ldamodel:topic diff=1.682244, rho=0.707107\n",
      "INFO:gensim.models.ldamodel:PROGRESS: pass 0, at document #6000/179632\n",
      "INFO:gensim.models.ldamodel:merging changes from 2000 documents into a model of 179632 documents\n",
      "INFO:gensim.models.ldamodel:topic #0 (0.333): 0.054*\"و\" + 0.040*\"في\" + 0.021*\"ما\" + 0.021*\"اللي\" + 0.021*\"من\" + 0.018*\"على\" + 0.016*\"يا\" + 0.012*\"دي\" + 0.012*\"ده\" + 0.012*\"لو\"\n",
      "INFO:gensim.models.ldamodel:topic #1 (0.333): 0.056*\"من\" + 0.037*\"في\" + 0.012*\"مش\" + 0.011*\"انا\" + 0.011*\"دي\" + 0.009*\"…\" + 0.009*\"ده\" + 0.008*\")\" + 0.008*\"أن\" + 0.008*\"كل\"\n",
      "INFO:gensim.models.ldamodel:topic #2 (0.333): 0.034*\"يا\" + 0.024*\"مش\" + 0.024*\"في\" + 0.022*\"على\" + 0.021*\"و\" + 0.020*\"ده\" + 0.020*\"لا\" + 0.018*\"اللي\" + 0.016*\"ما\" + 0.014*\"عم\"\n",
      "INFO:gensim.models.ldamodel:topic diff=0.999890, rho=0.577350\n",
      "INFO:gensim.models.ldamodel:PROGRESS: pass 0, at document #8000/179632\n",
      "INFO:gensim.models.ldamodel:merging changes from 2000 documents into a model of 179632 documents\n",
      "INFO:gensim.models.ldamodel:topic #0 (0.333): 0.067*\"و\" + 0.036*\"في\" + 0.024*\"ما\" + 0.020*\"اللي\" + 0.020*\"،\" + 0.019*\"من\" + 0.014*\"يا\" + 0.014*\"على\" + 0.014*\"ده\" + 0.012*\"يعني\"\n",
      "INFO:gensim.models.ldamodel:topic #1 (0.333): 0.053*\"من\" + 0.035*\"في\" + 0.017*\"،\" + 0.012*\")\" + 0.011*\"مش\" + 0.010*\"دي\" + 0.009*\"أن\" + 0.009*\"حد\" + 0.009*\"ده\" + 0.008*\"…\"\n",
      "INFO:gensim.models.ldamodel:topic #2 (0.333): 0.042*\"يا\" + 0.024*\"مش\" + 0.024*\"و\" + 0.022*\"ده\" + 0.021*\"في\" + 0.020*\"عم\" + 0.018*\"ما\" + 0.017*\"لا\" + 0.015*\"على\" + 0.015*\"اللي\"\n",
      "INFO:gensim.models.ldamodel:topic diff=0.776305, rho=0.500000\n",
      "INFO:gensim.models.ldamodel:PROGRESS: pass 0, at document #10000/179632\n",
      "INFO:gensim.models.ldamodel:merging changes from 2000 documents into a model of 179632 documents\n",
      "INFO:gensim.models.ldamodel:topic #0 (0.333): 0.063*\"،\" + 0.046*\"و\" + 0.025*\"في\" + 0.018*\"ما\" + 0.017*\"من\" + 0.014*\"اللي\" + 0.012*\"ده\" + 0.012*\"مش\" + 0.011*\"يا\" + 0.011*\"ايه\"\n",
      "INFO:gensim.models.ldamodel:topic #1 (0.333): 0.070*\"،\" + 0.047*\"من\" + 0.020*\"في\" + 0.010*\"مش\" + 0.009*\"الـ\" + 0.009*\"ولا\" + 0.009*\"كل\" + 0.009*\"عـ\" + 0.008*\"انا\" + 0.008*\"حد\"\n",
      "INFO:gensim.models.ldamodel:topic #2 (0.333): 0.032*\"يا\" + 0.031*\"فـ\" + 0.022*\"مش\" + 0.018*\"لا\" + 0.017*\"ده\" + 0.017*\"الـ\" + 0.016*\"أنا\" + 0.015*\"بس\" + 0.013*\"و\" + 0.012*\"،\"\n",
      "INFO:gensim.models.ldamodel:topic diff=0.722641, rho=0.447214\n",
      "INFO:gensim.models.ldamodel:PROGRESS: pass 0, at document #12000/179632\n",
      "INFO:gensim.models.ldamodel:merging changes from 2000 documents into a model of 179632 documents\n",
      "INFO:gensim.models.ldamodel:topic #0 (0.333): 0.048*\"،\" + 0.046*\"و\" + 0.024*\"في\" + 0.018*\"ما\" + 0.017*\"من\" + 0.015*\"اللي\" + 0.012*\"ايه\" + 0.012*\"مش\" + 0.011*\"لو\" + 0.011*\"على\"\n",
      "INFO:gensim.models.ldamodel:topic #1 (0.333): 0.054*\"،\" + 0.048*\"من\" + 0.020*\"في\" + 0.013*\"انا\" + 0.011*\"كل\" + 0.010*\"مش\" + 0.009*\"ولا\" + 0.009*\"حد\" + 0.009*\"الله\" + 0.008*\"أن\"\n",
      "INFO:gensim.models.ldamodel:topic #2 (0.333): 0.026*\"يا\" + 0.023*\"مش\" + 0.022*\"فـ\" + 0.020*\"لا\" + 0.014*\"أنا\" + 0.014*\"ده\" + 0.014*\"بس\" + 0.012*\"و\" + 0.012*\"الـ\" + 0.011*\"ما\"\n",
      "INFO:gensim.models.ldamodel:topic diff=0.651015, rho=0.408248\n",
      "INFO:gensim.models.ldamodel:PROGRESS: pass 0, at document #14000/179632\n",
      "INFO:gensim.models.ldamodel:merging changes from 2000 documents into a model of 179632 documents\n",
      "INFO:gensim.models.ldamodel:topic #0 (0.333): 0.046*\"و\" + 0.037*\"،\" + 0.026*\"في\" + 0.019*\"اللي\" + 0.017*\"ما\" + 0.017*\"من\" + 0.012*\"مش\" + 0.012*\"ايه\" + 0.011*\"لو\" + 0.010*\"على\"\n",
      "INFO:gensim.models.ldamodel:topic #1 (0.333): 0.049*\"من\" + 0.042*\"،\" + 0.022*\"في\" + 0.018*\"انا\" + 0.014*\"كل\" + 0.010*\"حد\" + 0.010*\"مش\" + 0.009*\"ولا\" + 0.008*\"أن\" + 0.008*\"الله\"\n",
      "INFO:gensim.models.ldamodel:topic #2 (0.333): 0.025*\"مش\" + 0.025*\"يا\" + 0.020*\"لا\" + 0.016*\"فـ\" + 0.013*\"بس\" + 0.013*\"أنا\" + 0.013*\"\"\" + 0.012*\"اللي\" + 0.012*\"في\" + 0.012*\"و\"\n",
      "INFO:gensim.models.ldamodel:topic diff=0.444951, rho=0.377964\n",
      "INFO:gensim.models.ldamodel:PROGRESS: pass 0, at document #16000/179632\n",
      "INFO:gensim.models.ldamodel:merging changes from 2000 documents into a model of 179632 documents\n",
      "INFO:gensim.models.ldamodel:topic #0 (0.333): 0.042*\"و\" + 0.030*\"،\" + 0.028*\"في\" + 0.020*\"اللي\" + 0.016*\"من\" + 0.015*\"ما\" + 0.012*\"مش\" + 0.011*\"ايه\" + 0.011*\"لو\" + 0.010*\"حد\"\n",
      "INFO:gensim.models.ldamodel:topic #1 (0.333): 0.048*\"من\" + 0.033*\"،\" + 0.027*\"في\" + 0.020*\"انا\" + 0.014*\"كل\" + 0.010*\"ولا\" + 0.010*\"مش\" + 0.010*\"حد\" + 0.009*\"علي\" + 0.009*\"دا\"\n",
      "INFO:gensim.models.ldamodel:topic #2 (0.333): 0.027*\"يا\" + 0.024*\"مش\" + 0.020*\"لا\" + 0.014*\"بس\" + 0.014*\"\"\" + 0.014*\"والله\" + 0.012*\"في\" + 0.012*\"الله\" + 0.012*\"اللي\" + 0.012*\"فـ\"\n",
      "INFO:gensim.models.ldamodel:topic diff=0.367491, rho=0.353553\n",
      "INFO:gensim.models.ldamodel:PROGRESS: pass 0, at document #18000/179632\n",
      "INFO:gensim.models.ldamodel:merging changes from 2000 documents into a model of 179632 documents\n",
      "INFO:gensim.models.ldamodel:topic #0 (0.333): 0.067*\"و\" + 0.023*\"في\" + 0.022*\"،\" + 0.021*\"اللي\" + 0.016*\"من\" + 0.015*\"ما\" + 0.014*\"ايه\" + 0.013*\"يعني\" + 0.012*\"ف\" + 0.012*\"مش\"\n",
      "INFO:gensim.models.ldamodel:topic #1 (0.333): 0.048*\"من\" + 0.028*\"انا\" + 0.026*\"،\" + 0.024*\"في\" + 0.013*\"كل\" + 0.010*\"ولا\" + 0.010*\"مش\" + 0.009*\"حد\" + 0.008*\"ف\" + 0.008*\"جدا\"\n",
      "INFO:gensim.models.ldamodel:topic #2 (0.333): 0.028*\"يا\" + 0.025*\"مش\" + 0.021*\"والله\" + 0.021*\"لا\" + 0.017*\"بس\" + 0.017*\"و\" + 0.013*\"انا\" + 0.011*\"ده\" + 0.011*\"\"\" + 0.010*\"اللي\"\n",
      "INFO:gensim.models.ldamodel:topic diff=0.327679, rho=0.333333\n",
      "INFO:gensim.models.ldamodel:-7.027 per-word bound, 130.4 perplexity estimate based on a held-out corpus of 2000 documents with 13710 words\n",
      "INFO:gensim.models.ldamodel:PROGRESS: pass 0, at document #20000/179632\n",
      "INFO:gensim.models.ldamodel:merging changes from 2000 documents into a model of 179632 documents\n",
      "INFO:gensim.models.ldamodel:topic #0 (0.333): 0.063*\"و\" + 0.034*\"كدا\" + 0.021*\"في\" + 0.020*\"اللي\" + 0.016*\"،\" + 0.015*\"ايه\" + 0.015*\"من\" + 0.014*\"ما\" + 0.014*\"ف\" + 0.012*\"مش\"\n",
      "INFO:gensim.models.ldamodel:topic #1 (0.333): 0.048*\"من\" + 0.032*\"انا\" + 0.022*\"في\" + 0.020*\"،\" + 0.013*\"كل\" + 0.011*\"مش\" + 0.010*\"كدا\" + 0.010*\"ولا\" + 0.010*\"حد\" + 0.009*\"دا\"\n",
      "INFO:gensim.models.ldamodel:topic #2 (0.333): 0.029*\"يا\" + 0.028*\"كدا\" + 0.025*\"مش\" + 0.022*\"والله\" + 0.021*\"لا\" + 0.019*\"بس\" + 0.015*\"و\" + 0.015*\"انا\" + 0.013*\"ليه\" + 0.011*\"ده\"\n",
      "INFO:gensim.models.ldamodel:topic diff=0.366971, rho=0.316228\n"
     ]
    },
    {
     "name": "stderr",
     "output_type": "stream",
     "text": [
      "INFO:gensim.models.ldamodel:PROGRESS: pass 0, at document #22000/179632\n",
      "INFO:gensim.models.ldamodel:merging changes from 2000 documents into a model of 179632 documents\n",
      "INFO:gensim.models.ldamodel:topic #0 (0.333): 0.070*\"كدا\" + 0.054*\"و\" + 0.020*\"في\" + 0.017*\"اللي\" + 0.016*\"من\" + 0.015*\"ايه\" + 0.014*\"ما\" + 0.014*\"ف\" + 0.012*\"مش\" + 0.012*\"،\"\n",
      "INFO:gensim.models.ldamodel:topic #1 (0.333): 0.050*\"من\" + 0.032*\"انا\" + 0.024*\"كدا\" + 0.021*\"في\" + 0.016*\"،\" + 0.013*\"كل\" + 0.012*\"دا\" + 0.011*\"مش\" + 0.010*\"ولا\" + 0.010*\"ف\"\n",
      "INFO:gensim.models.ldamodel:topic #2 (0.333): 0.061*\"كدا\" + 0.028*\"يا\" + 0.026*\"مش\" + 0.021*\"بس\" + 0.020*\"والله\" + 0.020*\"لا\" + 0.015*\"انا\" + 0.014*\"ليه\" + 0.013*\"و\" + 0.010*\"الله\"\n",
      "INFO:gensim.models.ldamodel:topic diff=0.405097, rho=0.301511\n",
      "INFO:gensim.models.ldamodel:PROGRESS: pass 0, at document #24000/179632\n",
      "INFO:gensim.models.ldamodel:merging changes from 2000 documents into a model of 179632 documents\n",
      "INFO:gensim.models.ldamodel:topic #0 (0.333): 0.087*\"كدا\" + 0.050*\"و\" + 0.019*\"في\" + 0.016*\"اللي\" + 0.015*\"من\" + 0.014*\"ايه\" + 0.014*\"ف\" + 0.014*\"ما\" + 0.012*\"مش\" + 0.012*\"لو\"\n",
      "INFO:gensim.models.ldamodel:topic #1 (0.333): 0.049*\"من\" + 0.033*\"كدا\" + 0.031*\"انا\" + 0.020*\"في\" + 0.014*\"،\" + 0.012*\"دا\" + 0.012*\"كل\" + 0.010*\"مش\" + 0.010*\"ف\" + 0.009*\"ولا\"\n",
      "INFO:gensim.models.ldamodel:topic #2 (0.333): 0.081*\"كدا\" + 0.027*\"يا\" + 0.026*\"مش\" + 0.022*\"بس\" + 0.020*\"والله\" + 0.019*\"لا\" + 0.018*\"ليه\" + 0.016*\"انا\" + 0.012*\"و\" + 0.010*\"انت\"\n",
      "INFO:gensim.models.ldamodel:topic diff=0.349761, rho=0.288675\n",
      "INFO:gensim.models.ldamodel:PROGRESS: pass 0, at document #26000/179632\n",
      "INFO:gensim.models.ldamodel:merging changes from 2000 documents into a model of 179632 documents\n",
      "INFO:gensim.models.ldamodel:topic #0 (0.333): 0.095*\"كدا\" + 0.047*\"و\" + 0.019*\"في\" + 0.016*\"اللي\" + 0.016*\"من\" + 0.015*\"ايه\" + 0.014*\"ف\" + 0.013*\"ما\" + 0.013*\"مش\" + 0.012*\"لو\"\n",
      "INFO:gensim.models.ldamodel:topic #1 (0.333): 0.050*\"من\" + 0.039*\"كدا\" + 0.030*\"انا\" + 0.020*\"في\" + 0.013*\"،\" + 0.013*\"دا\" + 0.012*\"كل\" + 0.010*\"ف\" + 0.010*\"مش\" + 0.009*\"ولا\"\n",
      "INFO:gensim.models.ldamodel:topic #2 (0.333): 0.090*\"كدا\" + 0.027*\"مش\" + 0.027*\"يا\" + 0.023*\"بس\" + 0.020*\"والله\" + 0.020*\"لا\" + 0.018*\"ليه\" + 0.016*\"انا\" + 0.011*\"انت\" + 0.011*\"و\"\n",
      "INFO:gensim.models.ldamodel:topic diff=0.322677, rho=0.277350\n",
      "INFO:gensim.models.ldamodel:PROGRESS: pass 0, at document #28000/179632\n",
      "INFO:gensim.models.ldamodel:merging changes from 2000 documents into a model of 179632 documents\n",
      "INFO:gensim.models.ldamodel:topic #0 (0.333): 0.081*\"كدا\" + 0.043*\"و\" + 0.020*\"في\" + 0.017*\"ايه\" + 0.017*\"اللي\" + 0.015*\"من\" + 0.014*\"ما\" + 0.013*\"ف\" + 0.013*\"مش\" + 0.011*\"لو\"\n",
      "INFO:gensim.models.ldamodel:topic #1 (0.333): 0.050*\"من\" + 0.031*\"كدا\" + 0.027*\"انا\" + 0.021*\"في\" + 0.015*\"دا\" + 0.013*\"،\" + 0.012*\"كل\" + 0.011*\"مش\" + 0.010*\"ولا\" + 0.010*\"ف\"\n",
      "INFO:gensim.models.ldamodel:topic #2 (0.333): 0.073*\"كدا\" + 0.033*\"يا\" + 0.027*\"مش\" + 0.023*\"بس\" + 0.021*\"لا\" + 0.018*\"والله\" + 0.016*\"ليه\" + 0.014*\"انا\" + 0.013*\"انت\" + 0.012*\"الله\"\n",
      "INFO:gensim.models.ldamodel:topic diff=0.240987, rho=0.267261\n",
      "INFO:gensim.models.ldamodel:PROGRESS: pass 0, at document #30000/179632\n",
      "INFO:gensim.models.ldamodel:merging changes from 2000 documents into a model of 179632 documents\n",
      "INFO:gensim.models.ldamodel:topic #0 (0.333): 0.065*\"كدا\" + 0.057*\"و\" + 0.018*\"في\" + 0.016*\"اللي\" + 0.016*\"ف\" + 0.016*\"ايه\" + 0.014*\"من\" + 0.013*\"ما\" + 0.012*\"مش\" + 0.011*\"،\"\n",
      "INFO:gensim.models.ldamodel:topic #1 (0.333): 0.047*\"من\" + 0.026*\"انا\" + 0.025*\"كدا\" + 0.019*\"في\" + 0.017*\"،\" + 0.015*\"دا\" + 0.012*\"كل\" + 0.012*\"ف\" + 0.010*\"مش\" + 0.009*\"ولا\"\n",
      "INFO:gensim.models.ldamodel:topic #2 (0.333): 0.060*\"كدا\" + 0.036*\"يا\" + 0.027*\"مش\" + 0.023*\"لا\" + 0.022*\"بس\" + 0.021*\"والله\" + 0.014*\"ليه\" + 0.014*\"انا\" + 0.012*\"الله\" + 0.012*\"انت\"\n",
      "INFO:gensim.models.ldamodel:topic diff=0.235044, rho=0.258199\n",
      "INFO:gensim.models.ldamodel:PROGRESS: pass 0, at document #32000/179632\n",
      "INFO:gensim.models.ldamodel:merging changes from 2000 documents into a model of 179632 documents\n",
      "INFO:gensim.models.ldamodel:topic #0 (0.333): 0.055*\"و\" + 0.053*\"كدا\" + 0.021*\"في\" + 0.019*\"اللي\" + 0.016*\"ايه\" + 0.014*\"ف\" + 0.014*\"من\" + 0.013*\"ما\" + 0.013*\"مش\" + 0.011*\"دا\"\n",
      "INFO:gensim.models.ldamodel:topic #1 (0.333): 0.046*\"من\" + 0.029*\"انا\" + 0.022*\"في\" + 0.019*\"كدا\" + 0.016*\"دا\" + 0.014*\"،\" + 0.012*\"كل\" + 0.010*\"حد\" + 0.010*\"ولا\" + 0.010*\"مش\"\n",
      "INFO:gensim.models.ldamodel:topic #2 (0.333): 0.048*\"كدا\" + 0.039*\"يا\" + 0.027*\"مش\" + 0.025*\"والله\" + 0.022*\"لا\" + 0.022*\"بس\" + 0.015*\"انا\" + 0.014*\"ليه\" + 0.013*\"الله\" + 0.011*\"️\"\n",
      "INFO:gensim.models.ldamodel:topic diff=0.251452, rho=0.250000\n",
      "INFO:gensim.models.ldamodel:PROGRESS: pass 0, at document #34000/179632\n",
      "INFO:gensim.models.ldamodel:merging changes from 2000 documents into a model of 179632 documents\n",
      "INFO:gensim.models.ldamodel:topic #0 (0.333): 0.050*\"و\" + 0.044*\"كدا\" + 0.022*\"في\" + 0.020*\"اللي\" + 0.018*\"ايه\" + 0.015*\"ف\" + 0.014*\"من\" + 0.014*\"ما\" + 0.013*\"مش\" + 0.012*\"دا\"\n",
      "INFO:gensim.models.ldamodel:topic #1 (0.333): 0.046*\"من\" + 0.030*\"انا\" + 0.023*\"في\" + 0.016*\"دا\" + 0.016*\"كدا\" + 0.013*\"كل\" + 0.012*\"،\" + 0.012*\"حد\" + 0.011*\"علي\" + 0.010*\"ولا\"\n",
      "INFO:gensim.models.ldamodel:topic #2 (0.333): 0.043*\"يا\" + 0.039*\"كدا\" + 0.029*\"والله\" + 0.027*\"مش\" + 0.022*\"لا\" + 0.021*\"بس\" + 0.016*\"انا\" + 0.014*\"ليه\" + 0.013*\"الله\" + 0.011*\"انت\"\n",
      "INFO:gensim.models.ldamodel:topic diff=0.228769, rho=0.242536\n",
      "INFO:gensim.models.ldamodel:PROGRESS: pass 0, at document #36000/179632\n",
      "INFO:gensim.models.ldamodel:merging changes from 2000 documents into a model of 179632 documents\n",
      "INFO:gensim.models.ldamodel:topic #0 (0.333): 0.050*\"و\" + 0.038*\"كدا\" + 0.020*\"ايه\" + 0.020*\"في\" + 0.018*\"ف\" + 0.017*\"اللي\" + 0.014*\"ما\" + 0.014*\"من\" + 0.013*\"مش\" + 0.012*\"دا\"\n",
      "INFO:gensim.models.ldamodel:topic #1 (0.333): 0.044*\"من\" + 0.032*\"انا\" + 0.021*\"في\" + 0.017*\"دا\" + 0.014*\"كل\" + 0.013*\"كدا\" + 0.013*\"حد\" + 0.012*\"ف\" + 0.012*\"،\" + 0.011*\"علي\"\n",
      "INFO:gensim.models.ldamodel:topic #2 (0.333): 0.044*\"يا\" + 0.033*\"كدا\" + 0.029*\"والله\" + 0.028*\"مش\" + 0.024*\"لا\" + 0.022*\"بس\" + 0.018*\"انا\" + 0.014*\"الله\" + 0.014*\"ليه\" + 0.011*\"انت\"\n",
      "INFO:gensim.models.ldamodel:topic diff=0.201465, rho=0.235702\n",
      "INFO:gensim.models.ldamodel:PROGRESS: pass 0, at document #38000/179632\n",
      "INFO:gensim.models.ldamodel:merging changes from 2000 documents into a model of 179632 documents\n",
      "INFO:gensim.models.ldamodel:topic #0 (0.333): 0.052*\"و\" + 0.030*\"كدا\" + 0.021*\"ايه\" + 0.020*\"في\" + 0.018*\"ف\" + 0.018*\"اللي\" + 0.015*\"الي\" + 0.014*\"من\" + 0.014*\"مش\" + 0.013*\"ما\"\n",
      "INFO:gensim.models.ldamodel:topic #1 (0.333): 0.044*\"من\" + 0.036*\"انا\" + 0.020*\"في\" + 0.016*\"دا\" + 0.014*\"كل\" + 0.014*\"حد\" + 0.013*\"ف\" + 0.012*\"ولا\" + 0.012*\"علي\" + 0.011*\"،\"\n",
      "INFO:gensim.models.ldamodel:topic #2 (0.333): 0.046*\"يا\" + 0.031*\"والله\" + 0.029*\"مش\" + 0.027*\"كدا\" + 0.022*\"لا\" + 0.021*\"بس\" + 0.020*\"انا\" + 0.015*\"ليه\" + 0.014*\"الله\" + 0.009*\"انت\"\n",
      "INFO:gensim.models.ldamodel:topic diff=0.247858, rho=0.229416\n",
      "INFO:gensim.models.ldamodel:-7.055 per-word bound, 133.0 perplexity estimate based on a held-out corpus of 2000 documents with 14571 words\n",
      "INFO:gensim.models.ldamodel:PROGRESS: pass 0, at document #40000/179632\n",
      "INFO:gensim.models.ldamodel:merging changes from 2000 documents into a model of 179632 documents\n",
      "INFO:gensim.models.ldamodel:topic #0 (0.333): 0.059*\"و\" + 0.023*\"كدا\" + 0.019*\"ايه\" + 0.019*\"في\" + 0.018*\"اللي\" + 0.018*\"ف\" + 0.014*\"ما\" + 0.014*\"من\" + 0.014*\"مش\" + 0.013*\"الي\"\n",
      "INFO:gensim.models.ldamodel:topic #1 (0.333): 0.046*\"من\" + 0.034*\"انا\" + 0.020*\"في\" + 0.016*\"حد\" + 0.015*\"كل\" + 0.014*\"،\" + 0.014*\"دا\" + 0.012*\"ف\" + 0.011*\"ولا\" + 0.011*\"حاجه\"\n",
      "INFO:gensim.models.ldamodel:topic #2 (0.333): 0.042*\"يا\" + 0.029*\"مش\" + 0.028*\"والله\" + 0.023*\"لا\" + 0.022*\"كدا\" + 0.020*\"بس\" + 0.019*\"انا\" + 0.016*\"الله\" + 0.013*\"ليه\" + 0.010*\"\"\"\n",
      "INFO:gensim.models.ldamodel:topic diff=0.277925, rho=0.223607\n",
      "INFO:gensim.models.ldamodel:PROGRESS: pass 0, at document #42000/179632\n",
      "INFO:gensim.models.ldamodel:merging changes from 2000 documents into a model of 179632 documents\n",
      "INFO:gensim.models.ldamodel:topic #0 (0.333): 0.053*\"و\" + 0.022*\"ايه\" + 0.022*\"ف\" + 0.020*\"كدا\" + 0.020*\"اللي\" + 0.016*\"في\" + 0.014*\"ما\" + 0.013*\"مش\" + 0.013*\"من\" + 0.012*\"لو\"\n",
      "INFO:gensim.models.ldamodel:topic #1 (0.333): 0.044*\"من\" + 0.038*\"انا\" + 0.017*\"في\" + 0.016*\"ف\" + 0.015*\"كل\" + 0.015*\"حد\" + 0.014*\"دا\" + 0.013*\"حاجه\" + 0.012*\"،\" + 0.012*\"ولا\"\n"
     ]
    },
    {
     "name": "stderr",
     "output_type": "stream",
     "text": [
      "INFO:gensim.models.ldamodel:topic #2 (0.333): 0.045*\"يا\" + 0.028*\"مش\" + 0.028*\"والله\" + 0.025*\"لا\" + 0.023*\"انا\" + 0.021*\"بس\" + 0.020*\"كدا\" + 0.015*\"الله\" + 0.013*\"ليه\" + 0.012*\"انت\"\n",
      "INFO:gensim.models.ldamodel:topic diff=0.212705, rho=0.218218\n",
      "INFO:gensim.models.ldamodel:PROGRESS: pass 0, at document #44000/179632\n",
      "INFO:gensim.models.ldamodel:merging changes from 2000 documents into a model of 179632 documents\n",
      "INFO:gensim.models.ldamodel:topic #0 (0.333): 0.052*\"و\" + 0.021*\"اللي\" + 0.021*\"ايه\" + 0.019*\"ف\" + 0.018*\"في\" + 0.016*\"كدا\" + 0.015*\"ما\" + 0.014*\"مش\" + 0.013*\"من\" + 0.012*\"لو\"\n",
      "INFO:gensim.models.ldamodel:topic #1 (0.333): 0.044*\"من\" + 0.036*\"انا\" + 0.018*\"في\" + 0.016*\"كل\" + 0.016*\"حد\" + 0.014*\"ف\" + 0.013*\"حاجه\" + 0.013*\"ولا\" + 0.012*\"دا\" + 0.012*\"،\"\n",
      "INFO:gensim.models.ldamodel:topic #2 (0.333): 0.050*\"يا\" + 0.032*\"والله\" + 0.029*\"مش\" + 0.025*\"لا\" + 0.023*\"انا\" + 0.021*\"بس\" + 0.017*\"كدا\" + 0.015*\"الله\" + 0.012*\"ليه\" + 0.011*\"انت\"\n",
      "INFO:gensim.models.ldamodel:topic diff=0.253794, rho=0.213201\n",
      "INFO:gensim.models.ldamodel:PROGRESS: pass 0, at document #46000/179632\n",
      "INFO:gensim.models.ldamodel:merging changes from 2000 documents into a model of 179632 documents\n",
      "INFO:gensim.models.ldamodel:topic #0 (0.333): 0.054*\"و\" + 0.022*\"ايه\" + 0.021*\"اللي\" + 0.019*\"في\" + 0.016*\"ف\" + 0.014*\"ما\" + 0.013*\"مش\" + 0.013*\"كدا\" + 0.012*\"من\" + 0.012*\"فى\"\n",
      "INFO:gensim.models.ldamodel:topic #1 (0.333): 0.044*\"من\" + 0.035*\"انا\" + 0.019*\"في\" + 0.016*\"حد\" + 0.016*\"كل\" + 0.013*\"حاجه\" + 0.013*\"ف\" + 0.012*\"ولا\" + 0.012*\"،\" + 0.011*\"ازيك\"\n",
      "INFO:gensim.models.ldamodel:topic #2 (0.333): 0.054*\"يا\" + 0.031*\"والله\" + 0.029*\"مش\" + 0.025*\"لا\" + 0.023*\"انا\" + 0.020*\"بس\" + 0.015*\"الله\" + 0.014*\"كدا\" + 0.012*\"ليه\" + 0.011*\"انت\"\n",
      "INFO:gensim.models.ldamodel:topic diff=0.217236, rho=0.208514\n",
      "INFO:gensim.models.ldamodel:PROGRESS: pass 0, at document #48000/179632\n",
      "INFO:gensim.models.ldamodel:merging changes from 2000 documents into a model of 179632 documents\n",
      "INFO:gensim.models.ldamodel:topic #0 (0.333): 0.055*\"و\" + 0.025*\"بتاع\" + 0.021*\"ايه\" + 0.021*\"في\" + 0.020*\"اللي\" + 0.014*\"ف\" + 0.013*\"ما\" + 0.013*\"مش\" + 0.012*\"فى\" + 0.012*\"من\"\n",
      "INFO:gensim.models.ldamodel:topic #1 (0.333): 0.044*\"من\" + 0.034*\"انا\" + 0.021*\"في\" + 0.016*\"كل\" + 0.014*\"حد\" + 0.012*\"ولا\" + 0.012*\"حاجه\" + 0.011*\"،\" + 0.011*\"ف\" + 0.010*\"مش\"\n",
      "INFO:gensim.models.ldamodel:topic #2 (0.333): 0.054*\"يا\" + 0.028*\"والله\" + 0.028*\"مش\" + 0.024*\"لا\" + 0.023*\"انا\" + 0.019*\"بس\" + 0.014*\"الله\" + 0.012*\"انت\" + 0.012*\"ليه\" + 0.012*\"كدا\"\n",
      "INFO:gensim.models.ldamodel:topic diff=0.265858, rho=0.204124\n",
      "INFO:gensim.models.ldamodel:PROGRESS: pass 0, at document #50000/179632\n",
      "INFO:gensim.models.ldamodel:merging changes from 2000 documents into a model of 179632 documents\n",
      "INFO:gensim.models.ldamodel:topic #0 (0.333): 0.054*\"و\" + 0.053*\"بتاع\" + 0.020*\"في\" + 0.019*\"اللي\" + 0.019*\"ايه\" + 0.013*\"ما\" + 0.012*\"مش\" + 0.012*\"من\" + 0.012*\"ف\" + 0.011*\"فى\"\n",
      "INFO:gensim.models.ldamodel:topic #1 (0.333): 0.045*\"من\" + 0.031*\"انا\" + 0.020*\"في\" + 0.016*\"كل\" + 0.013*\"حد\" + 0.012*\"بتاع\" + 0.012*\"ولا\" + 0.011*\"،\" + 0.011*\"حاجه\" + 0.010*\"ف\"\n",
      "INFO:gensim.models.ldamodel:topic #2 (0.333): 0.056*\"يا\" + 0.028*\"مش\" + 0.027*\"والله\" + 0.023*\"لا\" + 0.022*\"انا\" + 0.019*\"بس\" + 0.014*\"الله\" + 0.013*\"انت\" + 0.012*\"ليه\" + 0.010*\"ده\"\n",
      "INFO:gensim.models.ldamodel:topic diff=0.298834, rho=0.200000\n",
      "INFO:gensim.models.ldamodel:PROGRESS: pass 0, at document #52000/179632\n",
      "INFO:gensim.models.ldamodel:merging changes from 2000 documents into a model of 179632 documents\n",
      "INFO:gensim.models.ldamodel:topic #0 (0.333): 0.055*\"و\" + 0.041*\"بتاع\" + 0.021*\"اللي\" + 0.020*\"في\" + 0.017*\"ايه\" + 0.013*\"ما\" + 0.013*\"من\" + 0.013*\"مش\" + 0.012*\"فى\" + 0.011*\"ف\"\n",
      "INFO:gensim.models.ldamodel:topic #1 (0.333): 0.048*\"من\" + 0.027*\"انا\" + 0.022*\"في\" + 0.016*\"كل\" + 0.014*\"حد\" + 0.013*\"،\" + 0.012*\"ولا\" + 0.011*\"حاجه\" + 0.010*\"مش\" + 0.010*\"ان\"\n",
      "INFO:gensim.models.ldamodel:topic #2 (0.333): 0.051*\"يا\" + 0.028*\"مش\" + 0.025*\"والله\" + 0.022*\"لا\" + 0.020*\"انا\" + 0.018*\"بس\" + 0.014*\"الله\" + 0.013*\"انت\" + 0.012*\"ليه\" + 0.011*\"\"\"\n",
      "INFO:gensim.models.ldamodel:topic diff=0.252781, rho=0.196116\n",
      "INFO:gensim.models.ldamodel:PROGRESS: pass 0, at document #54000/179632\n",
      "INFO:gensim.models.ldamodel:merging changes from 2000 documents into a model of 179632 documents\n",
      "INFO:gensim.models.ldamodel:topic #0 (0.333): 0.053*\"و\" + 0.036*\"بتاع\" + 0.023*\"اللي\" + 0.021*\"في\" + 0.016*\"ايه\" + 0.013*\"من\" + 0.013*\"ما\" + 0.013*\"مش\" + 0.011*\"فى\" + 0.011*\"ده\"\n",
      "INFO:gensim.models.ldamodel:topic #1 (0.333): 0.048*\"من\" + 0.027*\"انا\" + 0.024*\"في\" + 0.016*\"كل\" + 0.014*\"حد\" + 0.012*\"،\" + 0.011*\"(\" + 0.011*\"ولا\" + 0.011*\"حاجه\" + 0.010*\"مش\"\n",
      "INFO:gensim.models.ldamodel:topic #2 (0.333): 0.051*\"يا\" + 0.031*\"والله\" + 0.028*\"مش\" + 0.022*\"لا\" + 0.020*\"انا\" + 0.019*\"بس\" + 0.013*\"الله\" + 0.013*\"ليه\" + 0.012*\"انت\" + 0.012*\"ده\"\n",
      "INFO:gensim.models.ldamodel:topic diff=0.168384, rho=0.192450\n",
      "INFO:gensim.models.ldamodel:PROGRESS: pass 0, at document #56000/179632\n",
      "INFO:gensim.models.ldamodel:merging changes from 2000 documents into a model of 179632 documents\n",
      "INFO:gensim.models.ldamodel:topic #0 (0.333): 0.066*\"و\" + 0.030*\"بتاع\" + 0.024*\"اللي\" + 0.024*\"في\" + 0.016*\"ايه\" + 0.013*\"ما\" + 0.013*\"مش\" + 0.013*\"من\" + 0.013*\"ده\" + 0.010*\"لو\"\n",
      "INFO:gensim.models.ldamodel:topic #1 (0.333): 0.048*\"من\" + 0.028*\"انا\" + 0.026*\"في\" + 0.016*\"كل\" + 0.013*\"حد\" + 0.013*\"(\" + 0.011*\"ولا\" + 0.010*\"حاجه\" + 0.010*\"،\" + 0.010*\"يوم\"\n",
      "INFO:gensim.models.ldamodel:topic #2 (0.333): 0.052*\"يا\" + 0.032*\"والله\" + 0.028*\"مش\" + 0.021*\"انا\" + 0.021*\"لا\" + 0.019*\"بس\" + 0.015*\"أنا\" + 0.014*\"ده\" + 0.013*\"ليه\" + 0.012*\"بقي\"\n",
      "INFO:gensim.models.ldamodel:topic diff=0.178448, rho=0.188982\n",
      "INFO:gensim.models.ldamodel:PROGRESS: pass 0, at document #58000/179632\n",
      "INFO:gensim.models.ldamodel:merging changes from 2000 documents into a model of 179632 documents\n",
      "INFO:gensim.models.ldamodel:topic #0 (0.333): 0.058*\"و\" + 0.025*\"بتاع\" + 0.024*\"في\" + 0.023*\"اللي\" + 0.015*\"ايه\" + 0.015*\"ده\" + 0.013*\"فى\" + 0.013*\"من\" + 0.013*\"مش\" + 0.012*\"ما\"\n",
      "INFO:gensim.models.ldamodel:topic #1 (0.333): 0.048*\"من\" + 0.027*\"في\" + 0.026*\"انا\" + 0.015*\"كل\" + 0.013*\"حد\" + 0.012*\"(\" + 0.011*\"ولا\" + 0.010*\"مش\" + 0.010*\"حاجه\" + 0.010*\"يوم\"\n",
      "INFO:gensim.models.ldamodel:topic #2 (0.333): 0.056*\"يا\" + 0.031*\"والله\" + 0.028*\"مش\" + 0.022*\"لا\" + 0.020*\"انا\" + 0.019*\"بس\" + 0.015*\"ده\" + 0.014*\"أنا\" + 0.013*\"ليه\" + 0.012*\"بقي\"\n",
      "INFO:gensim.models.ldamodel:topic diff=0.183876, rho=0.185695\n",
      "INFO:gensim.models.ldamodel:-7.262 per-word bound, 153.5 perplexity estimate based on a held-out corpus of 2000 documents with 11847 words\n",
      "INFO:gensim.models.ldamodel:PROGRESS: pass 0, at document #60000/179632\n",
      "INFO:gensim.models.ldamodel:merging changes from 2000 documents into a model of 179632 documents\n",
      "INFO:gensim.models.ldamodel:topic #0 (0.333): 0.051*\"و\" + 0.022*\"في\" + 0.021*\"بتاع\" + 0.021*\"فى\" + 0.020*\"اللي\" + 0.015*\"ايه\" + 0.015*\"ده\" + 0.014*\"من\" + 0.014*\"على\" + 0.014*\"مش\"\n",
      "INFO:gensim.models.ldamodel:topic #1 (0.333): 0.052*\"من\" + 0.026*\"في\" + 0.025*\"انا\" + 0.014*\"كل\" + 0.012*\"حد\" + 0.011*\"ولا\" + 0.011*\"مش\" + 0.010*\"(\" + 0.010*\"ان\" + 0.009*\"يوم\"\n",
      "INFO:gensim.models.ldamodel:topic #2 (0.333): 0.060*\"يا\" + 0.030*\"والله\" + 0.029*\"مش\" + 0.024*\"لا\" + 0.020*\"بس\" + 0.019*\"انا\" + 0.015*\"ده\" + 0.013*\"أنا\" + 0.013*\"ليه\" + 0.012*\"الله\"\n",
      "INFO:gensim.models.ldamodel:topic diff=0.195361, rho=0.182574\n",
      "INFO:gensim.models.ldamodel:PROGRESS: pass 0, at document #62000/179632\n",
      "INFO:gensim.models.ldamodel:merging changes from 2000 documents into a model of 179632 documents\n",
      "INFO:gensim.models.ldamodel:topic #0 (0.333): 0.050*\"و\" + 0.021*\"اللي\" + 0.021*\"في\" + 0.018*\"بتاع\" + 0.018*\"فى\" + 0.016*\"ايه\" + 0.016*\"ده\" + 0.014*\"من\" + 0.014*\"مش\" + 0.013*\"على\"\n",
      "INFO:gensim.models.ldamodel:topic #1 (0.333): 0.051*\"من\" + 0.026*\"انا\" + 0.024*\"في\" + 0.014*\"كل\" + 0.013*\"،\" + 0.012*\"حد\" + 0.011*\"ولا\" + 0.011*\"مش\" + 0.009*\"يوم\" + 0.009*\"ان\"\n",
      "INFO:gensim.models.ldamodel:topic #2 (0.333): 0.059*\"يا\" + 0.030*\"مش\" + 0.028*\"والله\" + 0.025*\"لا\" + 0.021*\"بس\" + 0.020*\"انا\" + 0.015*\"ده\" + 0.014*\"ليه\" + 0.012*\"الله\" + 0.011*\"انت\"\n",
      "INFO:gensim.models.ldamodel:topic diff=0.169407, rho=0.179605\n",
      "INFO:gensim.models.ldamodel:PROGRESS: pass 0, at document #64000/179632\n",
      "INFO:gensim.models.ldamodel:merging changes from 2000 documents into a model of 179632 documents\n"
     ]
    },
    {
     "name": "stderr",
     "output_type": "stream",
     "text": [
      "INFO:gensim.models.ldamodel:topic #0 (0.333): 0.057*\"و\" + 0.023*\"في\" + 0.023*\"اللي\" + 0.018*\"ايه\" + 0.017*\"فى\" + 0.016*\"بتاع\" + 0.014*\"من\" + 0.014*\"ده\" + 0.013*\"مش\" + 0.012*\"على\"\n",
      "INFO:gensim.models.ldamodel:topic #1 (0.333): 0.051*\"من\" + 0.027*\"انا\" + 0.027*\"في\" + 0.015*\"،\" + 0.014*\"كل\" + 0.012*\"حد\" + 0.010*\"مش\" + 0.010*\"ولا\" + 0.010*\"ان\" + 0.010*\"يوم\"\n",
      "INFO:gensim.models.ldamodel:topic #2 (0.333): 0.059*\"يا\" + 0.030*\"مش\" + 0.026*\"والله\" + 0.025*\"لا\" + 0.022*\"انا\" + 0.022*\"بس\" + 0.014*\"ده\" + 0.014*\"ليه\" + 0.012*\"بقي\" + 0.011*\"الله\"\n",
      "INFO:gensim.models.ldamodel:topic diff=0.165765, rho=0.176777\n",
      "INFO:gensim.models.ldamodel:PROGRESS: pass 0, at document #66000/179632\n",
      "INFO:gensim.models.ldamodel:merging changes from 2000 documents into a model of 179632 documents\n",
      "INFO:gensim.models.ldamodel:topic #0 (0.333): 0.055*\"و\" + 0.024*\"في\" + 0.022*\"اللي\" + 0.018*\"ايه\" + 0.016*\"فى\" + 0.014*\"ف\" + 0.014*\"من\" + 0.013*\"بتاع\" + 0.013*\"ده\" + 0.012*\"مش\"\n",
      "INFO:gensim.models.ldamodel:topic #1 (0.333): 0.050*\"من\" + 0.028*\"في\" + 0.026*\"انا\" + 0.015*\"،\" + 0.015*\"كل\" + 0.011*\"حد\" + 0.011*\"محتاج\" + 0.010*\"ولا\" + 0.010*\"ان\" + 0.010*\"مش\"\n",
      "INFO:gensim.models.ldamodel:topic #2 (0.333): 0.061*\"يا\" + 0.029*\"مش\" + 0.024*\"والله\" + 0.024*\"لا\" + 0.021*\"انا\" + 0.021*\"بس\" + 0.014*\"الله\" + 0.013*\"ده\" + 0.013*\"ليه\" + 0.011*\"بقي\"\n",
      "INFO:gensim.models.ldamodel:topic diff=0.190452, rho=0.174078\n",
      "INFO:gensim.models.ldamodel:PROGRESS: pass 0, at document #68000/179632\n",
      "INFO:gensim.models.ldamodel:merging changes from 2000 documents into a model of 179632 documents\n",
      "INFO:gensim.models.ldamodel:topic #0 (0.333): 0.050*\"و\" + 0.026*\"في\" + 0.019*\"اللي\" + 0.018*\"ايه\" + 0.014*\"فى\" + 0.014*\"من\" + 0.013*\"ف\" + 0.012*\"مش\" + 0.011*\"ده\" + 0.011*\"ما\"\n",
      "INFO:gensim.models.ldamodel:topic #1 (0.333): 0.050*\"من\" + 0.032*\"في\" + 0.023*\"انا\" + 0.015*\"كل\" + 0.013*\"لما\" + 0.012*\"،\" + 0.010*\"ان\" + 0.010*\"علي\" + 0.010*\"ولا\" + 0.010*\"حد\"\n",
      "INFO:gensim.models.ldamodel:topic #2 (0.333): 0.055*\"يا\" + 0.027*\"مش\" + 0.024*\"لا\" + 0.022*\"والله\" + 0.019*\"انا\" + 0.019*\"بس\" + 0.017*\"الله\" + 0.012*\"ليه\" + 0.012*\"دة\" + 0.011*\"ده\"\n",
      "INFO:gensim.models.ldamodel:topic diff=0.219505, rho=0.171499\n",
      "INFO:gensim.models.ldamodel:PROGRESS: pass 0, at document #70000/179632\n",
      "INFO:gensim.models.ldamodel:merging changes from 2000 documents into a model of 179632 documents\n",
      "INFO:gensim.models.ldamodel:topic #0 (0.333): 0.044*\"و\" + 0.028*\"في\" + 0.019*\"ايه\" + 0.017*\"اللي\" + 0.015*\"من\" + 0.015*\"ال\" + 0.013*\"فى\" + 0.012*\"ف\" + 0.011*\"مش\" + 0.011*\"لو\"\n",
      "INFO:gensim.models.ldamodel:topic #1 (0.333): 0.053*\"من\" + 0.036*\"في\" + 0.021*\"انا\" + 0.016*\"كل\" + 0.012*\"لما\" + 0.012*\"علي\" + 0.012*\"ان\" + 0.011*\"،\" + 0.010*\"ولا\" + 0.010*\"حد\"\n",
      "INFO:gensim.models.ldamodel:topic #2 (0.333): 0.048*\"يا\" + 0.026*\"مش\" + 0.025*\"لا\" + 0.024*\"الله\" + 0.020*\"والله\" + 0.019*\"بس\" + 0.018*\"انا\" + 0.016*\"دة\" + 0.011*\"ليه\" + 0.010*\"بقي\"\n",
      "INFO:gensim.models.ldamodel:topic diff=0.234310, rho=0.169031\n",
      "INFO:gensim.models.ldamodel:PROGRESS: pass 0, at document #72000/179632\n",
      "INFO:gensim.models.ldamodel:merging changes from 2000 documents into a model of 179632 documents\n",
      "INFO:gensim.models.ldamodel:topic #0 (0.333): 0.041*\"و\" + 0.027*\"في\" + 0.019*\"ايه\" + 0.016*\"اللي\" + 0.016*\"فى\" + 0.014*\"من\" + 0.013*\"ال\" + 0.011*\"ما\" + 0.011*\"ده\" + 0.011*\"مش\"\n",
      "INFO:gensim.models.ldamodel:topic #1 (0.333): 0.054*\"من\" + 0.034*\"في\" + 0.021*\"انا\" + 0.016*\"كل\" + 0.011*\"لما\" + 0.011*\"ان\" + 0.011*\"علي\" + 0.010*\"،\" + 0.010*\"ولا\" + 0.009*\"حد\"\n",
      "INFO:gensim.models.ldamodel:topic #2 (0.333): 0.054*\"يا\" + 0.025*\"مش\" + 0.025*\"لا\" + 0.024*\"الله\" + 0.020*\"والله\" + 0.019*\"بس\" + 0.018*\"انا\" + 0.014*\"دة\" + 0.011*\"ليه\" + 0.010*\"انت\"\n",
      "INFO:gensim.models.ldamodel:topic diff=0.138245, rho=0.166667\n",
      "INFO:gensim.models.ldamodel:PROGRESS: pass 0, at document #74000/179632\n",
      "INFO:gensim.models.ldamodel:merging changes from 2000 documents into a model of 179632 documents\n",
      "INFO:gensim.models.ldamodel:topic #0 (0.333): 0.036*\"و\" + 0.023*\"في\" + 0.023*\"فى\" + 0.019*\"ايه\" + 0.015*\"اللى\" + 0.014*\"اللي\" + 0.014*\"من\" + 0.013*\"ده\" + 0.013*\"مش\" + 0.012*\"على\"\n",
      "INFO:gensim.models.ldamodel:topic #1 (0.333): 0.054*\"من\" + 0.030*\"في\" + 0.022*\"انا\" + 0.017*\"كل\" + 0.012*\"لما\" + 0.011*\"ان\" + 0.010*\"ولا\" + 0.010*\"حد\" + 0.009*\"علي\" + 0.009*\"يوم\"\n",
      "INFO:gensim.models.ldamodel:topic #2 (0.333): 0.056*\"يا\" + 0.026*\"مش\" + 0.024*\"والله\" + 0.024*\"لا\" + 0.022*\"الله\" + 0.020*\"بس\" + 0.020*\"انا\" + 0.012*\"ليه\" + 0.012*\"دة\" + 0.011*\"ده\"\n",
      "INFO:gensim.models.ldamodel:topic diff=0.154401, rho=0.164399\n",
      "INFO:gensim.models.ldamodel:PROGRESS: pass 0, at document #76000/179632\n",
      "INFO:gensim.models.ldamodel:merging changes from 2000 documents into a model of 179632 documents\n",
      "INFO:gensim.models.ldamodel:topic #0 (0.333): 0.038*\"و\" + 0.023*\"في\" + 0.023*\"فى\" + 0.018*\"ايه\" + 0.016*\"اللي\" + 0.014*\"من\" + 0.014*\"اللى\" + 0.013*\"ما\" + 0.013*\"مش\" + 0.013*\"ده\"\n",
      "INFO:gensim.models.ldamodel:topic #1 (0.333): 0.055*\"من\" + 0.031*\"في\" + 0.021*\"انا\" + 0.018*\"كل\" + 0.012*\"لما\" + 0.011*\"ان\" + 0.011*\"،\" + 0.010*\"ولا\" + 0.010*\"يوم\" + 0.010*\"حد\"\n",
      "INFO:gensim.models.ldamodel:topic #2 (0.333): 0.054*\"يا\" + 0.027*\"مش\" + 0.025*\"لا\" + 0.022*\"الله\" + 0.021*\"والله\" + 0.019*\"انا\" + 0.019*\"بس\" + 0.012*\"ليه\" + 0.011*\"انت\" + 0.010*\"دة\"\n",
      "INFO:gensim.models.ldamodel:topic diff=0.181675, rho=0.162221\n",
      "INFO:gensim.models.ldamodel:PROGRESS: pass 0, at document #78000/179632\n",
      "INFO:gensim.models.ldamodel:merging changes from 2000 documents into a model of 179632 documents\n",
      "INFO:gensim.models.ldamodel:topic #0 (0.333): 0.039*\"و\" + 0.022*\"في\" + 0.021*\"فى\" + 0.018*\"اللي\" + 0.018*\"ايه\" + 0.014*\"من\" + 0.013*\"ما\" + 0.013*\"اللى\" + 0.013*\"مش\" + 0.013*\"ده\"\n",
      "INFO:gensim.models.ldamodel:topic #1 (0.333): 0.057*\"من\" + 0.030*\"في\" + 0.021*\"انا\" + 0.017*\"كل\" + 0.011*\"ان\" + 0.011*\"،\" + 0.011*\"لما\" + 0.010*\"ولا\" + 0.010*\"حد\" + 0.010*\"يوم\"\n",
      "INFO:gensim.models.ldamodel:topic #2 (0.333): 0.054*\"يا\" + 0.027*\"مش\" + 0.024*\"لا\" + 0.022*\"الله\" + 0.021*\"والله\" + 0.019*\"انا\" + 0.018*\"بس\" + 0.011*\"انت\" + 0.010*\"ليه\" + 0.010*\"ربنا\"\n",
      "INFO:gensim.models.ldamodel:topic diff=0.169194, rho=0.160128\n",
      "INFO:gensim.models.ldamodel:-7.117 per-word bound, 138.8 perplexity estimate based on a held-out corpus of 2000 documents with 11619 words\n",
      "INFO:gensim.models.ldamodel:PROGRESS: pass 0, at document #80000/179632\n",
      "INFO:gensim.models.ldamodel:merging changes from 2000 documents into a model of 179632 documents\n",
      "INFO:gensim.models.ldamodel:topic #0 (0.333): 0.038*\"و\" + 0.021*\"اللي\" + 0.021*\"في\" + 0.020*\"ايه\" + 0.019*\"فى\" + 0.015*\"ف\" + 0.014*\"ما\" + 0.014*\"من\" + 0.013*\"ده\" + 0.013*\"مش\"\n",
      "INFO:gensim.models.ldamodel:topic #1 (0.333): 0.056*\"من\" + 0.028*\"في\" + 0.021*\"انا\" + 0.017*\"كل\" + 0.012*\"،\" + 0.012*\"ان\" + 0.010*\"لما\" + 0.010*\"ولا\" + 0.010*\"حاجه\" + 0.010*\"حد\"\n",
      "INFO:gensim.models.ldamodel:topic #2 (0.333): 0.059*\"يا\" + 0.027*\"مش\" + 0.024*\"لا\" + 0.024*\"والله\" + 0.020*\"انا\" + 0.020*\"الله\" + 0.019*\"بس\" + 0.011*\"انت\" + 0.011*\"ده\" + 0.010*\"ربنا\"\n",
      "INFO:gensim.models.ldamodel:topic diff=0.152832, rho=0.158114\n",
      "INFO:gensim.models.ldamodel:PROGRESS: pass 0, at document #82000/179632\n",
      "INFO:gensim.models.ldamodel:merging changes from 2000 documents into a model of 179632 documents\n",
      "INFO:gensim.models.ldamodel:topic #0 (0.333): 0.040*\"و\" + 0.023*\"اللي\" + 0.021*\"في\" + 0.019*\"ايه\" + 0.018*\"فى\" + 0.014*\"مش\" + 0.014*\"ما\" + 0.014*\"من\" + 0.014*\"ف\" + 0.013*\"ده\"\n",
      "INFO:gensim.models.ldamodel:topic #1 (0.333): 0.057*\"من\" + 0.028*\"في\" + 0.021*\"انا\" + 0.018*\"كل\" + 0.013*\"،\" + 0.012*\"ان\" + 0.011*\"حد\" + 0.010*\"لما\" + 0.010*\"حاجه\" + 0.010*\"ولا\"\n",
      "INFO:gensim.models.ldamodel:topic #2 (0.333): 0.057*\"يا\" + 0.028*\"مش\" + 0.026*\"لا\" + 0.025*\"والله\" + 0.021*\"انا\" + 0.019*\"الله\" + 0.019*\"بس\" + 0.012*\"انت\" + 0.012*\"\"\" + 0.011*\"ده\"\n",
      "INFO:gensim.models.ldamodel:topic diff=0.166899, rho=0.156174\n",
      "INFO:gensim.models.ldamodel:PROGRESS: pass 0, at document #84000/179632\n",
      "INFO:gensim.models.ldamodel:merging changes from 2000 documents into a model of 179632 documents\n",
      "INFO:gensim.models.ldamodel:topic #0 (0.333): 0.039*\"و\" + 0.025*\"اللي\" + 0.022*\"في\" + 0.020*\"ايه\" + 0.017*\"فى\" + 0.015*\"مش\" + 0.014*\"ما\" + 0.013*\"من\" + 0.013*\"ده\" + 0.013*\"ف\"\n",
      "INFO:gensim.models.ldamodel:topic #1 (0.333): 0.055*\"من\" + 0.030*\"في\" + 0.023*\"انا\" + 0.018*\"كل\" + 0.012*\"،\" + 0.012*\"ان\" + 0.012*\"حد\" + 0.011*\"حاجه\" + 0.010*\"لما\" + 0.010*\"ولا\"\n",
      "INFO:gensim.models.ldamodel:topic #2 (0.333): 0.056*\"يا\" + 0.029*\"والله\" + 0.029*\"مش\" + 0.026*\"لا\" + 0.023*\"انا\" + 0.020*\"بس\" + 0.019*\"الله\" + 0.011*\"انت\" + 0.011*\"ده\" + 0.010*\"\"\"\n"
     ]
    },
    {
     "name": "stderr",
     "output_type": "stream",
     "text": [
      "INFO:gensim.models.ldamodel:topic diff=0.135999, rho=0.154303\n",
      "INFO:gensim.models.ldamodel:PROGRESS: pass 0, at document #86000/179632\n",
      "INFO:gensim.models.ldamodel:merging changes from 2000 documents into a model of 179632 documents\n",
      "INFO:gensim.models.ldamodel:topic #0 (0.333): 0.042*\"و\" + 0.027*\"اللي\" + 0.023*\"في\" + 0.021*\"ايه\" + 0.015*\"فى\" + 0.015*\"مش\" + 0.013*\"ما\" + 0.013*\"من\" + 0.012*\"ف\" + 0.012*\"ده\"\n",
      "INFO:gensim.models.ldamodel:topic #1 (0.333): 0.055*\"من\" + 0.032*\"في\" + 0.022*\"انا\" + 0.018*\"كل\" + 0.012*\"حاجه\" + 0.012*\"،\" + 0.011*\"حد\" + 0.011*\"ان\" + 0.010*\"ولا\" + 0.010*\"يوم\"\n",
      "INFO:gensim.models.ldamodel:topic #2 (0.333): 0.057*\"يا\" + 0.030*\"والله\" + 0.028*\"مش\" + 0.024*\"لا\" + 0.023*\"انا\" + 0.021*\"بس\" + 0.020*\"الله\" + 0.011*\"انت\" + 0.010*\"ربنا\" + 0.010*\"ليه\"\n",
      "INFO:gensim.models.ldamodel:topic diff=0.131432, rho=0.152499\n",
      "INFO:gensim.models.ldamodel:PROGRESS: pass 0, at document #88000/179632\n",
      "INFO:gensim.models.ldamodel:merging changes from 2000 documents into a model of 179632 documents\n",
      "INFO:gensim.models.ldamodel:topic #0 (0.333): 0.055*\"و\" + 0.027*\"اللي\" + 0.023*\"في\" + 0.019*\"ايه\" + 0.015*\"مش\" + 0.014*\"فى\" + 0.013*\"من\" + 0.012*\"ما\" + 0.012*\"ف\" + 0.012*\"ده\"\n",
      "INFO:gensim.models.ldamodel:topic #1 (0.333): 0.056*\"من\" + 0.032*\"في\" + 0.021*\"انا\" + 0.018*\"كل\" + 0.012*\"،\" + 0.012*\"ان\" + 0.011*\"حد\" + 0.011*\"حاجه\" + 0.010*\"ولا\" + 0.010*\"يوم\"\n",
      "INFO:gensim.models.ldamodel:topic #2 (0.333): 0.057*\"يا\" + 0.029*\"والله\" + 0.027*\"مش\" + 0.024*\"لا\" + 0.024*\"الله\" + 0.021*\"انا\" + 0.020*\"بس\" + 0.011*\"انت\" + 0.010*\"\"\" + 0.010*\"ربنا\"\n",
      "INFO:gensim.models.ldamodel:topic diff=0.157832, rho=0.150756\n",
      "INFO:gensim.models.ldamodel:PROGRESS: pass 0, at document #90000/179632\n",
      "INFO:gensim.models.ldamodel:merging changes from 2000 documents into a model of 179632 documents\n",
      "INFO:gensim.models.ldamodel:topic #0 (0.333): 0.053*\"و\" + 0.025*\"اللي\" + 0.024*\"في\" + 0.018*\"ايه\" + 0.014*\"مش\" + 0.014*\"فى\" + 0.013*\"من\" + 0.012*\"ما\" + 0.011*\"ده\" + 0.011*\"لو\"\n",
      "INFO:gensim.models.ldamodel:topic #1 (0.333): 0.057*\"من\" + 0.032*\"في\" + 0.020*\"انا\" + 0.019*\"كل\" + 0.012*\"،\" + 0.011*\"ان\" + 0.011*\"حد\" + 0.010*\"حاجه\" + 0.010*\"ولا\" + 0.010*\"يوم\"\n",
      "INFO:gensim.models.ldamodel:topic #2 (0.333): 0.064*\"يا\" + 0.027*\"والله\" + 0.026*\"مش\" + 0.023*\"لا\" + 0.023*\"الله\" + 0.021*\"انا\" + 0.019*\"بس\" + 0.012*\"يارب\" + 0.012*\"انت\" + 0.010*\"ربنا\"\n",
      "INFO:gensim.models.ldamodel:topic diff=0.152283, rho=0.149071\n",
      "INFO:gensim.models.ldamodel:PROGRESS: pass 0, at document #92000/179632\n",
      "INFO:gensim.models.ldamodel:merging changes from 2000 documents into a model of 179632 documents\n",
      "INFO:gensim.models.ldamodel:topic #0 (0.333): 0.050*\"و\" + 0.024*\"اللي\" + 0.023*\"في\" + 0.017*\"ايه\" + 0.013*\"مش\" + 0.013*\"فى\" + 0.013*\"على\" + 0.013*\"من\" + 0.012*\"ما\" + 0.011*\"لو\"\n",
      "INFO:gensim.models.ldamodel:topic #1 (0.333): 0.059*\"من\" + 0.031*\"في\" + 0.019*\"انا\" + 0.019*\"كل\" + 0.012*\"،\" + 0.010*\"ان\" + 0.010*\"ولا\" + 0.009*\"يوم\" + 0.009*\"حد\" + 0.009*\"حاجه\"\n",
      "INFO:gensim.models.ldamodel:topic #2 (0.333): 0.064*\"يا\" + 0.026*\"والله\" + 0.024*\"مش\" + 0.024*\"الله\" + 0.023*\"لا\" + 0.020*\"انا\" + 0.019*\"بس\" + 0.013*\"يارب\" + 0.012*\"انت\" + 0.010*\"ربنا\"\n",
      "INFO:gensim.models.ldamodel:topic diff=0.245473, rho=0.147442\n",
      "INFO:gensim.models.ldamodel:PROGRESS: pass 0, at document #94000/179632\n",
      "INFO:gensim.models.ldamodel:merging changes from 2000 documents into a model of 179632 documents\n",
      "INFO:gensim.models.ldamodel:topic #0 (0.333): 0.048*\"و\" + 0.025*\"اللي\" + 0.022*\"في\" + 0.016*\"على\" + 0.014*\"ايه\" + 0.013*\"ما\" + 0.013*\"من\" + 0.012*\"مش\" + 0.011*\"فى\" + 0.010*\"لو\"\n",
      "INFO:gensim.models.ldamodel:topic #1 (0.333): 0.061*\"من\" + 0.030*\"في\" + 0.019*\"كل\" + 0.018*\"،\" + 0.016*\"انا\" + 0.011*\"لا\" + 0.009*\"ان\" + 0.009*\"ولا\" + 0.009*\"يوم\" + 0.008*\"حد\"\n",
      "INFO:gensim.models.ldamodel:topic #2 (0.333): 0.060*\"يا\" + 0.027*\"الله\" + 0.026*\"لا\" + 0.024*\"والله\" + 0.021*\"مش\" + 0.018*\"انا\" + 0.018*\"بس\" + 0.012*\"يارب\" + 0.011*\"انت\" + 0.011*\"اللهم\"\n",
      "INFO:gensim.models.ldamodel:topic diff=0.222867, rho=0.145865\n",
      "INFO:gensim.models.ldamodel:PROGRESS: pass 0, at document #96000/179632\n",
      "INFO:gensim.models.ldamodel:merging changes from 2000 documents into a model of 179632 documents\n",
      "INFO:gensim.models.ldamodel:topic #0 (0.333): 0.048*\"و\" + 0.024*\"اللي\" + 0.022*\"في\" + 0.017*\"على\" + 0.015*\"ما\" + 0.013*\"من\" + 0.013*\"ايه\" + 0.010*\"مش\" + 0.010*\"فى\" + 0.010*\"لو\"\n",
      "INFO:gensim.models.ldamodel:topic #1 (0.333): 0.061*\"من\" + 0.029*\"في\" + 0.020*\"كل\" + 0.019*\"،\" + 0.015*\"انا\" + 0.013*\"لا\" + 0.010*\"ولا\" + 0.009*\"ان\" + 0.009*\"يوم\" + 0.008*\"أن\"\n",
      "INFO:gensim.models.ldamodel:topic #2 (0.333): 0.057*\"يا\" + 0.029*\"لا\" + 0.028*\"الله\" + 0.023*\"والله\" + 0.019*\"بس\" + 0.019*\"مش\" + 0.018*\"انا\" + 0.013*\"يارب\" + 0.013*\"اللهم\" + 0.012*\"\"\"\n",
      "INFO:gensim.models.ldamodel:topic diff=0.162779, rho=0.144338\n",
      "INFO:gensim.models.ldamodel:PROGRESS: pass 0, at document #98000/179632\n",
      "INFO:gensim.models.ldamodel:merging changes from 2000 documents into a model of 179632 documents\n",
      "INFO:gensim.models.ldamodel:topic #0 (0.333): 0.048*\"و\" + 0.023*\"في\" + 0.022*\"اللي\" + 0.019*\"على\" + 0.016*\"ما\" + 0.014*\"من\" + 0.012*\"ايه\" + 0.009*\"الي\" + 0.009*\"لو\" + 0.009*\"مش\"\n",
      "INFO:gensim.models.ldamodel:topic #1 (0.333): 0.065*\"من\" + 0.031*\"في\" + 0.019*\"كل\" + 0.018*\"،\" + 0.014*\"انا\" + 0.013*\"لا\" + 0.009*\"ولا\" + 0.009*\"أن\" + 0.009*\"ان\" + 0.008*\"يوم\"\n",
      "INFO:gensim.models.ldamodel:topic #2 (0.333): 0.059*\"يا\" + 0.029*\"الله\" + 0.028*\"لا\" + 0.022*\"والله\" + 0.018*\"بس\" + 0.017*\"مش\" + 0.017*\"انا\" + 0.013*\"اللهم\" + 0.013*\"\"\" + 0.013*\"يارب\"\n",
      "INFO:gensim.models.ldamodel:topic diff=0.233349, rho=0.142857\n",
      "INFO:gensim.models.ldamodel:-7.401 per-word bound, 169.0 perplexity estimate based on a held-out corpus of 2000 documents with 11212 words\n",
      "INFO:gensim.models.ldamodel:PROGRESS: pass 0, at document #100000/179632\n",
      "INFO:gensim.models.ldamodel:merging changes from 2000 documents into a model of 179632 documents\n",
      "INFO:gensim.models.ldamodel:topic #0 (0.333): 0.052*\"و\" + 0.024*\"في\" + 0.021*\"اللي\" + 0.020*\"على\" + 0.018*\"ما\" + 0.014*\"من\" + 0.011*\"ايه\" + 0.009*\"لو\" + 0.009*\"الي\" + 0.008*\"هو\"\n",
      "INFO:gensim.models.ldamodel:topic #1 (0.333): 0.067*\"من\" + 0.033*\"في\" + 0.019*\"كل\" + 0.018*\"،\" + 0.014*\"لا\" + 0.013*\"انا\" + 0.010*\"أن\" + 0.009*\"ولا\" + 0.008*\"ان\" + 0.008*\"عن\"\n",
      "INFO:gensim.models.ldamodel:topic #2 (0.333): 0.060*\"يا\" + 0.030*\"الله\" + 0.028*\"لا\" + 0.021*\"والله\" + 0.017*\"انا\" + 0.017*\"بس\" + 0.016*\"مش\" + 0.014*\"ما\" + 0.013*\"اللهم\" + 0.012*\"\"\"\n",
      "INFO:gensim.models.ldamodel:topic diff=0.149379, rho=0.141421\n",
      "INFO:gensim.models.ldamodel:PROGRESS: pass 0, at document #102000/179632\n",
      "INFO:gensim.models.ldamodel:merging changes from 2000 documents into a model of 179632 documents\n",
      "INFO:gensim.models.ldamodel:topic #0 (0.333): 0.054*\"و\" + 0.024*\"في\" + 0.021*\"على\" + 0.020*\"اللي\" + 0.019*\"ما\" + 0.015*\"من\" + 0.010*\"ايه\" + 0.008*\"لو\" + 0.008*\"هو\" + 0.008*\"الي\"\n",
      "INFO:gensim.models.ldamodel:topic #1 (0.333): 0.068*\"من\" + 0.032*\"في\" + 0.019*\"كل\" + 0.017*\"،\" + 0.015*\"لا\" + 0.012*\"انا\" + 0.012*\"أن\" + 0.009*\"عن\" + 0.009*\"ان\" + 0.009*\"ولا\"\n",
      "INFO:gensim.models.ldamodel:topic #2 (0.333): 0.059*\"يا\" + 0.031*\"الله\" + 0.028*\"لا\" + 0.020*\"والله\" + 0.016*\"بس\" + 0.016*\"انا\" + 0.015*\"️\" + 0.014*\"ما\" + 0.014*\"مش\" + 0.013*\"اللهم\"\n",
      "INFO:gensim.models.ldamodel:topic diff=0.182164, rho=0.140028\n",
      "INFO:gensim.models.ldamodel:PROGRESS: pass 0, at document #104000/179632\n",
      "INFO:gensim.models.ldamodel:merging changes from 2000 documents into a model of 179632 documents\n",
      "INFO:gensim.models.ldamodel:topic #0 (0.333): 0.050*\"و\" + 0.026*\"في\" + 0.025*\"على\" + 0.017*\"اللي\" + 0.017*\"ما\" + 0.015*\"من\" + 0.008*\"هو\" + 0.008*\"لو\" + 0.008*\"ايه\" + 0.007*\"مع\"\n",
      "INFO:gensim.models.ldamodel:topic #1 (0.333): 0.072*\"من\" + 0.035*\"في\" + 0.017*\"كل\" + 0.016*\"،\" + 0.015*\"لا\" + 0.012*\"أن\" + 0.010*\"انا\" + 0.009*\"عن\" + 0.009*\"ان\" + 0.008*\"…\"\n",
      "INFO:gensim.models.ldamodel:topic #2 (0.333): 0.059*\"يا\" + 0.032*\"الله\" + 0.028*\"لا\" + 0.019*\"والله\" + 0.017*\"️\" + 0.015*\"بس\" + 0.014*\"انا\" + 0.013*\"ما\" + 0.013*\"اللهم\" + 0.012*\"مش\"\n",
      "INFO:gensim.models.ldamodel:topic diff=0.188044, rho=0.138675\n",
      "INFO:gensim.models.ldamodel:PROGRESS: pass 0, at document #106000/179632\n",
      "INFO:gensim.models.ldamodel:merging changes from 2000 documents into a model of 179632 documents\n",
      "INFO:gensim.models.ldamodel:topic #0 (0.333): 0.044*\"و\" + 0.025*\"على\" + 0.025*\"في\" + 0.021*\"اللي\" + 0.020*\"ما\" + 0.015*\"من\" + 0.008*\"شي\" + 0.008*\"لو\" + 0.008*\"مع\" + 0.008*\"هو\"\n"
     ]
    },
    {
     "name": "stderr",
     "output_type": "stream",
     "text": [
      "INFO:gensim.models.ldamodel:topic #1 (0.333): 0.071*\"من\" + 0.033*\"في\" + 0.017*\"كل\" + 0.015*\"لا\" + 0.015*\"،\" + 0.011*\"أن\" + 0.010*\"انا\" + 0.010*\"عن\" + 0.010*\"ان\" + 0.007*\"ولا\"\n",
      "INFO:gensim.models.ldamodel:topic #2 (0.333): 0.055*\"يا\" + 0.031*\"الله\" + 0.028*\"لا\" + 0.019*\"والله\" + 0.019*\"️\" + 0.017*\"بس\" + 0.016*\"ما\" + 0.015*\"انا\" + 0.013*\"\"\" + 0.011*\"اللهم\"\n",
      "INFO:gensim.models.ldamodel:topic diff=0.140942, rho=0.137361\n",
      "INFO:gensim.models.ldamodel:PROGRESS: pass 0, at document #108000/179632\n",
      "INFO:gensim.models.ldamodel:merging changes from 2000 documents into a model of 179632 documents\n",
      "INFO:gensim.models.ldamodel:topic #0 (0.333): 0.041*\"و\" + 0.025*\"على\" + 0.024*\"في\" + 0.023*\"ما\" + 0.020*\"اللي\" + 0.015*\"من\" + 0.009*\"شي\" + 0.009*\"الي\" + 0.008*\"لو\" + 0.007*\"مع\"\n",
      "INFO:gensim.models.ldamodel:topic #1 (0.333): 0.068*\"من\" + 0.031*\"في\" + 0.017*\"كل\" + 0.015*\"لا\" + 0.013*\"،\" + 0.011*\"انا\" + 0.010*\"أن\" + 0.009*\"ان\" + 0.009*\"عن\" + 0.009*\"مو\"\n",
      "INFO:gensim.models.ldamodel:topic #2 (0.333): 0.049*\"يا\" + 0.032*\"الله\" + 0.030*\"لا\" + 0.020*\"بس\" + 0.019*\"والله\" + 0.018*\"ما\" + 0.017*\"️\" + 0.016*\"انا\" + 0.012*\"انت\" + 0.012*\"\"\"\n",
      "INFO:gensim.models.ldamodel:topic diff=0.109693, rho=0.136083\n",
      "INFO:gensim.models.ldamodel:PROGRESS: pass 0, at document #110000/179632\n",
      "INFO:gensim.models.ldamodel:merging changes from 2000 documents into a model of 179632 documents\n",
      "INFO:gensim.models.ldamodel:topic #0 (0.333): 0.038*\"و\" + 0.026*\"على\" + 0.025*\"في\" + 0.021*\"ما\" + 0.018*\"اللي\" + 0.015*\"من\" + 0.010*\"الي\" + 0.009*\"شي\" + 0.008*\"لو\" + 0.008*\"مع\"\n",
      "INFO:gensim.models.ldamodel:topic #1 (0.333): 0.067*\"من\" + 0.034*\"في\" + 0.017*\"كل\" + 0.016*\"لا\" + 0.015*\"أن\" + 0.012*\"،\" + 0.010*\"عن\" + 0.009*\"انا\" + 0.009*\"ان\" + 0.008*\"…\"\n",
      "INFO:gensim.models.ldamodel:topic #2 (0.333): 0.045*\"يا\" + 0.036*\"الله\" + 0.031*\"لا\" + 0.019*\"بس\" + 0.018*\"والله\" + 0.017*\"ما\" + 0.015*\"️\" + 0.015*\"انا\" + 0.012*\"انت\" + 0.011*\"\"\"\n",
      "INFO:gensim.models.ldamodel:topic diff=0.189935, rho=0.134840\n",
      "INFO:gensim.models.ldamodel:PROGRESS: pass 0, at document #112000/179632\n",
      "INFO:gensim.models.ldamodel:merging changes from 2000 documents into a model of 179632 documents\n",
      "INFO:gensim.models.ldamodel:topic #0 (0.333): 0.041*\"و\" + 0.026*\"في\" + 0.026*\"على\" + 0.021*\"ما\" + 0.015*\"اللي\" + 0.014*\"من\" + 0.009*\"لو\" + 0.009*\"الي\" + 0.008*\"كان\" + 0.008*\"شي\"\n",
      "INFO:gensim.models.ldamodel:topic #1 (0.333): 0.066*\"من\" + 0.036*\"في\" + 0.025*\"أن\" + 0.022*\"لا\" + 0.019*\"كل\" + 0.010*\"عن\" + 0.009*\"الذي\" + 0.009*\"،\" + 0.009*\"ان\" + 0.008*\"ولا\"\n",
      "INFO:gensim.models.ldamodel:topic #2 (0.333): 0.039*\"يا\" + 0.036*\"لا\" + 0.036*\"الله\" + 0.017*\"ما\" + 0.015*\"بس\" + 0.015*\"والله\" + 0.013*\"️\" + 0.013*\"انا\" + 0.011*\"على\" + 0.010*\"انت\"\n",
      "INFO:gensim.models.ldamodel:topic diff=0.210619, rho=0.133631\n",
      "INFO:gensim.models.ldamodel:PROGRESS: pass 0, at document #114000/179632\n",
      "INFO:gensim.models.ldamodel:merging changes from 2000 documents into a model of 179632 documents\n",
      "INFO:gensim.models.ldamodel:topic #0 (0.333): 0.039*\"و\" + 0.029*\"على\" + 0.025*\"في\" + 0.019*\"ما\" + 0.015*\"اللي\" + 0.014*\"من\" + 0.012*\"الي\" + 0.009*\"لو\" + 0.008*\"شي\" + 0.008*\"ثقيل\"\n",
      "INFO:gensim.models.ldamodel:topic #1 (0.333): 0.065*\"من\" + 0.035*\"في\" + 0.023*\"أن\" + 0.021*\"لا\" + 0.019*\"كل\" + 0.010*\"عن\" + 0.010*\"،\" + 0.009*\"ان\" + 0.009*\"الذي\" + 0.009*\"ولا\"\n",
      "INFO:gensim.models.ldamodel:topic #2 (0.333): 0.037*\"الله\" + 0.036*\"يا\" + 0.035*\"لا\" + 0.016*\"بس\" + 0.016*\"ما\" + 0.016*\"والله\" + 0.014*\"ثقيل\" + 0.012*\"️\" + 0.012*\"انا\" + 0.012*\"على\"\n",
      "INFO:gensim.models.ldamodel:topic diff=0.152814, rho=0.132453\n",
      "INFO:gensim.models.ldamodel:PROGRESS: pass 0, at document #116000/179632\n",
      "INFO:gensim.models.ldamodel:merging changes from 2000 documents into a model of 179632 documents\n",
      "INFO:gensim.models.ldamodel:topic #0 (0.333): 0.033*\"و\" + 0.030*\"على\" + 0.024*\"في\" + 0.018*\"الي\" + 0.017*\"ما\" + 0.015*\"من\" + 0.013*\"اللي\" + 0.008*\"شي\" + 0.008*\"لو\" + 0.007*\"مع\"\n",
      "INFO:gensim.models.ldamodel:topic #1 (0.333): 0.065*\"من\" + 0.034*\"في\" + 0.021*\"أن\" + 0.020*\"لا\" + 0.019*\"كل\" + 0.011*\"عن\" + 0.009*\"،\" + 0.009*\"ولا\" + 0.009*\"ان\" + 0.008*\"الذي\"\n",
      "INFO:gensim.models.ldamodel:topic #2 (0.333): 0.039*\"الله\" + 0.033*\"يا\" + 0.033*\"لا\" + 0.019*\"بس\" + 0.018*\"والله\" + 0.016*\"انت\" + 0.015*\"ما\" + 0.013*\"ثقيل\" + 0.012*\"على\" + 0.011*\"انا\"\n",
      "INFO:gensim.models.ldamodel:topic diff=0.121221, rho=0.131306\n",
      "INFO:gensim.models.ldamodel:PROGRESS: pass 0, at document #118000/179632\n",
      "INFO:gensim.models.ldamodel:merging changes from 2000 documents into a model of 179632 documents\n",
      "INFO:gensim.models.ldamodel:topic #0 (0.333): 0.045*\"و\" + 0.028*\"على\" + 0.023*\"في\" + 0.018*\"الي\" + 0.016*\"ما\" + 0.015*\"اللي\" + 0.015*\"من\" + 0.009*\"شي\" + 0.008*\"لو\" + 0.007*\"مع\"\n",
      "INFO:gensim.models.ldamodel:topic #1 (0.333): 0.065*\"من\" + 0.033*\"في\" + 0.020*\"لا\" + 0.019*\"أن\" + 0.019*\"كل\" + 0.011*\"،\" + 0.010*\"عن\" + 0.009*\"ان\" + 0.009*\"ولا\" + 0.008*\"مو\"\n",
      "INFO:gensim.models.ldamodel:topic #2 (0.333): 0.039*\"الله\" + 0.033*\"لا\" + 0.031*\"يا\" + 0.019*\"بس\" + 0.018*\"والله\" + 0.016*\"انت\" + 0.015*\"ما\" + 0.014*\"️\" + 0.013*\"اذا\" + 0.012*\"على\"\n",
      "INFO:gensim.models.ldamodel:topic diff=0.113469, rho=0.130189\n",
      "INFO:gensim.models.ldamodel:-7.281 per-word bound, 155.5 perplexity estimate based on a held-out corpus of 2000 documents with 12057 words\n",
      "INFO:gensim.models.ldamodel:PROGRESS: pass 0, at document #120000/179632\n",
      "INFO:gensim.models.ldamodel:merging changes from 2000 documents into a model of 179632 documents\n",
      "INFO:gensim.models.ldamodel:topic #0 (0.333): 0.052*\"و\" + 0.027*\"على\" + 0.023*\"في\" + 0.017*\"الي\" + 0.017*\"اللي\" + 0.016*\"ما\" + 0.015*\"من\" + 0.010*\"شي\" + 0.009*\"لو\" + 0.007*\"بس\"\n",
      "INFO:gensim.models.ldamodel:topic #1 (0.333): 0.066*\"من\" + 0.033*\"في\" + 0.021*\"لا\" + 0.019*\"كل\" + 0.019*\"أن\" + 0.015*\"،\" + 0.010*\"عن\" + 0.009*\"مو\" + 0.009*\"ان\" + 0.009*\"ولا\"\n",
      "INFO:gensim.models.ldamodel:topic #2 (0.333): 0.041*\"الله\" + 0.032*\"لا\" + 0.030*\"يا\" + 0.019*\"بس\" + 0.017*\"والله\" + 0.016*\"️\" + 0.015*\"اذا\" + 0.014*\"ما\" + 0.014*\"انت\" + 0.012*\"\"\"\n",
      "INFO:gensim.models.ldamodel:topic diff=0.111155, rho=0.129099\n",
      "INFO:gensim.models.ldamodel:PROGRESS: pass 0, at document #122000/179632\n",
      "INFO:gensim.models.ldamodel:merging changes from 2000 documents into a model of 179632 documents\n",
      "INFO:gensim.models.ldamodel:topic #0 (0.333): 0.049*\"و\" + 0.027*\"على\" + 0.022*\"في\" + 0.017*\"اللي\" + 0.016*\"ما\" + 0.016*\"الي\" + 0.015*\"من\" + 0.010*\"شي\" + 0.009*\"لو\" + 0.007*\"كان\"\n",
      "INFO:gensim.models.ldamodel:topic #1 (0.333): 0.066*\"من\" + 0.033*\"في\" + 0.021*\"لا\" + 0.020*\"كل\" + 0.019*\"أن\" + 0.019*\"،\" + 0.010*\"عن\" + 0.009*\"مو\" + 0.009*\"ولا\" + 0.008*\"ان\"\n",
      "INFO:gensim.models.ldamodel:topic #2 (0.333): 0.044*\"الله\" + 0.032*\"لا\" + 0.028*\"يا\" + 0.018*\"بس\" + 0.017*\"️\" + 0.016*\"والله\" + 0.016*\"اذا\" + 0.015*\"\"\" + 0.015*\"ما\" + 0.013*\"انت\"\n",
      "INFO:gensim.models.ldamodel:topic diff=0.113998, rho=0.128037\n",
      "INFO:gensim.models.ldamodel:PROGRESS: pass 0, at document #124000/179632\n",
      "INFO:gensim.models.ldamodel:merging changes from 2000 documents into a model of 179632 documents\n",
      "INFO:gensim.models.ldamodel:topic #0 (0.333): 0.046*\"و\" + 0.028*\"على\" + 0.023*\"في\" + 0.017*\"اللي\" + 0.016*\"ما\" + 0.015*\"من\" + 0.015*\"الي\" + 0.010*\"لو\" + 0.010*\"شي\" + 0.007*\"كان\"\n",
      "INFO:gensim.models.ldamodel:topic #1 (0.333): 0.067*\"من\" + 0.034*\"في\" + 0.020*\"كل\" + 0.020*\"لا\" + 0.018*\"،\" + 0.018*\"أن\" + 0.010*\"عن\" + 0.008*\"ان\" + 0.008*\"ولا\" + 0.008*\"لي\"\n",
      "INFO:gensim.models.ldamodel:topic #2 (0.333): 0.050*\"الله\" + 0.029*\"لا\" + 0.027*\"يا\" + 0.016*\"بس\" + 0.015*\"والله\" + 0.015*\"️\" + 0.015*\"\"\" + 0.015*\"اذا\" + 0.014*\"ما\" + 0.013*\"انت\"\n",
      "INFO:gensim.models.ldamodel:topic diff=0.125930, rho=0.127000\n",
      "INFO:gensim.models.ldamodel:PROGRESS: pass 0, at document #126000/179632\n",
      "INFO:gensim.models.ldamodel:merging changes from 2000 documents into a model of 179632 documents\n",
      "INFO:gensim.models.ldamodel:topic #0 (0.333): 0.044*\"و\" + 0.027*\"على\" + 0.023*\"في\" + 0.017*\"اللي\" + 0.015*\"من\" + 0.015*\"ما\" + 0.015*\"الي\" + 0.010*\"شي\" + 0.010*\"لو\" + 0.007*\"كان\"\n",
      "INFO:gensim.models.ldamodel:topic #1 (0.333): 0.068*\"من\" + 0.034*\"في\" + 0.020*\"كل\" + 0.020*\"لا\" + 0.018*\"أن\" + 0.018*\"،\" + 0.010*\"عن\" + 0.009*\"مو\" + 0.009*\"لي\" + 0.008*\"ان\"\n",
      "INFO:gensim.models.ldamodel:topic #2 (0.333): 0.050*\"الله\" + 0.029*\"لا\" + 0.025*\"يا\" + 0.017*\"بس\" + 0.017*\"والله\" + 0.014*\"انت\" + 0.014*\"\"\" + 0.014*\"اذا\" + 0.014*\"️\" + 0.014*\"ما\"\n",
      "INFO:gensim.models.ldamodel:topic diff=0.084729, rho=0.125988\n"
     ]
    },
    {
     "name": "stderr",
     "output_type": "stream",
     "text": [
      "INFO:gensim.models.ldamodel:PROGRESS: pass 0, at document #128000/179632\n",
      "INFO:gensim.models.ldamodel:merging changes from 2000 documents into a model of 179632 documents\n",
      "INFO:gensim.models.ldamodel:topic #0 (0.333): 0.041*\"و\" + 0.027*\"على\" + 0.022*\"في\" + 0.018*\"اللي\" + 0.015*\"من\" + 0.015*\"ما\" + 0.013*\"الي\" + 0.011*\"شي\" + 0.010*\"لو\" + 0.007*\"مع\"\n",
      "INFO:gensim.models.ldamodel:topic #1 (0.333): 0.068*\"من\" + 0.033*\"في\" + 0.020*\"كل\" + 0.020*\"لا\" + 0.018*\"،\" + 0.017*\"أن\" + 0.010*\"مو\" + 0.009*\"عن\" + 0.009*\"لي\" + 0.008*\"ولا\"\n",
      "INFO:gensim.models.ldamodel:topic #2 (0.333): 0.048*\"الله\" + 0.030*\"لا\" + 0.024*\"يا\" + 0.019*\"والله\" + 0.018*\"بس\" + 0.015*\"انت\" + 0.014*\"اذا\" + 0.014*\"️\" + 0.013*\"ما\" + 0.013*\"\"\"\n",
      "INFO:gensim.models.ldamodel:topic diff=0.084611, rho=0.125000\n",
      "INFO:gensim.models.ldamodel:PROGRESS: pass 0, at document #130000/179632\n",
      "INFO:gensim.models.ldamodel:merging changes from 2000 documents into a model of 179632 documents\n",
      "INFO:gensim.models.ldamodel:topic #0 (0.333): 0.038*\"و\" + 0.026*\"على\" + 0.021*\"في\" + 0.021*\"اللي\" + 0.015*\"من\" + 0.014*\"ما\" + 0.013*\"الي\" + 0.011*\"شي\" + 0.010*\"لو\" + 0.008*\"🤗\"\n",
      "INFO:gensim.models.ldamodel:topic #1 (0.333): 0.068*\"من\" + 0.031*\"في\" + 0.020*\"لا\" + 0.020*\"كل\" + 0.018*\"،\" + 0.016*\"أن\" + 0.011*\"مو\" + 0.010*\"لي\" + 0.009*\"عن\" + 0.008*\"ولا\"\n",
      "INFO:gensim.models.ldamodel:topic #2 (0.333): 0.046*\"الله\" + 0.032*\"لا\" + 0.022*\"يا\" + 0.020*\"والله\" + 0.019*\"بس\" + 0.015*\"انا\" + 0.015*\"انت\" + 0.014*\"اذا\" + 0.013*\"️\" + 0.013*\"ما\"\n",
      "INFO:gensim.models.ldamodel:topic diff=0.089613, rho=0.124035\n",
      "INFO:gensim.models.ldamodel:PROGRESS: pass 0, at document #132000/179632\n",
      "INFO:gensim.models.ldamodel:merging changes from 2000 documents into a model of 179632 documents\n",
      "INFO:gensim.models.ldamodel:topic #0 (0.333): 0.036*\"و\" + 0.024*\"على\" + 0.022*\"اللي\" + 0.019*\"في\" + 0.015*\"من\" + 0.013*\"شي\" + 0.013*\"ما\" + 0.012*\"الي\" + 0.010*\"لو\" + 0.008*\"فيه\"\n",
      "INFO:gensim.models.ldamodel:topic #1 (0.333): 0.068*\"من\" + 0.029*\"في\" + 0.020*\"لا\" + 0.019*\"كل\" + 0.017*\"،\" + 0.015*\"أن\" + 0.011*\"مو\" + 0.010*\"لي\" + 0.009*\"عن\" + 0.008*\"انا\"\n",
      "INFO:gensim.models.ldamodel:topic #2 (0.333): 0.041*\"الله\" + 0.032*\"لا\" + 0.020*\"بس\" + 0.020*\"والله\" + 0.019*\"يا\" + 0.017*\"انا\" + 0.015*\"انت\" + 0.014*\"اذا\" + 0.014*\"️\" + 0.012*\"ما\"\n",
      "INFO:gensim.models.ldamodel:topic diff=0.083382, rho=0.123091\n",
      "INFO:gensim.models.ldamodel:PROGRESS: pass 0, at document #134000/179632\n",
      "INFO:gensim.models.ldamodel:merging changes from 2000 documents into a model of 179632 documents\n",
      "INFO:gensim.models.ldamodel:topic #0 (0.333): 0.032*\"و\" + 0.025*\"على\" + 0.023*\"في\" + 0.021*\"اللي\" + 0.015*\"من\" + 0.013*\"ما\" + 0.012*\"شي\" + 0.010*\"الي\" + 0.010*\"لو\" + 0.008*\"مع\"\n",
      "INFO:gensim.models.ldamodel:topic #1 (0.333): 0.070*\"من\" + 0.033*\"في\" + 0.021*\"لا\" + 0.018*\"،\" + 0.018*\"كل\" + 0.016*\"أن\" + 0.010*\"مو\" + 0.009*\"لي\" + 0.009*\"عن\" + 0.007*\"ان\"\n",
      "INFO:gensim.models.ldamodel:topic #2 (0.333): 0.042*\"الله\" + 0.032*\"لا\" + 0.021*\"يا\" + 0.019*\"والله\" + 0.019*\"بس\" + 0.016*\"انا\" + 0.014*\"انت\" + 0.014*\"اذا\" + 0.013*\"️\" + 0.012*\"ما\"\n",
      "INFO:gensim.models.ldamodel:topic diff=0.159336, rho=0.122169\n",
      "INFO:gensim.models.ldamodel:PROGRESS: pass 0, at document #136000/179632\n",
      "INFO:gensim.models.ldamodel:merging changes from 2000 documents into a model of 179632 documents\n",
      "INFO:gensim.models.ldamodel:topic #0 (0.333): 0.029*\"و\" + 0.027*\"على\" + 0.026*\"في\" + 0.020*\"اللي\" + 0.015*\"من\" + 0.013*\"ما\" + 0.010*\"شي\" + 0.010*\"لو\" + 0.008*\"مع\" + 0.008*\"الي\"\n",
      "INFO:gensim.models.ldamodel:topic #1 (0.333): 0.072*\"من\" + 0.037*\"في\" + 0.020*\"لا\" + 0.020*\"،\" + 0.017*\"أن\" + 0.016*\"كل\" + 0.009*\"عن\" + 0.009*\"مو\" + 0.008*\"…\" + 0.008*\"لي\"\n",
      "INFO:gensim.models.ldamodel:topic #2 (0.333): 0.043*\"الله\" + 0.031*\"لا\" + 0.023*\"يا\" + 0.020*\"والله\" + 0.018*\"بس\" + 0.015*\"انا\" + 0.013*\"اذا\" + 0.013*\"انت\" + 0.013*\"️\" + 0.012*\"ما\"\n",
      "INFO:gensim.models.ldamodel:topic diff=0.160060, rho=0.121268\n",
      "INFO:gensim.models.ldamodel:PROGRESS: pass 0, at document #138000/179632\n",
      "INFO:gensim.models.ldamodel:merging changes from 2000 documents into a model of 179632 documents\n",
      "INFO:gensim.models.ldamodel:topic #0 (0.333): 0.027*\"في\" + 0.027*\"و\" + 0.026*\"على\" + 0.021*\"اللي\" + 0.016*\"من\" + 0.012*\"ما\" + 0.010*\"الاتحاد\" + 0.010*\"لو\" + 0.009*\"مع\" + 0.008*\"شي\"\n",
      "INFO:gensim.models.ldamodel:topic #1 (0.333): 0.072*\"من\" + 0.038*\"في\" + 0.020*\"،\" + 0.018*\"لا\" + 0.016*\"كل\" + 0.015*\"أن\" + 0.009*\"عن\" + 0.009*\"مو\" + 0.008*\"…\" + 0.008*\"لي\"\n",
      "INFO:gensim.models.ldamodel:topic #2 (0.333): 0.043*\"الله\" + 0.028*\"لا\" + 0.024*\"والله\" + 0.024*\"يا\" + 0.018*\"بس\" + 0.015*\"\"\" + 0.014*\"انا\" + 0.014*\"اذا\" + 0.013*\"️\" + 0.012*\"انت\"\n",
      "INFO:gensim.models.ldamodel:topic diff=0.139959, rho=0.120386\n",
      "INFO:gensim.models.ldamodel:-7.351 per-word bound, 163.3 perplexity estimate based on a held-out corpus of 2000 documents with 11785 words\n",
      "INFO:gensim.models.ldamodel:PROGRESS: pass 0, at document #140000/179632\n",
      "INFO:gensim.models.ldamodel:merging changes from 2000 documents into a model of 179632 documents\n",
      "INFO:gensim.models.ldamodel:topic #0 (0.333): 0.028*\"في\" + 0.027*\"على\" + 0.025*\"و\" + 0.019*\"اللي\" + 0.016*\"من\" + 0.011*\"ما\" + 0.010*\"لو\" + 0.010*\"الاتحاد\" + 0.009*\"مع\" + 0.008*\"شي\"\n",
      "INFO:gensim.models.ldamodel:topic #1 (0.333): 0.073*\"من\" + 0.039*\"في\" + 0.023*\"،\" + 0.018*\"لا\" + 0.016*\"كل\" + 0.014*\"أن\" + 0.009*\"عن\" + 0.009*\"…\" + 0.008*\"مو\" + 0.008*\"لي\"\n",
      "INFO:gensim.models.ldamodel:topic #2 (0.333): 0.044*\"الله\" + 0.027*\"لا\" + 0.023*\"يا\" + 0.023*\"والله\" + 0.016*\"بس\" + 0.015*\"\"\" + 0.015*\"️\" + 0.014*\"اذا\" + 0.014*\"انا\" + 0.012*\"انت\"\n",
      "INFO:gensim.models.ldamodel:topic diff=0.110485, rho=0.119523\n",
      "INFO:gensim.models.ldamodel:PROGRESS: pass 0, at document #142000/179632\n",
      "INFO:gensim.models.ldamodel:merging changes from 2000 documents into a model of 179632 documents\n",
      "INFO:gensim.models.ldamodel:topic #0 (0.333): 0.027*\"في\" + 0.027*\"على\" + 0.025*\"و\" + 0.019*\"اللي\" + 0.016*\"من\" + 0.012*\"ما\" + 0.011*\"الي\" + 0.011*\"لو\" + 0.009*\"الاتحاد\" + 0.009*\"شي\"\n",
      "INFO:gensim.models.ldamodel:topic #1 (0.333): 0.074*\"من\" + 0.038*\"في\" + 0.024*\"،\" + 0.018*\"لا\" + 0.017*\"كل\" + 0.014*\"أن\" + 0.009*\"عن\" + 0.008*\"ولا\" + 0.008*\"…\" + 0.008*\"لي\"\n",
      "INFO:gensim.models.ldamodel:topic #2 (0.333): 0.045*\"الله\" + 0.026*\"لا\" + 0.022*\"والله\" + 0.022*\"يا\" + 0.016*\"بس\" + 0.015*\"️\" + 0.015*\"انا\" + 0.014*\"\"\" + 0.013*\"اذا\" + 0.013*\"انت\"\n",
      "INFO:gensim.models.ldamodel:topic diff=0.092308, rho=0.118678\n",
      "INFO:gensim.models.ldamodel:PROGRESS: pass 0, at document #144000/179632\n",
      "INFO:gensim.models.ldamodel:merging changes from 2000 documents into a model of 179632 documents\n",
      "INFO:gensim.models.ldamodel:topic #0 (0.333): 0.026*\"على\" + 0.026*\"في\" + 0.025*\"و\" + 0.019*\"اللي\" + 0.016*\"من\" + 0.012*\"الي\" + 0.012*\"ما\" + 0.012*\"لو\" + 0.009*\"شي\" + 0.009*\"مع\"\n",
      "INFO:gensim.models.ldamodel:topic #1 (0.333): 0.075*\"من\" + 0.036*\"في\" + 0.024*\"،\" + 0.018*\"لا\" + 0.016*\"كل\" + 0.013*\"أن\" + 0.009*\"عن\" + 0.009*\"ولا\" + 0.008*\"لي\" + 0.008*\"مو\"\n",
      "INFO:gensim.models.ldamodel:topic #2 (0.333): 0.048*\"الله\" + 0.026*\"لا\" + 0.023*\"والله\" + 0.021*\"يا\" + 0.016*\"انا\" + 0.016*\"بس\" + 0.014*\"️\" + 0.014*\"انت\" + 0.013*\"\"\" + 0.013*\"اذا\"\n",
      "INFO:gensim.models.ldamodel:topic diff=0.079737, rho=0.117851\n",
      "INFO:gensim.models.ldamodel:PROGRESS: pass 0, at document #146000/179632\n",
      "INFO:gensim.models.ldamodel:merging changes from 2000 documents into a model of 179632 documents\n",
      "INFO:gensim.models.ldamodel:topic #0 (0.333): 0.026*\"على\" + 0.026*\"و\" + 0.025*\"في\" + 0.020*\"اللي\" + 0.016*\"من\" + 0.013*\"ما\" + 0.013*\"لو\" + 0.012*\"الي\" + 0.010*\"شي\" + 0.009*\"مع\"\n",
      "INFO:gensim.models.ldamodel:topic #1 (0.333): 0.075*\"من\" + 0.036*\"في\" + 0.025*\"،\" + 0.018*\"لا\" + 0.016*\"كل\" + 0.013*\"أن\" + 0.009*\"ولا\" + 0.009*\"عن\" + 0.009*\"لي\" + 0.008*\"مو\"\n",
      "INFO:gensim.models.ldamodel:topic #2 (0.333): 0.046*\"الله\" + 0.027*\"لا\" + 0.022*\"والله\" + 0.020*\"يا\" + 0.018*\"️\" + 0.016*\"انا\" + 0.016*\"بس\" + 0.013*\"انت\" + 0.013*\"\"\" + 0.013*\"ما\"\n",
      "INFO:gensim.models.ldamodel:topic diff=0.087310, rho=0.117041\n",
      "INFO:gensim.models.ldamodel:PROGRESS: pass 0, at document #148000/179632\n",
      "INFO:gensim.models.ldamodel:merging changes from 2000 documents into a model of 179632 documents\n",
      "INFO:gensim.models.ldamodel:topic #0 (0.333): 0.035*\"و\" + 0.026*\"على\" + 0.024*\"في\" + 0.021*\"اللي\" + 0.016*\"ما\" + 0.015*\"من\" + 0.013*\"لو\" + 0.011*\"الي\" + 0.011*\"شي\" + 0.009*\"مع\"\n",
      "INFO:gensim.models.ldamodel:topic #1 (0.333): 0.074*\"من\" + 0.034*\"في\" + 0.024*\"،\" + 0.019*\"لا\" + 0.016*\"كل\" + 0.012*\"أن\" + 0.010*\"مو\" + 0.009*\"عن\" + 0.009*\"ولا\" + 0.009*\"لي\"\n"
     ]
    },
    {
     "name": "stderr",
     "output_type": "stream",
     "text": [
      "INFO:gensim.models.ldamodel:topic #2 (0.333): 0.045*\"الله\" + 0.029*\"لا\" + 0.023*\"والله\" + 0.020*\"يا\" + 0.019*\"انا\" + 0.017*\"️\" + 0.017*\"بس\" + 0.016*\"ما\" + 0.014*\"اذا\" + 0.013*\"انت\"\n",
      "INFO:gensim.models.ldamodel:topic diff=0.085733, rho=0.116248\n",
      "INFO:gensim.models.ldamodel:PROGRESS: pass 0, at document #150000/179632\n",
      "INFO:gensim.models.ldamodel:merging changes from 2000 documents into a model of 179632 documents\n",
      "INFO:gensim.models.ldamodel:topic #0 (0.333): 0.039*\"و\" + 0.027*\"على\" + 0.026*\"في\" + 0.020*\"اللي\" + 0.016*\"ما\" + 0.015*\"من\" + 0.011*\"لو\" + 0.010*\"شي\" + 0.010*\"الي\" + 0.009*\"مع\"\n",
      "INFO:gensim.models.ldamodel:topic #1 (0.333): 0.074*\"من\" + 0.037*\"في\" + 0.022*\"،\" + 0.019*\"لا\" + 0.016*\"كل\" + 0.011*\"أن\" + 0.010*\"مو\" + 0.009*\"اي\" + 0.009*\"عن\" + 0.008*\"ولا\"\n",
      "INFO:gensim.models.ldamodel:topic #2 (0.333): 0.046*\"الله\" + 0.031*\"لا\" + 0.022*\"والله\" + 0.021*\"يا\" + 0.020*\"انا\" + 0.017*\"بس\" + 0.016*\"ما\" + 0.016*\"️\" + 0.013*\"اذا\" + 0.013*\"انت\"\n",
      "INFO:gensim.models.ldamodel:topic diff=0.133149, rho=0.115470\n",
      "INFO:gensim.models.ldamodel:PROGRESS: pass 0, at document #152000/179632\n",
      "INFO:gensim.models.ldamodel:merging changes from 2000 documents into a model of 179632 documents\n",
      "INFO:gensim.models.ldamodel:topic #0 (0.333): 0.036*\"و\" + 0.030*\"في\" + 0.029*\"على\" + 0.017*\"اللي\" + 0.016*\"من\" + 0.014*\"ما\" + 0.010*\"مع\" + 0.010*\"لو\" + 0.009*\"…\" + 0.008*\"شي\"\n",
      "INFO:gensim.models.ldamodel:topic #1 (0.333): 0.074*\"من\" + 0.042*\"في\" + 0.021*\"،\" + 0.017*\"لا\" + 0.015*\"كل\" + 0.012*\"أن\" + 0.010*\"…\" + 0.009*\"عن\" + 0.009*\"مو\" + 0.009*\"اليوم\"\n",
      "INFO:gensim.models.ldamodel:topic #2 (0.333): 0.048*\"الله\" + 0.029*\"لا\" + 0.021*\"والله\" + 0.021*\"يا\" + 0.018*\"انا\" + 0.016*\"بس\" + 0.016*\"ما\" + 0.015*\"️\" + 0.013*\"انت\" + 0.013*\"اذا\"\n",
      "INFO:gensim.models.ldamodel:topic diff=0.156164, rho=0.114708\n",
      "INFO:gensim.models.ldamodel:PROGRESS: pass 0, at document #154000/179632\n",
      "INFO:gensim.models.ldamodel:merging changes from 2000 documents into a model of 179632 documents\n",
      "INFO:gensim.models.ldamodel:topic #0 (0.333): 0.035*\"و\" + 0.030*\"في\" + 0.029*\"على\" + 0.018*\"اللي\" + 0.016*\"ما\" + 0.015*\"من\" + 0.010*\"لو\" + 0.010*\"مع\" + 0.009*\"شي\" + 0.008*\"…\"\n",
      "INFO:gensim.models.ldamodel:topic #1 (0.333): 0.074*\"من\" + 0.041*\"في\" + 0.020*\"،\" + 0.017*\"لا\" + 0.015*\"كل\" + 0.011*\"أن\" + 0.010*\"مو\" + 0.009*\"…\" + 0.009*\"عن\" + 0.009*\"اليوم\"\n",
      "INFO:gensim.models.ldamodel:topic #2 (0.333): 0.051*\"الله\" + 0.028*\"لا\" + 0.025*\"يا\" + 0.020*\"والله\" + 0.018*\"ما\" + 0.018*\"انا\" + 0.017*\"️\" + 0.016*\"بس\" + 0.012*\"انت\" + 0.012*\"اذا\"\n",
      "INFO:gensim.models.ldamodel:topic diff=0.105765, rho=0.113961\n",
      "INFO:gensim.models.ldamodel:PROGRESS: pass 0, at document #156000/179632\n",
      "INFO:gensim.models.ldamodel:merging changes from 2000 documents into a model of 179632 documents\n",
      "INFO:gensim.models.ldamodel:topic #0 (0.333): 0.035*\"و\" + 0.032*\"في\" + 0.029*\"على\" + 0.016*\"اللي\" + 0.016*\"ما\" + 0.016*\"من\" + 0.010*\"مع\" + 0.010*\"…\" + 0.009*\"قطر\" + 0.009*\"لو\"\n",
      "INFO:gensim.models.ldamodel:topic #1 (0.333): 0.074*\"من\" + 0.043*\"في\" + 0.019*\"،\" + 0.017*\"لا\" + 0.015*\"كل\" + 0.012*\"أن\" + 0.011*\"…\" + 0.009*\"مو\" + 0.009*\"عن\" + 0.008*\"اليوم\"\n",
      "INFO:gensim.models.ldamodel:topic #2 (0.333): 0.050*\"الله\" + 0.030*\"يا\" + 0.027*\"لا\" + 0.019*\"والله\" + 0.018*\"ما\" + 0.017*\"️\" + 0.017*\"انا\" + 0.015*\"بس\" + 0.012*\"انت\" + 0.012*\"على\"\n",
      "INFO:gensim.models.ldamodel:topic diff=0.140480, rho=0.113228\n",
      "INFO:gensim.models.ldamodel:PROGRESS: pass 0, at document #158000/179632\n",
      "INFO:gensim.models.ldamodel:merging changes from 2000 documents into a model of 179632 documents\n",
      "INFO:gensim.models.ldamodel:topic #0 (0.333): 0.033*\"في\" + 0.032*\"و\" + 0.031*\"على\" + 0.016*\"من\" + 0.016*\"ما\" + 0.014*\"اللي\" + 0.014*\"قطر\" + 0.011*\"مع\" + 0.011*\"…\" + 0.008*\"لو\"\n",
      "INFO:gensim.models.ldamodel:topic #1 (0.333): 0.074*\"من\" + 0.045*\"في\" + 0.018*\"لا\" + 0.018*\"،\" + 0.015*\"كل\" + 0.014*\"أن\" + 0.011*\"…\" + 0.010*\"عن\" + 0.008*\"مو\" + 0.008*\"ولا\"\n",
      "INFO:gensim.models.ldamodel:topic #2 (0.333): 0.058*\"الله\" + 0.041*\"يا\" + 0.028*\"لا\" + 0.019*\"ما\" + 0.018*\"والله\" + 0.015*\"انا\" + 0.015*\"️\" + 0.014*\"بس\" + 0.013*\"بن\" + 0.012*\"على\"\n",
      "INFO:gensim.models.ldamodel:topic diff=0.150757, rho=0.112509\n",
      "INFO:gensim.models.ldamodel:-7.069 per-word bound, 134.3 perplexity estimate based on a held-out corpus of 2000 documents with 16733 words\n",
      "INFO:gensim.models.ldamodel:PROGRESS: pass 0, at document #160000/179632\n",
      "INFO:gensim.models.ldamodel:merging changes from 2000 documents into a model of 179632 documents\n",
      "INFO:gensim.models.ldamodel:topic #0 (0.333): 0.035*\"في\" + 0.033*\"على\" + 0.028*\"و\" + 0.017*\"قطر\" + 0.017*\"ما\" + 0.016*\"من\" + 0.013*\"اللي\" + 0.012*\"مع\" + 0.010*\"…\" + 0.008*\"هذا\"\n",
      "INFO:gensim.models.ldamodel:topic #1 (0.333): 0.074*\"من\" + 0.046*\"في\" + 0.020*\"لا\" + 0.018*\"،\" + 0.017*\"أن\" + 0.014*\"كل\" + 0.011*\"…\" + 0.010*\"عن\" + 0.009*\"ولا\" + 0.007*\"لم\"\n",
      "INFO:gensim.models.ldamodel:topic #2 (0.333): 0.065*\"الله\" + 0.050*\"يا\" + 0.030*\"لا\" + 0.020*\"ما\" + 0.019*\"والله\" + 0.013*\"انا\" + 0.013*\"بن\" + 0.013*\"على\" + 0.013*\"️\" + 0.012*\"بس\"\n",
      "INFO:gensim.models.ldamodel:topic diff=0.138566, rho=0.111803\n",
      "INFO:gensim.models.ldamodel:PROGRESS: pass 0, at document #162000/179632\n",
      "INFO:gensim.models.ldamodel:merging changes from 2000 documents into a model of 179632 documents\n",
      "INFO:gensim.models.ldamodel:topic #0 (0.333): 0.034*\"في\" + 0.031*\"على\" + 0.027*\"و\" + 0.016*\"من\" + 0.016*\"قطر\" + 0.016*\"ما\" + 0.014*\"اللي\" + 0.012*\"مع\" + 0.010*\"…\" + 0.008*\"هذا\"\n",
      "INFO:gensim.models.ldamodel:topic #1 (0.333): 0.074*\"من\" + 0.044*\"في\" + 0.020*\"لا\" + 0.018*\"،\" + 0.016*\"أن\" + 0.015*\"كل\" + 0.011*\"عن\" + 0.010*\"…\" + 0.008*\"ولا\" + 0.007*\"هذا\"\n",
      "INFO:gensim.models.ldamodel:topic #2 (0.333): 0.061*\"الله\" + 0.044*\"يا\" + 0.029*\"لا\" + 0.019*\"والله\" + 0.018*\"ما\" + 0.015*\"انا\" + 0.014*\"بس\" + 0.012*\"️\" + 0.012*\"على\" + 0.011*\"بن\"\n",
      "INFO:gensim.models.ldamodel:topic diff=0.135923, rho=0.111111\n",
      "INFO:gensim.models.ldamodel:PROGRESS: pass 0, at document #164000/179632\n",
      "INFO:gensim.models.ldamodel:merging changes from 2000 documents into a model of 179632 documents\n",
      "INFO:gensim.models.ldamodel:topic #0 (0.333): 0.033*\"في\" + 0.031*\"على\" + 0.028*\"و\" + 0.016*\"ما\" + 0.016*\"من\" + 0.015*\"قطر\" + 0.014*\"اللي\" + 0.012*\"مع\" + 0.010*\"…\" + 0.008*\"لو\"\n",
      "INFO:gensim.models.ldamodel:topic #1 (0.333): 0.073*\"من\" + 0.043*\"في\" + 0.021*\"لا\" + 0.019*\"،\" + 0.017*\"أن\" + 0.015*\"كل\" + 0.011*\"…\" + 0.010*\"عن\" + 0.009*\"ولا\" + 0.007*\"لم\"\n",
      "INFO:gensim.models.ldamodel:topic #2 (0.333): 0.058*\"الله\" + 0.042*\"يا\" + 0.029*\"لا\" + 0.018*\"والله\" + 0.018*\"ما\" + 0.014*\"انا\" + 0.014*\"بس\" + 0.012*\"️\" + 0.011*\"على\" + 0.011*\"صباح\"\n",
      "INFO:gensim.models.ldamodel:topic diff=0.112211, rho=0.110432\n",
      "INFO:gensim.models.ldamodel:PROGRESS: pass 0, at document #166000/179632\n",
      "INFO:gensim.models.ldamodel:merging changes from 2000 documents into a model of 179632 documents\n",
      "INFO:gensim.models.ldamodel:topic #0 (0.333): 0.032*\"في\" + 0.030*\"على\" + 0.028*\"و\" + 0.016*\"من\" + 0.016*\"ما\" + 0.014*\"اللي\" + 0.013*\"قطر\" + 0.011*\"مع\" + 0.011*\"…\" + 0.008*\"لو\"\n",
      "INFO:gensim.models.ldamodel:topic #1 (0.333): 0.071*\"من\" + 0.042*\"في\" + 0.021*\"،\" + 0.020*\"لا\" + 0.016*\"أن\" + 0.015*\"كل\" + 0.011*\"…\" + 0.010*\"عن\" + 0.008*\"ولا\" + 0.007*\"هذا\"\n",
      "INFO:gensim.models.ldamodel:topic #2 (0.333): 0.057*\"الله\" + 0.042*\"يا\" + 0.028*\"لا\" + 0.018*\"والله\" + 0.017*\"ما\" + 0.015*\"️\" + 0.013*\"انا\" + 0.013*\"بس\" + 0.011*\"بن\" + 0.011*\"على\"\n",
      "INFO:gensim.models.ldamodel:topic diff=0.109285, rho=0.109764\n",
      "INFO:gensim.models.ldamodel:PROGRESS: pass 0, at document #168000/179632\n",
      "INFO:gensim.models.ldamodel:merging changes from 2000 documents into a model of 179632 documents\n",
      "INFO:gensim.models.ldamodel:topic #0 (0.333): 0.033*\"في\" + 0.031*\"على\" + 0.028*\"و\" + 0.016*\"من\" + 0.015*\"ما\" + 0.013*\"اللي\" + 0.012*\"قطر\" + 0.012*\"مع\" + 0.011*\"…\" + 0.008*\"هذا\"\n",
      "INFO:gensim.models.ldamodel:topic #1 (0.333): 0.070*\"من\" + 0.042*\"في\" + 0.021*\"،\" + 0.019*\"لا\" + 0.015*\"كل\" + 0.015*\"أن\" + 0.012*\"…\" + 0.010*\"عن\" + 0.008*\"ولا\" + 0.007*\"هذا\"\n",
      "INFO:gensim.models.ldamodel:topic #2 (0.333): 0.060*\"الله\" + 0.041*\"يا\" + 0.026*\"لا\" + 0.017*\"والله\" + 0.017*\"ما\" + 0.016*\"️\" + 0.013*\"انا\" + 0.013*\"بن\" + 0.012*\"بس\" + 0.011*\"على\"\n",
      "INFO:gensim.models.ldamodel:topic diff=0.128979, rho=0.109109\n",
      "INFO:gensim.models.ldamodel:PROGRESS: pass 0, at document #170000/179632\n",
      "INFO:gensim.models.ldamodel:merging changes from 2000 documents into a model of 179632 documents\n",
      "INFO:gensim.models.ldamodel:topic #0 (0.333): 0.033*\"في\" + 0.031*\"على\" + 0.028*\"و\" + 0.016*\"من\" + 0.015*\"ما\" + 0.013*\"اللي\" + 0.011*\"قطر\" + 0.011*\"مع\" + 0.011*\"…\" + 0.008*\"هذا\"\n"
     ]
    },
    {
     "name": "stderr",
     "output_type": "stream",
     "text": [
      "INFO:gensim.models.ldamodel:topic #1 (0.333): 0.071*\"من\" + 0.043*\"في\" + 0.020*\"،\" + 0.018*\"لا\" + 0.016*\"كل\" + 0.014*\"أن\" + 0.011*\"…\" + 0.009*\"عن\" + 0.008*\"ولا\" + 0.007*\"لي\"\n",
      "INFO:gensim.models.ldamodel:topic #2 (0.333): 0.061*\"الله\" + 0.036*\"يا\" + 0.023*\"لا\" + 0.017*\"والله\" + 0.016*\"ما\" + 0.016*\"يارب\" + 0.014*\"اللهم\" + 0.014*\"️\" + 0.012*\"انا\" + 0.012*\"على\"\n",
      "INFO:gensim.models.ldamodel:topic diff=0.140180, rho=0.108465\n",
      "INFO:gensim.models.ldamodel:PROGRESS: pass 0, at document #172000/179632\n",
      "INFO:gensim.models.ldamodel:merging changes from 2000 documents into a model of 179632 documents\n",
      "INFO:gensim.models.ldamodel:topic #0 (0.333): 0.032*\"في\" + 0.032*\"و\" + 0.031*\"على\" + 0.016*\"من\" + 0.015*\"ما\" + 0.013*\"اللي\" + 0.011*\"…\" + 0.011*\"مع\" + 0.010*\"قطر\" + 0.008*\"هذا\"\n",
      "INFO:gensim.models.ldamodel:topic #1 (0.333): 0.071*\"من\" + 0.042*\"في\" + 0.022*\"،\" + 0.020*\"لا\" + 0.016*\"كل\" + 0.016*\"أن\" + 0.012*\"…\" + 0.009*\"عن\" + 0.008*\"ولا\" + 0.007*\"لي\"\n",
      "INFO:gensim.models.ldamodel:topic #2 (0.333): 0.060*\"الله\" + 0.034*\"يا\" + 0.024*\"لا\" + 0.016*\"والله\" + 0.016*\"ما\" + 0.015*\"اللهم\" + 0.015*\"يارب\" + 0.014*\"️\" + 0.012*\"انا\" + 0.012*\"على\"\n",
      "INFO:gensim.models.ldamodel:topic diff=0.115032, rho=0.107833\n",
      "INFO:gensim.models.ldamodel:PROGRESS: pass 0, at document #174000/179632\n",
      "INFO:gensim.models.ldamodel:merging changes from 2000 documents into a model of 179632 documents\n",
      "INFO:gensim.models.ldamodel:topic #0 (0.333): 0.034*\"و\" + 0.032*\"في\" + 0.031*\"على\" + 0.016*\"من\" + 0.015*\"ما\" + 0.012*\"اللي\" + 0.012*\"…\" + 0.010*\"مع\" + 0.009*\"قطر\" + 0.008*\"هذا\"\n",
      "INFO:gensim.models.ldamodel:topic #1 (0.333): 0.070*\"من\" + 0.042*\"في\" + 0.024*\"،\" + 0.021*\"لا\" + 0.017*\"كل\" + 0.017*\"أن\" + 0.013*\"…\" + 0.009*\"عن\" + 0.009*\"ولا\" + 0.008*\"م\"\n",
      "INFO:gensim.models.ldamodel:topic #2 (0.333): 0.060*\"الله\" + 0.034*\"يا\" + 0.025*\"لا\" + 0.017*\"اللهم\" + 0.016*\"ما\" + 0.015*\"والله\" + 0.014*\"يارب\" + 0.013*\"️\" + 0.013*\"\"\" + 0.012*\"على\"\n",
      "INFO:gensim.models.ldamodel:topic diff=0.104406, rho=0.107211\n",
      "INFO:gensim.models.ldamodel:PROGRESS: pass 0, at document #176000/179632\n",
      "INFO:gensim.models.ldamodel:merging changes from 2000 documents into a model of 179632 documents\n",
      "INFO:gensim.models.ldamodel:topic #0 (0.333): 0.037*\"و\" + 0.032*\"في\" + 0.030*\"على\" + 0.017*\"ما\" + 0.016*\"من\" + 0.012*\"…\" + 0.012*\"اللي\" + 0.010*\"مع\" + 0.008*\"قطر\" + 0.008*\"هذا\"\n",
      "INFO:gensim.models.ldamodel:topic #1 (0.333): 0.070*\"من\" + 0.042*\"في\" + 0.024*\"،\" + 0.022*\"لا\" + 0.017*\"أن\" + 0.017*\"كل\" + 0.014*\"…\" + 0.009*\"عن\" + 0.009*\"ولا\" + 0.007*\"م\"\n",
      "INFO:gensim.models.ldamodel:topic #2 (0.333): 0.062*\"الله\" + 0.033*\"يا\" + 0.025*\"لا\" + 0.019*\"اللهم\" + 0.017*\"ما\" + 0.014*\"\"\" + 0.014*\"والله\" + 0.013*\"يارب\" + 0.013*\"️\" + 0.012*\"على\"\n",
      "INFO:gensim.models.ldamodel:topic diff=0.097399, rho=0.106600\n",
      "INFO:gensim.models.ldamodel:PROGRESS: pass 0, at document #178000/179632\n",
      "INFO:gensim.models.ldamodel:merging changes from 2000 documents into a model of 179632 documents\n",
      "INFO:gensim.models.ldamodel:topic #0 (0.333): 0.040*\"و\" + 0.031*\"في\" + 0.028*\"على\" + 0.019*\"ما\" + 0.016*\"من\" + 0.015*\"اللي\" + 0.011*\"…\" + 0.010*\"مع\" + 0.008*\"هذا\" + 0.008*\"لو\"\n",
      "INFO:gensim.models.ldamodel:topic #1 (0.333): 0.070*\"من\" + 0.041*\"في\" + 0.023*\"،\" + 0.021*\"لا\" + 0.017*\"كل\" + 0.016*\"أن\" + 0.013*\"…\" + 0.009*\"عن\" + 0.008*\"ولا\" + 0.007*\"ما\"\n",
      "INFO:gensim.models.ldamodel:topic #2 (0.333): 0.061*\"الله\" + 0.032*\"يا\" + 0.024*\"لا\" + 0.018*\"اللهم\" + 0.018*\"ما\" + 0.014*\"والله\" + 0.014*\"\"\" + 0.013*\"انا\" + 0.013*\"يارب\" + 0.012*\"️\"\n",
      "INFO:gensim.models.ldamodel:topic diff=0.097376, rho=0.106000\n",
      "INFO:gensim.models.ldamodel:-7.429 per-word bound, 172.4 perplexity estimate based on a held-out corpus of 1632 documents with 11392 words\n",
      "INFO:gensim.models.ldamodel:PROGRESS: pass 0, at document #179632/179632\n",
      "INFO:gensim.models.ldamodel:merging changes from 1632 documents into a model of 179632 documents\n",
      "INFO:gensim.models.ldamodel:topic #0 (0.333): 0.037*\"و\" + 0.030*\"في\" + 0.027*\"على\" + 0.018*\"ما\" + 0.017*\"اللي\" + 0.017*\"من\" + 0.011*\"…\" + 0.010*\"مع\" + 0.009*\"هذا\" + 0.008*\"لو\"\n",
      "INFO:gensim.models.ldamodel:topic #1 (0.333): 0.072*\"من\" + 0.040*\"في\" + 0.022*\"،\" + 0.021*\"لا\" + 0.017*\"كل\" + 0.016*\"أن\" + 0.013*\"…\" + 0.009*\"عن\" + 0.008*\"ولا\" + 0.007*\"ما\"\n",
      "INFO:gensim.models.ldamodel:topic #2 (0.333): 0.061*\"الله\" + 0.030*\"يا\" + 0.023*\"لا\" + 0.017*\"ما\" + 0.016*\"اللهم\" + 0.015*\"\"\" + 0.014*\"والله\" + 0.013*\"انا\" + 0.012*\"بس\" + 0.012*\"️\"\n",
      "INFO:gensim.models.ldamodel:topic diff=0.110797, rho=0.105409\n",
      "INFO:gensim.models.ldamodel:PROGRESS: pass 1, at document #2000/179632\n",
      "INFO:gensim.models.ldamodel:merging changes from 2000 documents into a model of 179632 documents\n",
      "INFO:gensim.models.ldamodel:topic #0 (0.333): 0.035*\"و\" + 0.030*\"في\" + 0.026*\"على\" + 0.019*\"اللي\" + 0.017*\"ما\" + 0.016*\"من\" + 0.010*\"…\" + 0.009*\"مع\" + 0.009*\"لو\" + 0.009*\"هو\"\n",
      "INFO:gensim.models.ldamodel:topic #1 (0.333): 0.072*\"من\" + 0.041*\"في\" + 0.021*\"،\" + 0.020*\"لا\" + 0.017*\"كل\" + 0.016*\"أن\" + 0.013*\"…\" + 0.009*\"عن\" + 0.008*\"ولا\" + 0.007*\"يوم\"\n",
      "INFO:gensim.models.ldamodel:topic #2 (0.333): 0.054*\"الله\" + 0.032*\"يا\" + 0.024*\"لا\" + 0.016*\"ما\" + 0.015*\"انا\" + 0.015*\"اللهم\" + 0.014*\"والله\" + 0.014*\"بس\" + 0.013*\"\"\" + 0.012*\"يارب\"\n",
      "INFO:gensim.models.ldamodel:topic diff=0.225785, rho=0.104362\n",
      "INFO:gensim.models.ldamodel:PROGRESS: pass 1, at document #4000/179632\n",
      "INFO:gensim.models.ldamodel:merging changes from 2000 documents into a model of 179632 documents\n",
      "INFO:gensim.models.ldamodel:topic #0 (0.333): 0.032*\"و\" + 0.032*\"في\" + 0.027*\"على\" + 0.020*\"اللي\" + 0.016*\"من\" + 0.016*\"ما\" + 0.009*\"…\" + 0.009*\"لو\" + 0.009*\"هو\" + 0.009*\"مع\"\n",
      "INFO:gensim.models.ldamodel:topic #1 (0.333): 0.072*\"من\" + 0.042*\"في\" + 0.020*\"لا\" + 0.020*\"،\" + 0.017*\"كل\" + 0.016*\"أن\" + 0.012*\"…\" + 0.009*\"عن\" + 0.008*\"ولا\" + 0.007*\"يوم\"\n",
      "INFO:gensim.models.ldamodel:topic #2 (0.333): 0.050*\"الله\" + 0.034*\"يا\" + 0.023*\"لا\" + 0.016*\"انا\" + 0.016*\"ما\" + 0.015*\"بس\" + 0.014*\"والله\" + 0.013*\"اللهم\" + 0.012*\"\"\" + 0.011*\"على\"\n",
      "INFO:gensim.models.ldamodel:topic diff=0.141045, rho=0.104362\n",
      "INFO:gensim.models.ldamodel:PROGRESS: pass 1, at document #6000/179632\n",
      "INFO:gensim.models.ldamodel:merging changes from 2000 documents into a model of 179632 documents\n",
      "INFO:gensim.models.ldamodel:topic #0 (0.333): 0.040*\"و\" + 0.033*\"في\" + 0.026*\"على\" + 0.022*\"اللي\" + 0.017*\"ما\" + 0.016*\"من\" + 0.009*\"لو\" + 0.009*\"هو\" + 0.009*\"كان\" + 0.009*\"…\"\n",
      "INFO:gensim.models.ldamodel:topic #1 (0.333): 0.072*\"من\" + 0.043*\"في\" + 0.020*\"لا\" + 0.018*\"،\" + 0.017*\"أن\" + 0.017*\"كل\" + 0.012*\"…\" + 0.009*\"عن\" + 0.008*\"ولا\" + 0.007*\"يوم\"\n",
      "INFO:gensim.models.ldamodel:topic #2 (0.333): 0.047*\"الله\" + 0.040*\"يا\" + 0.023*\"لا\" + 0.016*\"ما\" + 0.016*\"انا\" + 0.015*\"بس\" + 0.013*\"والله\" + 0.012*\"اللهم\" + 0.012*\"\"\" + 0.011*\"مش\"\n",
      "INFO:gensim.models.ldamodel:topic diff=0.132060, rho=0.104362\n",
      "INFO:gensim.models.ldamodel:PROGRESS: pass 1, at document #8000/179632\n",
      "INFO:gensim.models.ldamodel:merging changes from 2000 documents into a model of 179632 documents\n",
      "INFO:gensim.models.ldamodel:topic #0 (0.333): 0.048*\"و\" + 0.034*\"في\" + 0.025*\"على\" + 0.022*\"اللي\" + 0.018*\"ما\" + 0.016*\"من\" + 0.010*\"لو\" + 0.009*\"هو\" + 0.009*\"كان\" + 0.008*\"فيه\"\n",
      "INFO:gensim.models.ldamodel:topic #1 (0.333): 0.071*\"من\" + 0.043*\"في\" + 0.024*\"،\" + 0.019*\"لا\" + 0.018*\"أن\" + 0.016*\"كل\" + 0.012*\"…\" + 0.009*\"عن\" + 0.008*\"ولا\" + 0.007*\"يوم\"\n",
      "INFO:gensim.models.ldamodel:topic #2 (0.333): 0.046*\"يا\" + 0.043*\"الله\" + 0.022*\"لا\" + 0.017*\"ما\" + 0.016*\"بس\" + 0.014*\"مش\" + 0.014*\"انا\" + 0.012*\"والله\" + 0.011*\"\"\" + 0.011*\"اللهم\"\n",
      "INFO:gensim.models.ldamodel:topic diff=0.145950, rho=0.104362\n",
      "INFO:gensim.models.ldamodel:PROGRESS: pass 1, at document #10000/179632\n",
      "INFO:gensim.models.ldamodel:merging changes from 2000 documents into a model of 179632 documents\n",
      "INFO:gensim.models.ldamodel:topic #0 (0.333): 0.045*\"و\" + 0.031*\"في\" + 0.023*\"على\" + 0.021*\"اللي\" + 0.017*\"ما\" + 0.015*\"من\" + 0.010*\"لو\" + 0.010*\"هو\" + 0.010*\"كان\" + 0.009*\"فيه\"\n",
      "INFO:gensim.models.ldamodel:topic #1 (0.333): 0.067*\"من\" + 0.048*\"،\" + 0.038*\"في\" + 0.019*\"لا\" + 0.017*\"أن\" + 0.016*\"كل\" + 0.010*\"…\" + 0.009*\"ولا\" + 0.008*\"عن\" + 0.007*\"يوم\"\n",
      "INFO:gensim.models.ldamodel:topic #2 (0.333): 0.043*\"يا\" + 0.038*\"الله\" + 0.021*\"لا\" + 0.017*\"بس\" + 0.016*\"مش\" + 0.015*\"ما\" + 0.013*\"انا\" + 0.013*\"فـ\" + 0.011*\"والله\" + 0.011*\"ده\"\n",
      "INFO:gensim.models.ldamodel:topic diff=0.161892, rho=0.104362\n"
     ]
    },
    {
     "name": "stderr",
     "output_type": "stream",
     "text": [
      "INFO:gensim.models.ldamodel:PROGRESS: pass 1, at document #12000/179632\n",
      "INFO:gensim.models.ldamodel:merging changes from 2000 documents into a model of 179632 documents\n",
      "INFO:gensim.models.ldamodel:topic #0 (0.333): 0.046*\"و\" + 0.030*\"في\" + 0.022*\"اللي\" + 0.022*\"على\" + 0.017*\"ما\" + 0.015*\"من\" + 0.010*\"لو\" + 0.010*\"هو\" + 0.009*\"كان\" + 0.009*\"فيه\"\n",
      "INFO:gensim.models.ldamodel:topic #1 (0.333): 0.066*\"من\" + 0.049*\"،\" + 0.037*\"في\" + 0.019*\"لا\" + 0.017*\"أن\" + 0.017*\"كل\" + 0.010*\"…\" + 0.009*\"ولا\" + 0.008*\"عن\" + 0.007*\"يوم\"\n",
      "INFO:gensim.models.ldamodel:topic #2 (0.333): 0.040*\"يا\" + 0.037*\"الله\" + 0.020*\"لا\" + 0.018*\"مش\" + 0.017*\"بس\" + 0.015*\"انا\" + 0.015*\"ما\" + 0.013*\"فـ\" + 0.012*\"والله\" + 0.012*\"\"\"\n",
      "INFO:gensim.models.ldamodel:topic diff=0.123120, rho=0.104362\n",
      "INFO:gensim.models.ldamodel:PROGRESS: pass 1, at document #14000/179632\n",
      "INFO:gensim.models.ldamodel:merging changes from 2000 documents into a model of 179632 documents\n",
      "INFO:gensim.models.ldamodel:topic #0 (0.333): 0.046*\"و\" + 0.030*\"في\" + 0.024*\"اللي\" + 0.020*\"على\" + 0.016*\"ما\" + 0.015*\"من\" + 0.010*\"لو\" + 0.010*\"هو\" + 0.009*\"مش\" + 0.009*\"كان\"\n",
      "INFO:gensim.models.ldamodel:topic #1 (0.333): 0.066*\"من\" + 0.048*\"،\" + 0.037*\"في\" + 0.019*\"لا\" + 0.018*\"كل\" + 0.016*\"أن\" + 0.009*\"…\" + 0.009*\"ولا\" + 0.008*\"عن\" + 0.007*\"يوم\"\n",
      "INFO:gensim.models.ldamodel:topic #2 (0.333): 0.040*\"يا\" + 0.035*\"الله\" + 0.020*\"مش\" + 0.020*\"لا\" + 0.017*\"انا\" + 0.017*\"بس\" + 0.014*\"ما\" + 0.013*\"والله\" + 0.013*\"\"\" + 0.012*\"فـ\"\n",
      "INFO:gensim.models.ldamodel:topic diff=0.106350, rho=0.104362\n",
      "INFO:gensim.models.ldamodel:PROGRESS: pass 1, at document #16000/179632\n",
      "INFO:gensim.models.ldamodel:merging changes from 2000 documents into a model of 179632 documents\n",
      "INFO:gensim.models.ldamodel:topic #0 (0.333): 0.045*\"و\" + 0.031*\"في\" + 0.024*\"اللي\" + 0.019*\"على\" + 0.016*\"ما\" + 0.015*\"من\" + 0.010*\"لو\" + 0.010*\"هو\" + 0.009*\"حد\" + 0.009*\"مش\"\n",
      "INFO:gensim.models.ldamodel:topic #1 (0.333): 0.065*\"من\" + 0.046*\"،\" + 0.038*\"في\" + 0.018*\"لا\" + 0.018*\"كل\" + 0.016*\"أن\" + 0.009*\"ولا\" + 0.009*\"…\" + 0.008*\"عن\" + 0.008*\"يوم\"\n",
      "INFO:gensim.models.ldamodel:topic #2 (0.333): 0.040*\"يا\" + 0.033*\"الله\" + 0.021*\"مش\" + 0.020*\"لا\" + 0.019*\"انا\" + 0.017*\"بس\" + 0.014*\"والله\" + 0.014*\"ما\" + 0.013*\"\"\" + 0.011*\"فـ\"\n",
      "INFO:gensim.models.ldamodel:topic diff=0.085347, rho=0.104362\n",
      "INFO:gensim.models.ldamodel:PROGRESS: pass 1, at document #18000/179632\n",
      "INFO:gensim.models.ldamodel:merging changes from 2000 documents into a model of 179632 documents\n",
      "INFO:gensim.models.ldamodel:topic #0 (0.333): 0.054*\"و\" + 0.029*\"في\" + 0.024*\"اللي\" + 0.018*\"على\" + 0.015*\"ما\" + 0.014*\"من\" + 0.011*\"لو\" + 0.010*\"هو\" + 0.010*\"حد\" + 0.010*\"مش\"\n",
      "INFO:gensim.models.ldamodel:topic #1 (0.333): 0.065*\"من\" + 0.044*\"،\" + 0.037*\"في\" + 0.018*\"لا\" + 0.018*\"كل\" + 0.015*\"أن\" + 0.009*\"ولا\" + 0.008*\"…\" + 0.008*\"عن\" + 0.007*\"يوم\"\n",
      "INFO:gensim.models.ldamodel:topic #2 (0.333): 0.039*\"يا\" + 0.031*\"الله\" + 0.023*\"انا\" + 0.022*\"مش\" + 0.020*\"لا\" + 0.018*\"بس\" + 0.017*\"والله\" + 0.013*\"ما\" + 0.012*\"\"\" + 0.010*\"ده\"\n",
      "INFO:gensim.models.ldamodel:topic diff=0.083605, rho=0.104362\n",
      "INFO:gensim.models.ldamodel:-7.102 per-word bound, 137.4 perplexity estimate based on a held-out corpus of 2000 documents with 13710 words\n",
      "INFO:gensim.models.ldamodel:PROGRESS: pass 1, at document #20000/179632\n",
      "INFO:gensim.models.ldamodel:merging changes from 2000 documents into a model of 179632 documents\n",
      "INFO:gensim.models.ldamodel:topic #0 (0.333): 0.055*\"و\" + 0.028*\"في\" + 0.024*\"اللي\" + 0.017*\"على\" + 0.015*\"ما\" + 0.014*\"من\" + 0.011*\"هو\" + 0.011*\"لو\" + 0.010*\"ايه\" + 0.010*\"حد\"\n",
      "INFO:gensim.models.ldamodel:topic #1 (0.333): 0.066*\"من\" + 0.043*\"،\" + 0.036*\"في\" + 0.018*\"لا\" + 0.018*\"كل\" + 0.015*\"أن\" + 0.009*\"ولا\" + 0.008*\"عن\" + 0.008*\"…\" + 0.008*\"يوم\"\n",
      "INFO:gensim.models.ldamodel:topic #2 (0.333): 0.038*\"يا\" + 0.028*\"الله\" + 0.026*\"انا\" + 0.024*\"كدا\" + 0.023*\"مش\" + 0.019*\"لا\" + 0.019*\"بس\" + 0.018*\"والله\" + 0.013*\"ما\" + 0.011*\"\"\"\n",
      "INFO:gensim.models.ldamodel:topic diff=0.095565, rho=0.104362\n",
      "INFO:gensim.models.ldamodel:PROGRESS: pass 1, at document #22000/179632\n",
      "INFO:gensim.models.ldamodel:merging changes from 2000 documents into a model of 179632 documents\n",
      "INFO:gensim.models.ldamodel:topic #0 (0.333): 0.054*\"و\" + 0.027*\"في\" + 0.024*\"اللي\" + 0.016*\"على\" + 0.014*\"من\" + 0.014*\"ما\" + 0.011*\"ايه\" + 0.011*\"لو\" + 0.011*\"هو\" + 0.011*\"ف\"\n",
      "INFO:gensim.models.ldamodel:topic #1 (0.333): 0.067*\"من\" + 0.041*\"،\" + 0.036*\"في\" + 0.018*\"كل\" + 0.018*\"لا\" + 0.013*\"أن\" + 0.009*\"ولا\" + 0.008*\"يوم\" + 0.008*\"عن\" + 0.008*\"…\"\n",
      "INFO:gensim.models.ldamodel:topic #2 (0.333): 0.055*\"كدا\" + 0.036*\"يا\" + 0.028*\"انا\" + 0.025*\"الله\" + 0.024*\"مش\" + 0.020*\"بس\" + 0.019*\"لا\" + 0.018*\"والله\" + 0.012*\"ما\" + 0.010*\"انت\"\n",
      "INFO:gensim.models.ldamodel:topic diff=0.109562, rho=0.104362\n",
      "INFO:gensim.models.ldamodel:PROGRESS: pass 1, at document #24000/179632\n",
      "INFO:gensim.models.ldamodel:merging changes from 2000 documents into a model of 179632 documents\n",
      "INFO:gensim.models.ldamodel:topic #0 (0.333): 0.054*\"و\" + 0.027*\"في\" + 0.023*\"اللي\" + 0.015*\"على\" + 0.014*\"من\" + 0.014*\"كدا\" + 0.014*\"ما\" + 0.012*\"ف\" + 0.011*\"ايه\" + 0.011*\"هو\"\n",
      "INFO:gensim.models.ldamodel:topic #1 (0.333): 0.067*\"من\" + 0.039*\"،\" + 0.035*\"في\" + 0.018*\"كل\" + 0.017*\"لا\" + 0.012*\"أن\" + 0.010*\"ولا\" + 0.008*\"يوم\" + 0.008*\"عن\" + 0.007*\"…\"\n",
      "INFO:gensim.models.ldamodel:topic #2 (0.333): 0.079*\"كدا\" + 0.035*\"يا\" + 0.029*\"انا\" + 0.025*\"مش\" + 0.023*\"الله\" + 0.021*\"بس\" + 0.018*\"لا\" + 0.018*\"والله\" + 0.012*\"ليه\" + 0.011*\"ما\"\n",
      "INFO:gensim.models.ldamodel:topic diff=0.103764, rho=0.104362\n",
      "INFO:gensim.models.ldamodel:PROGRESS: pass 1, at document #26000/179632\n",
      "INFO:gensim.models.ldamodel:merging changes from 2000 documents into a model of 179632 documents\n",
      "INFO:gensim.models.ldamodel:topic #0 (0.333): 0.053*\"و\" + 0.026*\"في\" + 0.023*\"اللي\" + 0.018*\"كدا\" + 0.014*\"من\" + 0.014*\"على\" + 0.013*\"ما\" + 0.013*\"ف\" + 0.012*\"ايه\" + 0.012*\"هو\"\n",
      "INFO:gensim.models.ldamodel:topic #1 (0.333): 0.068*\"من\" + 0.038*\"،\" + 0.035*\"في\" + 0.018*\"كل\" + 0.017*\"لا\" + 0.012*\"أن\" + 0.009*\"ولا\" + 0.008*\"يوم\" + 0.007*\"عن\" + 0.007*\"ان\"\n",
      "INFO:gensim.models.ldamodel:topic #2 (0.333): 0.095*\"كدا\" + 0.033*\"يا\" + 0.029*\"انا\" + 0.026*\"مش\" + 0.022*\"بس\" + 0.021*\"الله\" + 0.018*\"والله\" + 0.018*\"لا\" + 0.012*\"ليه\" + 0.011*\"انت\"\n",
      "INFO:gensim.models.ldamodel:topic diff=0.097720, rho=0.104362\n",
      "INFO:gensim.models.ldamodel:PROGRESS: pass 1, at document #28000/179632\n",
      "INFO:gensim.models.ldamodel:merging changes from 2000 documents into a model of 179632 documents\n",
      "INFO:gensim.models.ldamodel:topic #0 (0.333): 0.051*\"و\" + 0.026*\"في\" + 0.023*\"اللي\" + 0.017*\"كدا\" + 0.014*\"من\" + 0.014*\"على\" + 0.013*\"ما\" + 0.013*\"ايه\" + 0.013*\"ف\" + 0.012*\"هو\"\n",
      "INFO:gensim.models.ldamodel:topic #1 (0.333): 0.068*\"من\" + 0.037*\"،\" + 0.035*\"في\" + 0.018*\"كل\" + 0.017*\"لا\" + 0.011*\"أن\" + 0.010*\"ولا\" + 0.008*\"يوم\" + 0.007*\"عن\" + 0.007*\"ان\"\n",
      "INFO:gensim.models.ldamodel:topic #2 (0.333): 0.088*\"كدا\" + 0.036*\"يا\" + 0.028*\"انا\" + 0.026*\"مش\" + 0.022*\"بس\" + 0.021*\"الله\" + 0.018*\"لا\" + 0.017*\"والله\" + 0.012*\"انت\" + 0.012*\"ليه\"\n",
      "INFO:gensim.models.ldamodel:topic diff=0.070467, rho=0.104362\n",
      "INFO:gensim.models.ldamodel:PROGRESS: pass 1, at document #30000/179632\n",
      "INFO:gensim.models.ldamodel:merging changes from 2000 documents into a model of 179632 documents\n",
      "INFO:gensim.models.ldamodel:topic #0 (0.333): 0.057*\"و\" + 0.025*\"في\" + 0.023*\"اللي\" + 0.016*\"كدا\" + 0.015*\"ف\" + 0.014*\"من\" + 0.013*\"على\" + 0.013*\"ما\" + 0.013*\"ايه\" + 0.012*\"هو\"\n",
      "INFO:gensim.models.ldamodel:topic #1 (0.333): 0.066*\"من\" + 0.039*\"،\" + 0.034*\"في\" + 0.018*\"لا\" + 0.018*\"كل\" + 0.011*\"أن\" + 0.010*\"ولا\" + 0.009*\"يوم\" + 0.007*\"ان\" + 0.007*\"عن\"\n",
      "INFO:gensim.models.ldamodel:topic #2 (0.333): 0.082*\"كدا\" + 0.037*\"يا\" + 0.029*\"انا\" + 0.027*\"مش\" + 0.022*\"بس\" + 0.021*\"الله\" + 0.019*\"والله\" + 0.018*\"لا\" + 0.012*\"انت\" + 0.011*\"ليه\"\n",
      "INFO:gensim.models.ldamodel:topic diff=0.068858, rho=0.104362\n",
      "INFO:gensim.models.ldamodel:PROGRESS: pass 1, at document #32000/179632\n",
      "INFO:gensim.models.ldamodel:merging changes from 2000 documents into a model of 179632 documents\n",
      "INFO:gensim.models.ldamodel:topic #0 (0.333): 0.056*\"و\" + 0.026*\"في\" + 0.024*\"اللي\" + 0.014*\"كدا\" + 0.014*\"ف\" + 0.014*\"من\" + 0.013*\"ايه\" + 0.013*\"ما\" + 0.012*\"على\" + 0.012*\"حد\"\n",
      "INFO:gensim.models.ldamodel:topic #1 (0.333): 0.066*\"من\" + 0.037*\"،\" + 0.034*\"في\" + 0.018*\"كل\" + 0.018*\"لا\" + 0.010*\"أن\" + 0.010*\"ولا\" + 0.009*\"يوم\" + 0.007*\"عن\" + 0.007*\"ان\"\n"
     ]
    },
    {
     "name": "stderr",
     "output_type": "stream",
     "text": [
      "INFO:gensim.models.ldamodel:topic #2 (0.333): 0.075*\"كدا\" + 0.038*\"يا\" + 0.031*\"انا\" + 0.027*\"مش\" + 0.022*\"بس\" + 0.021*\"الله\" + 0.021*\"والله\" + 0.018*\"لا\" + 0.012*\"انت\" + 0.012*\"ليه\"\n",
      "INFO:gensim.models.ldamodel:topic diff=0.077698, rho=0.104362\n",
      "INFO:gensim.models.ldamodel:PROGRESS: pass 1, at document #34000/179632\n",
      "INFO:gensim.models.ldamodel:merging changes from 2000 documents into a model of 179632 documents\n",
      "INFO:gensim.models.ldamodel:topic #0 (0.333): 0.054*\"و\" + 0.026*\"في\" + 0.024*\"اللي\" + 0.015*\"ف\" + 0.014*\"ايه\" + 0.014*\"من\" + 0.014*\"كدا\" + 0.013*\"ما\" + 0.013*\"حد\" + 0.012*\"هو\"\n",
      "INFO:gensim.models.ldamodel:topic #1 (0.333): 0.065*\"من\" + 0.035*\"في\" + 0.035*\"،\" + 0.018*\"كل\" + 0.017*\"لا\" + 0.010*\"ولا\" + 0.010*\"أن\" + 0.010*\"يوم\" + 0.007*\"عن\" + 0.007*\"ان\"\n",
      "INFO:gensim.models.ldamodel:topic #2 (0.333): 0.069*\"كدا\" + 0.040*\"يا\" + 0.032*\"انا\" + 0.027*\"مش\" + 0.023*\"والله\" + 0.022*\"بس\" + 0.020*\"الله\" + 0.018*\"لا\" + 0.012*\"انت\" + 0.012*\"ليه\"\n",
      "INFO:gensim.models.ldamodel:topic diff=0.072672, rho=0.104362\n",
      "INFO:gensim.models.ldamodel:PROGRESS: pass 1, at document #36000/179632\n",
      "INFO:gensim.models.ldamodel:merging changes from 2000 documents into a model of 179632 documents\n",
      "INFO:gensim.models.ldamodel:topic #0 (0.333): 0.054*\"و\" + 0.025*\"في\" + 0.023*\"اللي\" + 0.017*\"ف\" + 0.015*\"ايه\" + 0.013*\"من\" + 0.013*\"حد\" + 0.013*\"ما\" + 0.013*\"كدا\" + 0.012*\"هو\"\n",
      "INFO:gensim.models.ldamodel:topic #1 (0.333): 0.065*\"من\" + 0.034*\"،\" + 0.034*\"في\" + 0.019*\"كل\" + 0.017*\"لا\" + 0.010*\"ولا\" + 0.010*\"يوم\" + 0.010*\"أن\" + 0.007*\"ان\" + 0.007*\"عن\"\n",
      "INFO:gensim.models.ldamodel:topic #2 (0.333): 0.064*\"كدا\" + 0.040*\"يا\" + 0.034*\"انا\" + 0.028*\"مش\" + 0.023*\"والله\" + 0.022*\"بس\" + 0.020*\"الله\" + 0.019*\"لا\" + 0.012*\"انت\" + 0.012*\"ليه\"\n",
      "INFO:gensim.models.ldamodel:topic diff=0.065065, rho=0.104362\n",
      "INFO:gensim.models.ldamodel:PROGRESS: pass 1, at document #38000/179632\n",
      "INFO:gensim.models.ldamodel:merging changes from 2000 documents into a model of 179632 documents\n",
      "INFO:gensim.models.ldamodel:topic #0 (0.333): 0.055*\"و\" + 0.025*\"في\" + 0.023*\"اللي\" + 0.018*\"ف\" + 0.016*\"ايه\" + 0.014*\"حد\" + 0.013*\"من\" + 0.012*\"مش\" + 0.012*\"ما\" + 0.012*\"هو\"\n",
      "INFO:gensim.models.ldamodel:topic #1 (0.333): 0.064*\"من\" + 0.033*\"،\" + 0.033*\"في\" + 0.019*\"كل\" + 0.017*\"لا\" + 0.011*\"ولا\" + 0.010*\"يوم\" + 0.009*\"أن\" + 0.008*\"م\" + 0.007*\"ان\"\n",
      "INFO:gensim.models.ldamodel:topic #2 (0.333): 0.058*\"كدا\" + 0.041*\"يا\" + 0.037*\"انا\" + 0.029*\"مش\" + 0.025*\"والله\" + 0.022*\"بس\" + 0.019*\"الله\" + 0.018*\"لا\" + 0.012*\"ليه\" + 0.011*\"انت\"\n",
      "INFO:gensim.models.ldamodel:topic diff=0.084413, rho=0.104362\n",
      "INFO:gensim.models.ldamodel:-6.999 per-word bound, 127.9 perplexity estimate based on a held-out corpus of 2000 documents with 14571 words\n",
      "INFO:gensim.models.ldamodel:PROGRESS: pass 1, at document #40000/179632\n",
      "INFO:gensim.models.ldamodel:merging changes from 2000 documents into a model of 179632 documents\n",
      "INFO:gensim.models.ldamodel:topic #0 (0.333): 0.058*\"و\" + 0.024*\"في\" + 0.023*\"اللي\" + 0.018*\"ف\" + 0.016*\"حد\" + 0.015*\"ايه\" + 0.013*\"من\" + 0.013*\"مش\" + 0.012*\"ما\" + 0.012*\"هو\"\n",
      "INFO:gensim.models.ldamodel:topic #1 (0.333): 0.064*\"من\" + 0.034*\"،\" + 0.032*\"في\" + 0.019*\"كل\" + 0.017*\"لا\" + 0.010*\"ولا\" + 0.010*\"يوم\" + 0.009*\"أن\" + 0.008*\"م\" + 0.008*\"ان\"\n",
      "INFO:gensim.models.ldamodel:topic #2 (0.333): 0.053*\"كدا\" + 0.040*\"يا\" + 0.038*\"انا\" + 0.029*\"مش\" + 0.024*\"والله\" + 0.022*\"بس\" + 0.020*\"الله\" + 0.018*\"لا\" + 0.011*\"ليه\" + 0.011*\"انت\"\n",
      "INFO:gensim.models.ldamodel:topic diff=0.093728, rho=0.104362\n",
      "INFO:gensim.models.ldamodel:PROGRESS: pass 1, at document #42000/179632\n",
      "INFO:gensim.models.ldamodel:merging changes from 2000 documents into a model of 179632 documents\n",
      "INFO:gensim.models.ldamodel:topic #0 (0.333): 0.055*\"و\" + 0.024*\"اللي\" + 0.022*\"في\" + 0.021*\"ف\" + 0.017*\"ايه\" + 0.016*\"حد\" + 0.013*\"مش\" + 0.013*\"من\" + 0.012*\"ما\" + 0.012*\"هو\"\n",
      "INFO:gensim.models.ldamodel:topic #1 (0.333): 0.063*\"من\" + 0.033*\"،\" + 0.030*\"في\" + 0.019*\"كل\" + 0.018*\"لا\" + 0.011*\"ولا\" + 0.010*\"يوم\" + 0.009*\"أن\" + 0.008*\"م\" + 0.008*\"ان\"\n",
      "INFO:gensim.models.ldamodel:topic #2 (0.333): 0.049*\"كدا\" + 0.041*\"انا\" + 0.041*\"يا\" + 0.029*\"مش\" + 0.024*\"والله\" + 0.022*\"بس\" + 0.019*\"الله\" + 0.019*\"لا\" + 0.012*\"انت\" + 0.011*\"ليه\"\n",
      "INFO:gensim.models.ldamodel:topic diff=0.077751, rho=0.104362\n",
      "INFO:gensim.models.ldamodel:PROGRESS: pass 1, at document #44000/179632\n",
      "INFO:gensim.models.ldamodel:merging changes from 2000 documents into a model of 179632 documents\n",
      "INFO:gensim.models.ldamodel:topic #0 (0.333): 0.054*\"و\" + 0.025*\"اللي\" + 0.022*\"في\" + 0.020*\"ف\" + 0.017*\"ايه\" + 0.017*\"حد\" + 0.013*\"مش\" + 0.013*\"من\" + 0.012*\"ما\" + 0.012*\"لو\"\n",
      "INFO:gensim.models.ldamodel:topic #1 (0.333): 0.063*\"من\" + 0.031*\"،\" + 0.030*\"في\" + 0.020*\"كل\" + 0.017*\"لا\" + 0.011*\"ولا\" + 0.010*\"يوم\" + 0.008*\"أن\" + 0.008*\"ان\" + 0.008*\"م\"\n",
      "INFO:gensim.models.ldamodel:topic #2 (0.333): 0.045*\"كدا\" + 0.044*\"يا\" + 0.042*\"انا\" + 0.029*\"مش\" + 0.026*\"والله\" + 0.022*\"بس\" + 0.019*\"الله\" + 0.019*\"لا\" + 0.012*\"انت\" + 0.011*\"ليه\"\n",
      "INFO:gensim.models.ldamodel:topic diff=0.097099, rho=0.104362\n",
      "INFO:gensim.models.ldamodel:PROGRESS: pass 1, at document #46000/179632\n",
      "INFO:gensim.models.ldamodel:merging changes from 2000 documents into a model of 179632 documents\n",
      "INFO:gensim.models.ldamodel:topic #0 (0.333): 0.055*\"و\" + 0.025*\"اللي\" + 0.023*\"في\" + 0.019*\"ف\" + 0.018*\"ايه\" + 0.017*\"حد\" + 0.014*\"مش\" + 0.012*\"من\" + 0.012*\"ما\" + 0.011*\"هو\"\n",
      "INFO:gensim.models.ldamodel:topic #1 (0.333): 0.062*\"من\" + 0.031*\"في\" + 0.030*\"،\" + 0.020*\"كل\" + 0.017*\"لا\" + 0.011*\"ولا\" + 0.010*\"يوم\" + 0.008*\"أن\" + 0.008*\"ان\" + 0.007*\"م\"\n",
      "INFO:gensim.models.ldamodel:topic #2 (0.333): 0.046*\"يا\" + 0.043*\"انا\" + 0.041*\"كدا\" + 0.029*\"مش\" + 0.026*\"والله\" + 0.022*\"بس\" + 0.019*\"الله\" + 0.019*\"لا\" + 0.012*\"انت\" + 0.011*\"ليه\"\n",
      "INFO:gensim.models.ldamodel:topic diff=0.081283, rho=0.104362\n",
      "INFO:gensim.models.ldamodel:PROGRESS: pass 1, at document #48000/179632\n",
      "INFO:gensim.models.ldamodel:merging changes from 2000 documents into a model of 179632 documents\n",
      "INFO:gensim.models.ldamodel:topic #0 (0.333): 0.055*\"و\" + 0.024*\"اللي\" + 0.023*\"في\" + 0.018*\"ف\" + 0.018*\"ايه\" + 0.016*\"بتاع\" + 0.016*\"حد\" + 0.014*\"مش\" + 0.012*\"من\" + 0.012*\"ما\"\n",
      "INFO:gensim.models.ldamodel:topic #1 (0.333): 0.061*\"من\" + 0.031*\"في\" + 0.030*\"،\" + 0.020*\"كل\" + 0.017*\"لا\" + 0.011*\"ولا\" + 0.010*\"يوم\" + 0.008*\"ان\" + 0.007*\"أن\" + 0.007*\"م\"\n",
      "INFO:gensim.models.ldamodel:topic #2 (0.333): 0.047*\"يا\" + 0.043*\"انا\" + 0.037*\"كدا\" + 0.029*\"مش\" + 0.026*\"والله\" + 0.021*\"بس\" + 0.019*\"لا\" + 0.018*\"الله\" + 0.013*\"انت\" + 0.011*\"ليه\"\n",
      "INFO:gensim.models.ldamodel:topic diff=0.094459, rho=0.104362\n",
      "INFO:gensim.models.ldamodel:PROGRESS: pass 1, at document #50000/179632\n",
      "INFO:gensim.models.ldamodel:merging changes from 2000 documents into a model of 179632 documents\n",
      "INFO:gensim.models.ldamodel:topic #0 (0.333): 0.054*\"و\" + 0.035*\"بتاع\" + 0.024*\"اللي\" + 0.022*\"في\" + 0.017*\"ايه\" + 0.016*\"ف\" + 0.014*\"حد\" + 0.013*\"مش\" + 0.012*\"من\" + 0.012*\"هو\"\n",
      "INFO:gensim.models.ldamodel:topic #1 (0.333): 0.061*\"من\" + 0.031*\"في\" + 0.029*\"،\" + 0.020*\"كل\" + 0.017*\"لا\" + 0.011*\"يوم\" + 0.011*\"ولا\" + 0.008*\"ان\" + 0.007*\"أن\" + 0.007*\"م\"\n",
      "INFO:gensim.models.ldamodel:topic #2 (0.333): 0.048*\"يا\" + 0.043*\"انا\" + 0.034*\"كدا\" + 0.029*\"مش\" + 0.025*\"والله\" + 0.021*\"بس\" + 0.018*\"لا\" + 0.018*\"الله\" + 0.014*\"انت\" + 0.011*\"ليه\"\n",
      "INFO:gensim.models.ldamodel:topic diff=0.111098, rho=0.104362\n",
      "INFO:gensim.models.ldamodel:PROGRESS: pass 1, at document #52000/179632\n",
      "INFO:gensim.models.ldamodel:merging changes from 2000 documents into a model of 179632 documents\n",
      "INFO:gensim.models.ldamodel:topic #0 (0.333): 0.054*\"و\" + 0.030*\"بتاع\" + 0.025*\"اللي\" + 0.022*\"في\" + 0.016*\"ايه\" + 0.015*\"ف\" + 0.015*\"حد\" + 0.014*\"مش\" + 0.012*\"من\" + 0.011*\"هو\"\n",
      "INFO:gensim.models.ldamodel:topic #1 (0.333): 0.062*\"من\" + 0.031*\"في\" + 0.029*\"،\" + 0.019*\"كل\" + 0.016*\"لا\" + 0.011*\"ولا\" + 0.011*\"يوم\" + 0.008*\"ان\" + 0.008*\"أن\" + 0.007*\"عن\"\n",
      "INFO:gensim.models.ldamodel:topic #2 (0.333): 0.047*\"يا\" + 0.042*\"انا\" + 0.031*\"كدا\" + 0.030*\"مش\" + 0.025*\"والله\" + 0.021*\"بس\" + 0.018*\"لا\" + 0.018*\"الله\" + 0.014*\"انت\" + 0.011*\"ليه\"\n",
      "INFO:gensim.models.ldamodel:topic diff=0.108823, rho=0.104362\n",
      "INFO:gensim.models.ldamodel:PROGRESS: pass 1, at document #54000/179632\n",
      "INFO:gensim.models.ldamodel:merging changes from 2000 documents into a model of 179632 documents\n"
     ]
    },
    {
     "name": "stderr",
     "output_type": "stream",
     "text": [
      "INFO:gensim.models.ldamodel:topic #0 (0.333): 0.053*\"و\" + 0.028*\"بتاع\" + 0.026*\"اللي\" + 0.023*\"في\" + 0.016*\"ايه\" + 0.015*\"حد\" + 0.015*\"ف\" + 0.014*\"مش\" + 0.013*\"من\" + 0.011*\"ما\"\n",
      "INFO:gensim.models.ldamodel:topic #1 (0.333): 0.062*\"من\" + 0.033*\"في\" + 0.028*\"،\" + 0.020*\"كل\" + 0.016*\"لا\" + 0.011*\"يوم\" + 0.011*\"ولا\" + 0.009*\"(\" + 0.008*\"ان\" + 0.007*\"أن\"\n",
      "INFO:gensim.models.ldamodel:topic #2 (0.333): 0.047*\"يا\" + 0.041*\"انا\" + 0.030*\"مش\" + 0.028*\"كدا\" + 0.027*\"والله\" + 0.021*\"بس\" + 0.017*\"لا\" + 0.017*\"الله\" + 0.014*\"انت\" + 0.012*\"ليه\"\n",
      "INFO:gensim.models.ldamodel:topic diff=0.073803, rho=0.104362\n",
      "INFO:gensim.models.ldamodel:PROGRESS: pass 1, at document #56000/179632\n",
      "INFO:gensim.models.ldamodel:merging changes from 2000 documents into a model of 179632 documents\n",
      "INFO:gensim.models.ldamodel:topic #0 (0.333): 0.060*\"و\" + 0.027*\"اللي\" + 0.026*\"بتاع\" + 0.024*\"في\" + 0.015*\"ايه\" + 0.014*\"حد\" + 0.014*\"مش\" + 0.013*\"ف\" + 0.012*\"من\" + 0.011*\"ما\"\n",
      "INFO:gensim.models.ldamodel:topic #1 (0.333): 0.062*\"من\" + 0.034*\"في\" + 0.026*\"،\" + 0.020*\"كل\" + 0.016*\"لا\" + 0.012*\"يوم\" + 0.010*\"(\" + 0.010*\"ولا\" + 0.008*\"ان\" + 0.007*\"أن\"\n",
      "INFO:gensim.models.ldamodel:topic #2 (0.333): 0.048*\"يا\" + 0.043*\"انا\" + 0.030*\"مش\" + 0.028*\"والله\" + 0.025*\"كدا\" + 0.021*\"بس\" + 0.017*\"لا\" + 0.016*\"الله\" + 0.013*\"انت\" + 0.012*\"ليه\"\n",
      "INFO:gensim.models.ldamodel:topic diff=0.082034, rho=0.104362\n",
      "INFO:gensim.models.ldamodel:PROGRESS: pass 1, at document #58000/179632\n",
      "INFO:gensim.models.ldamodel:merging changes from 2000 documents into a model of 179632 documents\n",
      "INFO:gensim.models.ldamodel:topic #0 (0.333): 0.056*\"و\" + 0.026*\"اللي\" + 0.024*\"في\" + 0.024*\"بتاع\" + 0.015*\"ايه\" + 0.014*\"مش\" + 0.014*\"حد\" + 0.013*\"ف\" + 0.013*\"من\" + 0.012*\"ده\"\n",
      "INFO:gensim.models.ldamodel:topic #1 (0.333): 0.062*\"من\" + 0.034*\"في\" + 0.024*\"،\" + 0.019*\"كل\" + 0.016*\"لا\" + 0.011*\"يوم\" + 0.011*\"ولا\" + 0.010*\"(\" + 0.008*\"ان\" + 0.007*\"أن\"\n",
      "INFO:gensim.models.ldamodel:topic #2 (0.333): 0.050*\"يا\" + 0.041*\"انا\" + 0.030*\"مش\" + 0.028*\"والله\" + 0.023*\"كدا\" + 0.021*\"بس\" + 0.018*\"لا\" + 0.015*\"الله\" + 0.013*\"انت\" + 0.012*\"ليه\"\n",
      "INFO:gensim.models.ldamodel:topic diff=0.081241, rho=0.104362\n",
      "INFO:gensim.models.ldamodel:-7.253 per-word bound, 152.6 perplexity estimate based on a held-out corpus of 2000 documents with 11847 words\n",
      "INFO:gensim.models.ldamodel:PROGRESS: pass 1, at document #60000/179632\n",
      "INFO:gensim.models.ldamodel:merging changes from 2000 documents into a model of 179632 documents\n",
      "INFO:gensim.models.ldamodel:topic #0 (0.333): 0.052*\"و\" + 0.024*\"اللي\" + 0.024*\"في\" + 0.021*\"بتاع\" + 0.015*\"فى\" + 0.015*\"ايه\" + 0.015*\"مش\" + 0.013*\"حد\" + 0.013*\"من\" + 0.013*\"ده\"\n",
      "INFO:gensim.models.ldamodel:topic #1 (0.333): 0.064*\"من\" + 0.034*\"في\" + 0.023*\"،\" + 0.018*\"كل\" + 0.016*\"لا\" + 0.011*\"يوم\" + 0.010*\"ولا\" + 0.009*\"(\" + 0.008*\"ان\" + 0.007*\"عن\"\n",
      "INFO:gensim.models.ldamodel:topic #2 (0.333): 0.053*\"يا\" + 0.040*\"انا\" + 0.031*\"مش\" + 0.028*\"والله\" + 0.022*\"بس\" + 0.021*\"كدا\" + 0.018*\"لا\" + 0.016*\"الله\" + 0.013*\"انت\" + 0.012*\"ليه\"\n",
      "INFO:gensim.models.ldamodel:topic diff=0.092096, rho=0.104362\n",
      "INFO:gensim.models.ldamodel:PROGRESS: pass 1, at document #62000/179632\n",
      "INFO:gensim.models.ldamodel:merging changes from 2000 documents into a model of 179632 documents\n",
      "INFO:gensim.models.ldamodel:topic #0 (0.333): 0.052*\"و\" + 0.025*\"اللي\" + 0.023*\"في\" + 0.020*\"بتاع\" + 0.015*\"ايه\" + 0.015*\"مش\" + 0.014*\"فى\" + 0.013*\"حد\" + 0.013*\"ده\" + 0.013*\"من\"\n",
      "INFO:gensim.models.ldamodel:topic #1 (0.333): 0.064*\"من\" + 0.033*\"في\" + 0.026*\"،\" + 0.018*\"كل\" + 0.016*\"لا\" + 0.011*\"يوم\" + 0.010*\"ولا\" + 0.008*\"(\" + 0.008*\"ان\" + 0.007*\"عن\"\n",
      "INFO:gensim.models.ldamodel:topic #2 (0.333): 0.053*\"يا\" + 0.041*\"انا\" + 0.032*\"مش\" + 0.027*\"والله\" + 0.022*\"بس\" + 0.019*\"كدا\" + 0.019*\"لا\" + 0.015*\"الله\" + 0.013*\"انت\" + 0.012*\"ليه\"\n",
      "INFO:gensim.models.ldamodel:topic diff=0.080045, rho=0.104362\n",
      "INFO:gensim.models.ldamodel:PROGRESS: pass 1, at document #64000/179632\n",
      "INFO:gensim.models.ldamodel:merging changes from 2000 documents into a model of 179632 documents\n",
      "INFO:gensim.models.ldamodel:topic #0 (0.333): 0.055*\"و\" + 0.026*\"اللي\" + 0.024*\"في\" + 0.018*\"بتاع\" + 0.016*\"ايه\" + 0.014*\"مش\" + 0.014*\"فى\" + 0.013*\"حد\" + 0.013*\"من\" + 0.013*\"ده\"\n",
      "INFO:gensim.models.ldamodel:topic #1 (0.333): 0.064*\"من\" + 0.034*\"في\" + 0.028*\"،\" + 0.018*\"كل\" + 0.016*\"لا\" + 0.012*\"يوم\" + 0.010*\"ولا\" + 0.009*\"ان\" + 0.008*\"(\" + 0.007*\"كدة\"\n",
      "INFO:gensim.models.ldamodel:topic #2 (0.333): 0.053*\"يا\" + 0.042*\"انا\" + 0.032*\"مش\" + 0.026*\"والله\" + 0.022*\"بس\" + 0.019*\"لا\" + 0.018*\"كدا\" + 0.015*\"الله\" + 0.013*\"انت\" + 0.012*\"ليه\"\n",
      "INFO:gensim.models.ldamodel:topic diff=0.080998, rho=0.104362\n",
      "INFO:gensim.models.ldamodel:PROGRESS: pass 1, at document #66000/179632\n",
      "INFO:gensim.models.ldamodel:merging changes from 2000 documents into a model of 179632 documents\n",
      "INFO:gensim.models.ldamodel:topic #0 (0.333): 0.054*\"و\" + 0.025*\"اللي\" + 0.024*\"في\" + 0.016*\"ايه\" + 0.016*\"بتاع\" + 0.016*\"ف\" + 0.014*\"مش\" + 0.013*\"فى\" + 0.013*\"من\" + 0.013*\"حد\"\n",
      "INFO:gensim.models.ldamodel:topic #1 (0.333): 0.063*\"من\" + 0.035*\"في\" + 0.028*\"،\" + 0.018*\"كل\" + 0.016*\"لا\" + 0.011*\"يوم\" + 0.010*\"ولا\" + 0.008*\"ان\" + 0.007*\"(\" + 0.007*\"كدة\"\n",
      "INFO:gensim.models.ldamodel:topic #2 (0.333): 0.055*\"يا\" + 0.042*\"انا\" + 0.031*\"مش\" + 0.025*\"والله\" + 0.022*\"بس\" + 0.019*\"لا\" + 0.016*\"كدا\" + 0.016*\"الله\" + 0.013*\"انت\" + 0.012*\"ليه\"\n",
      "INFO:gensim.models.ldamodel:topic diff=0.094149, rho=0.104362\n",
      "INFO:gensim.models.ldamodel:PROGRESS: pass 1, at document #68000/179632\n",
      "INFO:gensim.models.ldamodel:merging changes from 2000 documents into a model of 179632 documents\n",
      "INFO:gensim.models.ldamodel:topic #0 (0.333): 0.051*\"و\" + 0.025*\"في\" + 0.024*\"اللي\" + 0.016*\"ايه\" + 0.015*\"ف\" + 0.015*\"بتاع\" + 0.014*\"مش\" + 0.013*\"من\" + 0.012*\"فى\" + 0.012*\"حد\"\n",
      "INFO:gensim.models.ldamodel:topic #1 (0.333): 0.062*\"من\" + 0.038*\"في\" + 0.025*\"،\" + 0.018*\"كل\" + 0.016*\"لا\" + 0.011*\"يوم\" + 0.010*\"ولا\" + 0.009*\"ان\" + 0.007*\"عن\" + 0.006*\"(\"\n",
      "INFO:gensim.models.ldamodel:topic #2 (0.333): 0.052*\"يا\" + 0.040*\"انا\" + 0.030*\"مش\" + 0.024*\"والله\" + 0.021*\"بس\" + 0.018*\"لا\" + 0.017*\"الله\" + 0.016*\"كدا\" + 0.012*\"انت\" + 0.011*\"ليه\"\n",
      "INFO:gensim.models.ldamodel:topic diff=0.108740, rho=0.104362\n",
      "INFO:gensim.models.ldamodel:PROGRESS: pass 1, at document #70000/179632\n",
      "INFO:gensim.models.ldamodel:merging changes from 2000 documents into a model of 179632 documents\n",
      "INFO:gensim.models.ldamodel:topic #0 (0.333): 0.047*\"و\" + 0.027*\"في\" + 0.022*\"اللي\" + 0.017*\"ايه\" + 0.014*\"ف\" + 0.014*\"مش\" + 0.013*\"بتاع\" + 0.013*\"من\" + 0.012*\"لما\" + 0.012*\"حد\"\n",
      "INFO:gensim.models.ldamodel:topic #1 (0.333): 0.064*\"من\" + 0.042*\"في\" + 0.022*\"،\" + 0.018*\"كل\" + 0.017*\"لا\" + 0.010*\"ولا\" + 0.010*\"يوم\" + 0.010*\"ان\" + 0.008*\"عن\" + 0.007*\"كدة\"\n",
      "INFO:gensim.models.ldamodel:topic #2 (0.333): 0.048*\"يا\" + 0.038*\"انا\" + 0.029*\"مش\" + 0.022*\"والله\" + 0.022*\"الله\" + 0.021*\"بس\" + 0.019*\"لا\" + 0.014*\"كدا\" + 0.012*\"انت\" + 0.012*\"ربنا\"\n",
      "INFO:gensim.models.ldamodel:topic diff=0.125122, rho=0.104362\n",
      "INFO:gensim.models.ldamodel:PROGRESS: pass 1, at document #72000/179632\n",
      "INFO:gensim.models.ldamodel:merging changes from 2000 documents into a model of 179632 documents\n",
      "INFO:gensim.models.ldamodel:topic #0 (0.333): 0.046*\"و\" + 0.026*\"في\" + 0.021*\"اللي\" + 0.017*\"ايه\" + 0.013*\"فى\" + 0.013*\"مش\" + 0.013*\"ف\" + 0.013*\"من\" + 0.013*\"بتاع\" + 0.012*\"هو\"\n",
      "INFO:gensim.models.ldamodel:topic #1 (0.333): 0.064*\"من\" + 0.041*\"في\" + 0.021*\"،\" + 0.018*\"كل\" + 0.017*\"لا\" + 0.010*\"ولا\" + 0.010*\"ان\" + 0.010*\"يوم\" + 0.008*\"عن\" + 0.007*\"أن\"\n",
      "INFO:gensim.models.ldamodel:topic #2 (0.333): 0.051*\"يا\" + 0.038*\"انا\" + 0.029*\"مش\" + 0.022*\"والله\" + 0.022*\"الله\" + 0.021*\"بس\" + 0.018*\"لا\" + 0.013*\"كدا\" + 0.012*\"انت\" + 0.012*\"ربنا\"\n",
      "INFO:gensim.models.ldamodel:topic diff=0.073694, rho=0.104362\n",
      "INFO:gensim.models.ldamodel:PROGRESS: pass 1, at document #74000/179632\n",
      "INFO:gensim.models.ldamodel:merging changes from 2000 documents into a model of 179632 documents\n",
      "INFO:gensim.models.ldamodel:topic #0 (0.333): 0.042*\"و\" + 0.024*\"في\" + 0.020*\"اللي\" + 0.018*\"فى\" + 0.017*\"ايه\" + 0.014*\"مش\" + 0.013*\"من\" + 0.013*\"ده\" + 0.012*\"ف\" + 0.012*\"حد\"\n",
      "INFO:gensim.models.ldamodel:topic #1 (0.333): 0.065*\"من\" + 0.038*\"في\" + 0.020*\"،\" + 0.019*\"كل\" + 0.017*\"لا\" + 0.011*\"يوم\" + 0.010*\"ولا\" + 0.010*\"ان\" + 0.007*\"عن\" + 0.007*\"أن\"\n",
      "INFO:gensim.models.ldamodel:topic #2 (0.333): 0.052*\"يا\" + 0.039*\"انا\" + 0.029*\"مش\" + 0.024*\"والله\" + 0.022*\"بس\" + 0.021*\"الله\" + 0.018*\"لا\" + 0.012*\"ربنا\" + 0.012*\"انت\" + 0.012*\"كدا\"\n"
     ]
    },
    {
     "name": "stderr",
     "output_type": "stream",
     "text": [
      "INFO:gensim.models.ldamodel:topic diff=0.083694, rho=0.104362\n",
      "INFO:gensim.models.ldamodel:PROGRESS: pass 1, at document #76000/179632\n",
      "INFO:gensim.models.ldamodel:merging changes from 2000 documents into a model of 179632 documents\n",
      "INFO:gensim.models.ldamodel:topic #0 (0.333): 0.042*\"و\" + 0.024*\"في\" + 0.021*\"اللي\" + 0.018*\"فى\" + 0.017*\"ايه\" + 0.015*\"مش\" + 0.013*\"من\" + 0.013*\"ف\" + 0.012*\"ده\" + 0.012*\"لما\"\n",
      "INFO:gensim.models.ldamodel:topic #1 (0.333): 0.065*\"من\" + 0.038*\"في\" + 0.021*\"،\" + 0.019*\"كل\" + 0.017*\"لا\" + 0.011*\"يوم\" + 0.010*\"ولا\" + 0.010*\"ان\" + 0.008*\"عن\" + 0.007*\"أن\"\n",
      "INFO:gensim.models.ldamodel:topic #2 (0.333): 0.051*\"يا\" + 0.039*\"انا\" + 0.030*\"مش\" + 0.022*\"والله\" + 0.021*\"بس\" + 0.020*\"الله\" + 0.018*\"لا\" + 0.012*\"انت\" + 0.012*\"ربنا\" + 0.011*\"ليه\"\n",
      "INFO:gensim.models.ldamodel:topic diff=0.099173, rho=0.104362\n",
      "INFO:gensim.models.ldamodel:PROGRESS: pass 1, at document #78000/179632\n",
      "INFO:gensim.models.ldamodel:merging changes from 2000 documents into a model of 179632 documents\n",
      "INFO:gensim.models.ldamodel:topic #0 (0.333): 0.043*\"و\" + 0.023*\"في\" + 0.022*\"اللي\" + 0.017*\"فى\" + 0.017*\"ايه\" + 0.015*\"مش\" + 0.014*\"ف\" + 0.013*\"من\" + 0.012*\"حد\" + 0.012*\"لما\"\n",
      "INFO:gensim.models.ldamodel:topic #1 (0.333): 0.066*\"من\" + 0.038*\"في\" + 0.021*\"،\" + 0.019*\"كل\" + 0.018*\"لا\" + 0.011*\"يوم\" + 0.010*\"ان\" + 0.010*\"ولا\" + 0.008*\"عن\" + 0.008*\"أن\"\n",
      "INFO:gensim.models.ldamodel:topic #2 (0.333): 0.051*\"يا\" + 0.038*\"انا\" + 0.030*\"مش\" + 0.022*\"والله\" + 0.020*\"بس\" + 0.020*\"الله\" + 0.018*\"لا\" + 0.012*\"انت\" + 0.012*\"ربنا\" + 0.010*\"ليه\"\n",
      "INFO:gensim.models.ldamodel:topic diff=0.096403, rho=0.104362\n",
      "INFO:gensim.models.ldamodel:-7.074 per-word bound, 134.7 perplexity estimate based on a held-out corpus of 2000 documents with 11619 words\n",
      "INFO:gensim.models.ldamodel:PROGRESS: pass 1, at document #80000/179632\n",
      "INFO:gensim.models.ldamodel:merging changes from 2000 documents into a model of 179632 documents\n",
      "INFO:gensim.models.ldamodel:topic #0 (0.333): 0.041*\"و\" + 0.024*\"اللي\" + 0.022*\"في\" + 0.018*\"ايه\" + 0.016*\"فى\" + 0.016*\"ف\" + 0.015*\"مش\" + 0.013*\"من\" + 0.013*\"ده\" + 0.012*\"حد\"\n",
      "INFO:gensim.models.ldamodel:topic #1 (0.333): 0.066*\"من\" + 0.036*\"في\" + 0.022*\"،\" + 0.019*\"كل\" + 0.018*\"لا\" + 0.011*\"يوم\" + 0.010*\"ان\" + 0.010*\"ولا\" + 0.008*\"ما\" + 0.008*\"عن\"\n",
      "INFO:gensim.models.ldamodel:topic #2 (0.333): 0.054*\"يا\" + 0.039*\"انا\" + 0.029*\"مش\" + 0.024*\"والله\" + 0.021*\"بس\" + 0.019*\"الله\" + 0.018*\"لا\" + 0.013*\"انت\" + 0.012*\"ربنا\" + 0.010*\"ده\"\n",
      "INFO:gensim.models.ldamodel:topic diff=0.087057, rho=0.104362\n",
      "INFO:gensim.models.ldamodel:PROGRESS: pass 1, at document #82000/179632\n",
      "INFO:gensim.models.ldamodel:merging changes from 2000 documents into a model of 179632 documents\n",
      "INFO:gensim.models.ldamodel:topic #0 (0.333): 0.042*\"و\" + 0.025*\"اللي\" + 0.023*\"في\" + 0.017*\"ايه\" + 0.016*\"فى\" + 0.016*\"مش\" + 0.015*\"ف\" + 0.013*\"حد\" + 0.013*\"من\" + 0.012*\"ده\"\n",
      "INFO:gensim.models.ldamodel:topic #1 (0.333): 0.066*\"من\" + 0.036*\"في\" + 0.022*\"،\" + 0.019*\"كل\" + 0.019*\"لا\" + 0.011*\"يوم\" + 0.010*\"ان\" + 0.010*\"ولا\" + 0.008*\"ما\" + 0.008*\"عن\"\n",
      "INFO:gensim.models.ldamodel:topic #2 (0.333): 0.053*\"يا\" + 0.040*\"انا\" + 0.030*\"مش\" + 0.024*\"والله\" + 0.021*\"بس\" + 0.018*\"لا\" + 0.018*\"الله\" + 0.013*\"انت\" + 0.011*\"ربنا\" + 0.010*\"ده\"\n",
      "INFO:gensim.models.ldamodel:topic diff=0.097409, rho=0.104362\n",
      "INFO:gensim.models.ldamodel:PROGRESS: pass 1, at document #84000/179632\n",
      "INFO:gensim.models.ldamodel:merging changes from 2000 documents into a model of 179632 documents\n",
      "INFO:gensim.models.ldamodel:topic #0 (0.333): 0.041*\"و\" + 0.027*\"اللي\" + 0.023*\"في\" + 0.018*\"ايه\" + 0.016*\"مش\" + 0.015*\"فى\" + 0.015*\"ف\" + 0.014*\"حد\" + 0.013*\"من\" + 0.012*\"ده\"\n",
      "INFO:gensim.models.ldamodel:topic #1 (0.333): 0.066*\"من\" + 0.038*\"في\" + 0.022*\"،\" + 0.020*\"كل\" + 0.019*\"لا\" + 0.011*\"يوم\" + 0.010*\"ان\" + 0.010*\"ولا\" + 0.008*\"ما\" + 0.007*\"عن\"\n",
      "INFO:gensim.models.ldamodel:topic #2 (0.333): 0.052*\"يا\" + 0.041*\"انا\" + 0.031*\"مش\" + 0.027*\"والله\" + 0.022*\"بس\" + 0.018*\"لا\" + 0.018*\"الله\" + 0.013*\"انت\" + 0.012*\"ربنا\" + 0.010*\"ده\"\n",
      "INFO:gensim.models.ldamodel:topic diff=0.079808, rho=0.104362\n",
      "INFO:gensim.models.ldamodel:PROGRESS: pass 1, at document #86000/179632\n",
      "INFO:gensim.models.ldamodel:merging changes from 2000 documents into a model of 179632 documents\n",
      "INFO:gensim.models.ldamodel:topic #0 (0.333): 0.043*\"و\" + 0.029*\"اللي\" + 0.024*\"في\" + 0.019*\"ايه\" + 0.016*\"مش\" + 0.014*\"ف\" + 0.014*\"فى\" + 0.013*\"حد\" + 0.013*\"من\" + 0.012*\"ده\"\n",
      "INFO:gensim.models.ldamodel:topic #1 (0.333): 0.066*\"من\" + 0.039*\"في\" + 0.021*\"،\" + 0.020*\"كل\" + 0.018*\"لا\" + 0.012*\"يوم\" + 0.010*\"ان\" + 0.010*\"ولا\" + 0.008*\"ما\" + 0.007*\"عن\"\n",
      "INFO:gensim.models.ldamodel:topic #2 (0.333): 0.052*\"يا\" + 0.040*\"انا\" + 0.030*\"مش\" + 0.027*\"والله\" + 0.022*\"بس\" + 0.019*\"الله\" + 0.017*\"لا\" + 0.013*\"انت\" + 0.012*\"ربنا\" + 0.010*\"ليه\"\n",
      "INFO:gensim.models.ldamodel:topic diff=0.076492, rho=0.104362\n",
      "INFO:gensim.models.ldamodel:PROGRESS: pass 1, at document #88000/179632\n",
      "INFO:gensim.models.ldamodel:merging changes from 2000 documents into a model of 179632 documents\n",
      "INFO:gensim.models.ldamodel:topic #0 (0.333): 0.051*\"و\" + 0.029*\"اللي\" + 0.025*\"في\" + 0.017*\"ايه\" + 0.016*\"مش\" + 0.014*\"ف\" + 0.013*\"فى\" + 0.013*\"حد\" + 0.013*\"من\" + 0.012*\"ده\"\n",
      "INFO:gensim.models.ldamodel:topic #1 (0.333): 0.067*\"من\" + 0.039*\"في\" + 0.022*\"،\" + 0.020*\"كل\" + 0.018*\"لا\" + 0.011*\"يوم\" + 0.010*\"ولا\" + 0.010*\"ان\" + 0.008*\"ما\" + 0.007*\"عن\"\n",
      "INFO:gensim.models.ldamodel:topic #2 (0.333): 0.053*\"يا\" + 0.039*\"انا\" + 0.030*\"مش\" + 0.026*\"والله\" + 0.022*\"بس\" + 0.021*\"الله\" + 0.017*\"لا\" + 0.012*\"انت\" + 0.012*\"ربنا\" + 0.009*\"ليه\"\n",
      "INFO:gensim.models.ldamodel:topic diff=0.096034, rho=0.104362\n",
      "INFO:gensim.models.ldamodel:PROGRESS: pass 1, at document #90000/179632\n",
      "INFO:gensim.models.ldamodel:merging changes from 2000 documents into a model of 179632 documents\n",
      "INFO:gensim.models.ldamodel:topic #0 (0.333): 0.050*\"و\" + 0.027*\"اللي\" + 0.025*\"في\" + 0.017*\"ايه\" + 0.016*\"مش\" + 0.014*\"فى\" + 0.013*\"ف\" + 0.013*\"حد\" + 0.012*\"من\" + 0.011*\"ده\"\n",
      "INFO:gensim.models.ldamodel:topic #1 (0.333): 0.068*\"من\" + 0.039*\"في\" + 0.021*\"،\" + 0.020*\"كل\" + 0.018*\"لا\" + 0.011*\"يوم\" + 0.010*\"ولا\" + 0.010*\"ان\" + 0.008*\"ما\" + 0.007*\"عن\"\n",
      "INFO:gensim.models.ldamodel:topic #2 (0.333): 0.058*\"يا\" + 0.038*\"انا\" + 0.029*\"مش\" + 0.025*\"والله\" + 0.021*\"بس\" + 0.020*\"الله\" + 0.016*\"لا\" + 0.013*\"انت\" + 0.012*\"ربنا\" + 0.010*\"يارب\"\n",
      "INFO:gensim.models.ldamodel:topic diff=0.090024, rho=0.104362\n",
      "INFO:gensim.models.ldamodel:PROGRESS: pass 1, at document #92000/179632\n",
      "INFO:gensim.models.ldamodel:merging changes from 2000 documents into a model of 179632 documents\n",
      "INFO:gensim.models.ldamodel:topic #0 (0.333): 0.048*\"و\" + 0.027*\"اللي\" + 0.024*\"في\" + 0.016*\"ايه\" + 0.015*\"مش\" + 0.013*\"فى\" + 0.012*\"ف\" + 0.012*\"من\" + 0.012*\"حد\" + 0.012*\"على\"\n",
      "INFO:gensim.models.ldamodel:topic #1 (0.333): 0.068*\"من\" + 0.038*\"في\" + 0.021*\"،\" + 0.020*\"كل\" + 0.018*\"لا\" + 0.011*\"يوم\" + 0.010*\"ولا\" + 0.009*\"ان\" + 0.008*\"ما\" + 0.008*\"عن\"\n",
      "INFO:gensim.models.ldamodel:topic #2 (0.333): 0.058*\"يا\" + 0.037*\"انا\" + 0.028*\"مش\" + 0.025*\"والله\" + 0.021*\"بس\" + 0.021*\"الله\" + 0.016*\"لا\" + 0.013*\"انت\" + 0.012*\"ربنا\" + 0.011*\"يارب\"\n",
      "INFO:gensim.models.ldamodel:topic diff=0.150261, rho=0.104362\n",
      "INFO:gensim.models.ldamodel:PROGRESS: pass 1, at document #94000/179632\n",
      "INFO:gensim.models.ldamodel:merging changes from 2000 documents into a model of 179632 documents\n",
      "INFO:gensim.models.ldamodel:topic #0 (0.333): 0.048*\"و\" + 0.028*\"اللي\" + 0.023*\"في\" + 0.015*\"ايه\" + 0.014*\"مش\" + 0.013*\"على\" + 0.012*\"من\" + 0.012*\"فى\" + 0.012*\"ف\" + 0.011*\"حد\"\n",
      "INFO:gensim.models.ldamodel:topic #1 (0.333): 0.067*\"من\" + 0.036*\"في\" + 0.025*\"،\" + 0.021*\"لا\" + 0.020*\"كل\" + 0.010*\"يوم\" + 0.009*\"ولا\" + 0.009*\"ما\" + 0.008*\"ان\" + 0.008*\"الله\"\n",
      "INFO:gensim.models.ldamodel:topic #2 (0.333): 0.057*\"يا\" + 0.035*\"انا\" + 0.026*\"مش\" + 0.024*\"والله\" + 0.023*\"الله\" + 0.021*\"بس\" + 0.017*\"لا\" + 0.013*\"انت\" + 0.011*\"ربنا\" + 0.011*\"يارب\"\n",
      "INFO:gensim.models.ldamodel:topic diff=0.148723, rho=0.104362\n",
      "INFO:gensim.models.ldamodel:PROGRESS: pass 1, at document #96000/179632\n",
      "INFO:gensim.models.ldamodel:merging changes from 2000 documents into a model of 179632 documents\n",
      "INFO:gensim.models.ldamodel:topic #0 (0.333): 0.049*\"و\" + 0.027*\"اللي\" + 0.023*\"في\" + 0.014*\"ايه\" + 0.014*\"على\" + 0.013*\"مش\" + 0.012*\"من\" + 0.011*\"فى\" + 0.011*\"ما\" + 0.011*\"ف\"\n"
     ]
    },
    {
     "name": "stderr",
     "output_type": "stream",
     "text": [
      "INFO:gensim.models.ldamodel:topic #1 (0.333): 0.066*\"من\" + 0.035*\"في\" + 0.025*\"،\" + 0.023*\"لا\" + 0.020*\"كل\" + 0.010*\"ما\" + 0.010*\"ولا\" + 0.010*\"يوم\" + 0.009*\"الله\" + 0.008*\"عن\"\n",
      "INFO:gensim.models.ldamodel:topic #2 (0.333): 0.055*\"يا\" + 0.035*\"انا\" + 0.024*\"مش\" + 0.024*\"الله\" + 0.023*\"والله\" + 0.021*\"بس\" + 0.018*\"لا\" + 0.012*\"انت\" + 0.011*\"يارب\" + 0.011*\"\"\"\n",
      "INFO:gensim.models.ldamodel:topic diff=0.113469, rho=0.104362\n",
      "INFO:gensim.models.ldamodel:PROGRESS: pass 1, at document #98000/179632\n",
      "INFO:gensim.models.ldamodel:merging changes from 2000 documents into a model of 179632 documents\n",
      "INFO:gensim.models.ldamodel:topic #0 (0.333): 0.049*\"و\" + 0.026*\"اللي\" + 0.024*\"في\" + 0.015*\"على\" + 0.013*\"ايه\" + 0.013*\"من\" + 0.012*\"مش\" + 0.012*\"ما\" + 0.010*\"فى\" + 0.010*\"لو\"\n",
      "INFO:gensim.models.ldamodel:topic #1 (0.333): 0.069*\"من\" + 0.036*\"في\" + 0.025*\"،\" + 0.023*\"لا\" + 0.020*\"كل\" + 0.010*\"ما\" + 0.009*\"ولا\" + 0.009*\"يوم\" + 0.009*\"الله\" + 0.009*\"أن\"\n",
      "INFO:gensim.models.ldamodel:topic #2 (0.333): 0.057*\"يا\" + 0.034*\"انا\" + 0.024*\"الله\" + 0.023*\"والله\" + 0.023*\"مش\" + 0.021*\"بس\" + 0.017*\"لا\" + 0.013*\"انت\" + 0.012*\"\"\" + 0.011*\"يارب\"\n",
      "INFO:gensim.models.ldamodel:topic diff=0.151382, rho=0.104362\n"
     ]
    },
    {
     "ename": "KeyboardInterrupt",
     "evalue": "",
     "output_type": "error",
     "traceback": [
      "\u001b[0;31m---------------------------------------------------------------------------\u001b[0m",
      "\u001b[0;31mKeyboardInterrupt\u001b[0m                         Traceback (most recent call last)",
      "\u001b[0;32m<ipython-input-102-46afd64b8c25>\u001b[0m in \u001b[0;36m<module>\u001b[0;34m()\u001b[0m\n\u001b[0;32m----> 1\u001b[0;31m \u001b[0mldamodel\u001b[0m \u001b[0;34m=\u001b[0m \u001b[0mgensim\u001b[0m\u001b[0;34m.\u001b[0m\u001b[0mmodels\u001b[0m\u001b[0;34m.\u001b[0m\u001b[0mldamodel\u001b[0m\u001b[0;34m.\u001b[0m\u001b[0mLdaModel\u001b[0m\u001b[0;34m(\u001b[0m\u001b[0mcorpus\u001b[0m\u001b[0;34m,\u001b[0m \u001b[0mnum_topics\u001b[0m\u001b[0;34m=\u001b[0m\u001b[0;36m3\u001b[0m\u001b[0;34m,\u001b[0m \u001b[0mid2word\u001b[0m \u001b[0;34m=\u001b[0m \u001b[0mdictionary\u001b[0m\u001b[0;34m,\u001b[0m \u001b[0mpasses\u001b[0m\u001b[0;34m=\u001b[0m\u001b[0;36m20\u001b[0m\u001b[0;34m)\u001b[0m\u001b[0;34m\u001b[0m\u001b[0m\n\u001b[0m",
      "\u001b[0;32m/opt/conda/lib/python3.6/site-packages/gensim/models/ldamodel.py\u001b[0m in \u001b[0;36m__init__\u001b[0;34m(self, corpus, num_topics, id2word, distributed, chunksize, passes, update_every, alpha, eta, decay, offset, eval_every, iterations, gamma_threshold, minimum_probability, random_state, ns_conf, minimum_phi_value, per_word_topics, callbacks, dtype)\u001b[0m\n\u001b[1;32m    396\u001b[0m         \u001b[0;32mif\u001b[0m \u001b[0mcorpus\u001b[0m \u001b[0;32mis\u001b[0m \u001b[0;32mnot\u001b[0m \u001b[0;32mNone\u001b[0m\u001b[0;34m:\u001b[0m\u001b[0;34m\u001b[0m\u001b[0m\n\u001b[1;32m    397\u001b[0m             \u001b[0muse_numpy\u001b[0m \u001b[0;34m=\u001b[0m \u001b[0mself\u001b[0m\u001b[0;34m.\u001b[0m\u001b[0mdispatcher\u001b[0m \u001b[0;32mis\u001b[0m \u001b[0;32mnot\u001b[0m \u001b[0;32mNone\u001b[0m\u001b[0;34m\u001b[0m\u001b[0m\n\u001b[0;32m--> 398\u001b[0;31m             \u001b[0mself\u001b[0m\u001b[0;34m.\u001b[0m\u001b[0mupdate\u001b[0m\u001b[0;34m(\u001b[0m\u001b[0mcorpus\u001b[0m\u001b[0;34m,\u001b[0m \u001b[0mchunks_as_numpy\u001b[0m\u001b[0;34m=\u001b[0m\u001b[0muse_numpy\u001b[0m\u001b[0;34m)\u001b[0m\u001b[0;34m\u001b[0m\u001b[0m\n\u001b[0m\u001b[1;32m    399\u001b[0m \u001b[0;34m\u001b[0m\u001b[0m\n\u001b[1;32m    400\u001b[0m     \u001b[0;32mdef\u001b[0m \u001b[0minit_dir_prior\u001b[0m\u001b[0;34m(\u001b[0m\u001b[0mself\u001b[0m\u001b[0;34m,\u001b[0m \u001b[0mprior\u001b[0m\u001b[0;34m,\u001b[0m \u001b[0mname\u001b[0m\u001b[0;34m)\u001b[0m\u001b[0;34m:\u001b[0m\u001b[0;34m\u001b[0m\u001b[0m\n",
      "\u001b[0;32m/opt/conda/lib/python3.6/site-packages/gensim/models/ldamodel.py\u001b[0m in \u001b[0;36mupdate\u001b[0;34m(self, corpus, chunksize, decay, offset, passes, update_every, eval_every, iterations, gamma_threshold, chunks_as_numpy)\u001b[0m\n\u001b[1;32m    730\u001b[0m \u001b[0;34m\u001b[0m\u001b[0m\n\u001b[1;32m    731\u001b[0m                 \u001b[0;32mif\u001b[0m \u001b[0meval_every\u001b[0m \u001b[0;32mand\u001b[0m \u001b[0;34m(\u001b[0m\u001b[0;34m(\u001b[0m\u001b[0mreallen\u001b[0m \u001b[0;34m==\u001b[0m \u001b[0mlencorpus\u001b[0m\u001b[0;34m)\u001b[0m \u001b[0;32mor\u001b[0m \u001b[0;34m(\u001b[0m\u001b[0;34m(\u001b[0m\u001b[0mchunk_no\u001b[0m \u001b[0;34m+\u001b[0m \u001b[0;36m1\u001b[0m\u001b[0;34m)\u001b[0m \u001b[0;34m%\u001b[0m \u001b[0;34m(\u001b[0m\u001b[0meval_every\u001b[0m \u001b[0;34m*\u001b[0m \u001b[0mself\u001b[0m\u001b[0;34m.\u001b[0m\u001b[0mnumworkers\u001b[0m\u001b[0;34m)\u001b[0m \u001b[0;34m==\u001b[0m \u001b[0;36m0\u001b[0m\u001b[0;34m)\u001b[0m\u001b[0;34m)\u001b[0m\u001b[0;34m:\u001b[0m\u001b[0;34m\u001b[0m\u001b[0m\n\u001b[0;32m--> 732\u001b[0;31m                     \u001b[0mself\u001b[0m\u001b[0;34m.\u001b[0m\u001b[0mlog_perplexity\u001b[0m\u001b[0;34m(\u001b[0m\u001b[0mchunk\u001b[0m\u001b[0;34m,\u001b[0m \u001b[0mtotal_docs\u001b[0m\u001b[0;34m=\u001b[0m\u001b[0mlencorpus\u001b[0m\u001b[0;34m)\u001b[0m\u001b[0;34m\u001b[0m\u001b[0m\n\u001b[0m\u001b[1;32m    733\u001b[0m \u001b[0;34m\u001b[0m\u001b[0m\n\u001b[1;32m    734\u001b[0m                 \u001b[0;32mif\u001b[0m \u001b[0mself\u001b[0m\u001b[0;34m.\u001b[0m\u001b[0mdispatcher\u001b[0m\u001b[0;34m:\u001b[0m\u001b[0;34m\u001b[0m\u001b[0m\n",
      "\u001b[0;32m/opt/conda/lib/python3.6/site-packages/gensim/models/ldamodel.py\u001b[0m in \u001b[0;36mlog_perplexity\u001b[0;34m(self, chunk, total_docs)\u001b[0m\n\u001b[1;32m    604\u001b[0m         \u001b[0mcorpus_words\u001b[0m \u001b[0;34m=\u001b[0m \u001b[0msum\u001b[0m\u001b[0;34m(\u001b[0m\u001b[0mcnt\u001b[0m \u001b[0;32mfor\u001b[0m \u001b[0mdocument\u001b[0m \u001b[0;32min\u001b[0m \u001b[0mchunk\u001b[0m \u001b[0;32mfor\u001b[0m \u001b[0m_\u001b[0m\u001b[0;34m,\u001b[0m \u001b[0mcnt\u001b[0m \u001b[0;32min\u001b[0m \u001b[0mdocument\u001b[0m\u001b[0;34m)\u001b[0m\u001b[0;34m\u001b[0m\u001b[0m\n\u001b[1;32m    605\u001b[0m         \u001b[0msubsample_ratio\u001b[0m \u001b[0;34m=\u001b[0m \u001b[0;36m1.0\u001b[0m \u001b[0;34m*\u001b[0m \u001b[0mtotal_docs\u001b[0m \u001b[0;34m/\u001b[0m \u001b[0mlen\u001b[0m\u001b[0;34m(\u001b[0m\u001b[0mchunk\u001b[0m\u001b[0;34m)\u001b[0m\u001b[0;34m\u001b[0m\u001b[0m\n\u001b[0;32m--> 606\u001b[0;31m         \u001b[0mperwordbound\u001b[0m \u001b[0;34m=\u001b[0m \u001b[0mself\u001b[0m\u001b[0;34m.\u001b[0m\u001b[0mbound\u001b[0m\u001b[0;34m(\u001b[0m\u001b[0mchunk\u001b[0m\u001b[0;34m,\u001b[0m \u001b[0msubsample_ratio\u001b[0m\u001b[0;34m=\u001b[0m\u001b[0msubsample_ratio\u001b[0m\u001b[0;34m)\u001b[0m \u001b[0;34m/\u001b[0m \u001b[0;34m(\u001b[0m\u001b[0msubsample_ratio\u001b[0m \u001b[0;34m*\u001b[0m \u001b[0mcorpus_words\u001b[0m\u001b[0;34m)\u001b[0m\u001b[0;34m\u001b[0m\u001b[0m\n\u001b[0m\u001b[1;32m    607\u001b[0m         logger.info(\n\u001b[1;32m    608\u001b[0m             \u001b[0;34m\"%.3f per-word bound, %.1f perplexity estimate based on a held-out corpus of %i documents with %i words\"\u001b[0m\u001b[0;34m,\u001b[0m\u001b[0;34m\u001b[0m\u001b[0m\n",
      "\u001b[0;32m/opt/conda/lib/python3.6/site-packages/gensim/models/ldamodel.py\u001b[0m in \u001b[0;36mbound\u001b[0;34m(self, corpus, gamma, subsample_ratio)\u001b[0m\n\u001b[1;32m    842\u001b[0m                 \u001b[0mlogger\u001b[0m\u001b[0;34m.\u001b[0m\u001b[0mdebug\u001b[0m\u001b[0;34m(\u001b[0m\u001b[0;34m\"bound: at document #%i\"\u001b[0m\u001b[0;34m,\u001b[0m \u001b[0md\u001b[0m\u001b[0;34m)\u001b[0m\u001b[0;34m\u001b[0m\u001b[0m\n\u001b[1;32m    843\u001b[0m             \u001b[0;32mif\u001b[0m \u001b[0mgamma\u001b[0m \u001b[0;32mis\u001b[0m \u001b[0;32mNone\u001b[0m\u001b[0;34m:\u001b[0m\u001b[0;34m\u001b[0m\u001b[0m\n\u001b[0;32m--> 844\u001b[0;31m                 \u001b[0mgammad\u001b[0m\u001b[0;34m,\u001b[0m \u001b[0m_\u001b[0m \u001b[0;34m=\u001b[0m \u001b[0mself\u001b[0m\u001b[0;34m.\u001b[0m\u001b[0minference\u001b[0m\u001b[0;34m(\u001b[0m\u001b[0;34m[\u001b[0m\u001b[0mdoc\u001b[0m\u001b[0;34m]\u001b[0m\u001b[0;34m)\u001b[0m\u001b[0;34m\u001b[0m\u001b[0m\n\u001b[0m\u001b[1;32m    845\u001b[0m             \u001b[0;32melse\u001b[0m\u001b[0;34m:\u001b[0m\u001b[0;34m\u001b[0m\u001b[0m\n\u001b[1;32m    846\u001b[0m                 \u001b[0mgammad\u001b[0m \u001b[0;34m=\u001b[0m \u001b[0mgamma\u001b[0m\u001b[0;34m[\u001b[0m\u001b[0md\u001b[0m\u001b[0;34m]\u001b[0m\u001b[0;34m\u001b[0m\u001b[0m\n",
      "\u001b[0;32m/opt/conda/lib/python3.6/site-packages/gensim/models/ldamodel.py\u001b[0m in \u001b[0;36minference\u001b[0;34m(self, chunk, collect_sstats)\u001b[0m\n\u001b[1;32m    525\u001b[0m                 \u001b[0mphinorm\u001b[0m \u001b[0;34m=\u001b[0m \u001b[0mnp\u001b[0m\u001b[0;34m.\u001b[0m\u001b[0mdot\u001b[0m\u001b[0;34m(\u001b[0m\u001b[0mexpElogthetad\u001b[0m\u001b[0;34m,\u001b[0m \u001b[0mexpElogbetad\u001b[0m\u001b[0;34m)\u001b[0m \u001b[0;34m+\u001b[0m \u001b[0meps\u001b[0m\u001b[0;34m\u001b[0m\u001b[0m\n\u001b[1;32m    526\u001b[0m                 \u001b[0;31m# If gamma hasn't changed much, we're done.\u001b[0m\u001b[0;34m\u001b[0m\u001b[0;34m\u001b[0m\u001b[0m\n\u001b[0;32m--> 527\u001b[0;31m                 \u001b[0mmeanchange\u001b[0m \u001b[0;34m=\u001b[0m \u001b[0mnp\u001b[0m\u001b[0;34m.\u001b[0m\u001b[0mmean\u001b[0m\u001b[0;34m(\u001b[0m\u001b[0mabs\u001b[0m\u001b[0;34m(\u001b[0m\u001b[0mgammad\u001b[0m \u001b[0;34m-\u001b[0m \u001b[0mlastgamma\u001b[0m\u001b[0;34m)\u001b[0m\u001b[0;34m)\u001b[0m\u001b[0;34m\u001b[0m\u001b[0m\n\u001b[0m\u001b[1;32m    528\u001b[0m                 \u001b[0;32mif\u001b[0m \u001b[0mmeanchange\u001b[0m \u001b[0;34m<\u001b[0m \u001b[0mself\u001b[0m\u001b[0;34m.\u001b[0m\u001b[0mgamma_threshold\u001b[0m\u001b[0;34m:\u001b[0m\u001b[0;34m\u001b[0m\u001b[0m\n\u001b[1;32m    529\u001b[0m                     \u001b[0mconverged\u001b[0m \u001b[0;34m+=\u001b[0m \u001b[0;36m1\u001b[0m\u001b[0;34m\u001b[0m\u001b[0m\n",
      "\u001b[0;32m/opt/conda/lib/python3.6/site-packages/numpy/core/fromnumeric.py\u001b[0m in \u001b[0;36mmean\u001b[0;34m(a, axis, dtype, out, keepdims)\u001b[0m\n\u001b[1;32m   2887\u001b[0m     \u001b[0;34m>>\u001b[0m\u001b[0;34m>\u001b[0m \u001b[0ma\u001b[0m\u001b[0;34m[\u001b[0m\u001b[0;36m1\u001b[0m\u001b[0;34m,\u001b[0m \u001b[0;34m:\u001b[0m\u001b[0;34m]\u001b[0m \u001b[0;34m=\u001b[0m \u001b[0;36m0.1\u001b[0m\u001b[0;34m\u001b[0m\u001b[0m\n\u001b[1;32m   2888\u001b[0m     \u001b[0;34m>>\u001b[0m\u001b[0;34m>\u001b[0m \u001b[0mnp\u001b[0m\u001b[0;34m.\u001b[0m\u001b[0mmean\u001b[0m\u001b[0;34m(\u001b[0m\u001b[0ma\u001b[0m\u001b[0;34m)\u001b[0m\u001b[0;34m\u001b[0m\u001b[0m\n\u001b[0;32m-> 2889\u001b[0;31m     \u001b[0;36m0.54999924\u001b[0m\u001b[0;34m\u001b[0m\u001b[0m\n\u001b[0m\u001b[1;32m   2890\u001b[0m \u001b[0;34m\u001b[0m\u001b[0m\n\u001b[1;32m   2891\u001b[0m     \u001b[0mComputing\u001b[0m \u001b[0mthe\u001b[0m \u001b[0mmean\u001b[0m \u001b[0;32min\u001b[0m \u001b[0mfloat64\u001b[0m \u001b[0;32mis\u001b[0m \u001b[0mmore\u001b[0m \u001b[0maccurate\u001b[0m\u001b[0;34m:\u001b[0m\u001b[0;34m\u001b[0m\u001b[0m\n",
      "\u001b[0;32m/opt/conda/lib/python3.6/site-packages/numpy/core/_methods.py\u001b[0m in \u001b[0;36m_mean\u001b[0;34m(a, axis, dtype, out, keepdims)\u001b[0m\n\u001b[1;32m     68\u001b[0m             \u001b[0mis_float16_result\u001b[0m \u001b[0;34m=\u001b[0m \u001b[0;32mTrue\u001b[0m\u001b[0;34m\u001b[0m\u001b[0m\n\u001b[1;32m     69\u001b[0m \u001b[0;34m\u001b[0m\u001b[0m\n\u001b[0;32m---> 70\u001b[0;31m     \u001b[0mret\u001b[0m \u001b[0;34m=\u001b[0m \u001b[0mumr_sum\u001b[0m\u001b[0;34m(\u001b[0m\u001b[0marr\u001b[0m\u001b[0;34m,\u001b[0m \u001b[0maxis\u001b[0m\u001b[0;34m,\u001b[0m \u001b[0mdtype\u001b[0m\u001b[0;34m,\u001b[0m \u001b[0mout\u001b[0m\u001b[0;34m,\u001b[0m \u001b[0mkeepdims\u001b[0m\u001b[0;34m)\u001b[0m\u001b[0;34m\u001b[0m\u001b[0m\n\u001b[0m\u001b[1;32m     71\u001b[0m     \u001b[0;32mif\u001b[0m \u001b[0misinstance\u001b[0m\u001b[0;34m(\u001b[0m\u001b[0mret\u001b[0m\u001b[0;34m,\u001b[0m \u001b[0mmu\u001b[0m\u001b[0;34m.\u001b[0m\u001b[0mndarray\u001b[0m\u001b[0;34m)\u001b[0m\u001b[0;34m:\u001b[0m\u001b[0;34m\u001b[0m\u001b[0m\n\u001b[1;32m     72\u001b[0m         ret = um.true_divide(\n",
      "\u001b[0;31mKeyboardInterrupt\u001b[0m: "
     ]
    }
   ],
   "source": [
    "ldamodel = gensim.models.ldamodel.LdaModel(corpus, num_topics=3, id2word = dictionary, passes=20)"
   ]
  },
  {
   "cell_type": "code",
   "execution_count": 94,
   "metadata": {
    "scrolled": true
   },
   "outputs": [
    {
     "ename": "TypeError",
     "evalue": "decoding to str: need a bytes-like object, int found",
     "output_type": "error",
     "traceback": [
      "\u001b[0;31m---------------------------------------------------------------------------\u001b[0m",
      "\u001b[0;31mTypeError\u001b[0m                                 Traceback (most recent call last)",
      "\u001b[0;32m<ipython-input-94-dd683ab5393f>\u001b[0m in \u001b[0;36m<module>\u001b[0;34m()\u001b[0m\n\u001b[0;32m----> 1\u001b[0;31m \u001b[0mdictionary\u001b[0m\u001b[0;34m.\u001b[0m\u001b[0mdoc2bow\u001b[0m\u001b[0;34m(\u001b[0m\u001b[0mdictionary\u001b[0m\u001b[0;34m,\u001b[0m \u001b[0mallow_update\u001b[0m\u001b[0;34m=\u001b[0m\u001b[0;32mTrue\u001b[0m\u001b[0;34m,\u001b[0m \u001b[0mreturn_missing\u001b[0m\u001b[0;34m=\u001b[0m\u001b[0;32mFalse\u001b[0m\u001b[0;34m)\u001b[0m\u001b[0;34m\u001b[0m\u001b[0m\n\u001b[0m",
      "\u001b[0;32m/opt/conda/lib/python3.6/site-packages/gensim/corpora/dictionary.py\u001b[0m in \u001b[0;36mdoc2bow\u001b[0;34m(self, document, allow_update, return_missing)\u001b[0m\n\u001b[1;32m    145\u001b[0m         \u001b[0mcounter\u001b[0m \u001b[0;34m=\u001b[0m \u001b[0mdefaultdict\u001b[0m\u001b[0;34m(\u001b[0m\u001b[0mint\u001b[0m\u001b[0;34m)\u001b[0m\u001b[0;34m\u001b[0m\u001b[0m\n\u001b[1;32m    146\u001b[0m         \u001b[0;32mfor\u001b[0m \u001b[0mw\u001b[0m \u001b[0;32min\u001b[0m \u001b[0mdocument\u001b[0m\u001b[0;34m:\u001b[0m\u001b[0;34m\u001b[0m\u001b[0m\n\u001b[0;32m--> 147\u001b[0;31m             \u001b[0mcounter\u001b[0m\u001b[0;34m[\u001b[0m\u001b[0mw\u001b[0m \u001b[0;32mif\u001b[0m \u001b[0misinstance\u001b[0m\u001b[0;34m(\u001b[0m\u001b[0mw\u001b[0m\u001b[0;34m,\u001b[0m \u001b[0municode\u001b[0m\u001b[0;34m)\u001b[0m \u001b[0;32melse\u001b[0m \u001b[0municode\u001b[0m\u001b[0;34m(\u001b[0m\u001b[0mw\u001b[0m\u001b[0;34m,\u001b[0m \u001b[0;34m'utf-8'\u001b[0m\u001b[0;34m)\u001b[0m\u001b[0;34m]\u001b[0m \u001b[0;34m+=\u001b[0m \u001b[0;36m1\u001b[0m\u001b[0;34m\u001b[0m\u001b[0m\n\u001b[0m\u001b[1;32m    148\u001b[0m \u001b[0;34m\u001b[0m\u001b[0m\n\u001b[1;32m    149\u001b[0m         \u001b[0mtoken2id\u001b[0m \u001b[0;34m=\u001b[0m \u001b[0mself\u001b[0m\u001b[0;34m.\u001b[0m\u001b[0mtoken2id\u001b[0m\u001b[0;34m\u001b[0m\u001b[0m\n",
      "\u001b[0;31mTypeError\u001b[0m: decoding to str: need a bytes-like object, int found"
     ]
    }
   ],
   "source": [
    "dictionary.doc2bow(dictionary, allow_update=True, return_missing=False)"
   ]
  },
  {
   "cell_type": "code",
   "execution_count": null,
   "metadata": {},
   "outputs": [],
   "source": [
    "class MyCorpus(object):\n",
    "    def __iter__(self):\n",
    "        for line in open('datasets/mycorpus.txt'):\n",
    "            # assume there's one document per line, tokens separated by whitespace\n",
    "            yield dictionary.doc2bow(line.lower().split())"
   ]
  },
  {
   "cell_type": "code",
   "execution_count": null,
   "metadata": {},
   "outputs": [],
   "source": [
    "corpora.Dictionary(df[\"cleaned_text\"])"
   ]
  },
  {
   "cell_type": "code",
   "execution_count": 92,
   "metadata": {
    "scrolled": true
   },
   "outputs": [
    {
     "ename": "AttributeError",
     "evalue": "module 'gensim' has no attribute 'doc2bow'",
     "output_type": "error",
     "traceback": [
      "\u001b[0;31m---------------------------------------------------------------------------\u001b[0m",
      "\u001b[0;31mAttributeError\u001b[0m                            Traceback (most recent call last)",
      "\u001b[0;32m<ipython-input-92-4e103691ca05>\u001b[0m in \u001b[0;36m<module>\u001b[0;34m()\u001b[0m\n\u001b[0;32m----> 1\u001b[0;31m \u001b[0mgensim\u001b[0m\u001b[0;34m.\u001b[0m\u001b[0mdoc2bow\u001b[0m\u001b[0;34m(\u001b[0m\u001b[0mdictionary\u001b[0m\u001b[0;34m,\u001b[0m \u001b[0mallow_update\u001b[0m\u001b[0;34m=\u001b[0m\u001b[0;32mTrue\u001b[0m\u001b[0;34m,\u001b[0m \u001b[0mreturn_missing\u001b[0m\u001b[0;34m=\u001b[0m\u001b[0;32mFalse\u001b[0m\u001b[0;34m)\u001b[0m\u001b[0;34m\u001b[0m\u001b[0m\n\u001b[0m",
      "\u001b[0;31mAttributeError\u001b[0m: module 'gensim' has no attribute 'doc2bow'"
     ]
    }
   ],
   "source": [
    "gensim.(dictionary, allow_update=True, return_missing=False)"
   ]
  },
  {
   "cell_type": "code",
   "execution_count": null,
   "metadata": {},
   "outputs": [],
   "source": [
    "# add a new doc (tokens) to this dictionary and update it.\"Same tokens to the same ids and new tokens to new ids\".\n",
    "# dict2 = corpora.Dictionary(moreDocs)\n",
    "# dict1.merge_with(dict2)"
   ]
  },
  {
   "cell_type": "code",
   "execution_count": 76,
   "metadata": {},
   "outputs": [
    {
     "ename": "NameError",
     "evalue": "name 'dictionary' is not defined",
     "output_type": "error",
     "traceback": [
      "\u001b[0;31m---------------------------------------------------------------------------\u001b[0m",
      "\u001b[0;31mNameError\u001b[0m                                 Traceback (most recent call last)",
      "\u001b[0;32m<ipython-input-76-92fa5d0ebb97>\u001b[0m in \u001b[0;36m<module>\u001b[0;34m()\u001b[0m\n\u001b[0;32m----> 1\u001b[0;31m \u001b[0mnew_vec\u001b[0m \u001b[0;34m=\u001b[0m \u001b[0mdictionary\u001b[0m\u001b[0;34m.\u001b[0m\u001b[0mdoc2bow\u001b[0m\u001b[0;34m(\u001b[0m\u001b[0mtext_eda_no_stops\u001b[0m\u001b[0;34m)\u001b[0m\u001b[0;34m\u001b[0m\u001b[0m\n\u001b[0m",
      "\u001b[0;31mNameError\u001b[0m: name 'dictionary' is not defined"
     ]
    }
   ],
   "source": [
    "new_vec = dictionary.doc2bow(text_eda_no_stops)\n",
    "print(new_vec)  # the word \"interaction\" does not appear in the dictionary and is ignored\n",
    "[(0, 1), (1, 1)]"
   ]
  },
  {
   "cell_type": "code",
   "execution_count": 75,
   "metadata": {},
   "outputs": [
    {
     "name": "stderr",
     "output_type": "stream",
     "text": [
      "INFO:gensim.models.tfidfmodel:collecting document frequencies\n",
      "INFO:gensim.models.tfidfmodel:PROGRESS: processing document #0\n"
     ]
    },
    {
     "ename": "ValueError",
     "evalue": "not enough values to unpack (expected 2, got 1)",
     "output_type": "error",
     "traceback": [
      "\u001b[0;31m---------------------------------------------------------------------------\u001b[0m",
      "\u001b[0;31mValueError\u001b[0m                                Traceback (most recent call last)",
      "\u001b[0;32m<ipython-input-75-f9f53935ce13>\u001b[0m in \u001b[0;36m<module>\u001b[0;34m()\u001b[0m\n\u001b[0;32m----> 1\u001b[0;31m \u001b[0mtfidf\u001b[0m \u001b[0;34m=\u001b[0m \u001b[0mmodels\u001b[0m\u001b[0;34m.\u001b[0m\u001b[0mTfidfModel\u001b[0m\u001b[0;34m(\u001b[0m\u001b[0mtext_eda_no_stops\u001b[0m\u001b[0;34m)\u001b[0m\u001b[0;34m\u001b[0m\u001b[0m\n\u001b[0m",
      "\u001b[0;32m/opt/conda/lib/python3.6/site-packages/gensim/models/tfidfmodel.py\u001b[0m in \u001b[0;36m__init__\u001b[0;34m(self, corpus, id2word, dictionary, wlocal, wglobal, normalize)\u001b[0m\n\u001b[1;32m     97\u001b[0m                 \u001b[0mself\u001b[0m\u001b[0;34m.\u001b[0m\u001b[0mid2word\u001b[0m \u001b[0;34m=\u001b[0m \u001b[0mdictionary\u001b[0m\u001b[0;34m\u001b[0m\u001b[0m\n\u001b[1;32m     98\u001b[0m         \u001b[0;32melif\u001b[0m \u001b[0mcorpus\u001b[0m \u001b[0;32mis\u001b[0m \u001b[0;32mnot\u001b[0m \u001b[0;32mNone\u001b[0m\u001b[0;34m:\u001b[0m\u001b[0;34m\u001b[0m\u001b[0m\n\u001b[0;32m---> 99\u001b[0;31m             \u001b[0mself\u001b[0m\u001b[0;34m.\u001b[0m\u001b[0minitialize\u001b[0m\u001b[0;34m(\u001b[0m\u001b[0mcorpus\u001b[0m\u001b[0;34m)\u001b[0m\u001b[0;34m\u001b[0m\u001b[0m\n\u001b[0m\u001b[1;32m    100\u001b[0m         \u001b[0;32melse\u001b[0m\u001b[0;34m:\u001b[0m\u001b[0;34m\u001b[0m\u001b[0m\n\u001b[1;32m    101\u001b[0m             \u001b[0;31m# NOTE: everything is left uninitialized; presumably the model will\u001b[0m\u001b[0;34m\u001b[0m\u001b[0;34m\u001b[0m\u001b[0m\n",
      "\u001b[0;32m/opt/conda/lib/python3.6/site-packages/gensim/models/tfidfmodel.py\u001b[0m in \u001b[0;36minitialize\u001b[0;34m(self, corpus)\u001b[0m\n\u001b[1;32m    118\u001b[0m                 \u001b[0mlogger\u001b[0m\u001b[0;34m.\u001b[0m\u001b[0minfo\u001b[0m\u001b[0;34m(\u001b[0m\u001b[0;34m\"PROGRESS: processing document #%i\"\u001b[0m\u001b[0;34m,\u001b[0m \u001b[0mdocno\u001b[0m\u001b[0;34m)\u001b[0m\u001b[0;34m\u001b[0m\u001b[0m\n\u001b[1;32m    119\u001b[0m             \u001b[0mnumnnz\u001b[0m \u001b[0;34m+=\u001b[0m \u001b[0mlen\u001b[0m\u001b[0;34m(\u001b[0m\u001b[0mbow\u001b[0m\u001b[0;34m)\u001b[0m\u001b[0;34m\u001b[0m\u001b[0m\n\u001b[0;32m--> 120\u001b[0;31m             \u001b[0;32mfor\u001b[0m \u001b[0mtermid\u001b[0m\u001b[0;34m,\u001b[0m \u001b[0m_\u001b[0m \u001b[0;32min\u001b[0m \u001b[0mbow\u001b[0m\u001b[0;34m:\u001b[0m\u001b[0;34m\u001b[0m\u001b[0m\n\u001b[0m\u001b[1;32m    121\u001b[0m                 \u001b[0mdfs\u001b[0m\u001b[0;34m[\u001b[0m\u001b[0mtermid\u001b[0m\u001b[0;34m]\u001b[0m \u001b[0;34m=\u001b[0m \u001b[0mdfs\u001b[0m\u001b[0;34m.\u001b[0m\u001b[0mget\u001b[0m\u001b[0;34m(\u001b[0m\u001b[0mtermid\u001b[0m\u001b[0;34m,\u001b[0m \u001b[0;36m0\u001b[0m\u001b[0;34m)\u001b[0m \u001b[0;34m+\u001b[0m \u001b[0;36m1\u001b[0m\u001b[0;34m\u001b[0m\u001b[0m\n\u001b[1;32m    122\u001b[0m \u001b[0;34m\u001b[0m\u001b[0m\n",
      "\u001b[0;31mValueError\u001b[0m: not enough values to unpack (expected 2, got 1)"
     ]
    }
   ],
   "source": [
    "tfidf = models.TfidfModel(text_eda_no_stops)"
   ]
  },
  {
   "cell_type": "code",
   "execution_count": 72,
   "metadata": {},
   "outputs": [
    {
     "ename": "NameError",
     "evalue": "name 'Dictionary' is not defined",
     "output_type": "error",
     "traceback": [
      "\u001b[0;31m---------------------------------------------------------------------------\u001b[0m",
      "\u001b[0;31mNameError\u001b[0m                                 Traceback (most recent call last)",
      "\u001b[0;32m<ipython-input-72-1c4ca7548c8a>\u001b[0m in \u001b[0;36m<module>\u001b[0;34m()\u001b[0m\n\u001b[1;32m      1\u001b[0m \u001b[0;31m# turn our tokenized documents into a id <-> term dictionary\u001b[0m\u001b[0;34m\u001b[0m\u001b[0;34m\u001b[0m\u001b[0m\n\u001b[0;32m----> 2\u001b[0;31m \u001b[0mdictionary\u001b[0m \u001b[0;34m=\u001b[0m \u001b[0mDictionary\u001b[0m\u001b[0;34m(\u001b[0m\u001b[0mtext_eda_no_stops\u001b[0m\u001b[0;34m)\u001b[0m\u001b[0;34m\u001b[0m\u001b[0m\n\u001b[0m\u001b[1;32m      3\u001b[0m \u001b[0;34m\u001b[0m\u001b[0m\n\u001b[1;32m      4\u001b[0m \u001b[0;31m# convert tokenized documents into a document-term matrix\u001b[0m\u001b[0;34m\u001b[0m\u001b[0;34m\u001b[0m\u001b[0m\n\u001b[1;32m      5\u001b[0m \u001b[0mcorpus\u001b[0m \u001b[0;34m=\u001b[0m \u001b[0;34m[\u001b[0m\u001b[0mdictionary\u001b[0m\u001b[0;34m.\u001b[0m\u001b[0mdoc2bow\u001b[0m\u001b[0;34m(\u001b[0m\u001b[0mtext\u001b[0m\u001b[0;34m)\u001b[0m \u001b[0;32mfor\u001b[0m \u001b[0mtext\u001b[0m \u001b[0;32min\u001b[0m \u001b[0mtext_eda_no_stops\u001b[0m\u001b[0;34m]\u001b[0m\u001b[0;34m\u001b[0m\u001b[0m\n",
      "\u001b[0;31mNameError\u001b[0m: name 'Dictionary' is not defined"
     ]
    }
   ],
   "source": [
    "# turn our tokenized documents into a id <-> term dictionary\n",
    "dictionary = Dictionary(text_eda_no_stops)\n",
    "    \n",
    "# convert tokenized documents into a document-term matrix\n",
    "corpus = [dictionary.doc2bow(text) for text in text_eda_no_stops]\n",
    "\n",
    "# generate LDA model\n",
    "ldamodel = gensim.models.ldamodel.LdaModel(corpus, num_topics=2, id2word = dictionary, passes=20)"
   ]
  },
  {
   "cell_type": "code",
   "execution_count": null,
   "metadata": {},
   "outputs": [],
   "source": []
  },
  {
   "cell_type": "code",
   "execution_count": 53,
   "metadata": {},
   "outputs": [
    {
     "name": "stderr",
     "output_type": "stream",
     "text": [
      "INFO:gensim.models.tfidfmodel:collecting document frequencies\n",
      "INFO:gensim.models.tfidfmodel:PROGRESS: processing document #0\n"
     ]
    },
    {
     "ename": "ValueError",
     "evalue": "not enough values to unpack (expected 2, got 1)",
     "output_type": "error",
     "traceback": [
      "\u001b[0;31m---------------------------------------------------------------------------\u001b[0m",
      "\u001b[0;31mValueError\u001b[0m                                Traceback (most recent call last)",
      "\u001b[0;32m<ipython-input-53-b70f90ae576d>\u001b[0m in \u001b[0;36m<module>\u001b[0;34m()\u001b[0m\n\u001b[0;32m----> 1\u001b[0;31m \u001b[0mtfidf\u001b[0m \u001b[0;34m=\u001b[0m \u001b[0mmodels\u001b[0m\u001b[0;34m.\u001b[0m\u001b[0mTfidfModel\u001b[0m\u001b[0;34m(\u001b[0m\u001b[0mdf\u001b[0m\u001b[0;34m.\u001b[0m\u001b[0mcleaned_text\u001b[0m\u001b[0;34m)\u001b[0m\u001b[0;34m\u001b[0m\u001b[0m\n\u001b[0m",
      "\u001b[0;32m/opt/conda/lib/python3.6/site-packages/gensim/models/tfidfmodel.py\u001b[0m in \u001b[0;36m__init__\u001b[0;34m(self, corpus, id2word, dictionary, wlocal, wglobal, normalize)\u001b[0m\n\u001b[1;32m     97\u001b[0m                 \u001b[0mself\u001b[0m\u001b[0;34m.\u001b[0m\u001b[0mid2word\u001b[0m \u001b[0;34m=\u001b[0m \u001b[0mdictionary\u001b[0m\u001b[0;34m\u001b[0m\u001b[0m\n\u001b[1;32m     98\u001b[0m         \u001b[0;32melif\u001b[0m \u001b[0mcorpus\u001b[0m \u001b[0;32mis\u001b[0m \u001b[0;32mnot\u001b[0m \u001b[0;32mNone\u001b[0m\u001b[0;34m:\u001b[0m\u001b[0;34m\u001b[0m\u001b[0m\n\u001b[0;32m---> 99\u001b[0;31m             \u001b[0mself\u001b[0m\u001b[0;34m.\u001b[0m\u001b[0minitialize\u001b[0m\u001b[0;34m(\u001b[0m\u001b[0mcorpus\u001b[0m\u001b[0;34m)\u001b[0m\u001b[0;34m\u001b[0m\u001b[0m\n\u001b[0m\u001b[1;32m    100\u001b[0m         \u001b[0;32melse\u001b[0m\u001b[0;34m:\u001b[0m\u001b[0;34m\u001b[0m\u001b[0m\n\u001b[1;32m    101\u001b[0m             \u001b[0;31m# NOTE: everything is left uninitialized; presumably the model will\u001b[0m\u001b[0;34m\u001b[0m\u001b[0;34m\u001b[0m\u001b[0m\n",
      "\u001b[0;32m/opt/conda/lib/python3.6/site-packages/gensim/models/tfidfmodel.py\u001b[0m in \u001b[0;36minitialize\u001b[0;34m(self, corpus)\u001b[0m\n\u001b[1;32m    118\u001b[0m                 \u001b[0mlogger\u001b[0m\u001b[0;34m.\u001b[0m\u001b[0minfo\u001b[0m\u001b[0;34m(\u001b[0m\u001b[0;34m\"PROGRESS: processing document #%i\"\u001b[0m\u001b[0;34m,\u001b[0m \u001b[0mdocno\u001b[0m\u001b[0;34m)\u001b[0m\u001b[0;34m\u001b[0m\u001b[0m\n\u001b[1;32m    119\u001b[0m             \u001b[0mnumnnz\u001b[0m \u001b[0;34m+=\u001b[0m \u001b[0mlen\u001b[0m\u001b[0;34m(\u001b[0m\u001b[0mbow\u001b[0m\u001b[0;34m)\u001b[0m\u001b[0;34m\u001b[0m\u001b[0m\n\u001b[0;32m--> 120\u001b[0;31m             \u001b[0;32mfor\u001b[0m \u001b[0mtermid\u001b[0m\u001b[0;34m,\u001b[0m \u001b[0m_\u001b[0m \u001b[0;32min\u001b[0m \u001b[0mbow\u001b[0m\u001b[0;34m:\u001b[0m\u001b[0;34m\u001b[0m\u001b[0m\n\u001b[0m\u001b[1;32m    121\u001b[0m                 \u001b[0mdfs\u001b[0m\u001b[0;34m[\u001b[0m\u001b[0mtermid\u001b[0m\u001b[0;34m]\u001b[0m \u001b[0;34m=\u001b[0m \u001b[0mdfs\u001b[0m\u001b[0;34m.\u001b[0m\u001b[0mget\u001b[0m\u001b[0;34m(\u001b[0m\u001b[0mtermid\u001b[0m\u001b[0;34m,\u001b[0m \u001b[0;36m0\u001b[0m\u001b[0;34m)\u001b[0m \u001b[0;34m+\u001b[0m \u001b[0;36m1\u001b[0m\u001b[0;34m\u001b[0m\u001b[0m\n\u001b[1;32m    122\u001b[0m \u001b[0;34m\u001b[0m\u001b[0m\n",
      "\u001b[0;31mValueError\u001b[0m: not enough values to unpack (expected 2, got 1)"
     ]
    }
   ],
   "source": [
    "tfidf = models.TfidfModel(df.cleaned_text)"
   ]
  },
  {
   "cell_type": "code",
   "execution_count": null,
   "metadata": {},
   "outputs": [],
   "source": [
    "iabuelkhair_stopwords"
   ]
  },
  {
   "cell_type": "code",
   "execution_count": null,
   "metadata": {},
   "outputs": [],
   "source": [
    "corpus = gensim.matutils.Sparse2Corpus(scipy_sparse_matrix)"
   ]
  },
  {
   "cell_type": "code",
   "execution_count": null,
   "metadata": {},
   "outputs": [],
   "source": []
  },
  {
   "cell_type": "code",
   "execution_count": null,
   "metadata": {},
   "outputs": [],
   "source": []
  },
  {
   "cell_type": "code",
   "execution_count": null,
   "metadata": {},
   "outputs": [],
   "source": []
  },
  {
   "cell_type": "code",
   "execution_count": null,
   "metadata": {},
   "outputs": [],
   "source": []
  },
  {
   "cell_type": "code",
   "execution_count": 46,
   "metadata": {
    "collapsed": true
   },
   "outputs": [
    {
     "name": "stderr",
     "output_type": "stream",
     "text": [
      "INFO:lda:n_documents: 178941\n",
      "INFO:lda:vocab_size: 50\n",
      "INFO:lda:n_words: 0\n",
      "INFO:lda:n_topics: 3\n",
      "INFO:lda:n_iter: 2\n",
      "WARNING:lda:all zero row in document-term matrix found\n",
      "WARNING:lda:all zero column in document-term matrix found\n",
      "INFO:lda:<0> log likelihood: 0\n",
      "INFO:lda:<1> log likelihood: 0\n"
     ]
    },
    {
     "ename": "NameError",
     "evalue": "name 'vocab' is not defined",
     "output_type": "error",
     "traceback": [
      "\u001b[0;31m---------------------------------------------------------------------------\u001b[0m",
      "\u001b[0;31mNameError\u001b[0m                                 Traceback (most recent call last)",
      "\u001b[0;32m<ipython-input-46-703f37ad7c02>\u001b[0m in \u001b[0;36m<module>\u001b[0;34m()\u001b[0m\n\u001b[1;32m      7\u001b[0m \u001b[0;34m\u001b[0m\u001b[0m\n\u001b[1;32m      8\u001b[0m \u001b[0;32mfor\u001b[0m \u001b[0mi\u001b[0m\u001b[0;34m,\u001b[0m \u001b[0mtopic_dist\u001b[0m \u001b[0;32min\u001b[0m \u001b[0menumerate\u001b[0m\u001b[0;34m(\u001b[0m\u001b[0mtopic_word\u001b[0m\u001b[0;34m)\u001b[0m\u001b[0;34m:\u001b[0m\u001b[0;34m\u001b[0m\u001b[0m\n\u001b[0;32m----> 9\u001b[0;31m     \u001b[0mtopic_words\u001b[0m \u001b[0;34m=\u001b[0m \u001b[0mnp\u001b[0m\u001b[0;34m.\u001b[0m\u001b[0marray\u001b[0m\u001b[0;34m(\u001b[0m\u001b[0mvocab\u001b[0m\u001b[0;34m)\u001b[0m\u001b[0;34m[\u001b[0m\u001b[0mnp\u001b[0m\u001b[0;34m.\u001b[0m\u001b[0margsort\u001b[0m\u001b[0;34m(\u001b[0m\u001b[0mtopic_dist\u001b[0m\u001b[0;34m)\u001b[0m\u001b[0;34m]\u001b[0m\u001b[0;34m[\u001b[0m\u001b[0;34m:\u001b[0m\u001b[0;34m-\u001b[0m\u001b[0;34m(\u001b[0m\u001b[0mn_top_words\u001b[0m\u001b[0;34m+\u001b[0m\u001b[0;36m1\u001b[0m\u001b[0;34m)\u001b[0m\u001b[0;34m:\u001b[0m\u001b[0;34m-\u001b[0m\u001b[0;36m1\u001b[0m\u001b[0;34m]\u001b[0m\u001b[0;34m\u001b[0m\u001b[0m\n\u001b[0m\u001b[1;32m     10\u001b[0m     \u001b[0mprint\u001b[0m\u001b[0;34m(\u001b[0m\u001b[0;34m'Topic {}: {}'\u001b[0m\u001b[0;34m.\u001b[0m\u001b[0mformat\u001b[0m\u001b[0;34m(\u001b[0m\u001b[0mi\u001b[0m\u001b[0;34m,\u001b[0m \u001b[0;34m' '\u001b[0m\u001b[0;34m.\u001b[0m\u001b[0mjoin\u001b[0m\u001b[0;34m(\u001b[0m\u001b[0mtopic_words\u001b[0m\u001b[0;34m)\u001b[0m\u001b[0;34m)\u001b[0m\u001b[0;34m)\u001b[0m\u001b[0;34m\u001b[0m\u001b[0m\n",
      "\u001b[0;31mNameError\u001b[0m: name 'vocab' is not defined"
     ]
    }
   ],
   "source": [
    "model = lda.LDA(n_topics=3, n_iter=2, random_state=1)\n",
    "\n",
    "model.fit(svd_mat_int)\n",
    "\n",
    "topic_word = model.topic_word_\n",
    "n_top_words = 3\n",
    "\n",
    "for i, topic_dist in enumerate(topic_word):\n",
    "    topic_words = np.array(vocab)[np.argsort(topic_dist)][:-(n_top_words+1):-1]\n",
    "    print('Topic {}: {}'.format(i, ' '.join(topic_words)))"
   ]
  },
  {
   "cell_type": "code",
   "execution_count": null,
   "metadata": {},
   "outputs": [],
   "source": []
  }
 ],
 "metadata": {
  "kernelspec": {
   "display_name": "Python 3",
   "language": "python",
   "name": "python3"
  },
  "language_info": {
   "codemirror_mode": {
    "name": "ipython",
    "version": 3
   },
   "file_extension": ".py",
   "mimetype": "text/x-python",
   "name": "python",
   "nbconvert_exporter": "python",
   "pygments_lexer": "ipython3",
   "version": "3.6.3"
  }
 },
 "nbformat": 4,
 "nbformat_minor": 2
}
